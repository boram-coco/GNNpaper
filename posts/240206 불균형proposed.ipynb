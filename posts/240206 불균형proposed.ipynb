{
 "cells": [
  {
   "cell_type": "raw",
   "id": "ead89876-ba70-480c-9ed6-8c8863b7c978",
   "metadata": {},
   "source": [
    "---\n",
    "title: \"불균형 데이터 proposed(0.005)\"\n",
    "author: \"김보람\"\n",
    "date: \"02/12/2024\"\n",
    "---"
   ]
  },
  {
   "cell_type": "markdown",
   "id": "96bfdec3-5b07-45b5-9b38-2e8813117310",
   "metadata": {},
   "source": [
    "# imports"
   ]
  },
  {
   "cell_type": "code",
   "execution_count": 1,
   "id": "4eb91738-6398-4ffc-bbec-fc48fcc8f249",
   "metadata": {},
   "outputs": [],
   "source": [
    "import pandas as pd\n",
    "import numpy as np\n",
    "import sklearn\n",
    "import pickle \n",
    "import time \n",
    "import datetime\n",
    "import warnings\n",
    "warnings.filterwarnings('ignore')"
   ]
  },
  {
   "cell_type": "code",
   "execution_count": 2,
   "id": "290df976-de65-4a67-828b-b8fe594538d9",
   "metadata": {},
   "outputs": [],
   "source": [
    "%run function_proposed_gcn.py"
   ]
  },
  {
   "cell_type": "code",
   "execution_count": 3,
   "id": "fdfecbba-4a62-4ef9-9c6e-238b71f1fb62",
   "metadata": {},
   "outputs": [],
   "source": [
    "with open('fraudTrain.pkl', 'rb') as file:\n",
    "    fraudTrain = pickle.load(file)    "
   ]
  },
  {
   "cell_type": "code",
   "execution_count": 4,
   "id": "ec86cbcb-c49b-4edd-8769-0794916d4403",
   "metadata": {
    "tags": []
   },
   "outputs": [
    {
     "data": {
      "text/plain": [
       "0.005807854431707643"
      ]
     },
     "execution_count": 4,
     "metadata": {},
     "output_type": "execute_result"
    }
   ],
   "source": [
    "df = fraudTrain[::10]\n",
    "\n",
    "df = df.reset_index()\n",
    "\n",
    "df.is_fraud.mean()\n",
    "\n",
    "# df_train, df_test = sklearn.model_selection.train_test_split(df)"
   ]
  },
  {
   "cell_type": "code",
   "execution_count": 5,
   "id": "9d84c8ac-9824-4eef-9da5-100239a7d201",
   "metadata": {},
   "outputs": [],
   "source": [
    "df_results = try_2(df, 0.005807854431707643, 0.0058363532328819375, 8.028000e+04, 0.3)"
   ]
  },
  {
   "cell_type": "code",
   "execution_count": 6,
   "id": "eeafca3e-168d-477f-b096-eebc91a481c6",
   "metadata": {},
   "outputs": [
    {
     "data": {
      "text/html": [
       "<div>\n",
       "<style scoped>\n",
       "    .dataframe tbody tr th:only-of-type {\n",
       "        vertical-align: middle;\n",
       "    }\n",
       "\n",
       "    .dataframe tbody tr th {\n",
       "        vertical-align: top;\n",
       "    }\n",
       "\n",
       "    .dataframe thead th {\n",
       "        text-align: right;\n",
       "    }\n",
       "</style>\n",
       "<table border=\"1\" class=\"dataframe\">\n",
       "  <thead>\n",
       "    <tr style=\"text-align: right;\">\n",
       "      <th></th>\n",
       "      <th>model</th>\n",
       "      <th>time</th>\n",
       "      <th>acc</th>\n",
       "      <th>pre</th>\n",
       "      <th>rec</th>\n",
       "      <th>f1</th>\n",
       "      <th>auc</th>\n",
       "      <th>graph_based</th>\n",
       "      <th>method</th>\n",
       "      <th>throw_rate</th>\n",
       "      <th>train_size</th>\n",
       "      <th>train_cols</th>\n",
       "      <th>train_frate</th>\n",
       "      <th>test_size</th>\n",
       "      <th>test_frate</th>\n",
       "      <th>hyper_params</th>\n",
       "      <th>theta</th>\n",
       "      <th>gamma</th>\n",
       "    </tr>\n",
       "  </thead>\n",
       "  <tbody>\n",
       "    <tr>\n",
       "      <th>0</th>\n",
       "      <td>GCN</td>\n",
       "      <td>None</td>\n",
       "      <td>0.995805</td>\n",
       "      <td>0.0</td>\n",
       "      <td>0.0</td>\n",
       "      <td>0.0</td>\n",
       "      <td>0.856951</td>\n",
       "      <td>True</td>\n",
       "      <td>Proposed</td>\n",
       "      <td>0.005808</td>\n",
       "      <td>7864</td>\n",
       "      <td>amt</td>\n",
       "      <td>0.004578</td>\n",
       "      <td>2622</td>\n",
       "      <td>0.005836</td>\n",
       "      <td>None</td>\n",
       "      <td>80280.0</td>\n",
       "      <td>0.3</td>\n",
       "    </tr>\n",
       "  </tbody>\n",
       "</table>\n",
       "</div>"
      ],
      "text/plain": [
       "  model  time       acc  pre  rec   f1       auc graph_based    method  \\\n",
       "0   GCN  None  0.995805  0.0  0.0  0.0  0.856951        True  Proposed   \n",
       "\n",
       "   throw_rate train_size train_cols  train_frate test_size  test_frate  \\\n",
       "0    0.005808       7864        amt     0.004578      2622    0.005836   \n",
       "\n",
       "  hyper_params    theta  gamma  \n",
       "0         None  80280.0    0.3  "
      ]
     },
     "execution_count": 6,
     "metadata": {},
     "output_type": "execute_result"
    }
   ],
   "source": [
    "df_results"
   ]
  },
  {
   "cell_type": "code",
   "execution_count": null,
   "id": "d28c08aa-48e5-438f-8d5b-e3edee9d9246",
   "metadata": {},
   "outputs": [],
   "source": []
  },
  {
   "cell_type": "code",
   "execution_count": null,
   "id": "cde48048-46fd-409d-8e00-64bbd9c9ba33",
   "metadata": {},
   "outputs": [],
   "source": [
    "df_results = try_2(fraudTrain, 0.005808, 0.005836, 8.028000e+04, 0.3)\n",
    "df_results = try_2(fraudTrain, 0.005808, 0.005836, 8.528000e+04, 0.3, prev_results=df_results)\n",
    "df_results = try_2(fraudTrain, 0.005808, 0.005836, 7.528000e+04, 0.3, prev_results=df_results)\n",
    "df_results = try_2(fraudTrain, 0.005808, 0.0058366, 528000e+04, 0.3, prev_results=df_results)\n",
    "df_results = try_2(fraudTrain, 0.005808, 0.005836, 5.528000e+04, 0.3, prev_results=df_results)\n",
    "df_results = try_2(fraudTrain, 0.005808, 0.005836, 4.528000e+04, 0.3, prev_results=df_results)\n",
    "df_results = try_2(fraudTrain, 0.005808, 0.005836, 3.528000e+04, 0.3, prev_results=df_results)\n",
    "df_results = try_2(fraudTrain, 0.005808, 0.005836, 2.528000e+04, 0.3, prev_results=df_results)\n",
    "df_results = try_2(fraudTrain, 0.005808, 0.005836, 1.528000e+04, 0.3, prev_results=df_results)\n",
    "df_results = try_2(fraudTrain, 0.005808, 0.005836, 0.528000e+04, 0.3, prev_results=df_results)\n",
    "\n",
    "\n",
    "ymdhms = datetime.datetime.fromtimestamp(time.time()).strftime('%Y%m%d-%H%M%S') \n",
    "df_results.to_csv(f'./results/{ymdhms}-proposed.csv',index=False)"
   ]
  },
  {
   "cell_type": "code",
   "execution_count": null,
   "id": "9e9e66dd-42b6-4c97-8d4f-adc944090e60",
   "metadata": {},
   "outputs": [],
   "source": [
    "df_results"
   ]
  },
  {
   "cell_type": "code",
   "execution_count": null,
   "id": "d9345ada-8a55-4e6e-ae4b-c5381a059d19",
   "metadata": {},
   "outputs": [],
   "source": []
  }
 ],
 "metadata": {
  "kernelspec": {
   "display_name": "Python 3 (ipykernel)",
   "language": "python",
   "name": "python3"
  },
  "language_info": {
   "codemirror_mode": {
    "name": "ipython",
    "version": 3
   },
   "file_extension": ".py",
   "mimetype": "text/x-python",
   "name": "python",
   "nbconvert_exporter": "python",
   "pygments_lexer": "ipython3",
   "version": "3.8.18"
  }
 },
 "nbformat": 4,
 "nbformat_minor": 5
}
