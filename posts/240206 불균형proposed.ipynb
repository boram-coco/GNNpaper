{
 "cells": [
  {
   "cell_type": "raw",
   "id": "ead89876-ba70-480c-9ed6-8c8863b7c978",
   "metadata": {},
   "source": [
    "---\n",
    "title: \"불균형 데이터 proposed(0.3/0.05)\"\n",
    "author: \"김보람\"\n",
    "date: \"02/05/2024\"\n",
    "---"
   ]
  },
  {
   "cell_type": "markdown",
   "id": "96bfdec3-5b07-45b5-9b38-2e8813117310",
   "metadata": {},
   "source": [
    "# imports"
   ]
  },
  {
   "cell_type": "code",
   "execution_count": 6,
   "id": "4eb91738-6398-4ffc-bbec-fc48fcc8f249",
   "metadata": {},
   "outputs": [],
   "source": [
    "import pandas as pd\n",
    "import numpy as np\n",
    "import sklearn\n",
    "import pickle \n",
    "import time \n",
    "import datetime\n",
    "import warnings\n",
    "warnings.filterwarnings('ignore')"
   ]
  },
  {
   "cell_type": "code",
   "execution_count": 7,
   "id": "290df976-de65-4a67-828b-b8fe594538d9",
   "metadata": {},
   "outputs": [],
   "source": [
    "%run function_proposed_gcn.py"
   ]
  },
  {
   "cell_type": "code",
   "execution_count": 8,
   "id": "fdfecbba-4a62-4ef9-9c6e-238b71f1fb62",
   "metadata": {},
   "outputs": [],
   "source": [
    "with open('fraudTrain.pkl', 'rb') as file:\n",
    "    fraudTrain = pickle.load(file)    "
   ]
  },
  {
   "cell_type": "code",
   "execution_count": 9,
   "id": "993414ad-c44f-43f6-9698-fc187a618eab",
   "metadata": {},
   "outputs": [],
   "source": [
    "def throw(df, fraud_rate, random_state=42):  # 사기 거래 비율에 맞춰 버려지는 함수!\n",
    "    df1 = df[df['is_fraud'] == 1].copy()\n",
    "    df0 = df[df['is_fraud'] == 0].copy()\n",
    "    df0_downsample = (len(df1) * (1-fraud_rate)) / (len(df0) * fraud_rate)\n",
    "    df0_down = df0.sample(frac=df0_downsample, random_state=random_state)\n",
    "    df_p = pd.concat([df1, df0_down])\n",
    "    return df_p\n",
    "\n",
    "def split_dataframe(data_frame, test_fraud_rate, test_rate=0.3, random_state=42):\n",
    "    n = len(data_frame)\n",
    "\n",
    "    # 사기 거래와 정상 거래를 분리\n",
    "    fraud_data = data_frame[data_frame['is_fraud'] == 1]\n",
    "    normal_data = data_frame[data_frame['is_fraud'] == 0]\n",
    "\n",
    "    # 테스트 데이터 크기 계산\n",
    "    test_samples = int(test_fraud_rate * (n * test_rate))\n",
    "    remaining_test_samples = int(n * test_rate) - test_samples\n",
    "\n",
    "    # 사기 거래 및 정상 거래에서 무작위로 테스트 데이터 추출\n",
    "    test_fraud_data = fraud_data.sample(n=test_samples, replace=False, random_state=random_state)\n",
    "    test_normal_data = normal_data.sample(n=remaining_test_samples, replace=False, random_state=random_state)\n",
    "\n",
    "    # 테스트 데이터 합치기\n",
    "    test_data = pd.concat([test_normal_data, test_fraud_data])\n",
    "\n",
    "    # 훈련 데이터 생성\n",
    "    train_data = data_frame[~data_frame.index.isin(test_data.index)]\n",
    "\n",
    "    return train_data, test_data\n"
   ]
  },
  {
   "cell_type": "code",
   "execution_count": 15,
   "id": "68f8bd7d-2262-4177-9b6b-d40702707a90",
   "metadata": {},
   "outputs": [],
   "source": [
    "df = fraudTrain[::10]"
   ]
  },
  {
   "cell_type": "code",
   "execution_count": 20,
   "id": "0dcde919-d536-4af4-bd73-5c87ee069c77",
   "metadata": {},
   "outputs": [],
   "source": [
    "df = df.reset_index()"
   ]
  },
  {
   "cell_type": "code",
   "execution_count": 26,
   "id": "93665b26-80b0-4b5d-a58a-fdbe95735290",
   "metadata": {},
   "outputs": [],
   "source": [
    "df_f = df[df['is_fraud'] == 1]"
   ]
  },
  {
   "cell_type": "code",
   "execution_count": 28,
   "id": "1571ca45-92fb-4daf-a961-e20a4f8f4e08",
   "metadata": {},
   "outputs": [],
   "source": [
    "df_n = df[df['is_fraud'] == 0]"
   ]
  },
  {
   "cell_type": "code",
   "execution_count": 29,
   "id": "380bccd9-9155-4d82-9b92-78ee7ef453f5",
   "metadata": {},
   "outputs": [],
   "source": [
    "test_samples = int(0.005 * (len(df) * 0.3))"
   ]
  },
  {
   "cell_type": "code",
   "execution_count": 30,
   "id": "08814b7a-023a-468a-ac78-13fc41f7be91",
   "metadata": {},
   "outputs": [
    {
     "data": {
      "text/plain": [
       "157"
      ]
     },
     "execution_count": 30,
     "metadata": {},
     "output_type": "execute_result"
    }
   ],
   "source": [
    "test_samples"
   ]
  },
  {
   "cell_type": "code",
   "execution_count": 32,
   "id": "38364dfa-edc7-4980-ad17-986a6dcb574b",
   "metadata": {},
   "outputs": [],
   "source": [
    "a = df_f.sample(n=test_samples)"
   ]
  },
  {
   "cell_type": "code",
   "execution_count": 33,
   "id": "0a0e62be-2964-40ee-8297-afd86f14bfc5",
   "metadata": {},
   "outputs": [
    {
     "data": {
      "text/plain": [
       "1.0"
      ]
     },
     "execution_count": 33,
     "metadata": {},
     "output_type": "execute_result"
    }
   ],
   "source": [
    "a.is_fraud.mean()"
   ]
  },
  {
   "cell_type": "code",
   "execution_count": null,
   "id": "bf2e242d-5f60-464e-ab4c-ced143580646",
   "metadata": {},
   "outputs": [],
   "source": [
    "df_fr"
   ]
  },
  {
   "cell_type": "code",
   "execution_count": null,
   "id": "804ff7f9-b68b-4202-9329-6e3dce14ff0c",
   "metadata": {},
   "outputs": [],
   "source": [
    "fraud_data = data_frame[data_frame['is_fraud'] == 1]\n",
    "normal_data = data_frame[data_frame['is_fraud'] == 0]\n",
    "\n",
    "# 테스트 데이터 크기 계산\n",
    "test_samples = int(test_fraud_rate * (n * test_rate))\n",
    "remaining_test_samples = int(n * test_rate) - test_samples\n",
    "\n",
    "# 사기 거래 및 정상 거래에서 무작위로 테스트 데이터 추출\n",
    "test_fraud_data = fraud_data.sample(n=test_samples, replace=False, random_state=random_state)\n",
    "test_normal_data = normal_data.sample(n=remaining_test_samples, replace=False, random_state=random_state)\n",
    "\n",
    "# 테스트 데이터 합치기\n",
    "test_data = pd.concat([test_normal_data, test_fraud_data])\n",
    "\n",
    "# 훈련 데이터 생성\n",
    "train_data = data_frame[~data_frame.index.isin(test_data.index)]\n"
   ]
  },
  {
   "cell_type": "code",
   "execution_count": null,
   "id": "931a176b-ef60-4499-ba89-418564438b35",
   "metadata": {},
   "outputs": [],
   "source": []
  },
  {
   "cell_type": "code",
   "execution_count": 36,
   "id": "8e072d12-2258-4402-a9ef-3a0b1826d3db",
   "metadata": {},
   "outputs": [],
   "source": [
    "df = throw(fraudTrain,0.3)"
   ]
  },
  {
   "cell_type": "code",
   "execution_count": 45,
   "id": "30afe69f-390c-414a-940a-67b2f5062cda",
   "metadata": {},
   "outputs": [
    {
     "ename": "ValueError",
     "evalue": "A negative number of rows requested. Please provide `n` >= 0.",
     "output_type": "error",
     "traceback": [
      "\u001b[0;31m---------------------------------------------------------------------------\u001b[0m",
      "\u001b[0;31mValueError\u001b[0m                                Traceback (most recent call last)",
      "Cell \u001b[0;32mIn[45], line 1\u001b[0m\n\u001b[0;32m----> 1\u001b[0m \u001b[43msplit_dataframe2\u001b[49m\u001b[43m(\u001b[49m\u001b[43mfraudTrain\u001b[49m\u001b[43m,\u001b[49m\u001b[43m \u001b[49m\u001b[38;5;241;43m0.005\u001b[39;49m\u001b[43m)\u001b[49m\n",
      "Cell \u001b[0;32mIn[44], line 16\u001b[0m, in \u001b[0;36msplit_dataframe2\u001b[0;34m(data_frame, test_fraud_rate, test_rate, random_state)\u001b[0m\n\u001b[1;32m     14\u001b[0m \u001b[38;5;66;03m# 사기 거래 및 정상 거래에서 무작위로 테스트 데이터 추출\u001b[39;00m\n\u001b[1;32m     15\u001b[0m test_fraud_data \u001b[38;5;241m=\u001b[39m fraud_data\u001b[38;5;241m.\u001b[39msample(n\u001b[38;5;241m=\u001b[39mtest_samples_fraud, replace\u001b[38;5;241m=\u001b[39m\u001b[38;5;28;01mFalse\u001b[39;00m, random_state\u001b[38;5;241m=\u001b[39mrandom_state)\n\u001b[0;32m---> 16\u001b[0m test_normal_data \u001b[38;5;241m=\u001b[39m \u001b[43mnormal_data\u001b[49m\u001b[38;5;241;43m.\u001b[39;49m\u001b[43msample\u001b[49m\u001b[43m(\u001b[49m\u001b[43mn\u001b[49m\u001b[38;5;241;43m=\u001b[39;49m\u001b[43mtest_samples_normal\u001b[49m\u001b[43m,\u001b[49m\u001b[43m \u001b[49m\u001b[43mreplace\u001b[49m\u001b[38;5;241;43m=\u001b[39;49m\u001b[38;5;28;43;01mFalse\u001b[39;49;00m\u001b[43m,\u001b[49m\u001b[43m \u001b[49m\u001b[43mrandom_state\u001b[49m\u001b[38;5;241;43m=\u001b[39;49m\u001b[43mrandom_state\u001b[49m\u001b[43m)\u001b[49m\n\u001b[1;32m     18\u001b[0m \u001b[38;5;66;03m# 테스트 데이터 합치기\u001b[39;00m\n\u001b[1;32m     19\u001b[0m test_data \u001b[38;5;241m=\u001b[39m pd\u001b[38;5;241m.\u001b[39mconcat([test_normal_data, test_fraud_data])\n",
      "File \u001b[0;32m~/anaconda3/envs/py38/lib/python3.8/site-packages/pandas/core/generic.py:5765\u001b[0m, in \u001b[0;36mNDFrame.sample\u001b[0;34m(self, n, frac, replace, weights, random_state, axis, ignore_index)\u001b[0m\n\u001b[1;32m   5762\u001b[0m \u001b[38;5;66;03m# Process random_state argument\u001b[39;00m\n\u001b[1;32m   5763\u001b[0m rs \u001b[38;5;241m=\u001b[39m com\u001b[38;5;241m.\u001b[39mrandom_state(random_state)\n\u001b[0;32m-> 5765\u001b[0m size \u001b[38;5;241m=\u001b[39m \u001b[43msample\u001b[49m\u001b[38;5;241;43m.\u001b[39;49m\u001b[43mprocess_sampling_size\u001b[49m\u001b[43m(\u001b[49m\u001b[43mn\u001b[49m\u001b[43m,\u001b[49m\u001b[43m \u001b[49m\u001b[43mfrac\u001b[49m\u001b[43m,\u001b[49m\u001b[43m \u001b[49m\u001b[43mreplace\u001b[49m\u001b[43m)\u001b[49m\n\u001b[1;32m   5766\u001b[0m \u001b[38;5;28;01mif\u001b[39;00m size \u001b[38;5;129;01mis\u001b[39;00m \u001b[38;5;28;01mNone\u001b[39;00m:\n\u001b[1;32m   5767\u001b[0m     \u001b[38;5;28;01massert\u001b[39;00m frac \u001b[38;5;129;01mis\u001b[39;00m \u001b[38;5;129;01mnot\u001b[39;00m \u001b[38;5;28;01mNone\u001b[39;00m\n",
      "File \u001b[0;32m~/anaconda3/envs/py38/lib/python3.8/site-packages/pandas/core/sample.py:95\u001b[0m, in \u001b[0;36mprocess_sampling_size\u001b[0;34m(n, frac, replace)\u001b[0m\n\u001b[1;32m     93\u001b[0m \u001b[38;5;28;01melif\u001b[39;00m n \u001b[38;5;129;01mis\u001b[39;00m \u001b[38;5;129;01mnot\u001b[39;00m \u001b[38;5;28;01mNone\u001b[39;00m:\n\u001b[1;32m     94\u001b[0m     \u001b[38;5;28;01mif\u001b[39;00m n \u001b[38;5;241m<\u001b[39m \u001b[38;5;241m0\u001b[39m:\n\u001b[0;32m---> 95\u001b[0m         \u001b[38;5;28;01mraise\u001b[39;00m \u001b[38;5;167;01mValueError\u001b[39;00m(\n\u001b[1;32m     96\u001b[0m             \u001b[38;5;124m\"\u001b[39m\u001b[38;5;124mA negative number of rows requested. Please provide `n` >= 0.\u001b[39m\u001b[38;5;124m\"\u001b[39m\n\u001b[1;32m     97\u001b[0m         )\n\u001b[1;32m     98\u001b[0m     \u001b[38;5;28;01mif\u001b[39;00m n \u001b[38;5;241m%\u001b[39m \u001b[38;5;241m1\u001b[39m \u001b[38;5;241m!=\u001b[39m \u001b[38;5;241m0\u001b[39m:\n\u001b[1;32m     99\u001b[0m         \u001b[38;5;28;01mraise\u001b[39;00m \u001b[38;5;167;01mValueError\u001b[39;00m(\u001b[38;5;124m\"\u001b[39m\u001b[38;5;124mOnly integers accepted as `n` values\u001b[39m\u001b[38;5;124m\"\u001b[39m)\n",
      "\u001b[0;31mValueError\u001b[0m: A negative number of rows requested. Please provide `n` >= 0."
     ]
    }
   ],
   "source": [
    "split_dataframe2(fraudTrain, 0.005)"
   ]
  },
  {
   "cell_type": "code",
   "execution_count": 44,
   "id": "5c29f563-41e2-4714-81bb-f6ccb680d4d3",
   "metadata": {},
   "outputs": [],
   "source": [
    "import pandas as pd\n",
    "\n",
    "def split_dataframe2(data_frame, test_fraud_rate, test_rate=0.3, random_state=42):\n",
    "    n = len(data_frame)\n",
    "\n",
    "    # 사기 거래와 정상 거래를 분리\n",
    "    fraud_data = data_frame[data_frame['is_fraud'] == 1]\n",
    "    normal_data = data_frame[data_frame['is_fraud'] == 0]\n",
    "\n",
    "    # 테스트 데이터 크기 계산\n",
    "    test_samples_fraud = min(int(test_fraud_rate * test_rate * len(fraud_data)), len(fraud_data))\n",
    "    test_samples_normal = min(int((test_rate - test_samples_fraud) * len(normal_data)), len(normal_data))\n",
    "\n",
    "    # 사기 거래 및 정상 거래에서 무작위로 테스트 데이터 추출\n",
    "    test_fraud_data = fraud_data.sample(n=test_samples_fraud, replace=False, random_state=random_state)\n",
    "    test_normal_data = normal_data.sample(n=test_samples_normal, replace=False, random_state=random_state)\n",
    "\n",
    "    # 테스트 데이터 합치기\n",
    "    test_data = pd.concat([test_normal_data, test_fraud_data])\n",
    "\n",
    "    # 훈련 데이터 생성\n",
    "    train_data = data_frame[~data_frame.index.isin(test_data.index)]\n",
    "\n",
    "    return train_data, test_data\n"
   ]
  },
  {
   "cell_type": "code",
   "execution_count": null,
   "id": "a0b97a40-4fcd-4f18-b9fc-18ba90c93995",
   "metadata": {},
   "outputs": [],
   "source": []
  },
  {
   "cell_type": "code",
   "execution_count": null,
   "id": "eeafca3e-168d-477f-b096-eebc91a481c6",
   "metadata": {},
   "outputs": [],
   "source": [
    "split_dataframe2("
   ]
  }
 ],
 "metadata": {
  "kernelspec": {
   "display_name": "Python 3 (ipykernel)",
   "language": "python",
   "name": "python3"
  },
  "language_info": {
   "codemirror_mode": {
    "name": "ipython",
    "version": 3
   },
   "file_extension": ".py",
   "mimetype": "text/x-python",
   "name": "python",
   "nbconvert_exporter": "python",
   "pygments_lexer": "ipython3",
   "version": "3.8.18"
  }
 },
 "nbformat": 4,
 "nbformat_minor": 5
}
