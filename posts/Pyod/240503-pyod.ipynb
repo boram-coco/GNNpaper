{
 "cells": [
  {
   "cell_type": "raw",
   "id": "42728fea-ad15-40cc-ac0e-6ea4589a53d7",
   "metadata": {},
   "source": [
    "---\n",
    "title: \"[Pyod] df_train, df_test(0.00573)\"\n",
    "author: \"김보람 \"\n",
    "date: \"05/03/2024\"\n",
    "---"
   ]
  },
  {
   "cell_type": "markdown",
   "id": "d538aad2-c200-4845-9fbb-de835d38374a",
   "metadata": {},
   "source": [
    "\n",
    "ref: <https://pyod.readthedocs.io/en/latest/pyod.models.html#all-models>\n",
    "\n",
    "# 1. Imports"
   ]
  },
  {
   "cell_type": "code",
   "execution_count": 1,
   "id": "f4162b18-f612-4403-bf6b-823b6b662ea4",
   "metadata": {
    "tags": []
   },
   "outputs": [
    {
     "name": "stderr",
     "output_type": "stream",
     "text": [
      "/tmp/ipykernel_1119291/761229760.py:1: DeprecationWarning: \n",
      "Pyarrow will become a required dependency of pandas in the next major release of pandas (pandas 3.0),\n",
      "(to allow more performant data types, such as the Arrow string type, and better interoperability with other libraries)\n",
      "but was not found to be installed on your system.\n",
      "If this would cause problems for you,\n",
      "please provide us feedback at https://github.com/pandas-dev/pandas/issues/54466\n",
      "        \n",
      "  import pandas as pd\n"
     ]
    }
   ],
   "source": [
    "import pandas as pd\n",
    "import numpy as np\n",
    "import sklearn\n",
    "import pickle \n",
    "import time \n",
    "import datetime"
   ]
  },
  {
   "cell_type": "code",
   "execution_count": 2,
   "id": "e59bf270-951d-4da7-b7bb-09d4227238bd",
   "metadata": {
    "tags": []
   },
   "outputs": [],
   "source": [
    "import warnings\n",
    "warnings.filterwarnings('ignore')"
   ]
  },
  {
   "cell_type": "code",
   "execution_count": 3,
   "id": "e42d11c8-75b7-4337-b0ac-c715d41b1011",
   "metadata": {},
   "outputs": [],
   "source": [
    "%run ../functions_pyod2.py"
   ]
  },
  {
   "cell_type": "code",
   "execution_count": 2,
   "id": "81833a59-fff8-46f3-bd2d-f77279fb7aa9",
   "metadata": {},
   "outputs": [],
   "source": [
    "with open('../fraudTrain.pkl', 'rb') as file:\n",
    "    fraudTrain = pickle.load(file)    "
   ]
  },
  {
   "cell_type": "code",
   "execution_count": 4,
   "id": "105ef730-80f4-4529-a7f9-6a39a493b70a",
   "metadata": {},
   "outputs": [],
   "source": [
    "df_train1 = pd.read_csv('~/Dropbox/Data/df_train1.csv')\n",
    "df_train2 = pd.read_csv('~/Dropbox/Data/df_train2.csv')\n",
    "df_train3 = pd.read_csv('~/Dropbox/Data/df_train3.csv')\n",
    "df_train4 = pd.read_csv('~/Dropbox/Data/df_train4.csv')\n",
    "df_train5 = pd.read_csv('~/Dropbox/Data/df_train5.csv')\n",
    "df_train6 = pd.read_csv('~/Dropbox/Data/df_train6.csv')\n",
    "df_train7 = pd.read_csv('~/Dropbox/Data/df_train7.csv')\n",
    "df_train8 = pd.read_csv('~/Dropbox/Data/df_train8.csv')\n",
    "df_test = pd.read_csv('~/Dropbox/Data/df_test.csv')"
   ]
  },
  {
   "cell_type": "code",
   "execution_count": 5,
   "id": "619c7210-cfa5-43e0-a19d-7072c3283933",
   "metadata": {},
   "outputs": [],
   "source": [
    "_df1 = pd.concat([df_train1, df_test])\n",
    "_df2 = pd.concat([df_train2, df_test])\n",
    "_df3 = pd.concat([df_train3, df_test])\n",
    "_df4 = pd.concat([df_train4, df_test])\n",
    "_df5 = pd.concat([df_train5, df_test])\n",
    "_df6 = pd.concat([df_train6, df_test])\n",
    "_df7 = pd.concat([df_train7, df_test])\n",
    "_df8 = pd.concat([df_train8, df_test])\n",
    "_df1_mean = _df1.is_fraud.mean()\n",
    "_df2_mean = _df2.is_fraud.mean()\n",
    "_df3_mean = _df3.is_fraud.mean()\n",
    "_df4_mean = _df4.is_fraud.mean()\n",
    "_df5_mean = _df5.is_fraud.mean()\n",
    "_df6_mean = _df6.is_fraud.mean()\n",
    "_df7_mean = _df7.is_fraud.mean()\n",
    "_df8_mean = _df8.is_fraud.mean()"
   ]
  },
  {
   "cell_type": "markdown",
   "id": "d561097a-b255-4839-acd8-ed27cfd4752a",
   "metadata": {},
   "source": [
    "## pyod_0503: 기존거에서 그냥 result2로 저장위치만 변경"
   ]
  },
  {
   "cell_type": "code",
   "execution_count": 11,
   "id": "5f24a355-f133-4983-8bd4-1a49001bd08e",
   "metadata": {},
   "outputs": [],
   "source": [
    "def pyod_preprocess_0503(df_tr, df_tstn, _df_mean):\n",
    "      \n",
    "    X = pd.DataFrame(df_tr['amt'])\n",
    "    y = pd.DataFrame(df_tr['is_fraud'])\n",
    "    XX = pd.DataFrame(df_tstn['amt'])\n",
    "    yy = pd.DataFrame(df_tstn['is_fraud'])\n",
    "    throw_rate = _df_mean\n",
    "    fraud_ratio = df_tr.is_fraud.mean()\n",
    "    predictors = {\n",
    "            'ABOD': ABOD(contamination=fraud_ratio),\n",
    "#    'ALAD': ALAD(contamination=fraud_ratio),\n",
    "#    'AnoGAN': AnoGAN(contamination=fraud_ratio),\n",
    "#    'AutoEncoder':AutoEncoder(contamination=fraud_ratio),\n",
    "##    'CBLOF': CBLOF(contamination=fraud_ratio,n_clusters=2),\n",
    "##    'COF': COF(contamination=fraud_ratio),\n",
    "##    'CD': CD(contamination=fraud_ratio),\n",
    "    'COPOD': COPOD(contamination=fraud_ratio),\n",
    "#    'DeepSVDD': DeepSVDD(contamination=fraud_ratio),\n",
    "#    'DIF': DIF(contamination=fraud_ratio),    \n",
    "    'ECOD': ECOD(contamination=fraud_ratio),\n",
    "#    'FeatureBagging': FeatureBagging(contamination=fraud_ratio),\n",
    "    'GMM': GMM(contamination=fraud_ratio),\n",
    "    'HBOS': HBOS(contamination=fraud_ratio),\n",
    "    'IForest': IForest(contamination=fraud_ratio),\n",
    "    'INNE': INNE(contamination=fraud_ratio),\n",
    "    'KDE': KDE(contamination=fraud_ratio),\n",
    "    'KNN': KNN(contamination=fraud_ratio),\n",
    "####    'KPCA': KPCA(contamination=fraud_ratio),\n",
    "#    'PyODKernelPCA': PyODKernelPCA(contamination=fraud_ratio),\n",
    "##    'LMDD': LMDD(contamination=fraud_ratio),\n",
    "    'LODA': LODA(contamination=fraud_ratio),\n",
    "    'LOF': LOF(contamination=fraud_ratio),\n",
    "####    'LOCI': LOCI(contamination=fraud_ratio),\n",
    "#    'LUNAR': LUNAR(contamination=fraud_ratio),\n",
    "    'LODA': LODA(contamination=fraud_ratio),\n",
    "#    'LSCP': LSCP(contamination=fraud_ratio),\n",
    "    'MAD': MAD(contamination=fraud_ratio),\n",
    "    'MCD': MCD(contamination=fraud_ratio),\n",
    "#    'MO_GAAL': MO_GAAL(contamination=fraud_ratio),\n",
    "    'OCSVM': OCSVM(contamination=fraud_ratio),\n",
    "    'PCA': PCA(contamination=fraud_ratio),\n",
    "###    'QMCD': QMCD(contamination=fraud_ratio),\n",
    "####    'RGraph': RGraph(contamination=fraud_ratio),\n",
    "    'ROD': ROD(contamination=fraud_ratio),\n",
    "##    'Sampling': Sampling(contamination=fraud_ratio),\n",
    "##   'SOD': SOD(contamination=fraud_ratio),\n",
    "#    'SO_GAAL': SO_GAAL(contamination=fraud_ratio),\n",
    "####    'SOS': SOS(contamination=fraud_ratio),\n",
    "#    'SUOD': SUOD(contamination=fraud_ratio),\n",
    "#    'VAE': VAE(contamination=fraud_ratio),\n",
    "#    'XGBOD': XGBOD(contamination=fraud_ratio),  \n",
    "}\n",
    "    return X, XX, y, yy, predictors, throw_rate"
   ]
  },
  {
   "cell_type": "code",
   "execution_count": null,
   "id": "957087d4-9801-404c-aa5f-22f698ed3a60",
   "metadata": {},
   "outputs": [],
   "source": [
    "pyod_0503(*pyod_preprocess_0503(df_train1, df_test, _df1_mean))"
   ]
  },
  {
   "cell_type": "code",
   "execution_count": null,
   "id": "7cbeb45f-0850-42fc-853f-4c9785063860",
   "metadata": {},
   "outputs": [],
   "source": [
    "pyod_0503(*pyod_preprocess_0503(df_train2, df_test, _df2_mean))"
   ]
  },
  {
   "cell_type": "code",
   "execution_count": null,
   "id": "d980ba12-3f83-458b-bbd5-7349a59229db",
   "metadata": {},
   "outputs": [],
   "source": [
    "pyod_0503(*pyod_preprocess_0503(df_train3, df_test, _df3_mean))"
   ]
  },
  {
   "cell_type": "code",
   "execution_count": null,
   "id": "a3dd54eb-d0ce-484b-930d-dbb45085d9a3",
   "metadata": {},
   "outputs": [],
   "source": [
    "pyod_0503(*pyod_preprocess_0503(df_train4, df_test, _df4_mean))"
   ]
  },
  {
   "cell_type": "code",
   "execution_count": null,
   "id": "e9fd54ed-fcf0-4cd9-a50a-ca25622cd6d7",
   "metadata": {},
   "outputs": [],
   "source": [
    "pyod_0503(*pyod_preprocess_0503(df_train5, df_test, _df5_mean))"
   ]
  },
  {
   "cell_type": "code",
   "execution_count": null,
   "id": "a6d86f63-15dc-457a-9d16-1fa81372e0f8",
   "metadata": {},
   "outputs": [],
   "source": [
    "pyod_0503(*pyod_preprocess_0503(df_train6, df_test, _df6_mean))"
   ]
  },
  {
   "cell_type": "code",
   "execution_count": null,
   "id": "322176f2-51fc-424b-b0c0-6130188168a0",
   "metadata": {},
   "outputs": [],
   "source": [
    "pyod_0503(*pyod_preprocess_0503(df_train7, df_test, _df7_mean))"
   ]
  },
  {
   "cell_type": "code",
   "execution_count": null,
   "id": "2b9697da-0dc8-4aa7-9fd3-d10fe7c2acd3",
   "metadata": {},
   "outputs": [],
   "source": [
    "pyod_0503(*pyod_preprocess_0503(df_train8, df_test, _df8_mean))"
   ]
  },
  {
   "cell_type": "code",
   "execution_count": null,
   "id": "f06dae65-4362-4b19-bee3-9f4c1279da56",
   "metadata": {},
   "outputs": [],
   "source": []
  }
 ],
 "metadata": {
  "kernelspec": {
   "display_name": "Python 3 (ipykernel)",
   "language": "python",
   "name": "python3"
  },
  "language_info": {
   "codemirror_mode": {
    "name": "ipython",
    "version": 3
   },
   "file_extension": ".py",
   "mimetype": "text/x-python",
   "name": "python",
   "nbconvert_exporter": "python",
   "pygments_lexer": "ipython3",
   "version": "3.11.7"
  }
 },
 "nbformat": 4,
 "nbformat_minor": 5
}
