{
 "cells": [
  {
   "cell_type": "raw",
   "id": "42728fea-ad15-40cc-ac0e-6ea4589a53d7",
   "metadata": {},
   "source": [
    "---\n",
    "title: \"[Pyod] df_train, df_test(0.00573)\"\n",
    "author: \"김보람 \"\n",
    "date: \"05/03/2024\"\n",
    "---"
   ]
  },
  {
   "cell_type": "markdown",
   "id": "d538aad2-c200-4845-9fbb-de835d38374a",
   "metadata": {},
   "source": [
    "\n",
    "ref: <https://pyod.readthedocs.io/en/latest/pyod.models.html#all-models>\n",
    "\n",
    "# 1. Imports"
   ]
  },
  {
   "cell_type": "code",
   "execution_count": 4,
   "id": "f4162b18-f612-4403-bf6b-823b6b662ea4",
   "metadata": {
    "tags": []
   },
   "outputs": [],
   "source": [
    "import pandas as pd\n",
    "import numpy as np\n",
    "import sklearn\n",
    "import pickle \n",
    "import time \n",
    "import datetime"
   ]
  },
  {
   "cell_type": "code",
   "execution_count": 5,
   "id": "e59bf270-951d-4da7-b7bb-09d4227238bd",
   "metadata": {
    "tags": []
   },
   "outputs": [],
   "source": [
    "import warnings\n",
    "warnings.filterwarnings('ignore')"
   ]
  },
  {
   "cell_type": "code",
   "execution_count": 6,
   "id": "e42d11c8-75b7-4337-b0ac-c715d41b1011",
   "metadata": {},
   "outputs": [],
   "source": [
    "%run ../functions_pyod2.py"
   ]
  },
  {
   "cell_type": "code",
   "execution_count": 7,
   "id": "81833a59-fff8-46f3-bd2d-f77279fb7aa9",
   "metadata": {},
   "outputs": [],
   "source": [
    "with open('../fraudTrain.pkl', 'rb') as file:\n",
    "    fraudTrain = pickle.load(file)    "
   ]
  },
  {
   "cell_type": "code",
   "execution_count": 8,
   "id": "105ef730-80f4-4529-a7f9-6a39a493b70a",
   "metadata": {},
   "outputs": [],
   "source": [
    "df_train1 = pd.read_csv('~/Dropbox/Data/df_train1.csv')\n",
    "df_train2 = pd.read_csv('~/Dropbox/Data/df_train2.csv')\n",
    "df_train3 = pd.read_csv('~/Dropbox/Data/df_train3.csv')\n",
    "df_train4 = pd.read_csv('~/Dropbox/Data/df_train4.csv')\n",
    "df_train5 = pd.read_csv('~/Dropbox/Data/df_train5.csv')\n",
    "df_train6 = pd.read_csv('~/Dropbox/Data/df_train6.csv')\n",
    "df_train7 = pd.read_csv('~/Dropbox/Data/df_train7.csv')\n",
    "df_train8 = pd.read_csv('~/Dropbox/Data/df_train8.csv')\n",
    "df_test = pd.read_csv('~/Dropbox/Data/df_test.csv')"
   ]
  },
  {
   "cell_type": "code",
   "execution_count": 9,
   "id": "619c7210-cfa5-43e0-a19d-7072c3283933",
   "metadata": {},
   "outputs": [],
   "source": [
    "_df1 = pd.concat([df_train1, df_test])\n",
    "_df2 = pd.concat([df_train2, df_test])\n",
    "_df3 = pd.concat([df_train3, df_test])\n",
    "_df4 = pd.concat([df_train4, df_test])\n",
    "_df5 = pd.concat([df_train5, df_test])\n",
    "_df6 = pd.concat([df_train6, df_test])\n",
    "_df7 = pd.concat([df_train7, df_test])\n",
    "_df8 = pd.concat([df_train8, df_test])\n",
    "_df1_mean = _df1.is_fraud.mean()\n",
    "_df2_mean = _df2.is_fraud.mean()\n",
    "_df3_mean = _df3.is_fraud.mean()\n",
    "_df4_mean = _df4.is_fraud.mean()\n",
    "_df5_mean = _df5.is_fraud.mean()\n",
    "_df6_mean = _df6.is_fraud.mean()\n",
    "_df7_mean = _df7.is_fraud.mean()\n",
    "_df8_mean = _df8.is_fraud.mean()"
   ]
  },
  {
   "cell_type": "code",
   "execution_count": 27,
   "id": "544ede2e-a4ac-44b3-abb6-be6eb3ef093e",
   "metadata": {},
   "outputs": [
    {
     "data": {
      "text/plain": [
       "((734003, 22),\n",
       " (420500, 22),\n",
       " (84100, 22),\n",
       " (42050, 22),\n",
       " (21025, 22),\n",
       " (14017, 22),\n",
       " (10512, 22),\n",
       " (8410, 22),\n",
       " (314572, 22))"
      ]
     },
     "execution_count": 27,
     "metadata": {},
     "output_type": "execute_result"
    }
   ],
   "source": [
    "df_train1.shape, df_train2.shape, df_train3.shape, df_train4.shape,df_train5.shape,df_train6.shape,df_train7.shape,df_train8.shape,df_test.shape"
   ]
  },
  {
   "cell_type": "code",
   "execution_count": 29,
   "id": "6d2481bb-a207-4149-a191-3bd6327157c2",
   "metadata": {},
   "outputs": [
    {
     "data": {
      "text/plain": [
       "(0.005728859418830713,\n",
       " 0.01,\n",
       " 0.05,\n",
       " 0.1,\n",
       " 0.2,\n",
       " 0.29999286580580725,\n",
       " 0.4000190258751903,\n",
       " 0.5,\n",
       " 0.005725239372862174)"
      ]
     },
     "execution_count": 29,
     "metadata": {},
     "output_type": "execute_result"
    }
   ],
   "source": [
    "df_train1.is_fraud.mean(),df_train2.is_fraud.mean(),df_train3.is_fraud.mean(),df_train4.is_fraud.mean(),df_train5.is_fraud.mean(),df_train6.is_fraud.mean(),df_train7.is_fraud.mean(),df_train8.is_fraud.mean(),df_test.is_fraud.mean()"
   ]
  },
  {
   "cell_type": "code",
   "execution_count": 30,
   "id": "3ea6df85-c4b5-444e-9393-c5044bd9c3f5",
   "metadata": {},
   "outputs": [
    {
     "data": {
      "text/plain": [
       "(0.005727773406766326,\n",
       " 0.00817062818336163,\n",
       " 0.015065015852630734,\n",
       " 0.01684136144152632,\n",
       " 0.017896465105468762,\n",
       " 0.018278152950950883,\n",
       " 0.01847522486495798,\n",
       " 0.018595463524283085)"
      ]
     },
     "execution_count": 30,
     "metadata": {},
     "output_type": "execute_result"
    }
   ],
   "source": [
    "_df1_mean, _df2_mean,_df3_mean,_df4_mean,_df5_mean,_df6_mean,_df7_mean,_df8_mean"
   ]
  },
  {
   "cell_type": "code",
   "execution_count": null,
   "id": "29a8e6ba-e5d4-439d-99f4-d3c91f0bb967",
   "metadata": {},
   "outputs": [],
   "source": []
  },
  {
   "cell_type": "markdown",
   "id": "d561097a-b255-4839-acd8-ed27cfd4752a",
   "metadata": {},
   "source": [
    "## pyod_0503: 기존거에서 그냥 result2로 저장위치만 변경"
   ]
  },
  {
   "cell_type": "code",
   "execution_count": 7,
   "id": "ba77e70e-7384-4a34-9254-e7b75498fc7f",
   "metadata": {},
   "outputs": [],
   "source": [
    "def pyod_0503(X,XX,y,yy,predictors,throw_rate):\n",
    "    model = []\n",
    "    time_diff = []\n",
    "    acc = []\n",
    "    pre = []\n",
    "    rec = []\n",
    "    f1 = [] \n",
    "    auc = [] \n",
    "    graph_based = []\n",
    "    method = [] \n",
    "    train_size = []\n",
    "    train_cols = []\n",
    "    train_frate = []\n",
    "    test_size = []\n",
    "    test_frate = []\n",
    "    hyper_params = [] \n",
    "    for name, predictor in predictors.items():\n",
    "        t1 = time.time()\n",
    "        predictor.fit(X,y)\n",
    "        t2 = time.time()\n",
    "        yyhat = predictor.predict(XX)\n",
    "        scores = evaluate(yy,yyhat)\n",
    "        model.append(name)\n",
    "        time_diff.append(t2-t1)\n",
    "        acc.append(scores['acc'])\n",
    "        pre.append(scores['pre'])\n",
    "        rec.append(scores['rec'])\n",
    "        f1.append(scores['f1'])\n",
    "        auc.append(scores['auc'])\n",
    "        graph_based.append(False)\n",
    "        method.append('pyod')\n",
    "        train_size.append(len(y)),\n",
    "        train_cols.append(list(X.columns)),\n",
    "        train_frate.append(np.array(y).reshape(-1).mean()),\n",
    "        test_size.append(len(yy)),\n",
    "        test_frate.append(np.array(yy).reshape(-1).mean())\n",
    "        hyper_params.append(None)\n",
    "    df_results = pd.DataFrame(dict(\n",
    "        model = model,\n",
    "        time=time_diff,\n",
    "        acc=acc,\n",
    "        pre=pre,\n",
    "        rec=rec,\n",
    "        f1=f1,\n",
    "        auc=auc,\n",
    "        graph_based = graph_based,\n",
    "        method = method,\n",
    "        throw_rate = throw_rate,\n",
    "        train_size = train_size,\n",
    "        train_cols = train_cols,\n",
    "        train_frate = np.array(y).mean(),\n",
    "        test_size = test_size,\n",
    "        test_frate = np.array(yy).mean(),\n",
    "        hyper_params = hyper_params\n",
    "    ))\n",
    "    ymdhms = datetime.datetime.fromtimestamp(time.time()).strftime('%Y%m%d-%H%M%S') \n",
    "    df_results.to_csv(f'../results2/{ymdhms}-pyod.csv',index=False)\n",
    "    return df_results"
   ]
  },
  {
   "cell_type": "code",
   "execution_count": 8,
   "id": "5f24a355-f133-4983-8bd4-1a49001bd08e",
   "metadata": {},
   "outputs": [],
   "source": [
    "def pyod_preprocess_0503(df_tr, df_tstn, _df_mean):\n",
    "      \n",
    "    X = pd.DataFrame(df_tr['amt'])\n",
    "    y = pd.DataFrame(df_tr['is_fraud'])\n",
    "    XX = pd.DataFrame(df_tstn['amt'])\n",
    "    yy = pd.DataFrame(df_tstn['is_fraud'])\n",
    "    throw_rate = _df_mean\n",
    "    fraud_ratio = df_tr.is_fraud.mean()\n",
    "    predictors = {\n",
    "            'ABOD': ABOD(contamination=fraud_ratio),\n",
    "#    'ALAD': ALAD(contamination=fraud_ratio),\n",
    "#    'AnoGAN': AnoGAN(contamination=fraud_ratio),\n",
    "#    'AutoEncoder':AutoEncoder(contamination=fraud_ratio),\n",
    "##    'CBLOF': CBLOF(contamination=fraud_ratio,n_clusters=2),\n",
    "##    'COF': COF(contamination=fraud_ratio),\n",
    "##    'CD': CD(contamination=fraud_ratio),\n",
    "    'COPOD': COPOD(contamination=fraud_ratio),\n",
    "#    'DeepSVDD': DeepSVDD(contamination=fraud_ratio),\n",
    "#    'DIF': DIF(contamination=fraud_ratio),    \n",
    "    'ECOD': ECOD(contamination=fraud_ratio),\n",
    "#    'FeatureBagging': FeatureBagging(contamination=fraud_ratio),\n",
    "    'GMM': GMM(contamination=fraud_ratio),\n",
    "    'HBOS': HBOS(contamination=fraud_ratio),\n",
    "    'IForest': IForest(contamination=fraud_ratio),\n",
    "    'INNE': INNE(contamination=fraud_ratio),\n",
    "    'KDE': KDE(contamination=fraud_ratio),\n",
    "    'KNN': KNN(contamination=fraud_ratio),\n",
    "####    'KPCA': KPCA(contamination=fraud_ratio),\n",
    "#    'PyODKernelPCA': PyODKernelPCA(contamination=fraud_ratio),\n",
    "##    'LMDD': LMDD(contamination=fraud_ratio),\n",
    "    'LODA': LODA(contamination=fraud_ratio),\n",
    "    'LOF': LOF(contamination=fraud_ratio),\n",
    "####    'LOCI': LOCI(contamination=fraud_ratio),\n",
    "#    'LUNAR': LUNAR(contamination=fraud_ratio),\n",
    "    'LODA': LODA(contamination=fraud_ratio),\n",
    "#    'LSCP': LSCP(contamination=fraud_ratio),\n",
    "    'MAD': MAD(contamination=fraud_ratio),\n",
    "    'MCD': MCD(contamination=fraud_ratio),\n",
    "#    'MO_GAAL': MO_GAAL(contamination=fraud_ratio),\n",
    "    'OCSVM': OCSVM(contamination=fraud_ratio),\n",
    "    'PCA': PCA(contamination=fraud_ratio),\n",
    "###    'QMCD': QMCD(contamination=fraud_ratio),\n",
    "####    'RGraph': RGraph(contamination=fraud_ratio),\n",
    "    'ROD': ROD(contamination=fraud_ratio),\n",
    "##    'Sampling': Sampling(contamination=fraud_ratio),\n",
    "##   'SOD': SOD(contamination=fraud_ratio),\n",
    "#    'SO_GAAL': SO_GAAL(contamination=fraud_ratio),\n",
    "####    'SOS': SOS(contamination=fraud_ratio),\n",
    "#    'SUOD': SUOD(contamination=fraud_ratio),\n",
    "#    'VAE': VAE(contamination=fraud_ratio),\n",
    "#    'XGBOD': XGBOD(contamination=fraud_ratio),  \n",
    "}\n",
    "    return X, XX, y, yy, predictors, throw_rate"
   ]
  },
  {
   "cell_type": "code",
   "execution_count": null,
   "id": "501caac7-7123-48cc-8e26-7bd7d442e873",
   "metadata": {},
   "outputs": [],
   "source": [
    "pyod_0503(*pyod_preprocess_0503(df_train1, df_test, _df1_mean))"
   ]
  },
  {
   "cell_type": "markdown",
   "id": "ba04fd14-d505-4943-b70a-ef3eda02540b",
   "metadata": {},
   "source": [
    "--> 9시간 이상"
   ]
  },
  {
   "cell_type": "code",
   "execution_count": null,
   "id": "7cbeb45f-0850-42fc-853f-4c9785063860",
   "metadata": {},
   "outputs": [],
   "source": [
    "pyod_0503(*pyod_preprocess_0503(df_train2, df_test, _df2_mean))"
   ]
  },
  {
   "cell_type": "markdown",
   "id": "daa99b6d-9c6f-4005-ba3f-75d23808f769",
   "metadata": {},
   "source": [
    "---> 4시간 이상"
   ]
  },
  {
   "cell_type": "code",
   "execution_count": null,
   "id": "d980ba12-3f83-458b-bbd5-7349a59229db",
   "metadata": {},
   "outputs": [],
   "source": [
    "pyod_0503(*pyod_preprocess_0503(df_train3, df_test, _df3_mean))"
   ]
  },
  {
   "cell_type": "code",
   "execution_count": null,
   "id": "a3dd54eb-d0ce-484b-930d-dbb45085d9a3",
   "metadata": {},
   "outputs": [],
   "source": [
    "pyod_0503(*pyod_preprocess_0503(df_train4, df_test, _df4_mean))"
   ]
  },
  {
   "cell_type": "code",
   "execution_count": null,
   "id": "e9fd54ed-fcf0-4cd9-a50a-ca25622cd6d7",
   "metadata": {},
   "outputs": [],
   "source": [
    "pyod_0503(*pyod_preprocess_0503(df_train5, df_test, _df5_mean))"
   ]
  },
  {
   "cell_type": "code",
   "execution_count": null,
   "id": "a6d86f63-15dc-457a-9d16-1fa81372e0f8",
   "metadata": {},
   "outputs": [],
   "source": [
    "pyod_0503(*pyod_preprocess_0503(df_train6, df_test, _df6_mean))"
   ]
  },
  {
   "cell_type": "code",
   "execution_count": null,
   "id": "322176f2-51fc-424b-b0c0-6130188168a0",
   "metadata": {},
   "outputs": [],
   "source": [
    "pyod_0503(*pyod_preprocess_0503(df_train7, df_test, _df7_mean))"
   ]
  },
  {
   "cell_type": "code",
   "execution_count": null,
   "id": "2b9697da-0dc8-4aa7-9fd3-d10fe7c2acd3",
   "metadata": {},
   "outputs": [],
   "source": [
    "pyod_0503(*pyod_preprocess_0503(df_train8, df_test, _df8_mean))"
   ]
  },
  {
   "cell_type": "code",
   "execution_count": null,
   "id": "f06dae65-4362-4b19-bee3-9f4c1279da56",
   "metadata": {},
   "outputs": [],
   "source": []
  },
  {
   "cell_type": "code",
   "execution_count": null,
   "id": "e59086fa-435b-4c4c-9a09-62eba0dc8764",
   "metadata": {},
   "outputs": [],
   "source": []
  }
 ],
 "metadata": {
  "kernelspec": {
   "display_name": "Python 3 (ipykernel)",
   "language": "python",
   "name": "python3"
  },
  "language_info": {
   "codemirror_mode": {
    "name": "ipython",
    "version": 3
   },
   "file_extension": ".py",
   "mimetype": "text/x-python",
   "name": "python",
   "nbconvert_exporter": "python",
   "pygments_lexer": "ipython3",
   "version": "3.11.7"
  }
 },
 "nbformat": 4,
 "nbformat_minor": 5
}
