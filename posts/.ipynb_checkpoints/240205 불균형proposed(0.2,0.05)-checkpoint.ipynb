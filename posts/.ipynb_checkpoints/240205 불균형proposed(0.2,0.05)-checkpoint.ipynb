{
 "cells": [
  {
   "cell_type": "raw",
   "id": "ead89876-ba70-480c-9ed6-8c8863b7c978",
   "metadata": {},
   "source": [
    "---\n",
    "title: \"불균형 데이터 proposed(0.3/0.005)\"\n",
    "author: \"김보람\"\n",
    "date: \"02/05/2024\"\n",
    "---"
   ]
  },
  {
   "cell_type": "markdown",
   "id": "96bfdec3-5b07-45b5-9b38-2e8813117310",
   "metadata": {},
   "source": [
    "# imports"
   ]
  },
  {
   "cell_type": "code",
   "execution_count": 1,
   "id": "4eb91738-6398-4ffc-bbec-fc48fcc8f249",
   "metadata": {},
   "outputs": [],
   "source": [
    "import pandas as pd\n",
    "import numpy as np\n",
    "import sklearn\n",
    "import pickle \n",
    "import time \n",
    "import datetime\n",
    "import warnings\n",
    "warnings.filterwarnings('ignore')"
   ]
  },
  {
   "cell_type": "code",
   "execution_count": 2,
   "id": "290df976-de65-4a67-828b-b8fe594538d9",
   "metadata": {},
   "outputs": [],
   "source": [
    "%run function_proposed_gcn.py"
   ]
  },
  {
   "cell_type": "code",
   "execution_count": 3,
   "id": "fdfecbba-4a62-4ef9-9c6e-238b71f1fb62",
   "metadata": {},
   "outputs": [],
   "source": [
    "with open('fraudTrain.pkl', 'rb') as file:\n",
    "    fraudTrain = pickle.load(file)    "
   ]
  },
  {
   "cell_type": "code",
   "execution_count": null,
   "id": "7a7d2034-d8c2-4072-b883-437b59628d0a",
   "metadata": {},
   "outputs": [],
   "source": [
    "df_results = try_1(fraudTrain, 0.3, 0.005, 8.028000e+04, 0.3)\n",
    "df_results = try_1(fraudTrain, 0.3, 0.005, 8.528000e+04, 0.3, prev_results=df_results)\n",
    "df_results = try_1(fraudTrain, 0.3, 0.005, 7.528000e+04, 0.3, prev_results=df_results)\n",
    "df_results = try_1(fraudTrain, 0.3, 0.005, 6.528000e+04, 0.3, prev_results=df_results)\n",
    "df_results = try_1(fraudTrain, 0.3, 0.005, 5.528000e+04, 0.3, prev_results=df_results)\n",
    "df_results = try_1(fraudTrain, 0.3, 0.005, 4.528000e+04, 0.3, prev_results=df_results)\n",
    "df_results = try_1(fraudTrain, 0.3, 0.005, 3.528000e+04, 0.3, prev_results=df_results)\n",
    "df_results = try_1(fraudTrain, 0.3, 0.005, 2.528000e+04, 0.3, prev_results=df_results)\n",
    "df_results = try_1(fraudTrain, 0.3, 0.005, 1.528000e+04, 0.3, prev_results=df_results)\n",
    "df_results = try_1(fraudTrain, 0.3, 0.005, 0.528000e+04, 0.3, prev_results=df_results)\n",
    "\n",
    "\n",
    "ymdhms = datetime.datetime.fromtimestamp(time.time()).strftime('%Y%m%d-%H%M%S') \n",
    "df_results.to_csv(f'./results/{ymdhms}-proposed.csv',index=False)"
   ]
  },
  {
   "cell_type": "code",
   "execution_count": null,
   "id": "06b5fe59-5efa-4f9b-98cd-6edad0104450",
   "metadata": {},
   "outputs": [],
   "source": [
    "df_results"
   ]
  },
  {
   "cell_type": "code",
   "execution_count": null,
   "id": "a9df796e-cbaf-4e25-a433-11732cd66a8c",
   "metadata": {},
   "outputs": [],
   "source": [
    "df_results = try_1(fraudTrain, 0.3, 0.005, 8.028000e+04, 0.2)\n",
    "df_results = try_1(fraudTrain, 0.3, 0.005, 8.528000e+04, 0.2, prev_results=df_results)\n",
    "df_results = try_1(fraudTrain, 0.3, 0.005, 7.528000e+04, 0.2, prev_results=df_results)\n",
    "df_results = try_1(fraudTrain, 0.3, 0.005, 6.528000e+04, 0.2, prev_results=df_results)\n",
    "df_results = try_1(fraudTrain, 0.3, 0.005, 5.528000e+04, 0.2, prev_results=df_results)\n",
    "df_results = try_1(fraudTrain, 0.3, 0.005, 4.528000e+04, 0.2, prev_results=df_results)\n",
    "df_results = try_1(fraudTrain, 0.3, 0.005, 3.528000e+04, 0.2, prev_results=df_results)\n",
    "df_results = try_1(fraudTrain, 0.3, 0.005, 2.528000e+04, 0.2, prev_results=df_results)\n",
    "df_results = try_1(fraudTrain, 0.3, 0.005, 1.528000e+04, 0.2, prev_results=df_results)\n",
    "df_results = try_1(fraudTrain, 0.3, 0.005, 0.528000e+04, 0.2, prev_results=df_results)\n",
    "\n",
    "\n",
    "ymdhms = datetime.datetime.fromtimestamp(time.time()).strftime('%Y%m%d-%H%M%S') \n",
    "df_results.to_csv(f'./results/{ymdhms}-proposed.csv',index=False)"
   ]
  },
  {
   "cell_type": "code",
   "execution_count": null,
   "id": "2a11e59d-6616-4a68-99b5-3d421ec01115",
   "metadata": {},
   "outputs": [],
   "source": [
    "df_results"
   ]
  },
  {
   "cell_type": "code",
   "execution_count": null,
   "id": "86addf7b-3332-480f-8075-01e5e7cc15a6",
   "metadata": {},
   "outputs": [],
   "source": []
  },
  {
   "cell_type": "code",
   "execution_count": null,
   "id": "260beca7-0a88-4b80-be7e-6d58249b3fe2",
   "metadata": {},
   "outputs": [],
   "source": [
    "df_results = try_1(fraudTrain, 0.3, 0.005, 9.028000e+04, 0.3)\n",
    "df_results = try_1(fraudTrain, 0.3, 0.005, 10.528000e+04, 0.3, prev_results=df_results)\n",
    "df_results = try_1(fraudTrain, 0.3, 0.005, 11.528000e+04, 0.3, prev_results=df_results)\n",
    "df_results = try_1(fraudTrain, 0.3, 0.005, 12.528000e+04, 0.3, prev_results=df_results)\n",
    "df_results = try_1(fraudTrain, 0.3, 0.005, 13.528000e+04, 0.3, prev_results=df_results)\n",
    "df_results = try_1(fraudTrain, 0.3, 0.005, 14.528000e+04, 0.3, prev_results=df_results)\n",
    "df_results = try_1(fraudTrain, 0.3, 0.005, 15.528000e+04, 0.3, prev_results=df_results)\n",
    "df_results = try_1(fraudTrain, 0.3, 0.005, 16.528000e+04, 0.3, prev_results=df_results)\n",
    "df_results = try_1(fraudTrain, 0.3, 0.005, 17.528000e+04, 0.3, prev_results=df_results)\n",
    "df_results = try_1(fraudTrain, 0.3, 0.005, 18.528000e+04, 0.3, prev_results=df_results)\n",
    "\n",
    "\n",
    "ymdhms = datetime.datetime.fromtimestamp(time.time()).strftime('%Y%m%d-%H%M%S') \n",
    "df_results.to_csv(f'./results/{ymdhms}-proposed.csv',index=False)"
   ]
  },
  {
   "cell_type": "code",
   "execution_count": null,
   "id": "7555a3ac-4fb2-43aa-bf91-0f7441680380",
   "metadata": {},
   "outputs": [],
   "source": [
    "df_results"
   ]
  },
  {
   "cell_type": "code",
   "execution_count": null,
   "id": "beecd12b-81aa-43af-8564-5a3a2fbb85e9",
   "metadata": {},
   "outputs": [],
   "source": [
    "df_results = try_1(fraudTrain, 0.3, 0.005, 8.028000e+04, 0.4)\n",
    "df_results = try_1(fraudTrain, 0.3, 0.005, 8.528000e+04, 0.4, prev_results=df_results)\n",
    "df_results = try_1(fraudTrain, 0.3, 0.005, 7.528000e+04, 0.4, prev_results=df_results)\n",
    "df_results = try_1(fraudTrain, 0.3, 0.005, 6.528000e+04, 0.4, prev_results=df_results)\n",
    "df_results = try_1(fraudTrain, 0.3, 0.005, 5.528000e+04, 0.4, prev_results=df_results)\n",
    "df_results = try_1(fraudTrain, 0.3, 0.005, 4.528000e+04, 0.4, prev_results=df_results)\n",
    "df_results = try_1(fraudTrain, 0.3, 0.005, 3.528000e+04, 0.4, prev_results=df_results)\n",
    "df_results = try_1(fraudTrain, 0.3, 0.005, 2.528000e+04, 0.4, prev_results=df_results)\n",
    "df_results = try_1(fraudTrain, 0.3, 0.005, 1.528000e+04, 0.4, prev_results=df_results)\n",
    "df_results = try_1(fraudTrain, 0.3, 0.005, 0.528000e+04, 0.4, prev_results=df_results)\n",
    "\n",
    "\n",
    "ymdhms = datetime.datetime.fromtimestamp(time.time()).strftime('%Y%m%d-%H%M%S') \n",
    "df_results.to_csv(f'./results/{ymdhms}-proposed.csv',index=False)"
   ]
  },
  {
   "cell_type": "code",
   "execution_count": null,
   "id": "72537a71-dbbd-49b7-85df-d542e9a18f7b",
   "metadata": {},
   "outputs": [],
   "source": [
    "df_results"
   ]
  },
  {
   "cell_type": "code",
   "execution_count": null,
   "id": "952d73b0-2837-4048-afb8-b4e6e2cd64ea",
   "metadata": {},
   "outputs": [],
   "source": [
    "df_results = try_1(fraudTrain, 0.3, 0.005, 8.028000e+04, 0.5)\n",
    "df_results = try_1(fraudTrain, 0.3, 0.005, 10.528000e+04, 0.5, prev_results=df_results)\n",
    "df_results = try_1(fraudTrain, 0.3, 0.005, 11.528000e+04, 0.5, prev_results=df_results)\n",
    "df_results = try_1(fraudTrain, 0.3, 0.005, 12.528000e+04, 0.5, prev_results=df_results)\n",
    "df_results = try_1(fraudTrain, 0.3, 0.005, 13.528000e+04, 0.5, prev_results=df_results)\n",
    "df_results = try_1(fraudTrain, 0.3, 0.005, 8.528000e+04, 0.5, prev_results=df_results)\n",
    "df_results = try_1(fraudTrain, 0.3, 0.005, 7.528000e+04, 0.5, prev_results=df_results)\n",
    "df_results = try_1(fraudTrain, 0.3, 0.005, 6.528000e+04, 0.5, prev_results=df_results)\n",
    "\n",
    "\n",
    "ymdhms = datetime.datetime.fromtimestamp(time.time()).strftime('%Y%m%d-%H%M%S') \n",
    "df_results.to_csv(f'./results/{ymdhms}-proposed.csv',index=False)"
   ]
  },
  {
   "cell_type": "code",
   "execution_count": null,
   "id": "36087453-5fad-4712-9b4c-9c4d51c90d55",
   "metadata": {},
   "outputs": [],
   "source": [
    "df_results"
   ]
  },
  {
   "cell_type": "markdown",
   "id": "ebb344db-dc30-4ce1-a66d-7fa7e2be480e",
   "metadata": {},
   "source": [
    "---"
   ]
  }
 ],
 "metadata": {
  "kernelspec": {
   "display_name": "Python 3 (ipykernel)",
   "language": "python",
   "name": "python3"
  },
  "language_info": {
   "codemirror_mode": {
    "name": "ipython",
    "version": 3
   },
   "file_extension": ".py",
   "mimetype": "text/x-python",
   "name": "python",
   "nbconvert_exporter": "python",
   "pygments_lexer": "ipython3",
   "version": "3.8.18"
  }
 },
 "nbformat": 4,
 "nbformat_minor": 5
}
