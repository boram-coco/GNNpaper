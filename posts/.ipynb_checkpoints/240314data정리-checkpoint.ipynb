{
 "cells": [
  {
   "cell_type": "code",
   "execution_count": 1,
   "id": "49c07155-ca97-4994-943a-5ee64f716683",
   "metadata": {},
   "outputs": [],
   "source": [
    "import pandas as pd\n",
    "import numpy as np\n",
    "import sklearn\n",
    "import pickle \n",
    "import time \n",
    "import datetime\n",
    "import warnings\n",
    "warnings.filterwarnings('ignore')\n",
    "# import graft"
   ]
  },
  {
   "cell_type": "code",
   "execution_count": 2,
   "id": "521c57b7-6614-4bc3-94f7-a7bd6ce17d53",
   "metadata": {},
   "outputs": [],
   "source": [
    "with open('../fraudTrain.pkl', 'rb') as file:\n",
    "    fraudTrain = pickle.load(file)    "
   ]
  },
  {
   "cell_type": "code",
   "execution_count": 3,
   "id": "833f474e-7a7c-4afa-bfe1-88a5118edf6c",
   "metadata": {},
   "outputs": [],
   "source": [
    "def compute_time_difference(group):\n",
    "    n = len(group)\n",
    "    result = []\n",
    "    for i in range(n):\n",
    "        for j in range(n):\n",
    "            time_difference = abs(group.iloc[i].trans_date_trans_time.value - group.iloc[j].trans_date_trans_time.value)\n",
    "            result.append([group.iloc[i].name, group.iloc[j].name, time_difference])\n",
    "    return result\n"
   ]
  },
  {
   "cell_type": "code",
   "execution_count": null,
   "id": "10567971-6cb2-4433-afce-901194155e0a",
   "metadata": {},
   "outputs": [],
   "source": []
  },
  {
   "cell_type": "code",
   "execution_count": 4,
   "id": "66776804-7a75-499a-a10b-f6db7d36c011",
   "metadata": {},
   "outputs": [
    {
     "data": {
      "text/html": [
       "<div>\n",
       "<style scoped>\n",
       "    .dataframe tbody tr th:only-of-type {\n",
       "        vertical-align: middle;\n",
       "    }\n",
       "\n",
       "    .dataframe tbody tr th {\n",
       "        vertical-align: top;\n",
       "    }\n",
       "\n",
       "    .dataframe thead th {\n",
       "        text-align: right;\n",
       "    }\n",
       "</style>\n",
       "<table border=\"1\" class=\"dataframe\">\n",
       "  <thead>\n",
       "    <tr style=\"text-align: right;\">\n",
       "      <th></th>\n",
       "      <th>cc_num</th>\n",
       "      <th>name</th>\n",
       "      <th>total_transactions</th>\n",
       "      <th>fraud_transactions</th>\n",
       "    </tr>\n",
       "  </thead>\n",
       "  <tbody>\n",
       "    <tr>\n",
       "      <th>0</th>\n",
       "      <td>6.041621e+10</td>\n",
       "      <td>Mary Diaz</td>\n",
       "      <td>1242</td>\n",
       "      <td>9</td>\n",
       "    </tr>\n",
       "    <tr>\n",
       "      <th>1</th>\n",
       "      <td>6.042293e+10</td>\n",
       "      <td>Jeffrey Powers</td>\n",
       "      <td>1261</td>\n",
       "      <td>12</td>\n",
       "    </tr>\n",
       "    <tr>\n",
       "      <th>2</th>\n",
       "      <td>6.042310e+10</td>\n",
       "      <td>Jason Gray</td>\n",
       "      <td>423</td>\n",
       "      <td>10</td>\n",
       "    </tr>\n",
       "    <tr>\n",
       "      <th>3</th>\n",
       "      <td>6.042785e+10</td>\n",
       "      <td>Bradley Martinez</td>\n",
       "      <td>432</td>\n",
       "      <td>14</td>\n",
       "    </tr>\n",
       "    <tr>\n",
       "      <th>4</th>\n",
       "      <td>6.049060e+10</td>\n",
       "      <td>Karen Johnson</td>\n",
       "      <td>827</td>\n",
       "      <td>10</td>\n",
       "    </tr>\n",
       "    <tr>\n",
       "      <th>...</th>\n",
       "      <td>...</td>\n",
       "      <td>...</td>\n",
       "      <td>...</td>\n",
       "      <td>...</td>\n",
       "    </tr>\n",
       "    <tr>\n",
       "      <th>591</th>\n",
       "      <td>4.906630e+18</td>\n",
       "      <td>Charles Moreno</td>\n",
       "      <td>2103</td>\n",
       "      <td>11</td>\n",
       "    </tr>\n",
       "    <tr>\n",
       "      <th>592</th>\n",
       "      <td>4.911820e+18</td>\n",
       "      <td>Jeremy Chavez</td>\n",
       "      <td>9</td>\n",
       "      <td>9</td>\n",
       "    </tr>\n",
       "    <tr>\n",
       "      <th>593</th>\n",
       "      <td>4.956830e+18</td>\n",
       "      <td>Kenneth Robinson</td>\n",
       "      <td>2090</td>\n",
       "      <td>10</td>\n",
       "    </tr>\n",
       "    <tr>\n",
       "      <th>594</th>\n",
       "      <td>4.973530e+18</td>\n",
       "      <td>Mary Rodriguez</td>\n",
       "      <td>860</td>\n",
       "      <td>10</td>\n",
       "    </tr>\n",
       "    <tr>\n",
       "      <th>595</th>\n",
       "      <td>4.992350e+18</td>\n",
       "      <td>Benjamin Kim</td>\n",
       "      <td>1689</td>\n",
       "      <td>8</td>\n",
       "    </tr>\n",
       "  </tbody>\n",
       "</table>\n",
       "<p>596 rows × 4 columns</p>\n",
       "</div>"
      ],
      "text/plain": [
       "           cc_num              name  total_transactions  fraud_transactions\n",
       "0    6.041621e+10         Mary Diaz                1242                   9\n",
       "1    6.042293e+10    Jeffrey Powers                1261                  12\n",
       "2    6.042310e+10        Jason Gray                 423                  10\n",
       "3    6.042785e+10  Bradley Martinez                 432                  14\n",
       "4    6.049060e+10     Karen Johnson                 827                  10\n",
       "..            ...               ...                 ...                 ...\n",
       "591  4.906630e+18    Charles Moreno                2103                  11\n",
       "592  4.911820e+18     Jeremy Chavez                   9                   9\n",
       "593  4.956830e+18  Kenneth Robinson                2090                  10\n",
       "594  4.973530e+18    Mary Rodriguez                 860                  10\n",
       "595  4.992350e+18      Benjamin Kim                1689                   8\n",
       "\n",
       "[596 rows x 4 columns]"
      ]
     },
     "execution_count": 4,
     "metadata": {},
     "output_type": "execute_result"
    }
   ],
   "source": [
    "df = fraudTrain[fraudTrain.is_fraud == 1]\n",
    "fraud1_cc_num = df['cc_num'].unique()\n",
    "df_fraud = fraudTrain[fraudTrain['cc_num'].isin(fraud1_cc_num)].reset_index()\n",
    "df_group = df_fraud.groupby(\"cc_num\")[\"is_fraud\"].agg(['count', 'sum']).reset_index()\n",
    "df_group.columns = ['cc_num', 'total_transactions', 'fraud_transactions']\n",
    "first = df_fraud.groupby('cc_num')['first'].first().reset_index() \n",
    "last = df_fraud.groupby('cc_num')['last'].first().reset_index()\n",
    "name = first['first'] + ' ' + last['last']\n",
    "df_group['name'] = name\n",
    "df_group.insert(1, 'name', df_group.pop('name'))\n",
    "df_group"
   ]
  },
  {
   "cell_type": "code",
   "execution_count": 5,
   "id": "ece076b4-8c53-49bd-8508-0cafe1d7b8b3",
   "metadata": {},
   "outputs": [],
   "source": [
    "df_group.to_csv('df_group_ccnum', index=False)"
   ]
  },
  {
   "cell_type": "code",
   "execution_count": 6,
   "id": "eb8e6467-b006-416c-9fbe-2b17bd122dba",
   "metadata": {},
   "outputs": [
    {
     "data": {
      "text/plain": [
       "0.009219716623428457"
      ]
     },
     "execution_count": 6,
     "metadata": {},
     "output_type": "execute_result"
    }
   ],
   "source": [
    "df_fraud.is_fraud.mean()"
   ]
  },
  {
   "cell_type": "code",
   "execution_count": 7,
   "id": "cb19d2b8-0b8e-45e1-ab2a-6031539ef006",
   "metadata": {},
   "outputs": [
    {
     "data": {
      "text/plain": [
       "6006"
      ]
     },
     "execution_count": 7,
     "metadata": {},
     "output_type": "execute_result"
    }
   ],
   "source": [
    "df_group['fraud_transactions'].sum()"
   ]
  },
  {
   "cell_type": "markdown",
   "id": "784b3d84-10dc-4982-968f-5aaf049c875f",
   "metadata": {},
   "source": [
    "---"
   ]
  },
  {
   "cell_type": "code",
   "execution_count": 8,
   "id": "fa67da75-2122-420b-a37a-c3e9dec755ec",
   "metadata": {},
   "outputs": [],
   "source": [
    "groups = df_fraud.groupby('cc_num')"
   ]
  },
  {
   "cell_type": "code",
   "execution_count": null,
   "id": "7b81025e-384f-444b-ad54-75f5b0231388",
   "metadata": {},
   "outputs": [],
   "source": [
    "# edge_index_list_plus = [compute_time_difference(group) for _, group in groups]\n",
    "# edge_index_list_plus_flat = [item for sublist in edge_index_list_plus for item in sublist]\n",
    "# edge_index_list_plus_nparr = np.array(edge_index_list_plus_flat)\n",
    "# np.save('edge_index_cc_num.npy', edge_index_list_plus_nparr)\n",
    "\n",
    "# edge_index_list_plus_nparr"
   ]
  },
  {
   "cell_type": "code",
   "execution_count": 11,
   "id": "35d8fc00-a5fa-4ea4-8747-09c82d19d9d4",
   "metadata": {},
   "outputs": [
    {
     "ename": "ModuleNotFoundError",
     "evalue": "No module named 'graph_tool'",
     "output_type": "error",
     "traceback": [
      "\u001b[0;31m---------------------------------------------------------------------------\u001b[0m",
      "\u001b[0;31mModuleNotFoundError\u001b[0m                       Traceback (most recent call last)",
      "Cell \u001b[0;32mIn[11], line 1\u001b[0m\n\u001b[0;32m----> 1\u001b[0m \u001b[38;5;28;01mimport\u001b[39;00m \u001b[38;5;21;01mgraft\u001b[39;00m\n",
      "File \u001b[0;32m~/Dropbox/GNNpaper/posts/학회이전/graft/__init__.py:1\u001b[0m\n\u001b[0;32m----> 1\u001b[0m \u001b[38;5;28;01mfrom\u001b[39;00m \u001b[38;5;21;01m.\u001b[39;00m \u001b[38;5;28;01mimport\u001b[39;00m graph\n",
      "File \u001b[0;32m~/Dropbox/GNNpaper/posts/학회이전/graft/graph.py:1\u001b[0m\n\u001b[0;32m----> 1\u001b[0m \u001b[38;5;28;01mfrom\u001b[39;00m \u001b[38;5;21;01m.\u001b[39;00m\u001b[38;5;21;01mgraph_extract\u001b[39;00m \u001b[38;5;28;01mimport\u001b[39;00m \u001b[38;5;241m*\u001b[39m \n\u001b[1;32m      2\u001b[0m \u001b[38;5;28;01mfrom\u001b[39;00m \u001b[38;5;21;01m.\u001b[39;00m\u001b[38;5;21;01mgraph_nodes\u001b[39;00m \u001b[38;5;28;01mimport\u001b[39;00m \u001b[38;5;241m*\u001b[39m \n\u001b[1;32m      3\u001b[0m \u001b[38;5;28;01mfrom\u001b[39;00m \u001b[38;5;21;01m.\u001b[39;00m\u001b[38;5;21;01mgraph_links\u001b[39;00m \u001b[38;5;28;01mimport\u001b[39;00m \u001b[38;5;241m*\u001b[39m \n",
      "File \u001b[0;32m~/Dropbox/GNNpaper/posts/학회이전/graft/graph_extract.py:1\u001b[0m\n\u001b[0;32m----> 1\u001b[0m \u001b[38;5;28;01mimport\u001b[39;00m \u001b[38;5;21;01mgraph_tool\u001b[39;00m\u001b[38;5;21;01m.\u001b[39;00m\u001b[38;5;21;01mall\u001b[39;00m \u001b[38;5;28;01mas\u001b[39;00m \u001b[38;5;21;01mgt\u001b[39;00m\n\u001b[1;32m      2\u001b[0m \u001b[38;5;28;01mimport\u001b[39;00m \u001b[38;5;21;01mnumpy\u001b[39;00m \u001b[38;5;28;01mas\u001b[39;00m \u001b[38;5;21;01mnp\u001b[39;00m\n\u001b[1;32m      3\u001b[0m \u001b[38;5;28;01mimport\u001b[39;00m \u001b[38;5;21;01mmatplotlib\u001b[39;00m\u001b[38;5;21;01m.\u001b[39;00m\u001b[38;5;21;01mpyplot\u001b[39;00m \u001b[38;5;28;01mas\u001b[39;00m \u001b[38;5;21;01mplt\u001b[39;00m\n",
      "\u001b[0;31mModuleNotFoundError\u001b[0m: No module named 'graph_tool'"
     ]
    }
   ],
   "source": [
    "import graft"
   ]
  },
  {
   "cell_type": "code",
   "execution_count": 9,
   "id": "a21faadf-92af-4bf6-820a-bde422d00c4c",
   "metadata": {},
   "outputs": [],
   "source": [
    "import numpy as np\n",
    "import torch_geometric\n",
    "#import graft\n",
    "\n",
    "def visualize_graph(df_fraud, c_sample=4.503100e+18, compute_time_difference=None, theta_multiplier=9, dr_opts=None):\n",
    "    # cc_num에 해당하는 데이터 선택\n",
    "    groups = df_fraud[df_fraud['cc_num'] == c_sample]\n",
    "\n",
    "    # 시간 차이 계산\n",
    "    edge_index = compute_time_difference(groups)\n",
    "    edge_index = np.array(edge_index).astype(np.float64)\n",
    "    edge_index = np.array(edge_index)[np.array(edge_index)[:, 0] != np.array(edge_index)[:, 1]]\n",
    "\n",
    "    # Theta 계산\n",
    "    theta = edge_index[:, 2].mean()\n",
    "\n",
    "    # 가중치 설정\n",
    "    edge_index[:, 2] = (np.exp(-edge_index[:, 2] / theta * theta_multiplier) != 1) * (np.exp(-edge_index[:, 2] / theta * theta_multiplier))\n",
    "\n",
    "    edge_index = edge_index.tolist()\n",
    "\n",
    "    # 인덱스 선택 및 사기 여부 추출\n",
    "    selected_indices = df_fraud[df_fraud['cc_num'] == c_sample].index\n",
    "    is_fraud_values = df_fraud.loc[selected_indices, 'is_fraud'].tolist()\n",
    "\n",
    "    # 그래프 데이터 생성\n",
    "    g = torch_geometric.data.Data(\n",
    "        edge_index=np.array(edge_index)[:, :2],\n",
    "        edge_attr=np.array(edge_index)[:, -1],\n",
    "        x=df_fraud.loc[selected_indices, 'amt'].tolist(),\n",
    "        y=is_fraud_values\n",
    "    )\n",
    "\n",
    "    # 노드의 고유값 추출\n",
    "    unique_nodes = set(g.edge_index.reshape(-1).tolist())\n",
    "    dict_map = {n: i for i, n in enumerate(unique_nodes)}\n",
    "\n",
    "    # 인덱스 변환\n",
    "    source, target = np.array(edge_index)[:, 0], np.array(edge_index)[:, 1]\n",
    "    edge_index_selected = torch.tensor([[dict_map[s] for s in source.tolist()], [dict_map[t] for t in target.tolist()]])\n",
    "\n",
    "    # 그래프 데이터 업데이트\n",
    "    g = torch_geometric.data.Data(\n",
    "        edge_index=edge_index_selected,\n",
    "        edge_attr=np.array(edge_index)[:, -1],\n",
    "        x=df_fraud.loc[selected_indices, 'amt'].tolist(),\n",
    "        y=is_fraud_values\n",
    "    )\n",
    "\n",
    "    # 그래프 시각화\n",
    "    if dr_opts is None:\n",
    "        dr_opts = {'output_size': (150, 150), 'edge_marker_size': 1}\n",
    "\n",
    "    graft.graph.plot_undirected_weighted(\n",
    "        g,\n",
    "        node_color=g.y,\n",
    "        node_size=g.x,\n",
    "        edge_weight_text=False,\n",
    "        edge_weight_width_scale=3.0,\n",
    "        draw_options=dr_opts,\n",
    "    )\n",
    "\n",
    "# 함수 호출 예시\n",
    "#visualize_graph(df_fraud, c_sample=4503100000000000000, compute_time_difference=compute_time_difference, dr_opts=dr_opts)\n"
   ]
  },
  {
   "cell_type": "code",
   "execution_count": null,
   "id": "7d585a1f-23b8-4624-9bb4-dcefa7e76265",
   "metadata": {},
   "outputs": [],
   "source": []
  },
  {
   "cell_type": "code",
   "execution_count": null,
   "id": "004ab2a3-31b3-4dbf-899b-2760791a169c",
   "metadata": {},
   "outputs": [],
   "source": []
  },
  {
   "cell_type": "code",
   "execution_count": null,
   "id": "a292f01f-d880-43a5-9e40-935236ae7175",
   "metadata": {},
   "outputs": [],
   "source": [
    "c_sample = 4.503100e+18"
   ]
  },
  {
   "cell_type": "code",
   "execution_count": null,
   "id": "d51c9e89-c5ff-4ea4-b4cb-da236566719b",
   "metadata": {},
   "outputs": [],
   "source": []
  },
  {
   "cell_type": "code",
   "execution_count": null,
   "id": "0782769d-f2aa-4469-be87-06f3b4458751",
   "metadata": {},
   "outputs": [],
   "source": [
    "groups = df_fraud[df_fraud['cc_num'] == c_sample]\n",
    "\n",
    "edge_index = compute_time_difference(groups)\n",
    "edge_index = (np.array(edge_index)).astype(np.float64)\n",
    "edge_index = np.array(edge_index)[np.array(edge_index)[:,0] != np.array(edge_index)[:,1]]\n",
    "theta = edge_index[:,2].mean()\n",
    "edge_index[:,2] = (np.exp(-edge_index[:,2]/theta*9)!= 1)*(np.exp(-edge_index[:,2]/theta*9))\n",
    "edge_index = edge_index.tolist()\n",
    "selected_indices1 = df_fraud[df_fraud['cc_num'] ==  c_sample].index\n",
    "is_fraud_values1 = df_fraud.loc[selected_indices1, 'is_fraud'].tolist()\n",
    "g = torch_geometric.data.Data(\n",
    "    edge_index = np.array(edge_index)[:,:2],\n",
    "    edge_attr = np.array(edge_index)[:,-1],  # weight\n",
    "    x = df_fraud.loc[selected_indices1, 'amt'].tolist(),\n",
    "    y = df_fraud.loc[selected_indices1, 'is_fraud'].tolist()\n",
    ")\n",
    "\n",
    "\n",
    "\n",
    "unique_nodes = set(g.edge_index.reshape(-1).tolist())\n",
    "dict_map = {n:i for i,n in enumerate(unique_nodes)}\n",
    "source, target = np.array(edge_index)[:,0], np.array(edge_index)[:,1]\n",
    "edge_index_selected2 = torch.tensor([[dict_map[s] for s in source.tolist()],[dict_map[t] for t in target.tolist()]])\n",
    "\n",
    "g = torch_geometric.data.Data(\n",
    "    edge_index = edge_index_selected2,\n",
    "    edge_attr = np.array(edge_index)[:,-1],\n",
    "    x = df_fraud.loc[selected_indices1, 'amt'].tolist(),\n",
    "    y = df_fraud.loc[selected_indices1, 'is_fraud'].tolist()\n",
    ")\n",
    "\n",
    "dr_opts = { \n",
    "    'output_size': (150,150),\n",
    "    'edge_marker_size': 1,\n",
    "  #'output':\"ten-nodes.pdf\",\n",
    "}\n",
    "graft.graph.plot_undirected_weighted(\n",
    "    g,\n",
    "    node_color=g.y,\n",
    "    node_size=g.x,\n",
    "    edge_weight_text=False,\n",
    "    edge_weight_width_scale=3.0,\n",
    "    draw_options= dr_opts,\n",
    ")\n",
    "\n",
    "\n"
   ]
  }
 ],
 "metadata": {
  "kernelspec": {
   "display_name": "Python 3 (ipykernel)",
   "language": "python",
   "name": "python3"
  },
  "language_info": {
   "codemirror_mode": {
    "name": "ipython",
    "version": 3
   },
   "file_extension": ".py",
   "mimetype": "text/x-python",
   "name": "python",
   "nbconvert_exporter": "python",
   "pygments_lexer": "ipython3",
   "version": "3.8.18"
  }
 },
 "nbformat": 4,
 "nbformat_minor": 5
}
