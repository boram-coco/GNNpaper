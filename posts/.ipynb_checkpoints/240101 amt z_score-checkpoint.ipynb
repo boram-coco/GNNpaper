{
 "cells": [
  {
   "cell_type": "raw",
   "id": "ead89876-ba70-480c-9ed6-8c8863b7c978",
   "metadata": {},
   "source": [
    "---\n",
    "title: \"데이터수(1852384): amt_z_score\"\n",
    "author: \"김보람\"\n",
    "date: \"01/01/2024\"\n",
    "---"
   ]
  },
  {
   "cell_type": "markdown",
   "id": "96bfdec3-5b07-45b5-9b38-2e8813117310",
   "metadata": {},
   "source": [
    "# imports"
   ]
  },
  {
   "cell_type": "markdown",
   "id": "3295c6e6-4b89-43cd-b163-f786c581a132",
   "metadata": {},
   "source": [
    "---"
   ]
  },
  {
   "cell_type": "code",
   "execution_count": 31,
   "id": "0ace6870-8685-4d2a-956b-38fe8dcc3513",
   "metadata": {},
   "outputs": [],
   "source": [
    "import numpy as np\n",
    "import pandas as pd\n",
    "import matplotlib.pyplot as plt \n",
    "import networkx as nx\n",
    "import sklearn\n",
    "import xgboost as xgb\n",
    "\n",
    "# sklearn\n",
    "from sklearn import model_selection # split함수이용\n",
    "from sklearn import ensemble # RF,GBM\n",
    "from sklearn import metrics\n",
    "from sklearn.metrics import precision_score, recall_score, f1_score, roc_curve, auc\n",
    "from sklearn.svm import SVC\n",
    "from sklearn.ensemble import RandomForestClassifier\n",
    "from sklearn.naive_bayes import GaussianNB\n",
    "\n",
    "# gnn\n",
    "import torch\n",
    "import torch.nn.functional as F\n",
    "import torch_geometric\n",
    "from torch_geometric.nn import GCNConv\n",
    "\n"
   ]
  },
  {
   "cell_type": "code",
   "execution_count": 32,
   "id": "4a24f561-ab23-4968-93a3-8f0ab6ac9799",
   "metadata": {},
   "outputs": [],
   "source": [
    "def down_sample_textbook(df):\n",
    "    df_majority = df[df.is_fraud==0].copy()\n",
    "    df_minority = df[df.is_fraud==1].copy()\n",
    "    df_maj_dowsampled = sklearn.utils.resample(df_majority, n_samples=len(df_minority), replace=False, random_state=42)\n",
    "    df_downsampled = pd.concat([df_minority, df_maj_dowsampled])\n",
    "    return df_downsampled\n",
    "\n",
    "def compute_time_difference(group):\n",
    "    n = len(group)\n",
    "    result = []\n",
    "    for i in range(n):\n",
    "        for j in range(n):\n",
    "            time_difference = abs(group.iloc[i].trans_date_trans_time.value - group.iloc[j].trans_date_trans_time.value)\n",
    "            result.append([group.iloc[i].name, group.iloc[j].name, time_difference])\n",
    "    return result\n",
    "\n",
    "def mask(df):\n",
    "    df_tr,df_test = sklearn.model_selection.train_test_split(df, random_state=42)\n",
    "    N = len(df)\n",
    "    train_mask = [i in df_tr.index for i in range(N)]\n",
    "    test_mask = [i in df_test.index for i in range(N)]\n",
    "    train_mask = np.array(train_mask)\n",
    "    test_mask = np.array(test_mask)\n",
    "    return train_mask, test_mask\n",
    "\n",
    "def edge_index_selected(edge_index):\n",
    "    theta = edge_index[:,2].mean()\n",
    "    edge_index[:,2] = (np.exp(-edge_index[:,2]/theta) != 1)*(np.exp(-edge_index[:,2]/theta))\n",
    "    edge_index = edge_index.tolist()\n",
    "    mean_ = np.array(edge_index)[:,2].mean()\n",
    "    selected_edges = [(int(row[0]), int(row[1])) for row in edge_index if row[2] > mean_]\n",
    "    edge_index_selected = torch.tensor(selected_edges, dtype=torch.long).t()\n",
    "    return edge_index_selected\n",
    "\n",
    "\n"
   ]
  },
  {
   "cell_type": "code",
   "execution_count": 5,
   "id": "d3de113d-74e5-40e7-897b-12eecfed219b",
   "metadata": {},
   "outputs": [],
   "source": [
    "file_url = 'https://media.githubusercontent.com/media/musthave-ML10/data_source/main/fraud.csv'\n",
    "fraudTrain = pd.read_csv(file_url)\n"
   ]
  },
  {
   "cell_type": "code",
   "execution_count": 6,
   "id": "e781741b-09c6-45a6-af07-5b163b9d1bcb",
   "metadata": {},
   "outputs": [],
   "source": [
    "# fraudTrain = pd.read_csv(\"~/Desktop/fraudTrain.csv\").iloc[:,1:]"
   ]
  },
  {
   "cell_type": "code",
   "execution_count": 7,
   "id": "9fe75eb9-ebb7-41c2-bf0f-c580b6441dd8",
   "metadata": {},
   "outputs": [
    {
     "data": {
      "text/html": [
       "<div>\n",
       "<style scoped>\n",
       "    .dataframe tbody tr th:only-of-type {\n",
       "        vertical-align: middle;\n",
       "    }\n",
       "\n",
       "    .dataframe tbody tr th {\n",
       "        vertical-align: top;\n",
       "    }\n",
       "\n",
       "    .dataframe thead th {\n",
       "        text-align: right;\n",
       "    }\n",
       "</style>\n",
       "<table border=\"1\" class=\"dataframe\">\n",
       "  <thead>\n",
       "    <tr style=\"text-align: right;\">\n",
       "      <th></th>\n",
       "      <th>trans_date_trans_time</th>\n",
       "      <th>cc_num</th>\n",
       "      <th>merchant</th>\n",
       "      <th>category</th>\n",
       "      <th>amt</th>\n",
       "      <th>first</th>\n",
       "      <th>last</th>\n",
       "      <th>gender</th>\n",
       "      <th>street</th>\n",
       "      <th>city</th>\n",
       "      <th>...</th>\n",
       "      <th>lat</th>\n",
       "      <th>long</th>\n",
       "      <th>city_pop</th>\n",
       "      <th>job</th>\n",
       "      <th>dob</th>\n",
       "      <th>trans_num</th>\n",
       "      <th>unix_time</th>\n",
       "      <th>merch_lat</th>\n",
       "      <th>merch_long</th>\n",
       "      <th>is_fraud</th>\n",
       "    </tr>\n",
       "  </thead>\n",
       "  <tbody>\n",
       "    <tr>\n",
       "      <th>0</th>\n",
       "      <td>2019-01-01 00:00:18</td>\n",
       "      <td>2703186189652095</td>\n",
       "      <td>fraud_Rippin, Kub and Mann</td>\n",
       "      <td>misc_net</td>\n",
       "      <td>4.97</td>\n",
       "      <td>Jennifer</td>\n",
       "      <td>Banks</td>\n",
       "      <td>F</td>\n",
       "      <td>561 Perry Cove</td>\n",
       "      <td>Moravian Falls</td>\n",
       "      <td>...</td>\n",
       "      <td>36.0788</td>\n",
       "      <td>-81.1781</td>\n",
       "      <td>3495</td>\n",
       "      <td>Psychologist, counselling</td>\n",
       "      <td>1988-03-09</td>\n",
       "      <td>0b242abb623afc578575680df30655b9</td>\n",
       "      <td>1325376018</td>\n",
       "      <td>36.011293</td>\n",
       "      <td>-82.048315</td>\n",
       "      <td>0</td>\n",
       "    </tr>\n",
       "    <tr>\n",
       "      <th>1</th>\n",
       "      <td>2019-01-01 00:00:44</td>\n",
       "      <td>630423337322</td>\n",
       "      <td>fraud_Heller, Gutmann and Zieme</td>\n",
       "      <td>grocery_pos</td>\n",
       "      <td>107.23</td>\n",
       "      <td>Stephanie</td>\n",
       "      <td>Gill</td>\n",
       "      <td>F</td>\n",
       "      <td>43039 Riley Greens Suite 393</td>\n",
       "      <td>Orient</td>\n",
       "      <td>...</td>\n",
       "      <td>48.8878</td>\n",
       "      <td>-118.2105</td>\n",
       "      <td>149</td>\n",
       "      <td>Special educational needs teacher</td>\n",
       "      <td>1978-06-21</td>\n",
       "      <td>1f76529f8574734946361c461b024d99</td>\n",
       "      <td>1325376044</td>\n",
       "      <td>49.159047</td>\n",
       "      <td>-118.186462</td>\n",
       "      <td>0</td>\n",
       "    </tr>\n",
       "    <tr>\n",
       "      <th>2</th>\n",
       "      <td>2019-01-01 00:00:51</td>\n",
       "      <td>38859492057661</td>\n",
       "      <td>fraud_Lind-Buckridge</td>\n",
       "      <td>entertainment</td>\n",
       "      <td>220.11</td>\n",
       "      <td>Edward</td>\n",
       "      <td>Sanchez</td>\n",
       "      <td>M</td>\n",
       "      <td>594 White Dale Suite 530</td>\n",
       "      <td>Malad City</td>\n",
       "      <td>...</td>\n",
       "      <td>42.1808</td>\n",
       "      <td>-112.2620</td>\n",
       "      <td>4154</td>\n",
       "      <td>Nature conservation officer</td>\n",
       "      <td>1962-01-19</td>\n",
       "      <td>a1a22d70485983eac12b5b88dad1cf95</td>\n",
       "      <td>1325376051</td>\n",
       "      <td>43.150704</td>\n",
       "      <td>-112.154481</td>\n",
       "      <td>0</td>\n",
       "    </tr>\n",
       "    <tr>\n",
       "      <th>3</th>\n",
       "      <td>2019-01-01 00:01:16</td>\n",
       "      <td>3534093764340240</td>\n",
       "      <td>fraud_Kutch, Hermiston and Farrell</td>\n",
       "      <td>gas_transport</td>\n",
       "      <td>45.00</td>\n",
       "      <td>Jeremy</td>\n",
       "      <td>White</td>\n",
       "      <td>M</td>\n",
       "      <td>9443 Cynthia Court Apt. 038</td>\n",
       "      <td>Boulder</td>\n",
       "      <td>...</td>\n",
       "      <td>46.2306</td>\n",
       "      <td>-112.1138</td>\n",
       "      <td>1939</td>\n",
       "      <td>Patent attorney</td>\n",
       "      <td>1967-01-12</td>\n",
       "      <td>6b849c168bdad6f867558c3793159a81</td>\n",
       "      <td>1325376076</td>\n",
       "      <td>47.034331</td>\n",
       "      <td>-112.561071</td>\n",
       "      <td>0</td>\n",
       "    </tr>\n",
       "    <tr>\n",
       "      <th>4</th>\n",
       "      <td>2019-01-01 00:03:06</td>\n",
       "      <td>375534208663984</td>\n",
       "      <td>fraud_Keeling-Crist</td>\n",
       "      <td>misc_pos</td>\n",
       "      <td>41.96</td>\n",
       "      <td>Tyler</td>\n",
       "      <td>Garcia</td>\n",
       "      <td>M</td>\n",
       "      <td>408 Bradley Rest</td>\n",
       "      <td>Doe Hill</td>\n",
       "      <td>...</td>\n",
       "      <td>38.4207</td>\n",
       "      <td>-79.4629</td>\n",
       "      <td>99</td>\n",
       "      <td>Dance movement psychotherapist</td>\n",
       "      <td>1986-03-28</td>\n",
       "      <td>a41d7549acf90789359a9aa5346dcb46</td>\n",
       "      <td>1325376186</td>\n",
       "      <td>38.674999</td>\n",
       "      <td>-78.632459</td>\n",
       "      <td>0</td>\n",
       "    </tr>\n",
       "    <tr>\n",
       "      <th>...</th>\n",
       "      <td>...</td>\n",
       "      <td>...</td>\n",
       "      <td>...</td>\n",
       "      <td>...</td>\n",
       "      <td>...</td>\n",
       "      <td>...</td>\n",
       "      <td>...</td>\n",
       "      <td>...</td>\n",
       "      <td>...</td>\n",
       "      <td>...</td>\n",
       "      <td>...</td>\n",
       "      <td>...</td>\n",
       "      <td>...</td>\n",
       "      <td>...</td>\n",
       "      <td>...</td>\n",
       "      <td>...</td>\n",
       "      <td>...</td>\n",
       "      <td>...</td>\n",
       "      <td>...</td>\n",
       "      <td>...</td>\n",
       "      <td>...</td>\n",
       "    </tr>\n",
       "    <tr>\n",
       "      <th>1852389</th>\n",
       "      <td>2020-12-31 23:59:07</td>\n",
       "      <td>30560609640617</td>\n",
       "      <td>fraud_Reilly and Sons</td>\n",
       "      <td>health_fitness</td>\n",
       "      <td>43.77</td>\n",
       "      <td>Michael</td>\n",
       "      <td>Olson</td>\n",
       "      <td>M</td>\n",
       "      <td>558 Michael Estates</td>\n",
       "      <td>Luray</td>\n",
       "      <td>...</td>\n",
       "      <td>40.4931</td>\n",
       "      <td>-91.8912</td>\n",
       "      <td>519</td>\n",
       "      <td>Town planner</td>\n",
       "      <td>1966-02-13</td>\n",
       "      <td>9b1f753c79894c9f4b71f04581835ada</td>\n",
       "      <td>1388534347</td>\n",
       "      <td>39.946837</td>\n",
       "      <td>-91.333331</td>\n",
       "      <td>0</td>\n",
       "    </tr>\n",
       "    <tr>\n",
       "      <th>1852390</th>\n",
       "      <td>2020-12-31 23:59:09</td>\n",
       "      <td>3556613125071656</td>\n",
       "      <td>fraud_Hoppe-Parisian</td>\n",
       "      <td>kids_pets</td>\n",
       "      <td>111.84</td>\n",
       "      <td>Jose</td>\n",
       "      <td>Vasquez</td>\n",
       "      <td>M</td>\n",
       "      <td>572 Davis Mountains</td>\n",
       "      <td>Lake Jackson</td>\n",
       "      <td>...</td>\n",
       "      <td>29.0393</td>\n",
       "      <td>-95.4401</td>\n",
       "      <td>28739</td>\n",
       "      <td>Futures trader</td>\n",
       "      <td>1999-12-27</td>\n",
       "      <td>2090647dac2c89a1d86c514c427f5b91</td>\n",
       "      <td>1388534349</td>\n",
       "      <td>29.661049</td>\n",
       "      <td>-96.186633</td>\n",
       "      <td>0</td>\n",
       "    </tr>\n",
       "    <tr>\n",
       "      <th>1852391</th>\n",
       "      <td>2020-12-31 23:59:15</td>\n",
       "      <td>6011724471098086</td>\n",
       "      <td>fraud_Rau-Robel</td>\n",
       "      <td>kids_pets</td>\n",
       "      <td>86.88</td>\n",
       "      <td>Ann</td>\n",
       "      <td>Lawson</td>\n",
       "      <td>F</td>\n",
       "      <td>144 Evans Islands Apt. 683</td>\n",
       "      <td>Burbank</td>\n",
       "      <td>...</td>\n",
       "      <td>46.1966</td>\n",
       "      <td>-118.9017</td>\n",
       "      <td>3684</td>\n",
       "      <td>Musician</td>\n",
       "      <td>1981-11-29</td>\n",
       "      <td>6c5b7c8add471975aa0fec023b2e8408</td>\n",
       "      <td>1388534355</td>\n",
       "      <td>46.658340</td>\n",
       "      <td>-119.715054</td>\n",
       "      <td>0</td>\n",
       "    </tr>\n",
       "    <tr>\n",
       "      <th>1852392</th>\n",
       "      <td>2020-12-31 23:59:24</td>\n",
       "      <td>4079773899158</td>\n",
       "      <td>fraud_Breitenberg LLC</td>\n",
       "      <td>travel</td>\n",
       "      <td>7.99</td>\n",
       "      <td>Eric</td>\n",
       "      <td>Preston</td>\n",
       "      <td>M</td>\n",
       "      <td>7020 Doyle Stream Apt. 951</td>\n",
       "      <td>Mesa</td>\n",
       "      <td>...</td>\n",
       "      <td>44.6255</td>\n",
       "      <td>-116.4493</td>\n",
       "      <td>129</td>\n",
       "      <td>Cartographer</td>\n",
       "      <td>1965-12-15</td>\n",
       "      <td>14392d723bb7737606b2700ac791b7aa</td>\n",
       "      <td>1388534364</td>\n",
       "      <td>44.470525</td>\n",
       "      <td>-117.080888</td>\n",
       "      <td>0</td>\n",
       "    </tr>\n",
       "    <tr>\n",
       "      <th>1852393</th>\n",
       "      <td>2020-12-31 23:59:34</td>\n",
       "      <td>4170689372027579</td>\n",
       "      <td>fraud_Dare-Marvin</td>\n",
       "      <td>entertainment</td>\n",
       "      <td>38.13</td>\n",
       "      <td>Samuel</td>\n",
       "      <td>Frey</td>\n",
       "      <td>M</td>\n",
       "      <td>830 Myers Plaza Apt. 384</td>\n",
       "      <td>Edmond</td>\n",
       "      <td>...</td>\n",
       "      <td>35.6665</td>\n",
       "      <td>-97.4798</td>\n",
       "      <td>116001</td>\n",
       "      <td>Media buyer</td>\n",
       "      <td>1993-05-10</td>\n",
       "      <td>1765bb45b3aa3224b4cdcb6e7a96cee3</td>\n",
       "      <td>1388534374</td>\n",
       "      <td>36.210097</td>\n",
       "      <td>-97.036372</td>\n",
       "      <td>0</td>\n",
       "    </tr>\n",
       "  </tbody>\n",
       "</table>\n",
       "<p>1852394 rows × 22 columns</p>\n",
       "</div>"
      ],
      "text/plain": [
       "        trans_date_trans_time            cc_num  \\\n",
       "0         2019-01-01 00:00:18  2703186189652095   \n",
       "1         2019-01-01 00:00:44      630423337322   \n",
       "2         2019-01-01 00:00:51    38859492057661   \n",
       "3         2019-01-01 00:01:16  3534093764340240   \n",
       "4         2019-01-01 00:03:06   375534208663984   \n",
       "...                       ...               ...   \n",
       "1852389   2020-12-31 23:59:07    30560609640617   \n",
       "1852390   2020-12-31 23:59:09  3556613125071656   \n",
       "1852391   2020-12-31 23:59:15  6011724471098086   \n",
       "1852392   2020-12-31 23:59:24     4079773899158   \n",
       "1852393   2020-12-31 23:59:34  4170689372027579   \n",
       "\n",
       "                                   merchant        category     amt  \\\n",
       "0                fraud_Rippin, Kub and Mann        misc_net    4.97   \n",
       "1           fraud_Heller, Gutmann and Zieme     grocery_pos  107.23   \n",
       "2                      fraud_Lind-Buckridge   entertainment  220.11   \n",
       "3        fraud_Kutch, Hermiston and Farrell   gas_transport   45.00   \n",
       "4                       fraud_Keeling-Crist        misc_pos   41.96   \n",
       "...                                     ...             ...     ...   \n",
       "1852389               fraud_Reilly and Sons  health_fitness   43.77   \n",
       "1852390                fraud_Hoppe-Parisian       kids_pets  111.84   \n",
       "1852391                     fraud_Rau-Robel       kids_pets   86.88   \n",
       "1852392               fraud_Breitenberg LLC          travel    7.99   \n",
       "1852393                   fraud_Dare-Marvin   entertainment   38.13   \n",
       "\n",
       "             first     last gender                        street  \\\n",
       "0         Jennifer    Banks      F                561 Perry Cove   \n",
       "1        Stephanie     Gill      F  43039 Riley Greens Suite 393   \n",
       "2           Edward  Sanchez      M      594 White Dale Suite 530   \n",
       "3           Jeremy    White      M   9443 Cynthia Court Apt. 038   \n",
       "4            Tyler   Garcia      M              408 Bradley Rest   \n",
       "...            ...      ...    ...                           ...   \n",
       "1852389    Michael    Olson      M           558 Michael Estates   \n",
       "1852390       Jose  Vasquez      M           572 Davis Mountains   \n",
       "1852391        Ann   Lawson      F    144 Evans Islands Apt. 683   \n",
       "1852392       Eric  Preston      M    7020 Doyle Stream Apt. 951   \n",
       "1852393     Samuel     Frey      M      830 Myers Plaza Apt. 384   \n",
       "\n",
       "                   city  ...      lat      long  city_pop  \\\n",
       "0        Moravian Falls  ...  36.0788  -81.1781      3495   \n",
       "1                Orient  ...  48.8878 -118.2105       149   \n",
       "2            Malad City  ...  42.1808 -112.2620      4154   \n",
       "3               Boulder  ...  46.2306 -112.1138      1939   \n",
       "4              Doe Hill  ...  38.4207  -79.4629        99   \n",
       "...                 ...  ...      ...       ...       ...   \n",
       "1852389           Luray  ...  40.4931  -91.8912       519   \n",
       "1852390    Lake Jackson  ...  29.0393  -95.4401     28739   \n",
       "1852391         Burbank  ...  46.1966 -118.9017      3684   \n",
       "1852392            Mesa  ...  44.6255 -116.4493       129   \n",
       "1852393          Edmond  ...  35.6665  -97.4798    116001   \n",
       "\n",
       "                                       job         dob  \\\n",
       "0                Psychologist, counselling  1988-03-09   \n",
       "1        Special educational needs teacher  1978-06-21   \n",
       "2              Nature conservation officer  1962-01-19   \n",
       "3                          Patent attorney  1967-01-12   \n",
       "4           Dance movement psychotherapist  1986-03-28   \n",
       "...                                    ...         ...   \n",
       "1852389                       Town planner  1966-02-13   \n",
       "1852390                     Futures trader  1999-12-27   \n",
       "1852391                           Musician  1981-11-29   \n",
       "1852392                       Cartographer  1965-12-15   \n",
       "1852393                        Media buyer  1993-05-10   \n",
       "\n",
       "                                trans_num   unix_time  merch_lat  merch_long  \\\n",
       "0        0b242abb623afc578575680df30655b9  1325376018  36.011293  -82.048315   \n",
       "1        1f76529f8574734946361c461b024d99  1325376044  49.159047 -118.186462   \n",
       "2        a1a22d70485983eac12b5b88dad1cf95  1325376051  43.150704 -112.154481   \n",
       "3        6b849c168bdad6f867558c3793159a81  1325376076  47.034331 -112.561071   \n",
       "4        a41d7549acf90789359a9aa5346dcb46  1325376186  38.674999  -78.632459   \n",
       "...                                   ...         ...        ...         ...   \n",
       "1852389  9b1f753c79894c9f4b71f04581835ada  1388534347  39.946837  -91.333331   \n",
       "1852390  2090647dac2c89a1d86c514c427f5b91  1388534349  29.661049  -96.186633   \n",
       "1852391  6c5b7c8add471975aa0fec023b2e8408  1388534355  46.658340 -119.715054   \n",
       "1852392  14392d723bb7737606b2700ac791b7aa  1388534364  44.470525 -117.080888   \n",
       "1852393  1765bb45b3aa3224b4cdcb6e7a96cee3  1388534374  36.210097  -97.036372   \n",
       "\n",
       "         is_fraud  \n",
       "0               0  \n",
       "1               0  \n",
       "2               0  \n",
       "3               0  \n",
       "4               0  \n",
       "...           ...  \n",
       "1852389         0  \n",
       "1852390         0  \n",
       "1852391         0  \n",
       "1852392         0  \n",
       "1852393         0  \n",
       "\n",
       "[1852394 rows x 22 columns]"
      ]
     },
     "execution_count": 7,
     "metadata": {},
     "output_type": "execute_result"
    }
   ],
   "source": [
    "fraudTrain = fraudTrain.assign(trans_date_trans_time= list(map(lambda x: pd.to_datetime(x), fraudTrain.trans_date_trans_time)))\n",
    "fraudTrain"
   ]
  },
  {
   "cell_type": "markdown",
   "id": "3f9f3309-b6f4-442c-9872-fdd03fc29456",
   "metadata": {},
   "source": [
    "> street/tsate/zip: 고객 거주지 정보\n",
    ">\n",
    "> lat/long: rhror wnthdp eogks dnleh alc rudeh\n",
    ">\n",
    "> city_pop: 고객의 zipcode에 속하는 인구 수\n",
    ">\n",
    "> job: 직업\n",
    ">\n",
    "> dob: 생년월일\n",
    "> \n",
    "> trans_num: 거래번호\n",
    "> \n",
    "> unix_time: 거래 시간(유닉스 타임 스탬프 형식)\n"
   ]
  },
  {
   "cell_type": "code",
   "execution_count": null,
   "id": "b2d953f3-5ead-43b4-897a-faffcb243257",
   "metadata": {},
   "outputs": [],
   "source": []
  },
  {
   "cell_type": "markdown",
   "id": "f12eec70-472b-4614-99bb-daccd101558c",
   "metadata": {},
   "source": [
    "## 데이터정리"
   ]
  },
  {
   "cell_type": "code",
   "execution_count": 16,
   "id": "72180b1e-0fcd-49b0-946d-c3a667337ce5",
   "metadata": {},
   "outputs": [
    {
     "data": {
      "text/plain": [
       "(378200, 22)"
      ]
     },
     "execution_count": 16,
     "metadata": {},
     "output_type": "execute_result"
    }
   ],
   "source": [
    "_df1 = fraudTrain[fraudTrain[\"is_fraud\"] == 0].sample(frac=0.20, random_state=42)\n",
    "_df2 = fraudTrain[fraudTrain[\"is_fraud\"] == 1]\n",
    "df02 = pd.concat([_df1,_df2])\n",
    "df02.shape"
   ]
  },
  {
   "cell_type": "code",
   "execution_count": 9,
   "id": "29423fa9-7f26-4792-a9ca-fe283462ff7f",
   "metadata": {},
   "outputs": [
    {
     "data": {
      "text/plain": [
       "(19302, 23)"
      ]
     },
     "execution_count": 9,
     "metadata": {},
     "output_type": "execute_result"
    }
   ],
   "source": [
    "df50 = down_sample_textbook(df02)\n",
    "df50 = df50.reset_index()\n",
    "df50.shape"
   ]
  },
  {
   "cell_type": "markdown",
   "id": "691d6ccb-40b6-48dc-b5b9-ac903825b516",
   "metadata": {},
   "source": [
    "---"
   ]
  },
  {
   "cell_type": "code",
   "execution_count": 17,
   "id": "3747054f-ecd8-44db-bfb9-c714e65b020e",
   "metadata": {},
   "outputs": [
    {
     "name": "stderr",
     "output_type": "stream",
     "text": [
      "/tmp/ipykernel_2870536/562656812.py:1: FutureWarning: ['trans_date_trans_time', 'merchant', 'category', 'first', 'last', 'gender', 'street', 'city', 'state', 'job', 'dob', 'trans_num'] did not aggregate successfully. If any error is raised this will raise in a future version of pandas. Drop these columns/ops to avoid this warning.\n",
      "  amt_info = df50.groupby('cc_num').agg(['mean','std'])['amt'].reset_index()\n"
     ]
    }
   ],
   "source": [
    "amt_info = df50.groupby('cc_num').agg(['mean','std'])['amt'].reset_index()"
   ]
  },
  {
   "cell_type": "code",
   "execution_count": 18,
   "id": "661d6866-b75d-4991-b2c8-b86bdd8fb8e4",
   "metadata": {},
   "outputs": [],
   "source": [
    "df50 = df50.merge(amt_info, on ='cc_num', how='left')"
   ]
  },
  {
   "cell_type": "code",
   "execution_count": 19,
   "id": "e6e4efc7-4641-4cde-88cf-4809e8132907",
   "metadata": {},
   "outputs": [],
   "source": [
    "df50['amt_z_score'] = (df50['amt'] - df50['mean']) / df50['std']"
   ]
  },
  {
   "cell_type": "code",
   "execution_count": 21,
   "id": "90bcbfdd-0439-43ec-b16d-1c60c8f1e459",
   "metadata": {},
   "outputs": [],
   "source": [
    "df50.drop(['mean','std'], axis=1, inplace=True)"
   ]
  },
  {
   "cell_type": "markdown",
   "id": "1b08d2b8-cba5-42ce-ab31-9cec7e2e07e1",
   "metadata": {},
   "source": [
    "------------------------------------------------------------------------\n",
    "\n",
    "### tr/test"
   ]
  },
  {
   "cell_type": "code",
   "execution_count": 23,
   "id": "066419fb-2fb5-47fd-83a6-308fcaaaa4e5",
   "metadata": {},
   "outputs": [
    {
     "data": {
      "text/plain": [
       "(array([False,  True,  True, ...,  True, False,  True]),\n",
       " array([ True, False, False, ..., False,  True, False]))"
      ]
     },
     "execution_count": 23,
     "metadata": {},
     "output_type": "execute_result"
    }
   ],
   "source": [
    "mask(df50)"
   ]
  },
  {
   "cell_type": "code",
   "execution_count": 24,
   "id": "3237a15c-d5a2-4838-9422-4ce79d7f2eba",
   "metadata": {},
   "outputs": [],
   "source": [
    "train_mask, test_mask = mask(df50)"
   ]
  },
  {
   "cell_type": "code",
   "execution_count": 25,
   "id": "09bdc0e9-d479-4535-ac8d-4aad874c809e",
   "metadata": {},
   "outputs": [],
   "source": [
    "df50_tr,df50_test = sklearn.model_selection.train_test_split(df50, random_state=42)"
   ]
  },
  {
   "cell_type": "markdown",
   "id": "3d570717-933a-41b0-ac9b-030d69abdae5",
   "metadata": {},
   "source": [
    "------------------------------------------------------------------------\n",
    "\n",
    "### edge_index 설정"
   ]
  },
  {
   "cell_type": "code",
   "execution_count": 26,
   "id": "ab44c4c6-2104-4138-ac27-05f8e025100e",
   "metadata": {},
   "outputs": [],
   "source": [
    "# groups = df50.groupby('cc_num')\n",
    "# edge_index_list_plus = [compute_time_difference(group) for _, group in groups]\n",
    "# edge_index_list_plus_flat = [item for sublist in edge_index_list_plus for item in sublist]\n",
    "# edge_index_list_plus_nparr = np.array(edge_index_list_plus_flat)\n",
    "# np.save('edge_index_list_plus50.npy', edge_index_list_plus_nparr)"
   ]
  },
  {
   "cell_type": "code",
   "execution_count": 29,
   "id": "3f8f8325-0557-4453-aa28-0f45986251c9",
   "metadata": {},
   "outputs": [
    {
     "data": {
      "text/plain": [
       "(200706, 3)"
      ]
     },
     "execution_count": 29,
     "metadata": {},
     "output_type": "execute_result"
    }
   ],
   "source": [
    "edge_index = np.load('edge_index_list_plus50.npy').astype(np.float64)\n",
    "edge_index.shape"
   ]
  },
  {
   "cell_type": "code",
   "execution_count": 33,
   "id": "de132e54-d482-4158-837d-e04c11c01800",
   "metadata": {},
   "outputs": [],
   "source": [
    "edge_index_selected = edge_index_selected(edge_index)"
   ]
  },
  {
   "cell_type": "markdown",
   "id": "0ab96475-049d-4751-b555-c8aa51027321",
   "metadata": {},
   "source": [
    "---"
   ]
  },
  {
   "cell_type": "markdown",
   "id": "4b815eeb-f8f6-4140-8daf-5cc68d3c0469",
   "metadata": {},
   "source": [
    "---"
   ]
  },
  {
   "cell_type": "markdown",
   "id": "6c5df5fe-2cbe-4174-9025-e55a8afdbdbc",
   "metadata": {},
   "source": [
    "\n",
    "### data설정(x, edge_index, y)"
   ]
  },
  {
   "cell_type": "code",
   "execution_count": 34,
   "id": "12fd0b4e-b658-4056-b82f-0c2acba8cc12",
   "metadata": {},
   "outputs": [
    {
     "data": {
      "text/plain": [
       "Data(x=[19302, 1], edge_index=[2, 93730], y=[19302], train_mask=[19302], test_mask=[19302])"
      ]
     },
     "execution_count": 34,
     "metadata": {},
     "output_type": "execute_result"
    }
   ],
   "source": [
    "x = torch.tensor(df50['amt_z_score'], dtype=torch.float).reshape(-1,1)\n",
    "y = torch.tensor(df50['is_fraud'],dtype=torch.int64)\n",
    "data = torch_geometric.data.Data(x=x, edge_index = edge_index_selected, y=y, train_mask = train_mask, test_mask = test_mask)\n",
    "data"
   ]
  },
  {
   "cell_type": "markdown",
   "id": "3ad21faf-3683-4ac5-a8f9-75745d62231d",
   "metadata": {},
   "source": [
    "---"
   ]
  },
  {
   "cell_type": "markdown",
   "id": "5c074ddd-d5f8-4209-946c-adaf33bfd927",
   "metadata": {},
   "source": [
    "\n",
    "\n",
    "## 분석 1(GCN)"
   ]
  },
  {
   "cell_type": "code",
   "execution_count": 38,
   "id": "a2115d45-ba9d-4c15-9dac-362ddcef5070",
   "metadata": {},
   "outputs": [
    {
     "data": {
      "text/html": [
       "<div>\n",
       "<style scoped>\n",
       "    .dataframe tbody tr th:only-of-type {\n",
       "        vertical-align: middle;\n",
       "    }\n",
       "\n",
       "    .dataframe tbody tr th {\n",
       "        vertical-align: top;\n",
       "    }\n",
       "\n",
       "    .dataframe thead th {\n",
       "        text-align: right;\n",
       "    }\n",
       "</style>\n",
       "<table border=\"1\" class=\"dataframe\">\n",
       "  <thead>\n",
       "    <tr style=\"text-align: right;\">\n",
       "      <th></th>\n",
       "      <th>accuracy_score</th>\n",
       "      <th>precision_score</th>\n",
       "      <th>recall_score</th>\n",
       "      <th>f1_score</th>\n",
       "    </tr>\n",
       "  </thead>\n",
       "  <tbody>\n",
       "    <tr>\n",
       "      <th>분석1</th>\n",
       "      <td>0.86407</td>\n",
       "      <td>0.838572</td>\n",
       "      <td>0.900042</td>\n",
       "      <td>0.86822</td>\n",
       "    </tr>\n",
       "  </tbody>\n",
       "</table>\n",
       "</div>"
      ],
      "text/plain": [
       "     accuracy_score  precision_score  recall_score  f1_score\n",
       "분석1         0.86407         0.838572      0.900042   0.86822"
      ]
     },
     "execution_count": 38,
     "metadata": {},
     "output_type": "execute_result"
    }
   ],
   "source": [
    "torch.manual_seed(202250926)\n",
    "\n",
    "class GCN1(torch.nn.Module):\n",
    "    def __init__(self):\n",
    "        super().__init__()\n",
    "        self.conv1 = GCNConv(1, 32)\n",
    "        self.conv2 = GCNConv(32,2)\n",
    "\n",
    "    def forward(self, data):\n",
    "        x, edge_index = data.x, data.edge_index\n",
    "\n",
    "        x = self.conv1(x, edge_index)\n",
    "        x = F.relu(x)\n",
    "        x = F.dropout(x, training=self.training)\n",
    "        x = self.conv2(x, edge_index)\n",
    "\n",
    "        return F.log_softmax(x, dim=1)\n",
    "\n",
    "X = (data.x[data.train_mask]).numpy()\n",
    "XX = (data.x[data.test_mask]).numpy()\n",
    "y = (data.y[data.train_mask]).numpy()\n",
    "yy = (data.y[data.test_mask]).numpy()\n",
    "\n",
    "model = GCN1()\n",
    "optimizer = torch.optim.Adam(model.parameters(), lr=0.01, weight_decay=5e-4)\n",
    "model.train()\n",
    "for epoch in range(400):\n",
    "    optimizer.zero_grad()\n",
    "    out = model(data)\n",
    "    loss = F.nll_loss(out[data.train_mask], data.y[data.train_mask])\n",
    "    loss.backward()\n",
    "    optimizer.step()\n",
    "model.eval()\n",
    "\n",
    "pred = model(data).argmax(dim=1)\n",
    "yyhat = pred[data.test_mask]\n",
    "\n",
    "pred\n",
    "\n",
    "metrics = [sklearn.metrics.accuracy_score,\n",
    "           sklearn.metrics.precision_score,\n",
    "           sklearn.metrics.recall_score,\n",
    "           sklearn.metrics.f1_score]\n",
    "\n",
    "_results1= pd.DataFrame({m.__name__:[m(yy,yyhat).round(6)] for m in metrics},index=['분석1'])\n",
    "_results1"
   ]
  }
 ],
 "metadata": {
  "kernelspec": {
   "display_name": "Python 3 (ipykernel)",
   "language": "python",
   "name": "python3"
  },
  "language_info": {
   "codemirror_mode": {
    "name": "ipython",
    "version": 3
   },
   "file_extension": ".py",
   "mimetype": "text/x-python",
   "name": "python",
   "nbconvert_exporter": "python",
   "pygments_lexer": "ipython3",
   "version": "3.8.18"
  }
 },
 "nbformat": 4,
 "nbformat_minor": 5
}
