{
 "cells": [
  {
   "cell_type": "raw",
   "id": "ead89876-ba70-480c-9ed6-8c8863b7c978",
   "metadata": {},
   "source": [
    "---\n",
    "title: \"ROC커브 v2\"\n",
    "author: \"김보람\"\n",
    "date: \"12/12/2023\"\n",
    "---"
   ]
  },
  {
   "cell_type": "markdown",
   "id": "96bfdec3-5b07-45b5-9b38-2e8813117310",
   "metadata": {},
   "source": [
    "# imports"
   ]
  },
  {
   "cell_type": "markdown",
   "id": "3295c6e6-4b89-43cd-b163-f786c581a132",
   "metadata": {},
   "source": [
    "---"
   ]
  },
  {
   "cell_type": "code",
   "execution_count": 1,
   "id": "0ace6870-8685-4d2a-956b-38fe8dcc3513",
   "metadata": {},
   "outputs": [
    {
     "name": "stderr",
     "output_type": "stream",
     "text": [
      "/home/coco/anaconda3/envs/py38/lib/python3.8/site-packages/torch_geometric/typing.py:18: UserWarning: An issue occurred while importing 'pyg-lib'. Disabling its usage. Stacktrace: /home/coco/anaconda3/envs/py38/lib/python3.8/site-packages/libpyg.so: undefined symbol: _ZN2at4_ops12split_Tensor4callERKNS_6TensorEN3c106SymIntEl\n",
      "  warnings.warn(f\"An issue occurred while importing 'pyg-lib'. \"\n",
      "/home/coco/anaconda3/envs/py38/lib/python3.8/site-packages/torch_geometric/typing.py:31: UserWarning: An issue occurred while importing 'torch-scatter'. Disabling its usage. Stacktrace: /home/coco/anaconda3/envs/py38/lib/python3.8/site-packages/torch_scatter/_scatter_cuda.so: undefined symbol: _ZNK3c107SymBool10guard_boolEPKcl\n",
      "  warnings.warn(f\"An issue occurred while importing 'torch-scatter'. \"\n",
      "/home/coco/anaconda3/envs/py38/lib/python3.8/site-packages/torch_geometric/typing.py:42: UserWarning: An issue occurred while importing 'torch-sparse'. Disabling its usage. Stacktrace: /home/coco/anaconda3/envs/py38/lib/python3.8/site-packages/torch_sparse/_diag_cuda.so: undefined symbol: _ZN3c106detail19maybe_wrap_dim_slowIlEET_S2_S2_b\n",
      "  warnings.warn(f\"An issue occurred while importing 'torch-sparse'. \"\n"
     ]
    }
   ],
   "source": [
    "import numpy as np\n",
    "import pandas as pd\n",
    "import matplotlib.pyplot as plt \n",
    "import networkx as nx\n",
    "import sklearn\n",
    "import xgboost as xgb\n",
    "\n",
    "# sklearn\n",
    "from sklearn import model_selection # split함수이용\n",
    "from sklearn import ensemble # RF,GBM\n",
    "from sklearn import metrics\n",
    "from sklearn.metrics import precision_score, recall_score, f1_score, roc_curve, auc\n",
    "from sklearn.svm import SVC\n",
    "from sklearn.ensemble import RandomForestClassifier\n",
    "from sklearn.naive_bayes import GaussianNB\n",
    "\n",
    "# gnn\n",
    "import torch\n",
    "import torch.nn.functional as F\n",
    "import torch_geometric\n",
    "from torch_geometric.nn import GCNConv\n",
    "\n"
   ]
  },
  {
   "cell_type": "code",
   "execution_count": 2,
   "id": "4a24f561-ab23-4968-93a3-8f0ab6ac9799",
   "metadata": {},
   "outputs": [],
   "source": [
    "def down_sample_textbook(df):\n",
    "    df_majority = df[df.is_fraud==0].copy()\n",
    "    df_minority = df[df.is_fraud==1].copy()\n",
    "    df_maj_dowsampled = sklearn.utils.resample(df_majority, n_samples=len(df_minority), replace=False, random_state=42)\n",
    "    df_downsampled = pd.concat([df_minority, df_maj_dowsampled])\n",
    "    return df_downsampled\n",
    "\n",
    "def compute_time_difference(group):\n",
    "    n = len(group)\n",
    "    result = []\n",
    "    for i in range(n):\n",
    "        for j in range(n):\n",
    "            time_difference = abs(group.iloc[i].trans_date_trans_time.value - group.iloc[j].trans_date_trans_time.value)\n",
    "            result.append([group.iloc[i].name, group.iloc[j].name, time_difference])\n",
    "    return result\n",
    "\n",
    "def mask(df):\n",
    "    df_tr,df_test = sklearn.model_selection.train_test_split(df, random_state=42)\n",
    "    N = len(df)\n",
    "    train_mask = [i in df_tr.index for i in range(N)]\n",
    "    test_mask = [i in df_test.index for i in range(N)]\n",
    "    train_mask = np.array(train_mask)\n",
    "    test_mask = np.array(test_mask)\n",
    "    return train_mask, test_mask\n",
    "\n",
    "def edge_index_selected(edge_index):\n",
    "    theta = edge_index[:,2].mean()\n",
    "    edge_index[:,2] = (np.exp(-edge_index[:,2]/theta) != 1)*(np.exp(-edge_index[:,2]/theta))\n",
    "    edge_index = edge_index.tolist()\n",
    "    mean_ = np.array(edge_index)[:,2].mean()\n",
    "    selected_edges = [(int(row[0]), int(row[1])) for row in edge_index if row[2] > mean_]\n",
    "    edge_index_selected = torch.tensor(selected_edges, dtype=torch.long).t()\n",
    "    return edge_index_selected\n",
    "\n",
    "\n"
   ]
  },
  {
   "cell_type": "code",
   "execution_count": 3,
   "id": "e781741b-09c6-45a6-af07-5b163b9d1bcb",
   "metadata": {},
   "outputs": [],
   "source": [
    "fraudTrain = pd.read_csv(\"~/Desktop/fraudTrain.csv\").iloc[:,1:]"
   ]
  },
  {
   "cell_type": "code",
   "execution_count": 4,
   "id": "9fe75eb9-ebb7-41c2-bf0f-c580b6441dd8",
   "metadata": {},
   "outputs": [
    {
     "data": {
      "text/html": [
       "<div>\n",
       "<style scoped>\n",
       "    .dataframe tbody tr th:only-of-type {\n",
       "        vertical-align: middle;\n",
       "    }\n",
       "\n",
       "    .dataframe tbody tr th {\n",
       "        vertical-align: top;\n",
       "    }\n",
       "\n",
       "    .dataframe thead th {\n",
       "        text-align: right;\n",
       "    }\n",
       "</style>\n",
       "<table border=\"1\" class=\"dataframe\">\n",
       "  <thead>\n",
       "    <tr style=\"text-align: right;\">\n",
       "      <th></th>\n",
       "      <th>trans_date_trans_time</th>\n",
       "      <th>cc_num</th>\n",
       "      <th>merchant</th>\n",
       "      <th>category</th>\n",
       "      <th>amt</th>\n",
       "      <th>first</th>\n",
       "      <th>last</th>\n",
       "      <th>gender</th>\n",
       "      <th>street</th>\n",
       "      <th>city</th>\n",
       "      <th>...</th>\n",
       "      <th>lat</th>\n",
       "      <th>long</th>\n",
       "      <th>city_pop</th>\n",
       "      <th>job</th>\n",
       "      <th>dob</th>\n",
       "      <th>trans_num</th>\n",
       "      <th>unix_time</th>\n",
       "      <th>merch_lat</th>\n",
       "      <th>merch_long</th>\n",
       "      <th>is_fraud</th>\n",
       "    </tr>\n",
       "  </thead>\n",
       "  <tbody>\n",
       "    <tr>\n",
       "      <th>0</th>\n",
       "      <td>2019-01-01 00:00:00</td>\n",
       "      <td>2.703190e+15</td>\n",
       "      <td>fraud_Rippin, Kub and Mann</td>\n",
       "      <td>misc_net</td>\n",
       "      <td>4.97</td>\n",
       "      <td>Jennifer</td>\n",
       "      <td>Banks</td>\n",
       "      <td>F</td>\n",
       "      <td>561 Perry Cove</td>\n",
       "      <td>Moravian Falls</td>\n",
       "      <td>...</td>\n",
       "      <td>36.0788</td>\n",
       "      <td>-81.1781</td>\n",
       "      <td>3495</td>\n",
       "      <td>Psychologist, counselling</td>\n",
       "      <td>1988-03-09</td>\n",
       "      <td>0b242abb623afc578575680df30655b9</td>\n",
       "      <td>1325376018</td>\n",
       "      <td>36.011293</td>\n",
       "      <td>-82.048315</td>\n",
       "      <td>0</td>\n",
       "    </tr>\n",
       "    <tr>\n",
       "      <th>1</th>\n",
       "      <td>2019-01-01 00:00:00</td>\n",
       "      <td>6.304230e+11</td>\n",
       "      <td>fraud_Heller, Gutmann and Zieme</td>\n",
       "      <td>grocery_pos</td>\n",
       "      <td>107.23</td>\n",
       "      <td>Stephanie</td>\n",
       "      <td>Gill</td>\n",
       "      <td>F</td>\n",
       "      <td>43039 Riley Greens Suite 393</td>\n",
       "      <td>Orient</td>\n",
       "      <td>...</td>\n",
       "      <td>48.8878</td>\n",
       "      <td>-118.2105</td>\n",
       "      <td>149</td>\n",
       "      <td>Special educational needs teacher</td>\n",
       "      <td>1978-06-21</td>\n",
       "      <td>1f76529f8574734946361c461b024d99</td>\n",
       "      <td>1325376044</td>\n",
       "      <td>49.159047</td>\n",
       "      <td>-118.186462</td>\n",
       "      <td>0</td>\n",
       "    </tr>\n",
       "    <tr>\n",
       "      <th>2</th>\n",
       "      <td>2019-01-01 00:00:00</td>\n",
       "      <td>3.885950e+13</td>\n",
       "      <td>fraud_Lind-Buckridge</td>\n",
       "      <td>entertainment</td>\n",
       "      <td>220.11</td>\n",
       "      <td>Edward</td>\n",
       "      <td>Sanchez</td>\n",
       "      <td>M</td>\n",
       "      <td>594 White Dale Suite 530</td>\n",
       "      <td>Malad City</td>\n",
       "      <td>...</td>\n",
       "      <td>42.1808</td>\n",
       "      <td>-112.2620</td>\n",
       "      <td>4154</td>\n",
       "      <td>Nature conservation officer</td>\n",
       "      <td>1962-01-19</td>\n",
       "      <td>a1a22d70485983eac12b5b88dad1cf95</td>\n",
       "      <td>1325376051</td>\n",
       "      <td>43.150704</td>\n",
       "      <td>-112.154481</td>\n",
       "      <td>0</td>\n",
       "    </tr>\n",
       "    <tr>\n",
       "      <th>3</th>\n",
       "      <td>2019-01-01 00:01:00</td>\n",
       "      <td>3.534090e+15</td>\n",
       "      <td>fraud_Kutch, Hermiston and Farrell</td>\n",
       "      <td>gas_transport</td>\n",
       "      <td>45.00</td>\n",
       "      <td>Jeremy</td>\n",
       "      <td>White</td>\n",
       "      <td>M</td>\n",
       "      <td>9443 Cynthia Court Apt. 038</td>\n",
       "      <td>Boulder</td>\n",
       "      <td>...</td>\n",
       "      <td>46.2306</td>\n",
       "      <td>-112.1138</td>\n",
       "      <td>1939</td>\n",
       "      <td>Patent attorney</td>\n",
       "      <td>1967-01-12</td>\n",
       "      <td>6b849c168bdad6f867558c3793159a81</td>\n",
       "      <td>1325376076</td>\n",
       "      <td>47.034331</td>\n",
       "      <td>-112.561071</td>\n",
       "      <td>0</td>\n",
       "    </tr>\n",
       "    <tr>\n",
       "      <th>4</th>\n",
       "      <td>2019-01-01 00:03:00</td>\n",
       "      <td>3.755340e+14</td>\n",
       "      <td>fraud_Keeling-Crist</td>\n",
       "      <td>misc_pos</td>\n",
       "      <td>41.96</td>\n",
       "      <td>Tyler</td>\n",
       "      <td>Garcia</td>\n",
       "      <td>M</td>\n",
       "      <td>408 Bradley Rest</td>\n",
       "      <td>Doe Hill</td>\n",
       "      <td>...</td>\n",
       "      <td>38.4207</td>\n",
       "      <td>-79.4629</td>\n",
       "      <td>99</td>\n",
       "      <td>Dance movement psychotherapist</td>\n",
       "      <td>1986-03-28</td>\n",
       "      <td>a41d7549acf90789359a9aa5346dcb46</td>\n",
       "      <td>1325376186</td>\n",
       "      <td>38.674999</td>\n",
       "      <td>-78.632459</td>\n",
       "      <td>0</td>\n",
       "    </tr>\n",
       "    <tr>\n",
       "      <th>...</th>\n",
       "      <td>...</td>\n",
       "      <td>...</td>\n",
       "      <td>...</td>\n",
       "      <td>...</td>\n",
       "      <td>...</td>\n",
       "      <td>...</td>\n",
       "      <td>...</td>\n",
       "      <td>...</td>\n",
       "      <td>...</td>\n",
       "      <td>...</td>\n",
       "      <td>...</td>\n",
       "      <td>...</td>\n",
       "      <td>...</td>\n",
       "      <td>...</td>\n",
       "      <td>...</td>\n",
       "      <td>...</td>\n",
       "      <td>...</td>\n",
       "      <td>...</td>\n",
       "      <td>...</td>\n",
       "      <td>...</td>\n",
       "      <td>...</td>\n",
       "    </tr>\n",
       "    <tr>\n",
       "      <th>1048570</th>\n",
       "      <td>2020-03-10 16:07:00</td>\n",
       "      <td>6.011980e+15</td>\n",
       "      <td>fraud_Fadel Inc</td>\n",
       "      <td>health_fitness</td>\n",
       "      <td>77.00</td>\n",
       "      <td>Haley</td>\n",
       "      <td>Wagner</td>\n",
       "      <td>F</td>\n",
       "      <td>05561 Farrell Crescent</td>\n",
       "      <td>Annapolis</td>\n",
       "      <td>...</td>\n",
       "      <td>39.0305</td>\n",
       "      <td>-76.5515</td>\n",
       "      <td>92106</td>\n",
       "      <td>Accountant, chartered certified</td>\n",
       "      <td>1943-05-28</td>\n",
       "      <td>45ecd198c65e81e597db22e8d2ef7361</td>\n",
       "      <td>1362931649</td>\n",
       "      <td>38.779464</td>\n",
       "      <td>-76.317042</td>\n",
       "      <td>0</td>\n",
       "    </tr>\n",
       "    <tr>\n",
       "      <th>1048571</th>\n",
       "      <td>2020-03-10 16:07:00</td>\n",
       "      <td>4.839040e+15</td>\n",
       "      <td>fraud_Cremin, Hamill and Reichel</td>\n",
       "      <td>misc_pos</td>\n",
       "      <td>116.94</td>\n",
       "      <td>Meredith</td>\n",
       "      <td>Campbell</td>\n",
       "      <td>F</td>\n",
       "      <td>043 Hanson Turnpike</td>\n",
       "      <td>Hedrick</td>\n",
       "      <td>...</td>\n",
       "      <td>41.1826</td>\n",
       "      <td>-92.3097</td>\n",
       "      <td>1583</td>\n",
       "      <td>Geochemist</td>\n",
       "      <td>1999-06-28</td>\n",
       "      <td>c00ce51c6ebb7657474a77b9e0b51f34</td>\n",
       "      <td>1362931670</td>\n",
       "      <td>41.400318</td>\n",
       "      <td>-92.726724</td>\n",
       "      <td>0</td>\n",
       "    </tr>\n",
       "    <tr>\n",
       "      <th>1048572</th>\n",
       "      <td>2020-03-10 16:08:00</td>\n",
       "      <td>5.718440e+11</td>\n",
       "      <td>fraud_O'Connell, Botsford and Hand</td>\n",
       "      <td>home</td>\n",
       "      <td>21.27</td>\n",
       "      <td>Susan</td>\n",
       "      <td>Mills</td>\n",
       "      <td>F</td>\n",
       "      <td>005 Cody Estates</td>\n",
       "      <td>Louisville</td>\n",
       "      <td>...</td>\n",
       "      <td>38.2507</td>\n",
       "      <td>-85.7476</td>\n",
       "      <td>736284</td>\n",
       "      <td>Engineering geologist</td>\n",
       "      <td>1952-04-02</td>\n",
       "      <td>17c9dc8b2a6449ca2473726346e58e6c</td>\n",
       "      <td>1362931711</td>\n",
       "      <td>37.293339</td>\n",
       "      <td>-84.798122</td>\n",
       "      <td>0</td>\n",
       "    </tr>\n",
       "    <tr>\n",
       "      <th>1048573</th>\n",
       "      <td>2020-03-10 16:08:00</td>\n",
       "      <td>4.646850e+18</td>\n",
       "      <td>fraud_Thompson-Gleason</td>\n",
       "      <td>health_fitness</td>\n",
       "      <td>9.52</td>\n",
       "      <td>Julia</td>\n",
       "      <td>Bell</td>\n",
       "      <td>F</td>\n",
       "      <td>576 House Crossroad</td>\n",
       "      <td>West Sayville</td>\n",
       "      <td>...</td>\n",
       "      <td>40.7320</td>\n",
       "      <td>-73.1000</td>\n",
       "      <td>4056</td>\n",
       "      <td>Film/video editor</td>\n",
       "      <td>1990-06-25</td>\n",
       "      <td>5ca650881b48a6a38754f841c23b77ab</td>\n",
       "      <td>1362931718</td>\n",
       "      <td>39.773077</td>\n",
       "      <td>-72.213209</td>\n",
       "      <td>0</td>\n",
       "    </tr>\n",
       "    <tr>\n",
       "      <th>1048574</th>\n",
       "      <td>2020-03-10 16:08:00</td>\n",
       "      <td>2.283740e+15</td>\n",
       "      <td>fraud_Buckridge PLC</td>\n",
       "      <td>misc_pos</td>\n",
       "      <td>6.81</td>\n",
       "      <td>Shannon</td>\n",
       "      <td>Williams</td>\n",
       "      <td>F</td>\n",
       "      <td>9345 Spencer Junctions Suite 183</td>\n",
       "      <td>Alpharetta</td>\n",
       "      <td>...</td>\n",
       "      <td>34.0770</td>\n",
       "      <td>-84.3033</td>\n",
       "      <td>165556</td>\n",
       "      <td>Prison officer</td>\n",
       "      <td>1997-12-27</td>\n",
       "      <td>8d0a575fe635bbde12f1a2bffc126731</td>\n",
       "      <td>1362931730</td>\n",
       "      <td>33.601468</td>\n",
       "      <td>-83.891921</td>\n",
       "      <td>0</td>\n",
       "    </tr>\n",
       "  </tbody>\n",
       "</table>\n",
       "<p>1048575 rows × 22 columns</p>\n",
       "</div>"
      ],
      "text/plain": [
       "        trans_date_trans_time        cc_num  \\\n",
       "0         2019-01-01 00:00:00  2.703190e+15   \n",
       "1         2019-01-01 00:00:00  6.304230e+11   \n",
       "2         2019-01-01 00:00:00  3.885950e+13   \n",
       "3         2019-01-01 00:01:00  3.534090e+15   \n",
       "4         2019-01-01 00:03:00  3.755340e+14   \n",
       "...                       ...           ...   \n",
       "1048570   2020-03-10 16:07:00  6.011980e+15   \n",
       "1048571   2020-03-10 16:07:00  4.839040e+15   \n",
       "1048572   2020-03-10 16:08:00  5.718440e+11   \n",
       "1048573   2020-03-10 16:08:00  4.646850e+18   \n",
       "1048574   2020-03-10 16:08:00  2.283740e+15   \n",
       "\n",
       "                                   merchant        category     amt  \\\n",
       "0                fraud_Rippin, Kub and Mann        misc_net    4.97   \n",
       "1           fraud_Heller, Gutmann and Zieme     grocery_pos  107.23   \n",
       "2                      fraud_Lind-Buckridge   entertainment  220.11   \n",
       "3        fraud_Kutch, Hermiston and Farrell   gas_transport   45.00   \n",
       "4                       fraud_Keeling-Crist        misc_pos   41.96   \n",
       "...                                     ...             ...     ...   \n",
       "1048570                     fraud_Fadel Inc  health_fitness   77.00   \n",
       "1048571    fraud_Cremin, Hamill and Reichel        misc_pos  116.94   \n",
       "1048572  fraud_O'Connell, Botsford and Hand            home   21.27   \n",
       "1048573              fraud_Thompson-Gleason  health_fitness    9.52   \n",
       "1048574                 fraud_Buckridge PLC        misc_pos    6.81   \n",
       "\n",
       "             first      last gender                            street  \\\n",
       "0         Jennifer     Banks      F                    561 Perry Cove   \n",
       "1        Stephanie      Gill      F      43039 Riley Greens Suite 393   \n",
       "2           Edward   Sanchez      M          594 White Dale Suite 530   \n",
       "3           Jeremy     White      M       9443 Cynthia Court Apt. 038   \n",
       "4            Tyler    Garcia      M                  408 Bradley Rest   \n",
       "...            ...       ...    ...                               ...   \n",
       "1048570      Haley    Wagner      F            05561 Farrell Crescent   \n",
       "1048571   Meredith  Campbell      F               043 Hanson Turnpike   \n",
       "1048572      Susan     Mills      F                  005 Cody Estates   \n",
       "1048573      Julia      Bell      F               576 House Crossroad   \n",
       "1048574    Shannon  Williams      F  9345 Spencer Junctions Suite 183   \n",
       "\n",
       "                   city  ...      lat      long  city_pop  \\\n",
       "0        Moravian Falls  ...  36.0788  -81.1781      3495   \n",
       "1                Orient  ...  48.8878 -118.2105       149   \n",
       "2            Malad City  ...  42.1808 -112.2620      4154   \n",
       "3               Boulder  ...  46.2306 -112.1138      1939   \n",
       "4              Doe Hill  ...  38.4207  -79.4629        99   \n",
       "...                 ...  ...      ...       ...       ...   \n",
       "1048570       Annapolis  ...  39.0305  -76.5515     92106   \n",
       "1048571         Hedrick  ...  41.1826  -92.3097      1583   \n",
       "1048572      Louisville  ...  38.2507  -85.7476    736284   \n",
       "1048573   West Sayville  ...  40.7320  -73.1000      4056   \n",
       "1048574      Alpharetta  ...  34.0770  -84.3033    165556   \n",
       "\n",
       "                                       job         dob  \\\n",
       "0                Psychologist, counselling  1988-03-09   \n",
       "1        Special educational needs teacher  1978-06-21   \n",
       "2              Nature conservation officer  1962-01-19   \n",
       "3                          Patent attorney  1967-01-12   \n",
       "4           Dance movement psychotherapist  1986-03-28   \n",
       "...                                    ...         ...   \n",
       "1048570    Accountant, chartered certified  1943-05-28   \n",
       "1048571                         Geochemist  1999-06-28   \n",
       "1048572              Engineering geologist  1952-04-02   \n",
       "1048573                  Film/video editor  1990-06-25   \n",
       "1048574                     Prison officer  1997-12-27   \n",
       "\n",
       "                                trans_num   unix_time  merch_lat  merch_long  \\\n",
       "0        0b242abb623afc578575680df30655b9  1325376018  36.011293  -82.048315   \n",
       "1        1f76529f8574734946361c461b024d99  1325376044  49.159047 -118.186462   \n",
       "2        a1a22d70485983eac12b5b88dad1cf95  1325376051  43.150704 -112.154481   \n",
       "3        6b849c168bdad6f867558c3793159a81  1325376076  47.034331 -112.561071   \n",
       "4        a41d7549acf90789359a9aa5346dcb46  1325376186  38.674999  -78.632459   \n",
       "...                                   ...         ...        ...         ...   \n",
       "1048570  45ecd198c65e81e597db22e8d2ef7361  1362931649  38.779464  -76.317042   \n",
       "1048571  c00ce51c6ebb7657474a77b9e0b51f34  1362931670  41.400318  -92.726724   \n",
       "1048572  17c9dc8b2a6449ca2473726346e58e6c  1362931711  37.293339  -84.798122   \n",
       "1048573  5ca650881b48a6a38754f841c23b77ab  1362931718  39.773077  -72.213209   \n",
       "1048574  8d0a575fe635bbde12f1a2bffc126731  1362931730  33.601468  -83.891921   \n",
       "\n",
       "         is_fraud  \n",
       "0               0  \n",
       "1               0  \n",
       "2               0  \n",
       "3               0  \n",
       "4               0  \n",
       "...           ...  \n",
       "1048570         0  \n",
       "1048571         0  \n",
       "1048572         0  \n",
       "1048573         0  \n",
       "1048574         0  \n",
       "\n",
       "[1048575 rows x 22 columns]"
      ]
     },
     "execution_count": 4,
     "metadata": {},
     "output_type": "execute_result"
    }
   ],
   "source": [
    "fraudTrain = fraudTrain.assign(trans_date_trans_time= list(map(lambda x: pd.to_datetime(x), fraudTrain.trans_date_trans_time)))\n",
    "fraudTrain"
   ]
  },
  {
   "cell_type": "markdown",
   "id": "3f9f3309-b6f4-442c-9872-fdd03fc29456",
   "metadata": {},
   "source": [
    "> street/tsate/zip: 고객 거주지 정보\n",
    ">\n",
    "> lat/long: rhror wnthdp eogks dnleh alc rudeh\n",
    ">\n",
    "> city_pop: 고객의 zipcode에 속하는 인구 수\n",
    ">\n",
    "> job: 직업\n",
    ">\n",
    "> dob: 생년월일\n",
    "> \n",
    "> trans_num: 거래번호\n",
    "> \n",
    "> unix_time: 거래 시간(유닉스 타임 스탬프 형식)\n"
   ]
  },
  {
   "cell_type": "code",
   "execution_count": null,
   "id": "b2d953f3-5ead-43b4-897a-faffcb243257",
   "metadata": {},
   "outputs": [],
   "source": []
  },
  {
   "cell_type": "markdown",
   "id": "f12eec70-472b-4614-99bb-daccd101558c",
   "metadata": {},
   "source": [
    "## 데이터정리"
   ]
  },
  {
   "cell_type": "code",
   "execution_count": 5,
   "id": "72180b1e-0fcd-49b0-946d-c3a667337ce5",
   "metadata": {},
   "outputs": [
    {
     "data": {
      "text/plain": [
       "(214520, 22)"
      ]
     },
     "execution_count": 5,
     "metadata": {},
     "output_type": "execute_result"
    }
   ],
   "source": [
    "_df1 = fraudTrain[fraudTrain[\"is_fraud\"] == 0].sample(frac=0.20, random_state=42)\n",
    "_df2 = fraudTrain[fraudTrain[\"is_fraud\"] == 1]\n",
    "df02 = pd.concat([_df1,_df2])\n",
    "df02.shape"
   ]
  },
  {
   "cell_type": "code",
   "execution_count": 6,
   "id": "29423fa9-7f26-4792-a9ca-fe283462ff7f",
   "metadata": {},
   "outputs": [
    {
     "data": {
      "text/plain": [
       "(12012, 23)"
      ]
     },
     "execution_count": 6,
     "metadata": {},
     "output_type": "execute_result"
    }
   ],
   "source": [
    "df50 = down_sample_textbook(df02)\n",
    "df50 = df50.reset_index()\n",
    "df50.shape"
   ]
  },
  {
   "cell_type": "markdown",
   "id": "1b08d2b8-cba5-42ce-ab31-9cec7e2e07e1",
   "metadata": {},
   "source": [
    "------------------------------------------------------------------------\n",
    "\n",
    "### tr/test"
   ]
  },
  {
   "cell_type": "code",
   "execution_count": 7,
   "id": "066419fb-2fb5-47fd-83a6-308fcaaaa4e5",
   "metadata": {},
   "outputs": [
    {
     "data": {
      "text/plain": [
       "(array([False,  True,  True, ...,  True, False,  True]),\n",
       " array([ True, False, False, ..., False,  True, False]))"
      ]
     },
     "execution_count": 7,
     "metadata": {},
     "output_type": "execute_result"
    }
   ],
   "source": [
    "mask(df50)"
   ]
  },
  {
   "cell_type": "code",
   "execution_count": 8,
   "id": "3237a15c-d5a2-4838-9422-4ce79d7f2eba",
   "metadata": {},
   "outputs": [],
   "source": [
    "train_mask, test_mask = mask(df50)"
   ]
  },
  {
   "cell_type": "code",
   "execution_count": 9,
   "id": "09bdc0e9-d479-4535-ac8d-4aad874c809e",
   "metadata": {},
   "outputs": [],
   "source": [
    "df50_tr,df50_test = sklearn.model_selection.train_test_split(df50, random_state=42)"
   ]
  },
  {
   "cell_type": "markdown",
   "id": "3d570717-933a-41b0-ac9b-030d69abdae5",
   "metadata": {},
   "source": [
    "------------------------------------------------------------------------\n",
    "\n",
    "### edge_index 설정"
   ]
  },
  {
   "cell_type": "code",
   "execution_count": 10,
   "id": "ab44c4c6-2104-4138-ac27-05f8e025100e",
   "metadata": {},
   "outputs": [],
   "source": [
    "# groups = df50.groupby('cc_num')\n",
    "# edge_index_list_plus = [compute_time_difference(group) for _, group in groups]\n",
    "# edge_index_list_plus_flat = [item for sublist in edge_index_list_plus for item in sublist]\n",
    "# edge_index_list_plus_nparr = np.array(edge_index_list_plus_flat)\n",
    "# np.save('edge_index_list_plus50.npy', edge_index_list_plus_nparr)"
   ]
  },
  {
   "cell_type": "code",
   "execution_count": 11,
   "id": "3f8f8325-0557-4453-aa28-0f45986251c9",
   "metadata": {},
   "outputs": [
    {
     "data": {
      "text/plain": [
       "(200706, 3)"
      ]
     },
     "execution_count": 11,
     "metadata": {},
     "output_type": "execute_result"
    }
   ],
   "source": [
    "edge_index = np.load('edge_index_list_plus50.npy').astype(np.float64)\n",
    "edge_index.shape"
   ]
  },
  {
   "cell_type": "code",
   "execution_count": 12,
   "id": "de132e54-d482-4158-837d-e04c11c01800",
   "metadata": {},
   "outputs": [],
   "source": [
    "edge_index_selected = edge_index_selected(edge_index)"
   ]
  },
  {
   "cell_type": "markdown",
   "id": "4b815eeb-f8f6-4140-8daf-5cc68d3c0469",
   "metadata": {},
   "source": [
    "---"
   ]
  },
  {
   "cell_type": "markdown",
   "id": "6c5df5fe-2cbe-4174-9025-e55a8afdbdbc",
   "metadata": {},
   "source": [
    "\n",
    "### data설정(x, edge_index, y)"
   ]
  },
  {
   "cell_type": "code",
   "execution_count": 13,
   "id": "12fd0b4e-b658-4056-b82f-0c2acba8cc12",
   "metadata": {},
   "outputs": [
    {
     "data": {
      "text/plain": [
       "Data(x=[12012, 1], edge_index=[2, 93730], y=[12012], train_mask=[12012], test_mask=[12012])"
      ]
     },
     "execution_count": 13,
     "metadata": {},
     "output_type": "execute_result"
    }
   ],
   "source": [
    "x = torch.tensor(df50['amt'], dtype=torch.float).reshape(-1,1)\n",
    "y = torch.tensor(df50['is_fraud'],dtype=torch.int64)\n",
    "data = torch_geometric.data.Data(x=x, edge_index = edge_index_selected, y=y, train_mask = train_mask, test_mask = test_mask)\n",
    "data"
   ]
  },
  {
   "cell_type": "markdown",
   "id": "3ad21faf-3683-4ac5-a8f9-75745d62231d",
   "metadata": {},
   "source": [
    "---"
   ]
  },
  {
   "cell_type": "markdown",
   "id": "5c074ddd-d5f8-4209-946c-adaf33bfd927",
   "metadata": {},
   "source": [
    "\n",
    "\n",
    "## 분석 1(GCN)"
   ]
  },
  {
   "cell_type": "code",
   "execution_count": 15,
   "id": "a2115d45-ba9d-4c15-9dac-362ddcef5070",
   "metadata": {},
   "outputs": [
    {
     "data": {
      "text/html": [
       "<div>\n",
       "<style scoped>\n",
       "    .dataframe tbody tr th:only-of-type {\n",
       "        vertical-align: middle;\n",
       "    }\n",
       "\n",
       "    .dataframe tbody tr th {\n",
       "        vertical-align: top;\n",
       "    }\n",
       "\n",
       "    .dataframe thead th {\n",
       "        text-align: right;\n",
       "    }\n",
       "</style>\n",
       "<table border=\"1\" class=\"dataframe\">\n",
       "  <thead>\n",
       "    <tr style=\"text-align: right;\">\n",
       "      <th></th>\n",
       "      <th>accuracy_score</th>\n",
       "      <th>precision_score</th>\n",
       "      <th>recall_score</th>\n",
       "      <th>f1_score</th>\n",
       "    </tr>\n",
       "  </thead>\n",
       "  <tbody>\n",
       "    <tr>\n",
       "      <th>분석1</th>\n",
       "      <td>0.902098</td>\n",
       "      <td>0.862478</td>\n",
       "      <td>0.95913</td>\n",
       "      <td>0.90824</td>\n",
       "    </tr>\n",
       "  </tbody>\n",
       "</table>\n",
       "</div>"
      ],
      "text/plain": [
       "     accuracy_score  precision_score  recall_score  f1_score\n",
       "분석1        0.902098         0.862478       0.95913   0.90824"
      ]
     },
     "execution_count": 15,
     "metadata": {},
     "output_type": "execute_result"
    }
   ],
   "source": [
    "torch.manual_seed(202250926)\n",
    "\n",
    "class GCN1(torch.nn.Module):\n",
    "    def __init__(self):\n",
    "        super().__init__()\n",
    "        self.conv1 = GCNConv(1, 32)\n",
    "        self.conv2 = GCNConv(32,2)\n",
    "\n",
    "    def forward(self, data):\n",
    "        x, edge_index = data.x, data.edge_index\n",
    "\n",
    "        x = self.conv1(x, edge_index)\n",
    "        x = F.relu(x)\n",
    "        x = F.dropout(x, training=self.training)\n",
    "        x = self.conv2(x, edge_index)\n",
    "\n",
    "        return F.log_softmax(x, dim=1)\n",
    "\n",
    "X = (data.x[data.train_mask]).numpy()\n",
    "XX = (data.x[data.test_mask]).numpy()\n",
    "y = (data.y[data.train_mask]).numpy()\n",
    "yy = (data.y[data.test_mask]).numpy()\n",
    "\n",
    "model = GCN1()\n",
    "optimizer = torch.optim.Adam(model.parameters(), lr=0.01, weight_decay=5e-4)\n",
    "model.train()\n",
    "for epoch in range(400):\n",
    "    optimizer.zero_grad()\n",
    "    out = model(data)\n",
    "    loss = F.nll_loss(out[data.train_mask], data.y[data.train_mask])\n",
    "    loss.backward()\n",
    "    optimizer.step()\n",
    "model.eval()\n",
    "\n",
    "pred = model(data).argmax(dim=1) # argmax말고\n",
    "yyhat = pred[data.test_mask]\n",
    "\n",
    "pred\n",
    "\n",
    "metrics = [sklearn.metrics.accuracy_score,\n",
    "           sklearn.metrics.precision_score,\n",
    "           sklearn.metrics.recall_score,\n",
    "           sklearn.metrics.f1_score]\n",
    "\n",
    "_results1= pd.DataFrame({m.__name__:[m(yy,yyhat).round(6)] for m in metrics},index=['분석1'])\n",
    "_results1"
   ]
  },
  {
   "cell_type": "code",
   "execution_count": 16,
   "id": "4061ede5-807f-4d51-8c00-3374665e2a20",
   "metadata": {},
   "outputs": [],
   "source": [
    "gnn_fpr, gnn_tpr, gnn_thresholds  = roc_curve(yy, yyhat)\n",
    "gnn_roc_auc_lr = auc(gnn_fpr, gnn_tpr)\n"
   ]
  },
  {
   "cell_type": "markdown",
   "id": "23ed188f-61a3-4a86-91cb-436968601ea9",
   "metadata": {},
   "source": [
    "---"
   ]
  },
  {
   "cell_type": "markdown",
   "id": "14d3132f-97e0-43fd-a92a-2b25182704ee",
   "metadata": {},
   "source": [
    "## 분석2(로지스틱 회귀)"
   ]
  },
  {
   "cell_type": "code",
   "execution_count": 17,
   "id": "7e2c8461-b52c-447b-b62e-bc826fc020f4",
   "metadata": {},
   "outputs": [
    {
     "data": {
      "text/html": [
       "<div>\n",
       "<style scoped>\n",
       "    .dataframe tbody tr th:only-of-type {\n",
       "        vertical-align: middle;\n",
       "    }\n",
       "\n",
       "    .dataframe tbody tr th {\n",
       "        vertical-align: top;\n",
       "    }\n",
       "\n",
       "    .dataframe thead th {\n",
       "        text-align: right;\n",
       "    }\n",
       "</style>\n",
       "<table border=\"1\" class=\"dataframe\">\n",
       "  <thead>\n",
       "    <tr style=\"text-align: right;\">\n",
       "      <th></th>\n",
       "      <th>accuracy_score</th>\n",
       "      <th>precision_score</th>\n",
       "      <th>recall_score</th>\n",
       "      <th>f1_score</th>\n",
       "    </tr>\n",
       "  </thead>\n",
       "  <tbody>\n",
       "    <tr>\n",
       "      <th>분석2</th>\n",
       "      <td>0.849484</td>\n",
       "      <td>0.933279</td>\n",
       "      <td>0.756098</td>\n",
       "      <td>0.835397</td>\n",
       "    </tr>\n",
       "  </tbody>\n",
       "</table>\n",
       "</div>"
      ],
      "text/plain": [
       "     accuracy_score  precision_score  recall_score  f1_score\n",
       "분석2        0.849484         0.933279      0.756098  0.835397"
      ]
     },
     "execution_count": 17,
     "metadata": {},
     "output_type": "execute_result"
    }
   ],
   "source": [
    "torch.manual_seed(202250926)\n",
    "X = np.array(df50_tr.loc[:,['amt']])\n",
    "XX = np.array(df50_test.loc[:,['amt']])\n",
    "y = np.array(df50_tr.is_fraud)\n",
    "yy = np.array(df50_test.is_fraud)\n",
    "\n",
    "lrnr = sklearn.linear_model.LogisticRegression()\n",
    "\n",
    "lrnr.fit(X,y)\n",
    "\n",
    "#thresh = y.mean()\n",
    "#yyhat = (lrnr.predict_proba(XX)> thresh)[:,-1]\n",
    "yyhat = lrnr.predict(XX) \n",
    "\n",
    "yyhat\n",
    "\n",
    "metrics = [sklearn.metrics.accuracy_score,\n",
    "           sklearn.metrics.precision_score,\n",
    "           sklearn.metrics.recall_score,\n",
    "           sklearn.metrics.f1_score]\n",
    "\n",
    "_results2= pd.DataFrame({m.__name__:[m(yy,yyhat).round(6)] for m in metrics},index=['분석2'])\n",
    "_results2"
   ]
  },
  {
   "cell_type": "code",
   "execution_count": 18,
   "id": "52c80ae1-05b0-4073-ab3e-997b5da34468",
   "metadata": {},
   "outputs": [],
   "source": [
    "lr_fpr, lr_tpr, lr_thresholds  = roc_curve(yy, yyhat)\n",
    "lr_roc_auc_lr = auc(lr_fpr, lr_tpr)\n"
   ]
  },
  {
   "cell_type": "markdown",
   "id": "d9219a0f-e9c6-4046-84dc-cf32d7cb0f5b",
   "metadata": {},
   "source": [
    "## 분석3(XGBoost)"
   ]
  },
  {
   "cell_type": "code",
   "execution_count": 19,
   "id": "d6a94744-ed59-4f74-80cc-9adc3233a7a3",
   "metadata": {},
   "outputs": [
    {
     "data": {
      "text/html": [
       "<div>\n",
       "<style scoped>\n",
       "    .dataframe tbody tr th:only-of-type {\n",
       "        vertical-align: middle;\n",
       "    }\n",
       "\n",
       "    .dataframe tbody tr th {\n",
       "        vertical-align: top;\n",
       "    }\n",
       "\n",
       "    .dataframe thead th {\n",
       "        text-align: right;\n",
       "    }\n",
       "</style>\n",
       "<table border=\"1\" class=\"dataframe\">\n",
       "  <thead>\n",
       "    <tr style=\"text-align: right;\">\n",
       "      <th></th>\n",
       "      <th>accuracy_score</th>\n",
       "      <th>precision_score</th>\n",
       "      <th>recall_score</th>\n",
       "      <th>f1_score</th>\n",
       "    </tr>\n",
       "  </thead>\n",
       "  <tbody>\n",
       "    <tr>\n",
       "      <th>분석3</th>\n",
       "      <td>0.88012</td>\n",
       "      <td>0.886957</td>\n",
       "      <td>0.874094</td>\n",
       "      <td>0.880478</td>\n",
       "    </tr>\n",
       "  </tbody>\n",
       "</table>\n",
       "</div>"
      ],
      "text/plain": [
       "     accuracy_score  precision_score  recall_score  f1_score\n",
       "분석3         0.88012         0.886957      0.874094  0.880478"
      ]
     },
     "execution_count": 19,
     "metadata": {},
     "output_type": "execute_result"
    }
   ],
   "source": [
    "import xgboost as xgb\n",
    "\n",
    "\n",
    "torch.manual_seed(202250926)\n",
    "X = np.array(df50_tr.loc[:, ['amt']])\n",
    "XX = np.array(df50_test.loc[:, ['amt']])\n",
    "y = np.array(df50_tr.is_fraud)\n",
    "yy = np.array(df50_test.is_fraud)\n",
    "\n",
    "lrnr = xgb.XGBClassifier()\n",
    " \n",
    "lrnr.fit(X,y)\n",
    "yyhat = lrnr.predict(XX)\n",
    "\n",
    "\n",
    "metrics = [sklearn.metrics.accuracy_score,\n",
    "           sklearn.metrics.precision_score,\n",
    "           sklearn.metrics.recall_score,\n",
    "           sklearn.metrics.f1_score]\n",
    "\n",
    "_results3= pd.DataFrame({m.__name__:[m(yy,yyhat).round(6)] for m in metrics},index=['분석3'])\n",
    "_results3"
   ]
  },
  {
   "cell_type": "code",
   "execution_count": 20,
   "id": "00426919-9ea0-4868-860b-f57b50a1f0ec",
   "metadata": {},
   "outputs": [],
   "source": [
    "xg_fpr, xg_tpr, xg_thresholds  = roc_curve(yy, yyhat)\n",
    "xg_roc_auc_lr = auc(xg_fpr, xg_tpr)\n"
   ]
  },
  {
   "cell_type": "markdown",
   "id": "e8cf112b-fda0-41f6-aab3-b703c016dcda",
   "metadata": {},
   "source": [
    "## 분석4(Light GBM)"
   ]
  },
  {
   "cell_type": "code",
   "execution_count": 21,
   "id": "b8db6ab6-59bb-4c94-acc0-989ec7c48a39",
   "metadata": {},
   "outputs": [
    {
     "data": {
      "text/html": [
       "<div>\n",
       "<style scoped>\n",
       "    .dataframe tbody tr th:only-of-type {\n",
       "        vertical-align: middle;\n",
       "    }\n",
       "\n",
       "    .dataframe tbody tr th {\n",
       "        vertical-align: top;\n",
       "    }\n",
       "\n",
       "    .dataframe thead th {\n",
       "        text-align: right;\n",
       "    }\n",
       "</style>\n",
       "<table border=\"1\" class=\"dataframe\">\n",
       "  <thead>\n",
       "    <tr style=\"text-align: right;\">\n",
       "      <th></th>\n",
       "      <th>accuracy_score</th>\n",
       "      <th>precision_score</th>\n",
       "      <th>recall_score</th>\n",
       "      <th>f1_score</th>\n",
       "    </tr>\n",
       "  </thead>\n",
       "  <tbody>\n",
       "    <tr>\n",
       "      <th>분석4</th>\n",
       "      <td>0.885115</td>\n",
       "      <td>0.893817</td>\n",
       "      <td>0.87673</td>\n",
       "      <td>0.885191</td>\n",
       "    </tr>\n",
       "  </tbody>\n",
       "</table>\n",
       "</div>"
      ],
      "text/plain": [
       "     accuracy_score  precision_score  recall_score  f1_score\n",
       "분석4        0.885115         0.893817       0.87673  0.885191"
      ]
     },
     "execution_count": 21,
     "metadata": {},
     "output_type": "execute_result"
    }
   ],
   "source": [
    "import lightgbm as lgb\n",
    "\n",
    "torch.manual_seed(202250926)\n",
    "X = np.array(df50_tr.loc[:, ['amt']])\n",
    "XX = np.array(df50_test.loc[:, ['amt']])\n",
    "y = np.array(df50_tr.is_fraud)\n",
    "yy = np.array(df50_test.is_fraud)\n",
    "\n",
    "\n",
    "lrnr = lgb.LGBMClassifier()\n",
    "\n",
    "lrnr.fit(X, y)\n",
    "yyhat = lrnr.predict(XX)\n",
    "\n",
    "metrics = [sklearn.metrics.accuracy_score,\n",
    "           sklearn.metrics.precision_score,\n",
    "           sklearn.metrics.recall_score,\n",
    "           sklearn.metrics.f1_score]\n",
    "\n",
    "_results4 = pd.DataFrame({m.__name__: [m(yy, yyhat).round(6)] for m in metrics}, index=['분석4'])\n",
    "_results4\n"
   ]
  },
  {
   "cell_type": "code",
   "execution_count": 23,
   "id": "23b3aa99-5232-4f5f-87b0-c88255f73022",
   "metadata": {},
   "outputs": [
    {
     "data": {
      "text/plain": [
       "0.8852023411653126"
      ]
     },
     "execution_count": 23,
     "metadata": {},
     "output_type": "execute_result"
    }
   ],
   "source": [
    "gbm_roc_auc_lr"
   ]
  },
  {
   "cell_type": "code",
   "execution_count": 22,
   "id": "d59c8a05-6fcc-4624-a8e9-83dea2fa5bb5",
   "metadata": {},
   "outputs": [],
   "source": [
    "\n",
    "gbm_fpr, gbm_tpr, gbm_thresholds  = roc_curve(yy, yyhat)\n",
    "gbm_roc_auc_lr = auc(gbm_fpr, gbm_tpr)\n"
   ]
  },
  {
   "cell_type": "markdown",
   "id": "69f76b8c-994d-476a-a7f5-12c9f804e331",
   "metadata": {},
   "source": [
    "---"
   ]
  },
  {
   "cell_type": "markdown",
   "id": "0c9f92a7-c019-4193-9f33-958122ced75c",
   "metadata": {},
   "source": [
    "# Roc curve"
   ]
  },
  {
   "cell_type": "code",
   "execution_count": 28,
   "id": "836a6420-c717-4c91-b758-420abdf956c3",
   "metadata": {},
   "outputs": [
    {
     "data": {
      "image/png": "[encoded data removed]",
      "text/plain": [
       "<Figure size 1600x800 with 1 Axes>"
      ]
     },
     "metadata": {},
     "output_type": "display_data"
    }
   ],
   "source": [
    "def graph_roc_curve_multiple(gnn_fpr, gnn_tpr, lr_fpr, lr_tpr, xg_fpr, xg_tpr, gbm_fpr, gbm_tpr):\n",
    "    plt.figure(figsize=(16,8))\n",
    "    plt.title('ROC Curve ', fontsize=18)\n",
    "    plt.plot(gnn_fpr, gnn_tpr, label='GNN Classifier Score: {:.4f}'.format(gnn_roc_auc_lr))\n",
    "    plt.plot(lr_fpr, lr_tpr, label='logistic Classifier Score: {:.4f}'.format(lr_roc_auc_lr))\n",
    "    plt.plot(xg_fpr, xg_tpr, label='XGBoost Classifier Score: {:.4f}'.format(xg_roc_auc_lr))\n",
    "    plt.plot(gbm_fpr, gbm_tpr, label='Light GBM Classifier Score: {:.4f}'.format(gbm_roc_auc_lr))\n",
    "    plt.plot([0, 1], [0, 1], 'k--')\n",
    "    plt.axis([-0.01, 1, 0, 1])\n",
    "    plt.xlabel('False Positive Rate', fontsize=16)\n",
    "    plt.ylabel('True Positive Rate', fontsize=16)\n",
    "    plt.annotate('Minimum ROC Score of 50% \\n (This is the minimum score to get)', xy=(0.5, 0.5), xytext=(0.6, 0.3),\n",
    "                arrowprops=dict(facecolor='#6E726D', shrink=0.05),\n",
    "                )\n",
    "    plt.legend()\n",
    "    \n",
    "graph_roc_curve_multiple(gnn_fpr, gnn_tpr, lr_fpr, lr_tpr, xg_fpr, xg_tpr, gbm_fpr, gbm_tpr)"
   ]
  },
  {
   "cell_type": "code",
   "execution_count": null,
   "id": "980e6fba-9029-43df-9f66-e180d061d028",
   "metadata": {},
   "outputs": [],
   "source": []
  }
 ],
 "metadata": {
  "kernelspec": {
   "display_name": "Python 3 (ipykernel)",
   "language": "python",
   "name": "python3"
  },
  "language_info": {
   "codemirror_mode": {
    "name": "ipython",
    "version": 3
   },
   "file_extension": ".py",
   "mimetype": "text/x-python",
   "name": "python",
   "nbconvert_exporter": "python",
   "pygments_lexer": "ipython3",
   "version": "3.8.18"
  }
 },
 "nbformat": 4,
 "nbformat_minor": 5
}
