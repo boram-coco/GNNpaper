{
 "cells": [
  {
   "cell_type": "raw",
   "id": "4582dee8-0071-4881-b379-f8c714f8ca90",
   "metadata": {},
   "source": [
    "---\n",
    "title: \"[Proposed] df50 코드\"\n",
    "author: \"김보람\"\n",
    "date: \"02/14/2024\"\n",
    "---"
   ]
  },
  {
   "cell_type": "markdown",
   "id": "96bfdec3-5b07-45b5-9b38-2e8813117310",
   "metadata": {
    "tags": []
   },
   "source": [
    "# imports"
   ]
  },
  {
   "cell_type": "code",
   "execution_count": 1,
   "id": "4eb91738-6398-4ffc-bbec-fc48fcc8f249",
   "metadata": {},
   "outputs": [],
   "source": [
    "import pandas as pd\n",
    "import numpy as np\n",
    "import sklearn\n",
    "import pickle \n",
    "import time \n",
    "import datetime\n",
    "import warnings\n",
    "warnings.filterwarnings('ignore')"
   ]
  },
  {
   "cell_type": "code",
   "execution_count": 2,
   "id": "290df976-de65-4a67-828b-b8fe594538d9",
   "metadata": {},
   "outputs": [],
   "source": [
    "%run ../function_proposed_gcn.py"
   ]
  },
  {
   "cell_type": "code",
   "execution_count": 3,
   "id": "fdab28b3-d2d7-403f-b459-3012b4e5e86f",
   "metadata": {},
   "outputs": [],
   "source": [
    "with open('../fraudTrain.pkl', 'rb') as file:\n",
    "    fraudTrain = pickle.load(file)    "
   ]
  },
  {
   "cell_type": "code",
   "execution_count": 12,
   "id": "b3855df5-d9cd-412c-8c4f-cdaef7fe77cc",
   "metadata": {},
   "outputs": [],
   "source": [
    "df50 = throw(fraudTrain,0.5)"
   ]
  },
  {
   "cell_type": "code",
   "execution_count": 23,
   "id": "4b3b4e99-9cbf-4752-9b84-ed651ee1f1a2",
   "metadata": {},
   "outputs": [],
   "source": [
    "df_tr. df_tst = sklearn.model_selection.train_test_split(df50)"
   ]
  },
  {
   "cell_type": "code",
   "execution_count": 24,
   "id": "b7b0b364-a87a-4967-be0e-bc06d49a131a",
   "metadata": {},
   "outputs": [],
   "source": [
    "df2, mask = concat(df_tr, df_tst)\n",
    "df2['index'] = df2.index\n",
    "df3 = df2.reset_index()"
   ]
  },
  {
   "cell_type": "code",
   "execution_count": 52,
   "id": "0c248a42-d0c5-4ec8-b3a7-8ba3add5ceff",
   "metadata": {},
   "outputs": [
    {
     "data": {
      "text/plain": [
       "((12012, 24), (9009, 22), (3003, 22))"
      ]
     },
     "execution_count": 52,
     "metadata": {},
     "output_type": "execute_result"
    }
   ],
   "source": [
    "df3.shape, df_tr.shape, df_tst.shape"
   ]
  },
  {
   "cell_type": "code",
   "execution_count": 46,
   "id": "4809fb2e-6b87-4c5b-bf7e-2cdaa784353e",
   "metadata": {},
   "outputs": [],
   "source": [
    "groups = df.groupby('cc_num')\n",
    "edge_index = np.array([item for sublist in (compute_time_difference(group) for _, group in groups) for item in sublist])\n",
    "edge_index = edge_index.astype(np.float64)"
   ]
  },
  {
   "cell_type": "code",
   "execution_count": 27,
   "id": "1a99bd85-af38-4969-b20e-95f953934d39",
   "metadata": {},
   "outputs": [],
   "source": [
    "theta=edge_index[:,2].mean()"
   ]
  },
  {
   "cell_type": "code",
   "execution_count": 54,
   "id": "cbab2eea-9f6b-4469-89c1-8ce91bb2757a",
   "metadata": {},
   "outputs": [
    {
     "data": {
      "text/plain": [
       "7902291.9480857365"
      ]
     },
     "execution_count": 54,
     "metadata": {},
     "output_type": "execute_result"
    }
   ],
   "source": [
    "theta"
   ]
  },
  {
   "cell_type": "code",
   "execution_count": 28,
   "id": "345f923d-327a-4031-abc6-a7e940aecbf1",
   "metadata": {},
   "outputs": [
    {
     "data": {
      "text/plain": [
       "(array([95626., 22640., 19560., 16682., 14894., 11466.,  8934.,  6164.,\n",
       "         2956.,   946.]),\n",
       " array([       0.,  3750444.,  7500888., 11251332., 15001776., 18752220.,\n",
       "        22502664., 26253108., 30003552., 33753996., 37504440.]),\n",
       " <BarContainer object of 10 artists>)"
      ]
     },
     "execution_count": 28,
     "metadata": {},
     "output_type": "execute_result"
    },
    {
     "data": {
      "image/png": "[encoded data removed]",
      "text/plain": [
       "<Figure size 640x480 with 1 Axes>"
      ]
     },
     "metadata": {},
     "output_type": "display_data"
    }
   ],
   "source": [
    "plt.hist(edge_index[:,2])"
   ]
  },
  {
   "cell_type": "code",
   "execution_count": 29,
   "id": "1b0c2718-99ac-4792-91de-251323ae1a8d",
   "metadata": {},
   "outputs": [],
   "source": [
    "edge_index[:,2] = (np.exp(-edge_index[:,2]/(theta)) != 1)*(np.exp(-edge_index[:,2]/(theta))).tolist()"
   ]
  },
  {
   "cell_type": "code",
   "execution_count": 32,
   "id": "50d599cd-6b59-4201-a27a-7eff478ac45e",
   "metadata": {},
   "outputs": [],
   "source": [
    "gamma = (edge_index[:,2]).mean()"
   ]
  },
  {
   "cell_type": "code",
   "execution_count": 35,
   "id": "576e88b8-a11d-4321-a5d3-50ed302ac447",
   "metadata": {},
   "outputs": [
    {
     "data": {
      "text/plain": [
       "0.5099377442499056"
      ]
     },
     "execution_count": 35,
     "metadata": {},
     "output_type": "execute_result"
    }
   ],
   "source": [
    "gamma"
   ]
  },
  {
   "cell_type": "code",
   "execution_count": 34,
   "id": "8b1cd424-3bb7-4231-b745-c8e57d5d4790",
   "metadata": {},
   "outputs": [
    {
     "data": {
      "text/plain": [
       "(array([44802., 22396., 15624., 12386., 10058.,  9374.,  7900.,  6672.,\n",
       "         6418., 64238.]),\n",
       " array([0.        , 0.09999924, 0.19999848, 0.29999772, 0.39999696,\n",
       "        0.4999962 , 0.59999544, 0.69999469, 0.79999393, 0.89999317,\n",
       "        0.99999241]),\n",
       " <BarContainer object of 10 artists>)"
      ]
     },
     "execution_count": 34,
     "metadata": {},
     "output_type": "execute_result"
    },
    {
     "data": {
      "image/png": "[encoded data removed]",
      "text/plain": [
       "<Figure size 640x480 with 1 Axes>"
      ]
     },
     "metadata": {},
     "output_type": "display_data"
    }
   ],
   "source": [
    "plt.hist(edge_index[:,2])"
   ]
  },
  {
   "cell_type": "code",
   "execution_count": 36,
   "id": "93b92532-aad7-441c-a75c-b9bb5899baf1",
   "metadata": {},
   "outputs": [],
   "source": [
    "edge_index = torch.tensor([(int(row[0]), int(row[1])) for row in edge_index if row[2] > gamma], dtype=torch.long).t()\n"
   ]
  },
  {
   "cell_type": "code",
   "execution_count": 37,
   "id": "364e4f98-3449-4091-8a83-cf24d2b222f3",
   "metadata": {},
   "outputs": [],
   "source": [
    "x = torch.tensor(df['amt'].values, dtype=torch.float).reshape(-1,1)\n",
    "y = torch.tensor(df['is_fraud'].values,dtype=torch.int64)\n",
    "data = torch_geometric.data.Data(x=x, edge_index = edge_index, y=y, train_mask = mask[0], test_mask= mask[1])\n"
   ]
  },
  {
   "cell_type": "code",
   "execution_count": 38,
   "id": "4233a27b-2529-4143-859b-e2c2effe80dd",
   "metadata": {},
   "outputs": [],
   "source": [
    "model = GCN1()\n",
    "optimizer = torch.optim.Adam(model.parameters(), lr=0.01, weight_decay=5e-4)\n",
    "yy = (data.y[data.test_mask]).numpy()\n",
    "yyhat, yyhat_ = train_and_evaluate_model(data, model, optimizer)\n",
    "yyhat_ = yyhat_.detach().numpy()\n",
    "eval = evaluation(yy, yyhat, yyhat_)"
   ]
  },
  {
   "cell_type": "code",
   "execution_count": 39,
   "id": "cc137a0c-fe2d-4fa5-acd6-df01e9e3ff22",
   "metadata": {},
   "outputs": [
    {
     "data": {
      "text/plain": [
       "{'acc': 0.9077589077589078,\n",
       " 'pre': 0.9048884165781084,\n",
       " 'rec': 0.9455857856746253,\n",
       " 'f1': 0.9247895737170785,\n",
       " 'auc': 0.939867710765234}"
      ]
     },
     "execution_count": 39,
     "metadata": {},
     "output_type": "execute_result"
    }
   ],
   "source": [
    "eval"
   ]
  },
  {
   "cell_type": "markdown",
   "id": "7f5bf0b9-db57-48ff-893a-71a4df1e06fe",
   "metadata": {},
   "source": [
    "---"
   ]
  },
  {
   "cell_type": "code",
   "execution_count": 47,
   "id": "690d2227-c5a6-4163-95bb-1df9973a01a9",
   "metadata": {},
   "outputs": [],
   "source": [
    "edge_index2 = torch.tensor([(int(row[0]), int(row[1])) for row in edge_index if row[2] > 0.9], dtype=torch.long).t()\n"
   ]
  },
  {
   "cell_type": "code",
   "execution_count": 48,
   "id": "84dbbcb2-3ccb-4cf4-83f7-9f0a0f22c6fe",
   "metadata": {},
   "outputs": [],
   "source": [
    "x = torch.tensor(df['amt'].values, dtype=torch.float).reshape(-1,1)\n",
    "y = torch.tensor(df['is_fraud'].values,dtype=torch.int64)\n",
    "data = torch_geometric.data.Data(x=x, edge_index = edge_index2, y=y, train_mask = mask[0], test_mask= mask[1])\n"
   ]
  },
  {
   "cell_type": "code",
   "execution_count": 49,
   "id": "467bbb94-64f2-4712-9417-8de082767f50",
   "metadata": {},
   "outputs": [],
   "source": [
    "model = GCN1()\n",
    "optimizer = torch.optim.Adam(model.parameters(), lr=0.01, weight_decay=5e-4)\n",
    "yy = (data.y[data.test_mask]).numpy()\n",
    "yyhat, yyhat_ = train_and_evaluate_model(data, model, optimizer)\n",
    "yyhat_ = yyhat_.detach().numpy()\n",
    "eval = evaluation(yy, yyhat, yyhat_)"
   ]
  },
  {
   "cell_type": "code",
   "execution_count": 50,
   "id": "7bedadd3-d291-4af0-bf14-8007e98318fe",
   "metadata": {},
   "outputs": [
    {
     "data": {
      "text/plain": [
       "{'acc': 0.7006327006327007,\n",
       " 'pre': 0.7790841584158416,\n",
       " 'rec': 0.6990560799555803,\n",
       " 'f1': 0.7369037167105648,\n",
       " 'auc': 0.794092716100595}"
      ]
     },
     "execution_count": 50,
     "metadata": {},
     "output_type": "execute_result"
    }
   ],
   "source": [
    "eval"
   ]
  },
  {
   "cell_type": "code",
   "execution_count": null,
   "id": "fcb37b8b-54ef-44ef-bc51-a3f091b387b9",
   "metadata": {},
   "outputs": [],
   "source": []
  }
 ],
 "metadata": {
  "kernelspec": {
   "display_name": "Python 3 (ipykernel)",
   "language": "python",
   "name": "python3"
  },
  "language_info": {
   "codemirror_mode": {
    "name": "ipython",
    "version": 3
   },
   "file_extension": ".py",
   "mimetype": "text/x-python",
   "name": "python",
   "nbconvert_exporter": "python",
   "pygments_lexer": "ipython3",
   "version": "3.8.18"
  }
 },
 "nbformat": 4,
 "nbformat_minor": 5
}
