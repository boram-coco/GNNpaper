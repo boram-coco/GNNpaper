{
 "cells": [
  {
   "cell_type": "raw",
   "id": "ead89876-ba70-480c-9ed6-8c8863b7c978",
   "metadata": {},
   "source": [
    "---\n",
    "title: \"[Proposed] df50_tr,df001_tst 코드보기_인덱스안겹치게\"\n",
    "author: \"김보람\"\n",
    "date: \"02/16/2024\"\n",
    "---"
   ]
  },
  {
   "cell_type": "markdown",
   "id": "96bfdec3-5b07-45b5-9b38-2e8813117310",
   "metadata": {},
   "source": [
    "# imports"
   ]
  },
  {
   "cell_type": "code",
   "execution_count": 1,
   "id": "4eb91738-6398-4ffc-bbec-fc48fcc8f249",
   "metadata": {},
   "outputs": [],
   "source": [
    "import pandas as pd\n",
    "import numpy as np\n",
    "import sklearn\n",
    "import pickle \n",
    "import time \n",
    "import datetime\n",
    "import warnings\n",
    "warnings.filterwarnings('ignore')"
   ]
  },
  {
   "cell_type": "code",
   "execution_count": 2,
   "id": "290df976-de65-4a67-828b-b8fe594538d9",
   "metadata": {},
   "outputs": [],
   "source": [
    "%run ../function_proposed_gcn.py"
   ]
  },
  {
   "cell_type": "code",
   "execution_count": 3,
   "id": "fdfecbba-4a62-4ef9-9c6e-238b71f1fb62",
   "metadata": {},
   "outputs": [],
   "source": [
    "with open('../fraudTrain.pkl', 'rb') as file:\n",
    "    fraudTrain = pickle.load(file)    "
   ]
  },
  {
   "cell_type": "code",
   "execution_count": 4,
   "id": "73ca980a-f865-4026-9c79-df007a125b6c",
   "metadata": {},
   "outputs": [],
   "source": [
    "df50 = throw(fraudTrain,0.5)\n",
    "df_tr, df_tst = sklearn.model_selection.train_test_split(df50)\n",
    "\n",
    "dfn = fraudTrain[::10]"
   ]
  },
  {
   "cell_type": "code",
   "execution_count": 10,
   "id": "5ae58c96-e4e3-4740-9bea-d75b1c5d5653",
   "metadata": {},
   "outputs": [],
   "source": [
    "dfnn = dfn[~dfn.index.isin(df_tr.index)]"
   ]
  },
  {
   "cell_type": "code",
   "execution_count": 11,
   "id": "d5873e60-d3e4-4ca0-9aba-84cb263809b0",
   "metadata": {},
   "outputs": [
    {
     "data": {
      "text/plain": [
       "0.0014052108297481207"
      ]
     },
     "execution_count": 11,
     "metadata": {},
     "output_type": "execute_result"
    }
   ],
   "source": [
    "dfnn.is_fraud.mean()"
   ]
  },
  {
   "cell_type": "code",
   "execution_count": 12,
   "id": "e964e8dc-0ff0-4377-94ab-02c4ca03ea37",
   "metadata": {},
   "outputs": [],
   "source": [
    "dfnn = dfnn.reset_index(drop=True)"
   ]
  },
  {
   "cell_type": "code",
   "execution_count": 13,
   "id": "67f7fd09-0610-4b47-82f1-f89e42a8e229",
   "metadata": {},
   "outputs": [],
   "source": [
    "df_trn, df_tstn = sklearn.model_selection.train_test_split(dfnn)"
   ]
  },
  {
   "cell_type": "code",
   "execution_count": 15,
   "id": "e9a328ab-5341-4aac-86fd-3da7c3eeb12a",
   "metadata": {},
   "outputs": [
    {
     "data": {
      "text/plain": [
       "((9009, 22), (25975, 22))"
      ]
     },
     "execution_count": 15,
     "metadata": {},
     "output_type": "execute_result"
    }
   ],
   "source": [
    "df_tr.shape,df_tstn.shape"
   ]
  },
  {
   "cell_type": "code",
   "execution_count": 16,
   "id": "9419c22e-7f90-454b-b5c5-6d4ddad72cfd",
   "metadata": {},
   "outputs": [],
   "source": [
    "df2, mask = concat(df_tr, df_tstn)\n",
    "df2['index'] = df2.index\n",
    "df = df2.reset_index()"
   ]
  },
  {
   "cell_type": "code",
   "execution_count": 17,
   "id": "e1175573-2a57-4545-a9fa-cf0c891d6b03",
   "metadata": {},
   "outputs": [
    {
     "data": {
      "text/plain": [
       "(0.1296878573061971, 0.4997224997224997, 0.001347449470644851)"
      ]
     },
     "execution_count": 17,
     "metadata": {},
     "output_type": "execute_result"
    }
   ],
   "source": [
    "df.is_fraud.mean(), df_tr.is_fraud.mean(), df_tstn.is_fraud.mean()"
   ]
  },
  {
   "cell_type": "code",
   "execution_count": 18,
   "id": "c28633c2-35e7-4fa8-95a4-36125155cbec",
   "metadata": {},
   "outputs": [],
   "source": [
    "groups = df.groupby('cc_num')"
   ]
  },
  {
   "cell_type": "code",
   "execution_count": 19,
   "id": "071d72aa-0bfb-4bd7-80b8-5df0b9b927a5",
   "metadata": {},
   "outputs": [],
   "source": [
    "edge_index = np.array([item for sublist in (compute_time_difference(group) for _, group in groups) for item in sublist])\n",
    "edge_index = edge_index.astype(np.float64)"
   ]
  },
  {
   "cell_type": "code",
   "execution_count": 20,
   "id": "530e5f1a-3d78-4087-b8c1-5ef6de2a801a",
   "metadata": {},
   "outputs": [
    {
     "data": {
      "text/plain": [
       "11358175.07907386"
      ]
     },
     "execution_count": 20,
     "metadata": {},
     "output_type": "execute_result"
    }
   ],
   "source": [
    "edge_index[:,2].mean()"
   ]
  },
  {
   "cell_type": "code",
   "execution_count": 21,
   "id": "7a8307d8-2ef3-4b53-9670-2b42338ccd93",
   "metadata": {},
   "outputs": [
    {
     "data": {
      "text/plain": [
       "(array([396764., 293830., 253646., 219982., 184930., 141202., 106036.,\n",
       "         71386.,  31362.,  10150.]),\n",
       " array([       0.,  3750282.,  7500564., 11250846., 15001128., 18751410.,\n",
       "        22501692., 26251974., 30002256., 33752538., 37502820.]),\n",
       " <BarContainer object of 10 artists>)"
      ]
     },
     "execution_count": 21,
     "metadata": {},
     "output_type": "execute_result"
    },
    {
     "data": {
      "image/png": "[encoded data removed]",
      "text/plain": [
       "<Figure size 640x480 with 1 Axes>"
      ]
     },
     "metadata": {},
     "output_type": "display_data"
    }
   ],
   "source": [
    "plt.hist(edge_index[:,2])"
   ]
  },
  {
   "cell_type": "code",
   "execution_count": 22,
   "id": "d771a25c-91d9-4439-86d4-26f92f76b985",
   "metadata": {},
   "outputs": [],
   "source": [
    "theta = edge_index[:,2].mean()"
   ]
  },
  {
   "cell_type": "code",
   "execution_count": 23,
   "id": "bac9961b-129c-4490-8a4e-c13e4d0409b4",
   "metadata": {},
   "outputs": [],
   "source": [
    "edge_index[:,2] = (np.exp(-edge_index[:,2]/(theta)) != 1)*(np.exp(-edge_index[:,2]/(theta))).tolist()"
   ]
  },
  {
   "cell_type": "code",
   "execution_count": 24,
   "id": "f14a9e8c-7131-4a66-b6be-e9aca82f27b2",
   "metadata": {},
   "outputs": [],
   "source": [
    "gamma = 0.8"
   ]
  },
  {
   "cell_type": "code",
   "execution_count": 25,
   "id": "14046306-f7a9-48cb-9f40-4a2af9f15cfc",
   "metadata": {},
   "outputs": [],
   "source": [
    "edge_index = torch.tensor([(int(row[0]), int(row[1])) for row in edge_index if row[2] > gamma], dtype=torch.long).t()"
   ]
  },
  {
   "cell_type": "code",
   "execution_count": 26,
   "id": "46cfc8d0-558e-49db-be41-9c500a4f1032",
   "metadata": {},
   "outputs": [],
   "source": [
    "x = torch.tensor(df['amt'].values, dtype=torch.float).reshape(-1,1)\n",
    "y = torch.tensor(df['is_fraud'].values,dtype=torch.int64)\n",
    "data = torch_geometric.data.Data(x=x, edge_index = edge_index, y=y, train_mask = mask[0], test_mask= mask[1])\n"
   ]
  },
  {
   "cell_type": "code",
   "execution_count": 27,
   "id": "82732032-70c0-48ac-8f2a-249d0aa5a65f",
   "metadata": {},
   "outputs": [],
   "source": [
    "model = GCN1()\n",
    "optimizer = torch.optim.Adam(model.parameters(), lr=0.01, weight_decay=5e-4)\n",
    "yy = (data.y[data.test_mask]).numpy()\n",
    "yyhat, yyhat_ = train_and_evaluate_model(data, model, optimizer)\n",
    "yyhat_ = yyhat_.detach().numpy()\n",
    "eval = evaluation(yy, yyhat, yyhat_)"
   ]
  },
  {
   "cell_type": "code",
   "execution_count": 28,
   "id": "fc844c39-2a31-40dc-ba4c-706a09a9da64",
   "metadata": {},
   "outputs": [
    {
     "data": {
      "text/plain": [
       "{'acc': 0.9131857555341675,\n",
       " 'pre': 0.01486013986013986,\n",
       " 'rec': 0.9714285714285714,\n",
       " 'f1': 0.029272492466637965,\n",
       " 'auc': 0.9741133384734002}"
      ]
     },
     "execution_count": 28,
     "metadata": {},
     "output_type": "execute_result"
    }
   ],
   "source": [
    "eval"
   ]
  }
 ],
 "metadata": {
  "kernelspec": {
   "display_name": "Python 3 (ipykernel)",
   "language": "python",
   "name": "python3"
  },
  "language_info": {
   "codemirror_mode": {
    "name": "ipython",
    "version": 3
   },
   "file_extension": ".py",
   "mimetype": "text/x-python",
   "name": "python",
   "nbconvert_exporter": "python",
   "pygments_lexer": "ipython3",
   "version": "3.8.18"
  }
 },
 "nbformat": 4,
 "nbformat_minor": 5
}
