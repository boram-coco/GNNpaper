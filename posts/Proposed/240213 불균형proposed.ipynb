{
 "cells": [
  {
   "cell_type": "raw",
   "id": "ead89876-ba70-480c-9ed6-8c8863b7c978",
   "metadata": {},
   "source": [
    "---\n",
    "title: \"[Proposed] df50tr, df005ts\"\n",
    "author: \"김보람\"\n",
    "date: \"02/13/2024\"\n",
    "---"
   ]
  },
  {
   "cell_type": "markdown",
   "id": "96bfdec3-5b07-45b5-9b38-2e8813117310",
   "metadata": {
    "tags": []
   },
   "source": [
    "# imports"
   ]
  },
  {
   "cell_type": "code",
   "execution_count": 1,
   "id": "4eb91738-6398-4ffc-bbec-fc48fcc8f249",
   "metadata": {},
   "outputs": [],
   "source": [
    "import pandas as pd\n",
    "import numpy as np\n",
    "import sklearn\n",
    "import pickle \n",
    "import time \n",
    "import datetime\n",
    "import warnings\n",
    "warnings.filterwarnings('ignore')"
   ]
  },
  {
   "cell_type": "code",
   "execution_count": 2,
   "id": "290df976-de65-4a67-828b-b8fe594538d9",
   "metadata": {},
   "outputs": [],
   "source": [
    "%run function_proposed_gcn.py"
   ]
  },
  {
   "cell_type": "code",
   "execution_count": 3,
   "id": "fdab28b3-d2d7-403f-b459-3012b4e5e86f",
   "metadata": {},
   "outputs": [],
   "source": [
    "with open('fraudTrain.pkl', 'rb') as file:\n",
    "    fraudTrain = pickle.load(file)    "
   ]
  },
  {
   "cell_type": "markdown",
   "id": "546b9aab-5ce7-43b6-9082-0787ccdd4420",
   "metadata": {},
   "source": [
    "> df50_train, df[::10]: test"
   ]
  },
  {
   "cell_type": "code",
   "execution_count": 4,
   "id": "cc6de8b2-d411-40f4-bc6f-5f0383ca00ce",
   "metadata": {},
   "outputs": [],
   "source": [
    "df_results = try_3(fraudTrain, 10, 0, 0, 10973.519989002007, 0.501)\n",
    "\n",
    "ymdhms = datetime.datetime.fromtimestamp(time.time()).strftime('%Y%m%d-%H%M%S') \n",
    "df_results.to_csv(f'./results/{ymdhms}-proposed.csv',index=False)"
   ]
  },
  {
   "cell_type": "code",
   "execution_count": 5,
   "id": "1cdc6efc-b19c-4f8e-8a22-f586992c54a0",
   "metadata": {},
   "outputs": [
    {
     "data": {
      "text/html": [
       "<div>\n",
       "<style scoped>\n",
       "    .dataframe tbody tr th:only-of-type {\n",
       "        vertical-align: middle;\n",
       "    }\n",
       "\n",
       "    .dataframe tbody tr th {\n",
       "        vertical-align: top;\n",
       "    }\n",
       "\n",
       "    .dataframe thead th {\n",
       "        text-align: right;\n",
       "    }\n",
       "</style>\n",
       "<table border=\"1\" class=\"dataframe\">\n",
       "  <thead>\n",
       "    <tr style=\"text-align: right;\">\n",
       "      <th></th>\n",
       "      <th>model</th>\n",
       "      <th>time</th>\n",
       "      <th>acc</th>\n",
       "      <th>pre</th>\n",
       "      <th>rec</th>\n",
       "      <th>f1</th>\n",
       "      <th>auc</th>\n",
       "      <th>graph_based</th>\n",
       "      <th>method</th>\n",
       "      <th>throw_rate</th>\n",
       "      <th>train_size</th>\n",
       "      <th>train_cols</th>\n",
       "      <th>train_frate</th>\n",
       "      <th>test_size</th>\n",
       "      <th>test_frate</th>\n",
       "      <th>hyper_params</th>\n",
       "      <th>theta</th>\n",
       "      <th>gamma</th>\n",
       "    </tr>\n",
       "  </thead>\n",
       "  <tbody>\n",
       "    <tr>\n",
       "      <th>0</th>\n",
       "      <td>GCN</td>\n",
       "      <td>None</td>\n",
       "      <td>0.964562</td>\n",
       "      <td>0.115884</td>\n",
       "      <td>0.725</td>\n",
       "      <td>0.199828</td>\n",
       "      <td>0.864214</td>\n",
       "      <td>True</td>\n",
       "      <td>Proposed</td>\n",
       "      <td>0</td>\n",
       "      <td>9009</td>\n",
       "      <td>amt</td>\n",
       "      <td>0.498945</td>\n",
       "      <td>3003</td>\n",
       "      <td>0</td>\n",
       "      <td>None</td>\n",
       "      <td>10973.519989</td>\n",
       "      <td>0.501</td>\n",
       "    </tr>\n",
       "  </tbody>\n",
       "</table>\n",
       "</div>"
      ],
      "text/plain": [
       "  model  time       acc       pre    rec        f1       auc graph_based  \\\n",
       "0   GCN  None  0.964562  0.115884  0.725  0.199828  0.864214        True   \n",
       "\n",
       "     method throw_rate train_size train_cols  train_frate test_size  \\\n",
       "0  Proposed          0       9009        amt     0.498945      3003   \n",
       "\n",
       "  test_frate hyper_params         theta  gamma  \n",
       "0          0         None  10973.519989  0.501  "
      ]
     },
     "execution_count": 5,
     "metadata": {},
     "output_type": "execute_result"
    }
   ],
   "source": [
    "df_results"
   ]
  },
  {
   "cell_type": "markdown",
   "id": "c234ada0-1a44-4e08-abd1-a4da1390a8ff",
   "metadata": {},
   "source": [
    "> df50_tr, df50_tst"
   ]
  },
  {
   "cell_type": "code",
   "execution_count": 5,
   "id": "46cccde4-8f23-4613-afb1-5bd5a45205e6",
   "metadata": {},
   "outputs": [],
   "source": [
    "df50 = throw(fraudTrain,0.5)"
   ]
  },
  {
   "cell_type": "code",
   "execution_count": 6,
   "id": "907dfea6-b080-4091-a517-5e22aa30613d",
   "metadata": {},
   "outputs": [
    {
     "data": {
      "text/html": [
       "<div>\n",
       "<style scoped>\n",
       "    .dataframe tbody tr th:only-of-type {\n",
       "        vertical-align: middle;\n",
       "    }\n",
       "\n",
       "    .dataframe tbody tr th {\n",
       "        vertical-align: top;\n",
       "    }\n",
       "\n",
       "    .dataframe thead th {\n",
       "        text-align: right;\n",
       "    }\n",
       "</style>\n",
       "<table border=\"1\" class=\"dataframe\">\n",
       "  <thead>\n",
       "    <tr style=\"text-align: right;\">\n",
       "      <th></th>\n",
       "      <th>model</th>\n",
       "      <th>time</th>\n",
       "      <th>acc</th>\n",
       "      <th>pre</th>\n",
       "      <th>rec</th>\n",
       "      <th>f1</th>\n",
       "      <th>auc</th>\n",
       "      <th>graph_based</th>\n",
       "      <th>method</th>\n",
       "      <th>throw_rate</th>\n",
       "      <th>train_size</th>\n",
       "      <th>train_cols</th>\n",
       "      <th>train_frate</th>\n",
       "      <th>test_size</th>\n",
       "      <th>test_frate</th>\n",
       "      <th>hyper_params</th>\n",
       "      <th>theta</th>\n",
       "      <th>gamma</th>\n",
       "    </tr>\n",
       "  </thead>\n",
       "  <tbody>\n",
       "    <tr>\n",
       "      <th>0</th>\n",
       "      <td>GCN</td>\n",
       "      <td>None</td>\n",
       "      <td>0.886483</td>\n",
       "      <td>0.962151</td>\n",
       "      <td>0.804553</td>\n",
       "      <td>0.876323</td>\n",
       "      <td>0.92527</td>\n",
       "      <td>True</td>\n",
       "      <td>Proposed</td>\n",
       "      <td>0.5</td>\n",
       "      <td>8409</td>\n",
       "      <td>amt</td>\n",
       "      <td>0.500059</td>\n",
       "      <td>3603</td>\n",
       "      <td>0.5</td>\n",
       "      <td>None</td>\n",
       "      <td>10973.519989</td>\n",
       "      <td>0.501</td>\n",
       "    </tr>\n",
       "  </tbody>\n",
       "</table>\n",
       "</div>"
      ],
      "text/plain": [
       "  model  time       acc       pre       rec        f1      auc graph_based  \\\n",
       "0   GCN  None  0.886483  0.962151  0.804553  0.876323  0.92527        True   \n",
       "\n",
       "     method  throw_rate train_size train_cols  train_frate test_size  \\\n",
       "0  Proposed         0.5       8409        amt     0.500059      3603   \n",
       "\n",
       "   test_frate hyper_params         theta  gamma  \n",
       "0         0.5         None  10973.519989  0.501  "
      ]
     },
     "execution_count": 6,
     "metadata": {},
     "output_type": "execute_result"
    }
   ],
   "source": [
    "try_1(df50, 0.5, 0.5, 10973.519989002007, 0.501)"
   ]
  }
 ],
 "metadata": {
  "kernelspec": {
   "display_name": "Python 3 (ipykernel)",
   "language": "python",
   "name": "python3"
  },
  "language_info": {
   "codemirror_mode": {
    "name": "ipython",
    "version": 3
   },
   "file_extension": ".py",
   "mimetype": "text/x-python",
   "name": "python",
   "nbconvert_exporter": "python",
   "pygments_lexer": "ipython3",
   "version": "3.8.18"
  }
 },
 "nbformat": 4,
 "nbformat_minor": 5
}
