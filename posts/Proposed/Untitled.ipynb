{
 "cells": [
  {
   "cell_type": "code",
   "execution_count": 3,
   "id": "c0632faf-d594-41df-9c47-9522f51bbcc7",
   "metadata": {},
   "outputs": [],
   "source": [
    "import pandas as pd\n",
    "import numpy as np\n",
    "import sklearn\n",
    "import pickle \n",
    "import time \n",
    "import datetime\n",
    "import warnings\n",
    "warnings.filterwarnings('ignore')"
   ]
  },
  {
   "cell_type": "code",
   "execution_count": 4,
   "id": "b13a4e8d-d00a-4534-93e1-305d338a3139",
   "metadata": {},
   "outputs": [],
   "source": [
    "def throw(df, fraud_rate, random_state=42):  # 사기 거래 비율에 맞춰 버려지는 함수!\n",
    "    df1 = df[df['is_fraud'] == 1].copy()\n",
    "    df0 = df[df['is_fraud'] == 0].copy()\n",
    "    df0_downsample = (len(df1) * (1-fraud_rate)) / (len(df0) * fraud_rate)\n",
    "    df0_down = df0.sample(frac=df0_downsample, random_state=random_state)\n",
    "    df_p = pd.concat([df1, df0_down])\n",
    "    return df_p\n",
    "\n",
    "def split_dataframe(data_frame, test_fraud_rate, test_rate=0.3, random_state=42):\n",
    "    n = len(data_frame)\n",
    "\n",
    "    # 사기 거래와 정상 거래를 분리\n",
    "    fraud_data = data_frame[data_frame['is_fraud'] == 1]\n",
    "    normal_data = data_frame[data_frame['is_fraud'] == 0]\n",
    "\n",
    "    # 테스트 데이터 크기 계산\n",
    "    test_samples = int(test_fraud_rate * (n * test_rate))\n",
    "    remaining_test_samples = int(n * test_rate) - test_samples\n",
    "\n",
    "    # 사기 거래 및 정상 거래에서 무작위로 테스트 데이터 추출\n",
    "    test_fraud_data = fraud_data.sample(n=test_samples, replace=False, random_state=random_state)\n",
    "    test_normal_data = normal_data.sample(n=remaining_test_samples, replace=False, random_state=random_state)\n",
    "\n",
    "    # 테스트 데이터 합치기\n",
    "    test_data = pd.concat([test_normal_data, test_fraud_data])\n",
    "\n",
    "    # 훈련 데이터 생성\n",
    "    train_data = data_frame[~data_frame.index.isin(test_data.index)]\n",
    "\n",
    "    return train_data, test_data\n"
   ]
  },
  {
   "cell_type": "code",
   "execution_count": 5,
   "id": "80e629bb-8350-4a95-b469-f0a8a5d0cf05",
   "metadata": {},
   "outputs": [],
   "source": [
    "with open('../fraudTrain.pkl', 'rb') as file:\n",
    "    fraudTrain = pickle.load(file)    "
   ]
  },
  {
   "cell_type": "code",
   "execution_count": 6,
   "id": "3618eacf-5bc0-4a63-bd39-be8094ce0294",
   "metadata": {},
   "outputs": [],
   "source": [
    "df = throw(fraudTrain, 0.1)"
   ]
  },
  {
   "cell_type": "code",
   "execution_count": 16,
   "id": "b4bc42f4-2ef8-4cf1-8d14-45432a5e8185",
   "metadata": {},
   "outputs": [],
   "source": [
    "df_tr, df_tst = split_dataframe(df, 0.006)"
   ]
  },
  {
   "cell_type": "code",
   "execution_count": 17,
   "id": "f9f0a619-403f-4871-8dd2-4e7099b6d641",
   "metadata": {},
   "outputs": [
    {
     "data": {
      "text/plain": [
       "(0.140288283145426, 0.005994005994005994)"
      ]
     },
     "execution_count": 17,
     "metadata": {},
     "output_type": "execute_result"
    }
   ],
   "source": [
    "df_tr.is_fraud.mean(), df_tst.is_fraud.mean()"
   ]
  },
  {
   "cell_type": "code",
   "execution_count": 18,
   "id": "8310ce47-bc1f-4f3b-a891-9e46f8ba3278",
   "metadata": {},
   "outputs": [],
   "source": [
    "import sklearn.model_selection"
   ]
  },
  {
   "cell_type": "code",
   "execution_count": 19,
   "id": "6ffe66e4-e60e-429b-af99-8018cb1be769",
   "metadata": {},
   "outputs": [],
   "source": [
    "df_trn, df_tstn =  sklearn.model_selection.train_test_split(df)"
   ]
  },
  {
   "cell_type": "code",
   "execution_count": 20,
   "id": "f86168e0-4077-4cf5-95e4-a18aa0a5b210",
   "metadata": {},
   "outputs": [
    {
     "data": {
      "text/plain": [
       "(0.09872349872349873, 0.10382950382950383)"
      ]
     },
     "execution_count": 20,
     "metadata": {},
     "output_type": "execute_result"
    }
   ],
   "source": [
    "df_trn.is_fraud.mean(), df_tstn.is_fraud.mean()"
   ]
  },
  {
   "cell_type": "code",
   "execution_count": null,
   "id": "f2b8318c-1e36-47af-a3c0-10c33c3e8c28",
   "metadata": {},
   "outputs": [],
   "source": []
  }
 ],
 "metadata": {
  "kernelspec": {
   "display_name": "Python 3 (ipykernel)",
   "language": "python",
   "name": "python3"
  },
  "language_info": {
   "codemirror_mode": {
    "name": "ipython",
    "version": 3
   },
   "file_extension": ".py",
   "mimetype": "text/x-python",
   "name": "python",
   "nbconvert_exporter": "python",
   "pygments_lexer": "ipython3",
   "version": "3.8.18"
  }
 },
 "nbformat": 4,
 "nbformat_minor": 5
}
