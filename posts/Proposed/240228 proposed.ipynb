{
 "cells": [
  {
   "cell_type": "raw",
   "id": "ead89876-ba70-480c-9ed6-8c8863b7c978",
   "metadata": {},
   "source": [
    "---\n",
    "title: \"[Proposed] df0.052~df0.098\"\n",
    "author: \"김보람\"\n",
    "date: \"02/22/2024\"\n",
    "---"
   ]
  },
  {
   "cell_type": "markdown",
   "id": "96bfdec3-5b07-45b5-9b38-2e8813117310",
   "metadata": {},
   "source": [
    "# imports"
   ]
  },
  {
   "cell_type": "code",
   "execution_count": 1,
   "id": "4eb91738-6398-4ffc-bbec-fc48fcc8f249",
   "metadata": {},
   "outputs": [],
   "source": [
    "import pandas as pd\n",
    "import numpy as np\n",
    "import sklearn\n",
    "import pickle \n",
    "import time \n",
    "import datetime\n",
    "import warnings\n",
    "warnings.filterwarnings('ignore')"
   ]
  },
  {
   "cell_type": "code",
   "execution_count": 2,
   "id": "290df976-de65-4a67-828b-b8fe594538d9",
   "metadata": {},
   "outputs": [],
   "source": [
    "%run ../function_proposed_gcn.py"
   ]
  },
  {
   "cell_type": "code",
   "execution_count": 3,
   "id": "fdfecbba-4a62-4ef9-9c6e-238b71f1fb62",
   "metadata": {},
   "outputs": [],
   "source": [
    "with open('../fraudTrain.pkl', 'rb') as file:\n",
    "    fraudTrain = pickle.load(file)    "
   ]
  },
  {
   "cell_type": "code",
   "execution_count": 4,
   "id": "16c05fc6-aaf5-4795-abeb-ef8979f7df68",
   "metadata": {},
   "outputs": [
    {
     "data": {
      "text/plain": [
       "0.005727773406766326"
      ]
     },
     "execution_count": 4,
     "metadata": {},
     "output_type": "execute_result"
    }
   ],
   "source": [
    "fraudTrain.is_fraud.mean()"
   ]
  },
  {
   "cell_type": "code",
   "execution_count": 5,
   "id": "5bd7eb9f-6a65-4ae5-b47f-90cd5d9626e3",
   "metadata": {},
   "outputs": [
    {
     "data": {
      "text/html": [
       "<div>\n",
       "<style scoped>\n",
       "    .dataframe tbody tr th:only-of-type {\n",
       "        vertical-align: middle;\n",
       "    }\n",
       "\n",
       "    .dataframe tbody tr th {\n",
       "        vertical-align: top;\n",
       "    }\n",
       "\n",
       "    .dataframe thead th {\n",
       "        text-align: right;\n",
       "    }\n",
       "</style>\n",
       "<table border=\"1\" class=\"dataframe\">\n",
       "  <thead>\n",
       "    <tr style=\"text-align: right;\">\n",
       "      <th></th>\n",
       "      <th>model</th>\n",
       "      <th>time</th>\n",
       "      <th>acc</th>\n",
       "      <th>pre</th>\n",
       "      <th>rec</th>\n",
       "      <th>f1</th>\n",
       "      <th>auc</th>\n",
       "      <th>graph_based</th>\n",
       "      <th>method</th>\n",
       "      <th>throw_rate</th>\n",
       "      <th>train_size</th>\n",
       "      <th>train_cols</th>\n",
       "      <th>train_frate</th>\n",
       "      <th>test_size</th>\n",
       "      <th>test_frate</th>\n",
       "      <th>hyper_params</th>\n",
       "      <th>theta</th>\n",
       "      <th>gamma</th>\n",
       "    </tr>\n",
       "  </thead>\n",
       "  <tbody>\n",
       "    <tr>\n",
       "      <th>0</th>\n",
       "      <td>GCN</td>\n",
       "      <td>None</td>\n",
       "      <td>0.960831</td>\n",
       "      <td>0.692698</td>\n",
       "      <td>0.452019</td>\n",
       "      <td>0.547056</td>\n",
       "      <td>0.972166</td>\n",
       "      <td>True</td>\n",
       "      <td>Proposed</td>\n",
       "      <td>0.052</td>\n",
       "      <td>86625</td>\n",
       "      <td>amt</td>\n",
       "      <td>0.051890</td>\n",
       "      <td>28875</td>\n",
       "      <td>0.052329</td>\n",
       "      <td>None</td>\n",
       "      <td>10000000.0</td>\n",
       "      <td>0.8</td>\n",
       "    </tr>\n",
       "    <tr>\n",
       "      <th>1</th>\n",
       "      <td>GCN</td>\n",
       "      <td>None</td>\n",
       "      <td>0.969143</td>\n",
       "      <td>0.761484</td>\n",
       "      <td>0.594483</td>\n",
       "      <td>0.667699</td>\n",
       "      <td>0.982588</td>\n",
       "      <td>True</td>\n",
       "      <td>Proposed</td>\n",
       "      <td>0.054</td>\n",
       "      <td>83416</td>\n",
       "      <td>amt</td>\n",
       "      <td>0.054618</td>\n",
       "      <td>27806</td>\n",
       "      <td>0.052147</td>\n",
       "      <td>None</td>\n",
       "      <td>10000000.0</td>\n",
       "      <td>0.8</td>\n",
       "    </tr>\n",
       "    <tr>\n",
       "      <th>2</th>\n",
       "      <td>GCN</td>\n",
       "      <td>None</td>\n",
       "      <td>0.964047</td>\n",
       "      <td>0.758494</td>\n",
       "      <td>0.540930</td>\n",
       "      <td>0.631498</td>\n",
       "      <td>0.981711</td>\n",
       "      <td>True</td>\n",
       "      <td>Proposed</td>\n",
       "      <td>0.056</td>\n",
       "      <td>80437</td>\n",
       "      <td>amt</td>\n",
       "      <td>0.055683</td>\n",
       "      <td>26813</td>\n",
       "      <td>0.056950</td>\n",
       "      <td>None</td>\n",
       "      <td>10000000.0</td>\n",
       "      <td>0.8</td>\n",
       "    </tr>\n",
       "    <tr>\n",
       "      <th>3</th>\n",
       "      <td>GCN</td>\n",
       "      <td>None</td>\n",
       "      <td>0.956621</td>\n",
       "      <td>0.698658</td>\n",
       "      <td>0.448939</td>\n",
       "      <td>0.546629</td>\n",
       "      <td>0.972666</td>\n",
       "      <td>True</td>\n",
       "      <td>Proposed</td>\n",
       "      <td>0.058</td>\n",
       "      <td>77664</td>\n",
       "      <td>amt</td>\n",
       "      <td>0.057916</td>\n",
       "      <td>25888</td>\n",
       "      <td>0.058251</td>\n",
       "      <td>None</td>\n",
       "      <td>10000000.0</td>\n",
       "      <td>0.8</td>\n",
       "    </tr>\n",
       "  </tbody>\n",
       "</table>\n",
       "</div>"
      ],
      "text/plain": [
       "  model  time       acc       pre       rec        f1       auc graph_based  \\\n",
       "0   GCN  None  0.960831  0.692698  0.452019  0.547056  0.972166        True   \n",
       "1   GCN  None  0.969143  0.761484  0.594483  0.667699  0.982588        True   \n",
       "2   GCN  None  0.964047  0.758494  0.540930  0.631498  0.981711        True   \n",
       "3   GCN  None  0.956621  0.698658  0.448939  0.546629  0.972666        True   \n",
       "\n",
       "     method  throw_rate train_size train_cols  train_frate test_size  \\\n",
       "0  Proposed       0.052      86625        amt     0.051890     28875   \n",
       "1  Proposed       0.054      83416        amt     0.054618     27806   \n",
       "2  Proposed       0.056      80437        amt     0.055683     26813   \n",
       "3  Proposed       0.058      77664        amt     0.057916     25888   \n",
       "\n",
       "   test_frate hyper_params       theta  gamma  \n",
       "0    0.052329         None  10000000.0    0.8  \n",
       "1    0.052147         None  10000000.0    0.8  \n",
       "2    0.056950         None  10000000.0    0.8  \n",
       "3    0.058251         None  10000000.0    0.8  "
      ]
     },
     "execution_count": 5,
     "metadata": {},
     "output_type": "execute_result"
    }
   ],
   "source": [
    "df_results = try_6(fraudTrain, 0.052,1e7,0.8)\n",
    "df_results = try_6(fraudTrain, 0.054,1e7,0.8, prev_results=df_results)\n",
    "df_results = try_6(fraudTrain, 0.056,1e7,0.8, prev_results=df_results)\n",
    "df_results = try_6(fraudTrain, 0.058,1e7,0.8, prev_results=df_results)\n",
    "ymdhms = datetime.datetime.fromtimestamp(time.time()).strftime('%Y%m%d-%H%M%S') \n",
    "df_results.to_csv(f'../results/{ymdhms}-proposed.csv',index=False)\n",
    "\n",
    "df_results"
   ]
  },
  {
   "cell_type": "code",
   "execution_count": null,
   "id": "4a98cd08-af2a-4ebd-8f4b-934f1298b770",
   "metadata": {},
   "outputs": [],
   "source": [
    "df_results = try_6(fraudTrain, 0.06,1e7,0.8)\n",
    "df_results = try_6(fraudTrain, 0.062,1e7,0.8, prev_results=df_results)\n",
    "df_results = try_6(fraudTrain, 0.064,1e7,0.8, prev_results=df_results)\n",
    "df_results = try_6(fraudTrain, 0.066, 1e7,0.8, prev_results=df_results)\n",
    "df_results = try_6(fraudTrain, 0.068,1e7,0.8, prev_results=df_results)\n",
    "ymdhms = datetime.datetime.fromtimestamp(time.time()).strftime('%Y%m%d-%H%M%S') \n",
    "df_results.to_csv(f'../results/{ymdhms}-proposed.csv',index=False)\n",
    "\n",
    "df_results"
   ]
  },
  {
   "cell_type": "code",
   "execution_count": null,
   "id": "a0f3d0f0-5fa6-4d4b-a639-dcacd3b318db",
   "metadata": {},
   "outputs": [],
   "source": [
    "df_results = try_6(fraudTrain, 0.07,1e7,0.8)\n",
    "df_results = try_6(fraudTrain, 0.072,1e7,0.8, prev_results=df_results)\n",
    "df_results = try_6(fraudTrain, 0.074,1e7,0.8, prev_results=df_results)\n",
    "df_results = try_6(fraudTrain, 0.076,1e7,0.8, prev_results=df_results)\n",
    "df_results = try_6(fraudTrain, 0.078,1e7,0.8, prev_results=df_results)\n",
    "ymdhms = datetime.datetime.fromtimestamp(time.time()).strftime('%Y%m%d-%H%M%S') \n",
    "df_results.to_csv(f'../results/{ymdhms}-proposed.csv',index=False)\n",
    "\n",
    "df_results"
   ]
  },
  {
   "cell_type": "code",
   "execution_count": null,
   "id": "2a50f0fe-70e1-4686-a6fb-ee459b845be1",
   "metadata": {},
   "outputs": [],
   "source": [
    "df_results = try_6(fraudTrain, 0.08,1e7,0.8)\n",
    "df_results = try_6(fraudTrain, 0.082,1e7,0.8, prev_results=df_results)\n",
    "df_results = try_6(fraudTrain, 0.084,1e7,0.8, prev_results=df_results)\n",
    "df_results = try_6(fraudTrain, 0.086,1e7,0.8, prev_results=df_results)\n",
    "df_results = try_6(fraudTrain, 0.088,1e7,0.8, prev_results=df_results)\n",
    "ymdhms = datetime.datetime.fromtimestamp(time.time()).strftime('%Y%m%d-%H%M%S') \n",
    "df_results.to_csv(f'../results/{ymdhms}-proposed.csv',index=False)\n",
    "\n",
    "df_results"
   ]
  },
  {
   "cell_type": "code",
   "execution_count": null,
   "id": "938ade22-d7d9-472c-809e-405a2d86a510",
   "metadata": {},
   "outputs": [],
   "source": [
    "df_results = try_6(fraudTrain, 0.09,1e7,0.8)\n",
    "df_results = try_6(fraudTrain, 0.092,1e7,0.8, prev_results=df_results)\n",
    "df_results = try_6(fraudTrain, 0.094,1e7,0.8, prev_results=df_results)\n",
    "df_results = try_6(fraudTrain, 0.096,1e7,0.8, prev_results=df_results)\n",
    "df_results = try_6(fraudTrain, 0.098,1e7,0.8, prev_results=df_results)\n",
    "ymdhms = datetime.datetime.fromtimestamp(time.time()).strftime('%Y%m%d-%H%M%S') \n",
    "df_results.to_csv(f'../results/{ymdhms}-proposed.csv',index=False)\n",
    "\n",
    "df_results"
   ]
  },
  {
   "cell_type": "code",
   "execution_count": null,
   "id": "47082b94-3d54-4f02-92a4-e4242d5c7fab",
   "metadata": {
    "tags": []
   },
   "outputs": [],
   "source": [
    "df_results = try_6(fraudTrain, 0.00573,1e7,0.8)\n",
    "ymdhms = datetime.datetime.fromtimestamp(time.time()).strftime('%Y%m%d-%H%M%S') \n",
    "df_results.to_csv(f'../results/{ymdhms}-proposed.csv',index=False)\n",
    "\n",
    "df_results"
   ]
  },
  {
   "cell_type": "code",
   "execution_count": null,
   "id": "e0df7354-cf24-417b-b557-a87802018f8c",
   "metadata": {},
   "outputs": [],
   "source": []
  }
 ],
 "metadata": {
  "kernelspec": {
   "display_name": "Python 3 (ipykernel)",
   "language": "python",
   "name": "python3"
  },
  "language_info": {
   "codemirror_mode": {
    "name": "ipython",
    "version": 3
   },
   "file_extension": ".py",
   "mimetype": "text/x-python",
   "name": "python",
   "nbconvert_exporter": "python",
   "pygments_lexer": "ipython3",
   "version": "3.8.18"
  }
 },
 "nbformat": 4,
 "nbformat_minor": 5
}
