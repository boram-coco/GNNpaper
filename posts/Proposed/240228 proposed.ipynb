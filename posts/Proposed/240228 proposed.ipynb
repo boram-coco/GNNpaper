{
 "cells": [
  {
   "cell_type": "raw",
   "id": "ead89876-ba70-480c-9ed6-8c8863b7c978",
   "metadata": {},
   "source": [
    "---\n",
    "title: \"[Proposed] df0.052~df0.098\"\n",
    "author: \"김보람\"\n",
    "date: \"02/22/2024\"\n",
    "---"
   ]
  },
  {
   "cell_type": "markdown",
   "id": "96bfdec3-5b07-45b5-9b38-2e8813117310",
   "metadata": {},
   "source": [
    "# imports"
   ]
  },
  {
   "cell_type": "code",
   "execution_count": 2,
   "id": "4eb91738-6398-4ffc-bbec-fc48fcc8f249",
   "metadata": {},
   "outputs": [],
   "source": [
    "import pandas as pd\n",
    "import numpy as np\n",
    "import sklearn\n",
    "import pickle \n",
    "import time \n",
    "import datetime\n",
    "import warnings\n",
    "warnings.filterwarnings('ignore')"
   ]
  },
  {
   "cell_type": "code",
   "execution_count": 3,
   "id": "290df976-de65-4a67-828b-b8fe594538d9",
   "metadata": {},
   "outputs": [],
   "source": [
    "%run ../function_proposed_gcn.py"
   ]
  },
  {
   "cell_type": "code",
   "execution_count": 4,
   "id": "fdfecbba-4a62-4ef9-9c6e-238b71f1fb62",
   "metadata": {},
   "outputs": [],
   "source": [
    "with open('../fraudTrain.pkl', 'rb') as file:\n",
    "    fraudTrain = pickle.load(file)    "
   ]
  },
  {
   "cell_type": "code",
   "execution_count": null,
   "id": "5bd7eb9f-6a65-4ae5-b47f-90cd5d9626e3",
   "metadata": {},
   "outputs": [],
   "source": []
  },
  {
   "cell_type": "code",
   "execution_count": null,
   "id": "938ade22-d7d9-472c-809e-405a2d86a510",
   "metadata": {},
   "outputs": [],
   "source": [
    "df_results = try_6(fraudTrain, 0.052,1e7,0.8)\n",
    "df_results = try_6(fraudTrain, 0.054,1e7,0.8, prev_results=df_results)\n",
    "df_results = try_6(fraudTrain, 0.056,1e7,0.8, prev_results=df_results)\n",
    "df_results = try_6(fraudTrain, 0.058,1e7,0.8, prev_results=df_results)\n",
    "df_results = try_6(fraudTrain, 0.06,1e7,0.8, prev_results=df_results)\n",
    "df_results = try_6(fraudTrain, 0.062,1e7,0.8, prev_results=df_results)\n",
    "df_results = try_6(fraudTrain, 0.064,1e7,0.8, prev_results=df_results)\n",
    "df_results = try_6(fraudTrain, 0.066, 1e7,0.8, prev_results=df_results)\n",
    "df_results = try_6(fraudTrain, 0.068,1e7,0.8, prev_results=df_results)\n",
    "df_results = try_6(fraudTrain, 0.07,1e7,0.8, prev_results=df_results)\n",
    "df_results = try_6(fraudTrain, 0.072,1e7,0.8, prev_results=df_results)\n",
    "df_results = try_6(fraudTrain, 0.074,1e7,0.8, prev_results=df_results)\n",
    "df_results = try_6(fraudTrain, 0.076,1e7,0.8, prev_results=df_results)\n",
    "df_results = try_6(fraudTrain, 0.078,1e7,0.8, prev_results=df_results)\n",
    "df_results = try_6(fraudTrain, 0.08,1e7,0.8, prev_results=df_results)\n",
    "df_results = try_6(fraudTrain, 0.082,1e7,0.8, prev_results=df_results)\n",
    "df_results = try_6(fraudTrain, 0.084,1e7,0.8, prev_results=df_results)\n",
    "df_results = try_6(fraudTrain, 0.086,1e7,0.8, prev_results=df_results)\n",
    "df_results = try_6(fraudTrain, 0.09,1e7,0.8, prev_results=df_results)\n",
    "df_results = try_6(fraudTrain, 0.092,1e7,0.8, prev_results=df_results)\n",
    "df_results = try_6(fraudTrain, 0.094,1e7,0.8, prev_results=df_results)\n",
    "df_results = try_6(fraudTrain, 0.096,1e7,0.8, prev_results=df_results)\n",
    "df_results = try_6(fraudTrain, 0.098,1e7,0.8, prev_results=df_results)\n",
    "ymdhms = datetime.datetime.fromtimestamp(time.time()).strftime('%Y%m%d-%H%M%S') \n",
    "df_results.to_csv(f'../results/{ymdhms}-proposed.csv',index=False)\n",
    "\n",
    "df_results"
   ]
  },
  {
   "cell_type": "code",
   "execution_count": null,
   "id": "47082b94-3d54-4f02-92a4-e4242d5c7fab",
   "metadata": {},
   "outputs": [],
   "source": []
  }
 ],
 "metadata": {
  "kernelspec": {
   "display_name": "Python 3 (ipykernel)",
   "language": "python",
   "name": "python3"
  },
  "language_info": {
   "codemirror_mode": {
    "name": "ipython",
    "version": 3
   },
   "file_extension": ".py",
   "mimetype": "text/x-python",
   "name": "python",
   "nbconvert_exporter": "python",
   "pygments_lexer": "ipython3",
   "version": "3.8.18"
  }
 },
 "nbformat": 4,
 "nbformat_minor": 5
}
