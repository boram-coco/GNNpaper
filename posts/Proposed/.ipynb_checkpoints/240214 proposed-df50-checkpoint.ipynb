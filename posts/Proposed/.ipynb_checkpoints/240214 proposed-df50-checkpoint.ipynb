{
 "cells": [
  {
   "cell_type": "raw",
   "id": "4582dee8-0071-4881-b379-f8c714f8ca90",
   "metadata": {},
   "source": [
    "---\n",
    "title: \"[Proposed] df50\"\n",
    "author: \"김보람\"\n",
    "date: \"02/14/2024\"\n",
    "---"
   ]
  },
  {
   "cell_type": "markdown",
   "id": "96bfdec3-5b07-45b5-9b38-2e8813117310",
   "metadata": {
    "tags": []
   },
   "source": [
    "# imports"
   ]
  },
  {
   "cell_type": "code",
   "execution_count": 1,
   "id": "4eb91738-6398-4ffc-bbec-fc48fcc8f249",
   "metadata": {},
   "outputs": [],
   "source": [
    "import pandas as pd\n",
    "import numpy as np\n",
    "import sklearn\n",
    "import pickle \n",
    "import time \n",
    "import datetime\n",
    "import warnings\n",
    "warnings.filterwarnings('ignore')"
   ]
  },
  {
   "cell_type": "code",
   "execution_count": 2,
   "id": "290df976-de65-4a67-828b-b8fe594538d9",
   "metadata": {},
   "outputs": [],
   "source": [
    "%run ../function_proposed_gcn.py"
   ]
  },
  {
   "cell_type": "code",
   "execution_count": 3,
   "id": "fdab28b3-d2d7-403f-b459-3012b4e5e86f",
   "metadata": {},
   "outputs": [],
   "source": [
    "with open('../fraudTrain.pkl', 'rb') as file:\n",
    "    fraudTrain = pickle.load(file)    "
   ]
  },
  {
   "cell_type": "code",
   "execution_count": 4,
   "id": "46cccde4-8f23-4613-afb1-5bd5a45205e6",
   "metadata": {},
   "outputs": [],
   "source": [
    "df50 = throw(fraudTrain,0.5)"
   ]
  },
  {
   "cell_type": "code",
   "execution_count": null,
   "id": "b2a4fe89-f2c9-47a8-a1ac-0baa6691ff28",
   "metadata": {},
   "outputs": [],
   "source": [
    "df_results = try_1(df50, 0.5, 0.5, 10973.519989002007, 0.501)\n",
    "df_results = try_1(df50, 0.5, 0.5, 15000, 0.5, prev_results=df_results)\n",
    "df_results = try_1(df50, 0.5, 0.5, 15000, 0.6, prev_results=df_results)\n",
    "df_results = try_1(df50, 0.5, 0.5, 15000, 0.7, prev_results=df_results)\n",
    "df_results = try_1(df50, 0.5, 0.5, 15000, 0.8, prev_results=df_results)\n",
    "df_results = try_1(df50, 0.5, 0.5, 15000, 0.9, prev_results=df_results)\n",
    "df_results = try_1(df50, 0.5, 0.5, 15000, 0.6, prev_results=df_results)\n",
    "df_results = try_1(df50, 0.5, 0.5, 15000, 0.6, prev_results=df_results)\n",
    "df_results = try_1(df50, 0.5, 0.5, 15000, 0.6, prev_results=df_results)\n",
    "\n",
    "dhms = datetime.datetime.fromtimestamp(time.time()).strftime('%Y%m%d-%H%M%S') \n",
    "df_results.to_csv(f'../results/{ymdhms}-proposed.csv',index=False)\n",
    "\n",
    "df_results"
   ]
  },
  {
   "cell_type": "code",
   "execution_count": null,
   "id": "747f8b53-95f4-4951-a64d-6db163d974d6",
   "metadata": {},
   "outputs": [],
   "source": []
  },
  {
   "cell_type": "code",
   "execution_count": null,
   "id": "b6c333fc-ca9f-4bca-868f-0473eebdfeb4",
   "metadata": {},
   "outputs": [],
   "source": []
  }
 ],
 "metadata": {
  "kernelspec": {
   "display_name": "Python 3 (ipykernel)",
   "language": "python",
   "name": "python3"
  },
  "language_info": {
   "codemirror_mode": {
    "name": "ipython",
    "version": 3
   },
   "file_extension": ".py",
   "mimetype": "text/x-python",
   "name": "python",
   "nbconvert_exporter": "python",
   "pygments_lexer": "ipython3",
   "version": "3.8.18"
  }
 },
 "nbformat": 4,
 "nbformat_minor": 5
}
