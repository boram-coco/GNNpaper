{
 "cells": [
  {
   "cell_type": "raw",
   "id": "ead89876-ba70-480c-9ed6-8c8863b7c978",
   "metadata": {},
   "source": [
    "---\n",
    "title: \"[Proposed] (0.005)-망\"\n",
    "author: \"김보람\"\n",
    "date: \"02/12/2024\"\n",
    "---"
   ]
  },
  {
   "cell_type": "markdown",
   "id": "96bfdec3-5b07-45b5-9b38-2e8813117310",
   "metadata": {},
   "source": [
    "# imports"
   ]
  },
  {
   "cell_type": "code",
   "execution_count": 1,
   "id": "4eb91738-6398-4ffc-bbec-fc48fcc8f249",
   "metadata": {},
   "outputs": [],
   "source": [
    "import pandas as pd\n",
    "import numpy as np\n",
    "import sklearn\n",
    "import pickle \n",
    "import time \n",
    "import datetime\n",
    "import warnings\n",
    "warnings.filterwarnings('ignore')"
   ]
  },
  {
   "cell_type": "code",
   "execution_count": 2,
   "id": "290df976-de65-4a67-828b-b8fe594538d9",
   "metadata": {},
   "outputs": [],
   "source": [
    "%run function_proposed_gcn.py"
   ]
  },
  {
   "cell_type": "code",
   "execution_count": 3,
   "id": "fdfecbba-4a62-4ef9-9c6e-238b71f1fb62",
   "metadata": {},
   "outputs": [],
   "source": [
    "with open('fraudTrain.pkl', 'rb') as file:\n",
    "    fraudTrain = pickle.load(file)    "
   ]
  },
  {
   "cell_type": "code",
   "execution_count": 4,
   "id": "ec86cbcb-c49b-4edd-8769-0794916d4403",
   "metadata": {
    "tags": []
   },
   "outputs": [
    {
     "data": {
      "text/plain": [
       "0.005807854431707643"
      ]
     },
     "execution_count": 4,
     "metadata": {},
     "output_type": "execute_result"
    }
   ],
   "source": [
    "df = fraudTrain[::10]\n",
    "\n",
    "df = df.reset_index()\n",
    "\n",
    "df.is_fraud.mean()\n",
    "\n",
    "# df_train, df_test = sklearn.model_selection.train_test_split(df)"
   ]
  },
  {
   "cell_type": "code",
   "execution_count": 8,
   "id": "9d84c8ac-9824-4eef-9da5-100239a7d201",
   "metadata": {},
   "outputs": [],
   "source": [
    "df_results = try_2(df, 0.005807, 0.005836, 10e+04, 0.3)"
   ]
  },
  {
   "cell_type": "code",
   "execution_count": 9,
   "id": "eeafca3e-168d-477f-b096-eebc91a481c6",
   "metadata": {},
   "outputs": [
    {
     "data": {
      "text/html": [
       "<div>\n",
       "<style scoped>\n",
       "    .dataframe tbody tr th:only-of-type {\n",
       "        vertical-align: middle;\n",
       "    }\n",
       "\n",
       "    .dataframe tbody tr th {\n",
       "        vertical-align: top;\n",
       "    }\n",
       "\n",
       "    .dataframe thead th {\n",
       "        text-align: right;\n",
       "    }\n",
       "</style>\n",
       "<table border=\"1\" class=\"dataframe\">\n",
       "  <thead>\n",
       "    <tr style=\"text-align: right;\">\n",
       "      <th></th>\n",
       "      <th>model</th>\n",
       "      <th>time</th>\n",
       "      <th>acc</th>\n",
       "      <th>pre</th>\n",
       "      <th>rec</th>\n",
       "      <th>f1</th>\n",
       "      <th>auc</th>\n",
       "      <th>graph_based</th>\n",
       "      <th>method</th>\n",
       "      <th>throw_rate</th>\n",
       "      <th>train_size</th>\n",
       "      <th>train_cols</th>\n",
       "      <th>train_frate</th>\n",
       "      <th>test_size</th>\n",
       "      <th>test_frate</th>\n",
       "      <th>hyper_params</th>\n",
       "      <th>theta</th>\n",
       "      <th>gamma</th>\n",
       "    </tr>\n",
       "  </thead>\n",
       "  <tbody>\n",
       "    <tr>\n",
       "      <th>0</th>\n",
       "      <td>GCN</td>\n",
       "      <td>None</td>\n",
       "      <td>0.993898</td>\n",
       "      <td>0.0</td>\n",
       "      <td>0.0</td>\n",
       "      <td>0.0</td>\n",
       "      <td>0.822009</td>\n",
       "      <td>True</td>\n",
       "      <td>Proposed</td>\n",
       "      <td>0.005807</td>\n",
       "      <td>7864</td>\n",
       "      <td>amt</td>\n",
       "      <td>0.003942</td>\n",
       "      <td>2622</td>\n",
       "      <td>0.005836</td>\n",
       "      <td>None</td>\n",
       "      <td>100000.0</td>\n",
       "      <td>0.3</td>\n",
       "    </tr>\n",
       "  </tbody>\n",
       "</table>\n",
       "</div>"
      ],
      "text/plain": [
       "  model  time       acc  pre  rec   f1       auc graph_based    method  \\\n",
       "0   GCN  None  0.993898  0.0  0.0  0.0  0.822009        True  Proposed   \n",
       "\n",
       "   throw_rate train_size train_cols  train_frate test_size  test_frate  \\\n",
       "0    0.005807       7864        amt     0.003942      2622    0.005836   \n",
       "\n",
       "  hyper_params     theta  gamma  \n",
       "0         None  100000.0    0.3  "
      ]
     },
     "execution_count": 9,
     "metadata": {},
     "output_type": "execute_result"
    }
   ],
   "source": [
    "df_results"
   ]
  },
  {
   "cell_type": "code",
   "execution_count": 10,
   "id": "790f8e88-1113-4364-87d2-8b9bcc31586c",
   "metadata": {},
   "outputs": [],
   "source": [
    "df_results = try_2(df, 0.005807, 0.005836, 10e+03, 0.3)"
   ]
  },
  {
   "cell_type": "code",
   "execution_count": 11,
   "id": "b53c8651-126f-48cd-aa7a-e2e44faa09bf",
   "metadata": {},
   "outputs": [
    {
     "data": {
      "text/html": [
       "<div>\n",
       "<style scoped>\n",
       "    .dataframe tbody tr th:only-of-type {\n",
       "        vertical-align: middle;\n",
       "    }\n",
       "\n",
       "    .dataframe tbody tr th {\n",
       "        vertical-align: top;\n",
       "    }\n",
       "\n",
       "    .dataframe thead th {\n",
       "        text-align: right;\n",
       "    }\n",
       "</style>\n",
       "<table border=\"1\" class=\"dataframe\">\n",
       "  <thead>\n",
       "    <tr style=\"text-align: right;\">\n",
       "      <th></th>\n",
       "      <th>model</th>\n",
       "      <th>time</th>\n",
       "      <th>acc</th>\n",
       "      <th>pre</th>\n",
       "      <th>rec</th>\n",
       "      <th>f1</th>\n",
       "      <th>auc</th>\n",
       "      <th>graph_based</th>\n",
       "      <th>method</th>\n",
       "      <th>throw_rate</th>\n",
       "      <th>train_size</th>\n",
       "      <th>train_cols</th>\n",
       "      <th>train_frate</th>\n",
       "      <th>test_size</th>\n",
       "      <th>test_frate</th>\n",
       "      <th>hyper_params</th>\n",
       "      <th>theta</th>\n",
       "      <th>gamma</th>\n",
       "    </tr>\n",
       "  </thead>\n",
       "  <tbody>\n",
       "    <tr>\n",
       "      <th>0</th>\n",
       "      <td>GCN</td>\n",
       "      <td>None</td>\n",
       "      <td>0.994661</td>\n",
       "      <td>0.0</td>\n",
       "      <td>0.0</td>\n",
       "      <td>0.0</td>\n",
       "      <td>0.833356</td>\n",
       "      <td>True</td>\n",
       "      <td>Proposed</td>\n",
       "      <td>0.005807</td>\n",
       "      <td>7864</td>\n",
       "      <td>amt</td>\n",
       "      <td>0.004196</td>\n",
       "      <td>2622</td>\n",
       "      <td>0.005836</td>\n",
       "      <td>None</td>\n",
       "      <td>10000.0</td>\n",
       "      <td>0.3</td>\n",
       "    </tr>\n",
       "  </tbody>\n",
       "</table>\n",
       "</div>"
      ],
      "text/plain": [
       "  model  time       acc  pre  rec   f1       auc graph_based    method  \\\n",
       "0   GCN  None  0.994661  0.0  0.0  0.0  0.833356        True  Proposed   \n",
       "\n",
       "   throw_rate train_size train_cols  train_frate test_size  test_frate  \\\n",
       "0    0.005807       7864        amt     0.004196      2622    0.005836   \n",
       "\n",
       "  hyper_params    theta  gamma  \n",
       "0         None  10000.0    0.3  "
      ]
     },
     "execution_count": 11,
     "metadata": {},
     "output_type": "execute_result"
    }
   ],
   "source": [
    "df_results"
   ]
  },
  {
   "cell_type": "code",
   "execution_count": 13,
   "id": "23b268f7-e9c4-4535-b85c-b9be4aea5e3b",
   "metadata": {},
   "outputs": [
    {
     "data": {
      "text/plain": [
       "0.005807854431707643"
      ]
     },
     "execution_count": 13,
     "metadata": {},
     "output_type": "execute_result"
    }
   ],
   "source": [
    "df.is_fraud.mean()"
   ]
  },
  {
   "cell_type": "code",
   "execution_count": 5,
   "id": "5bdb050d-89fa-42f6-86a9-20fef682261e",
   "metadata": {},
   "outputs": [],
   "source": [
    "import numpy as np\n",
    "import pandas as pd\n",
    "import matplotlib.pyplot as plt \n",
    "import networkx as nx\n",
    "import sklearn\n",
    "import xgboost as xgb\n",
    "\n",
    "# sklearn\n",
    "from sklearn import model_selection # split함수이용\n",
    "from sklearn import ensemble # RF,GBM\n",
    "from sklearn import metrics\n",
    "from sklearn.metrics import precision_score, recall_score, f1_score, roc_curve, auc\n",
    "from sklearn.svm import SVC\n",
    "from sklearn.ensemble import RandomForestClassifier\n",
    "from sklearn.naive_bayes import GaussianNB\n",
    "\n",
    "# gnn\n",
    "import torch\n",
    "import torch.nn.functional as F\n",
    "import torch_geometric\n",
    "from torch_geometric.nn import GCNConv\n"
   ]
  },
  {
   "cell_type": "code",
   "execution_count": 6,
   "id": "06bd6723-14b3-4d27-8d18-27cffe7b15ee",
   "metadata": {},
   "outputs": [],
   "source": [
    "def down_sample_textbook(df):\n",
    "    df_majority = df[df.is_fraud==0].copy()\n",
    "    df_minority = df[df.is_fraud==1].copy()\n",
    "    df_maj_dowsampled = sklearn.utils.resample(df_majority, n_samples=len(df_minority), replace=False, random_state=42)\n",
    "    df_downsampled = pd.concat([df_minority, df_maj_dowsampled])\n",
    "    return df_downsampled\n",
    "\n",
    "def compute_time_difference(group):\n",
    "    n = len(group)\n",
    "    result = []\n",
    "    for i in range(n):\n",
    "        for j in range(n):\n",
    "            time_difference = abs(group.iloc[i].trans_date_trans_time.value - group.iloc[j].trans_date_trans_time.value)\n",
    "            result.append([group.iloc[i].name, group.iloc[j].name, time_difference])\n",
    "    return result\n",
    "\n",
    "def mask(df):\n",
    "    df_tr,df_test = sklearn.model_selection.train_test_split(df, random_state=42)\n",
    "    N = len(df)\n",
    "    train_mask = [i in df_tr.index for i in range(N)]\n",
    "    test_mask = [i in df_test.index for i in range(N)]\n",
    "    train_mask = np.array(train_mask)\n",
    "    test_mask = np.array(test_mask)\n",
    "    return train_mask, test_mask\n",
    "\n",
    "def edge_index_selected(edge_index):\n",
    "    theta = edge_index[:,2].mean()\n",
    "    edge_index[:,2] = (np.exp(-edge_index[:,2]/theta) != 1)*(np.exp(-edge_index[:,2]/theta))\n",
    "    edge_index = edge_index.tolist()\n",
    "    mean_ = np.array(edge_index)[:,2].mean()\n",
    "    selected_edges = [(int(row[0]), int(row[1])) for row in edge_index if row[2] > mean_]\n",
    "    edge_index_selected = torch.tensor(selected_edges, dtype=torch.long).t()\n",
    "    return edge_index_selected\n",
    "\n"
   ]
  },
  {
   "cell_type": "code",
   "execution_count": 7,
   "id": "d9345ada-8a55-4e6e-ae4b-c5381a059d19",
   "metadata": {},
   "outputs": [
    {
     "data": {
      "text/plain": [
       "(104858, 23)"
      ]
     },
     "execution_count": 7,
     "metadata": {},
     "output_type": "execute_result"
    }
   ],
   "source": [
    "df.shape"
   ]
  },
  {
   "cell_type": "code",
   "execution_count": 8,
   "id": "5e481b61-b0b0-480c-ae1a-89399492c2df",
   "metadata": {},
   "outputs": [],
   "source": [
    "train_mask, test_mask = mask(df)\n",
    "df_tr,df_test = sklearn.model_selection.train_test_split(df, random_state=42)"
   ]
  },
  {
   "cell_type": "code",
   "execution_count": 9,
   "id": "a7ac6df1-0907-4bcc-95f4-f7ad04cf9e78",
   "metadata": {},
   "outputs": [
    {
     "data": {
      "text/html": [
       "<div>\n",
       "<style scoped>\n",
       "    .dataframe tbody tr th:only-of-type {\n",
       "        vertical-align: middle;\n",
       "    }\n",
       "\n",
       "    .dataframe tbody tr th {\n",
       "        vertical-align: top;\n",
       "    }\n",
       "\n",
       "    .dataframe thead th {\n",
       "        text-align: right;\n",
       "    }\n",
       "</style>\n",
       "<table border=\"1\" class=\"dataframe\">\n",
       "  <thead>\n",
       "    <tr style=\"text-align: right;\">\n",
       "      <th></th>\n",
       "      <th>index</th>\n",
       "      <th>trans_date_trans_time</th>\n",
       "      <th>cc_num</th>\n",
       "      <th>merchant</th>\n",
       "      <th>category</th>\n",
       "      <th>amt</th>\n",
       "      <th>first</th>\n",
       "      <th>last</th>\n",
       "      <th>gender</th>\n",
       "      <th>street</th>\n",
       "      <th>...</th>\n",
       "      <th>lat</th>\n",
       "      <th>long</th>\n",
       "      <th>city_pop</th>\n",
       "      <th>job</th>\n",
       "      <th>dob</th>\n",
       "      <th>trans_num</th>\n",
       "      <th>unix_time</th>\n",
       "      <th>merch_lat</th>\n",
       "      <th>merch_long</th>\n",
       "      <th>is_fraud</th>\n",
       "    </tr>\n",
       "  </thead>\n",
       "  <tbody>\n",
       "    <tr>\n",
       "      <th>0</th>\n",
       "      <td>0</td>\n",
       "      <td>2019-01-01 00:00:00</td>\n",
       "      <td>2.703190e+15</td>\n",
       "      <td>fraud_Rippin, Kub and Mann</td>\n",
       "      <td>misc_net</td>\n",
       "      <td>4.97</td>\n",
       "      <td>Jennifer</td>\n",
       "      <td>Banks</td>\n",
       "      <td>F</td>\n",
       "      <td>561 Perry Cove</td>\n",
       "      <td>...</td>\n",
       "      <td>36.0788</td>\n",
       "      <td>-81.1781</td>\n",
       "      <td>3495</td>\n",
       "      <td>Psychologist, counselling</td>\n",
       "      <td>1988-03-09</td>\n",
       "      <td>0b242abb623afc578575680df30655b9</td>\n",
       "      <td>1325376018</td>\n",
       "      <td>36.011293</td>\n",
       "      <td>-82.048315</td>\n",
       "      <td>0</td>\n",
       "    </tr>\n",
       "    <tr>\n",
       "      <th>1</th>\n",
       "      <td>10</td>\n",
       "      <td>2019-01-01 00:06:00</td>\n",
       "      <td>4.642890e+12</td>\n",
       "      <td>fraud_Rutherford-Mertz</td>\n",
       "      <td>grocery_pos</td>\n",
       "      <td>24.74</td>\n",
       "      <td>Eddie</td>\n",
       "      <td>Mendez</td>\n",
       "      <td>M</td>\n",
       "      <td>1831 Faith View Suite 653</td>\n",
       "      <td>...</td>\n",
       "      <td>40.7491</td>\n",
       "      <td>-95.0380</td>\n",
       "      <td>7297</td>\n",
       "      <td>IT trainer</td>\n",
       "      <td>1990-07-13</td>\n",
       "      <td>d71c95ab6b7356dd74389d41df429c87</td>\n",
       "      <td>1325376383</td>\n",
       "      <td>40.275891</td>\n",
       "      <td>-96.011548</td>\n",
       "      <td>0</td>\n",
       "    </tr>\n",
       "    <tr>\n",
       "      <th>2</th>\n",
       "      <td>20</td>\n",
       "      <td>2019-01-01 00:13:00</td>\n",
       "      <td>4.469780e+18</td>\n",
       "      <td>fraud_Bauch-Raynor</td>\n",
       "      <td>grocery_pos</td>\n",
       "      <td>57.34</td>\n",
       "      <td>Gregory</td>\n",
       "      <td>Graham</td>\n",
       "      <td>M</td>\n",
       "      <td>4005 Dana Glens</td>\n",
       "      <td>...</td>\n",
       "      <td>42.7280</td>\n",
       "      <td>-71.1810</td>\n",
       "      <td>47249</td>\n",
       "      <td>Market researcher</td>\n",
       "      <td>1980-11-22</td>\n",
       "      <td>139a1bee15be607d79fe173bfcb2502a</td>\n",
       "      <td>1325376788</td>\n",
       "      <td>42.268760</td>\n",
       "      <td>-71.217297</td>\n",
       "      <td>0</td>\n",
       "    </tr>\n",
       "    <tr>\n",
       "      <th>3</th>\n",
       "      <td>30</td>\n",
       "      <td>2019-01-01 00:22:00</td>\n",
       "      <td>1.800950e+14</td>\n",
       "      <td>fraud_Kihn, Abernathy and Douglas</td>\n",
       "      <td>shopping_net</td>\n",
       "      <td>3.66</td>\n",
       "      <td>Tammie</td>\n",
       "      <td>Harper</td>\n",
       "      <td>F</td>\n",
       "      <td>57887 Gutierrez Harbor</td>\n",
       "      <td>...</td>\n",
       "      <td>43.7575</td>\n",
       "      <td>-122.4810</td>\n",
       "      <td>597</td>\n",
       "      <td>Forensic psychologist</td>\n",
       "      <td>1961-05-19</td>\n",
       "      <td>870c92b288a974a2faf1f24b05c27e33</td>\n",
       "      <td>1325377356</td>\n",
       "      <td>44.278191</td>\n",
       "      <td>-121.815161</td>\n",
       "      <td>0</td>\n",
       "    </tr>\n",
       "    <tr>\n",
       "      <th>4</th>\n",
       "      <td>40</td>\n",
       "      <td>2019-01-01 00:30:00</td>\n",
       "      <td>6.763730e+11</td>\n",
       "      <td>fraud_Christiansen, Goyette and Schamberger</td>\n",
       "      <td>gas_transport</td>\n",
       "      <td>53.60</td>\n",
       "      <td>Vicki</td>\n",
       "      <td>Mendoza</td>\n",
       "      <td>F</td>\n",
       "      <td>3645 Atkins Island Apt. 238</td>\n",
       "      <td>...</td>\n",
       "      <td>39.7562</td>\n",
       "      <td>-98.4462</td>\n",
       "      <td>242</td>\n",
       "      <td>Tourism officer</td>\n",
       "      <td>1987-07-18</td>\n",
       "      <td>f1566e9623814dd277dfa2a9bf83ea36</td>\n",
       "      <td>1325377849</td>\n",
       "      <td>40.332519</td>\n",
       "      <td>-99.062962</td>\n",
       "      <td>0</td>\n",
       "    </tr>\n",
       "    <tr>\n",
       "      <th>...</th>\n",
       "      <td>...</td>\n",
       "      <td>...</td>\n",
       "      <td>...</td>\n",
       "      <td>...</td>\n",
       "      <td>...</td>\n",
       "      <td>...</td>\n",
       "      <td>...</td>\n",
       "      <td>...</td>\n",
       "      <td>...</td>\n",
       "      <td>...</td>\n",
       "      <td>...</td>\n",
       "      <td>...</td>\n",
       "      <td>...</td>\n",
       "      <td>...</td>\n",
       "      <td>...</td>\n",
       "      <td>...</td>\n",
       "      <td>...</td>\n",
       "      <td>...</td>\n",
       "      <td>...</td>\n",
       "      <td>...</td>\n",
       "      <td>...</td>\n",
       "    </tr>\n",
       "    <tr>\n",
       "      <th>104853</th>\n",
       "      <td>1048530</td>\n",
       "      <td>2020-03-10 15:53:00</td>\n",
       "      <td>4.746000e+12</td>\n",
       "      <td>fraud_Langworth LLC</td>\n",
       "      <td>personal_care</td>\n",
       "      <td>6.18</td>\n",
       "      <td>Carrie</td>\n",
       "      <td>Washington</td>\n",
       "      <td>F</td>\n",
       "      <td>6114 Adams Harbor Suite 096</td>\n",
       "      <td>...</td>\n",
       "      <td>41.4802</td>\n",
       "      <td>-86.6919</td>\n",
       "      <td>1423</td>\n",
       "      <td>Psychologist, forensic</td>\n",
       "      <td>1998-10-07</td>\n",
       "      <td>a8119f2c9856637af2a6d3a92ae41892</td>\n",
       "      <td>1362930809</td>\n",
       "      <td>41.945985</td>\n",
       "      <td>-86.088059</td>\n",
       "      <td>0</td>\n",
       "    </tr>\n",
       "    <tr>\n",
       "      <th>104854</th>\n",
       "      <td>1048540</td>\n",
       "      <td>2020-03-10 15:58:00</td>\n",
       "      <td>6.304520e+11</td>\n",
       "      <td>fraud_Prosacco LLC</td>\n",
       "      <td>personal_care</td>\n",
       "      <td>232.82</td>\n",
       "      <td>Rachel</td>\n",
       "      <td>Daniels</td>\n",
       "      <td>F</td>\n",
       "      <td>561 Little Plain Apt. 738</td>\n",
       "      <td>...</td>\n",
       "      <td>46.3535</td>\n",
       "      <td>-86.6345</td>\n",
       "      <td>765</td>\n",
       "      <td>Immunologist</td>\n",
       "      <td>1972-06-12</td>\n",
       "      <td>19f0f3a0a194a3747561e41273f69fd6</td>\n",
       "      <td>1362931131</td>\n",
       "      <td>46.119515</td>\n",
       "      <td>-87.542503</td>\n",
       "      <td>0</td>\n",
       "    </tr>\n",
       "    <tr>\n",
       "      <th>104855</th>\n",
       "      <td>1048550</td>\n",
       "      <td>2020-03-10 16:02:00</td>\n",
       "      <td>4.378990e+15</td>\n",
       "      <td>fraud_Abernathy and Sons</td>\n",
       "      <td>food_dining</td>\n",
       "      <td>229.60</td>\n",
       "      <td>Travis</td>\n",
       "      <td>Hayes</td>\n",
       "      <td>M</td>\n",
       "      <td>1561 Chase Grove</td>\n",
       "      <td>...</td>\n",
       "      <td>43.9742</td>\n",
       "      <td>-71.1503</td>\n",
       "      <td>3807</td>\n",
       "      <td>Surgeon</td>\n",
       "      <td>1999-10-25</td>\n",
       "      <td>a25384c63d760aecb7fbae0dd3aa4df2</td>\n",
       "      <td>1362931360</td>\n",
       "      <td>44.256850</td>\n",
       "      <td>-71.940706</td>\n",
       "      <td>0</td>\n",
       "    </tr>\n",
       "    <tr>\n",
       "      <th>104856</th>\n",
       "      <td>1048560</td>\n",
       "      <td>2020-03-10 16:04:00</td>\n",
       "      <td>3.009300e+13</td>\n",
       "      <td>fraud_Sawayn PLC</td>\n",
       "      <td>shopping_pos</td>\n",
       "      <td>16.29</td>\n",
       "      <td>Jessica</td>\n",
       "      <td>Terry</td>\n",
       "      <td>F</td>\n",
       "      <td>6412 Elizabeth Gardens Suite 633</td>\n",
       "      <td>...</td>\n",
       "      <td>38.6207</td>\n",
       "      <td>-83.8067</td>\n",
       "      <td>14228</td>\n",
       "      <td>Advertising account executive</td>\n",
       "      <td>1971-03-26</td>\n",
       "      <td>14dfd9d63388207ab0fba67e4272f6af</td>\n",
       "      <td>1362931476</td>\n",
       "      <td>39.221625</td>\n",
       "      <td>-83.713083</td>\n",
       "      <td>0</td>\n",
       "    </tr>\n",
       "    <tr>\n",
       "      <th>104857</th>\n",
       "      <td>1048570</td>\n",
       "      <td>2020-03-10 16:07:00</td>\n",
       "      <td>6.011980e+15</td>\n",
       "      <td>fraud_Fadel Inc</td>\n",
       "      <td>health_fitness</td>\n",
       "      <td>77.00</td>\n",
       "      <td>Haley</td>\n",
       "      <td>Wagner</td>\n",
       "      <td>F</td>\n",
       "      <td>05561 Farrell Crescent</td>\n",
       "      <td>...</td>\n",
       "      <td>39.0305</td>\n",
       "      <td>-76.5515</td>\n",
       "      <td>92106</td>\n",
       "      <td>Accountant, chartered certified</td>\n",
       "      <td>1943-05-28</td>\n",
       "      <td>45ecd198c65e81e597db22e8d2ef7361</td>\n",
       "      <td>1362931649</td>\n",
       "      <td>38.779464</td>\n",
       "      <td>-76.317042</td>\n",
       "      <td>0</td>\n",
       "    </tr>\n",
       "  </tbody>\n",
       "</table>\n",
       "<p>104858 rows × 23 columns</p>\n",
       "</div>"
      ],
      "text/plain": [
       "          index trans_date_trans_time        cc_num  \\\n",
       "0             0   2019-01-01 00:00:00  2.703190e+15   \n",
       "1            10   2019-01-01 00:06:00  4.642890e+12   \n",
       "2            20   2019-01-01 00:13:00  4.469780e+18   \n",
       "3            30   2019-01-01 00:22:00  1.800950e+14   \n",
       "4            40   2019-01-01 00:30:00  6.763730e+11   \n",
       "...         ...                   ...           ...   \n",
       "104853  1048530   2020-03-10 15:53:00  4.746000e+12   \n",
       "104854  1048540   2020-03-10 15:58:00  6.304520e+11   \n",
       "104855  1048550   2020-03-10 16:02:00  4.378990e+15   \n",
       "104856  1048560   2020-03-10 16:04:00  3.009300e+13   \n",
       "104857  1048570   2020-03-10 16:07:00  6.011980e+15   \n",
       "\n",
       "                                           merchant        category     amt  \\\n",
       "0                        fraud_Rippin, Kub and Mann        misc_net    4.97   \n",
       "1                            fraud_Rutherford-Mertz     grocery_pos   24.74   \n",
       "2                                fraud_Bauch-Raynor     grocery_pos   57.34   \n",
       "3                 fraud_Kihn, Abernathy and Douglas    shopping_net    3.66   \n",
       "4       fraud_Christiansen, Goyette and Schamberger   gas_transport   53.60   \n",
       "...                                             ...             ...     ...   \n",
       "104853                          fraud_Langworth LLC   personal_care    6.18   \n",
       "104854                           fraud_Prosacco LLC   personal_care  232.82   \n",
       "104855                     fraud_Abernathy and Sons     food_dining  229.60   \n",
       "104856                             fraud_Sawayn PLC    shopping_pos   16.29   \n",
       "104857                              fraud_Fadel Inc  health_fitness   77.00   \n",
       "\n",
       "           first        last gender                            street  ...  \\\n",
       "0       Jennifer       Banks      F                    561 Perry Cove  ...   \n",
       "1          Eddie      Mendez      M         1831 Faith View Suite 653  ...   \n",
       "2        Gregory      Graham      M                   4005 Dana Glens  ...   \n",
       "3         Tammie      Harper      F            57887 Gutierrez Harbor  ...   \n",
       "4          Vicki     Mendoza      F       3645 Atkins Island Apt. 238  ...   \n",
       "...          ...         ...    ...                               ...  ...   \n",
       "104853    Carrie  Washington      F       6114 Adams Harbor Suite 096  ...   \n",
       "104854    Rachel     Daniels      F         561 Little Plain Apt. 738  ...   \n",
       "104855    Travis       Hayes      M                  1561 Chase Grove  ...   \n",
       "104856   Jessica       Terry      F  6412 Elizabeth Gardens Suite 633  ...   \n",
       "104857     Haley      Wagner      F            05561 Farrell Crescent  ...   \n",
       "\n",
       "            lat      long  city_pop                              job  \\\n",
       "0       36.0788  -81.1781      3495        Psychologist, counselling   \n",
       "1       40.7491  -95.0380      7297                       IT trainer   \n",
       "2       42.7280  -71.1810     47249                Market researcher   \n",
       "3       43.7575 -122.4810       597            Forensic psychologist   \n",
       "4       39.7562  -98.4462       242                  Tourism officer   \n",
       "...         ...       ...       ...                              ...   \n",
       "104853  41.4802  -86.6919      1423           Psychologist, forensic   \n",
       "104854  46.3535  -86.6345       765                     Immunologist   \n",
       "104855  43.9742  -71.1503      3807                          Surgeon   \n",
       "104856  38.6207  -83.8067     14228    Advertising account executive   \n",
       "104857  39.0305  -76.5515     92106  Accountant, chartered certified   \n",
       "\n",
       "               dob                         trans_num   unix_time  merch_lat  \\\n",
       "0       1988-03-09  0b242abb623afc578575680df30655b9  1325376018  36.011293   \n",
       "1       1990-07-13  d71c95ab6b7356dd74389d41df429c87  1325376383  40.275891   \n",
       "2       1980-11-22  139a1bee15be607d79fe173bfcb2502a  1325376788  42.268760   \n",
       "3       1961-05-19  870c92b288a974a2faf1f24b05c27e33  1325377356  44.278191   \n",
       "4       1987-07-18  f1566e9623814dd277dfa2a9bf83ea36  1325377849  40.332519   \n",
       "...            ...                               ...         ...        ...   \n",
       "104853  1998-10-07  a8119f2c9856637af2a6d3a92ae41892  1362930809  41.945985   \n",
       "104854  1972-06-12  19f0f3a0a194a3747561e41273f69fd6  1362931131  46.119515   \n",
       "104855  1999-10-25  a25384c63d760aecb7fbae0dd3aa4df2  1362931360  44.256850   \n",
       "104856  1971-03-26  14dfd9d63388207ab0fba67e4272f6af  1362931476  39.221625   \n",
       "104857  1943-05-28  45ecd198c65e81e597db22e8d2ef7361  1362931649  38.779464   \n",
       "\n",
       "        merch_long  is_fraud  \n",
       "0       -82.048315         0  \n",
       "1       -96.011548         0  \n",
       "2       -71.217297         0  \n",
       "3      -121.815161         0  \n",
       "4       -99.062962         0  \n",
       "...            ...       ...  \n",
       "104853  -86.088059         0  \n",
       "104854  -87.542503         0  \n",
       "104855  -71.940706         0  \n",
       "104856  -83.713083         0  \n",
       "104857  -76.317042         0  \n",
       "\n",
       "[104858 rows x 23 columns]"
      ]
     },
     "execution_count": 9,
     "metadata": {},
     "output_type": "execute_result"
    }
   ],
   "source": [
    "df"
   ]
  },
  {
   "cell_type": "code",
   "execution_count": 10,
   "id": "6b58c782-ddb4-4ea4-a78e-6c925b194cf4",
   "metadata": {},
   "outputs": [],
   "source": [
    "groups = df.groupby('cc_num')\n",
    "edge_index_list_plus = [compute_time_difference(group) for _, group in groups]\n",
    "edge_index_list_plus_flat = [item for sublist in edge_index_list_plus for item in sublist]\n",
    "edge_index_list_plus_nparr = np.array(edge_index_list_plus_flat)\n",
    "np.save('edge_index_list_plus_005.npy', edge_index_list_plus_nparr)"
   ]
  },
  {
   "cell_type": "code",
   "execution_count": 11,
   "id": "68a67bd6-dd96-482b-8360-16879f3f2462",
   "metadata": {},
   "outputs": [
    {
     "data": {
      "text/plain": [
       "(15990358, 3)"
      ]
     },
     "execution_count": 11,
     "metadata": {},
     "output_type": "execute_result"
    }
   ],
   "source": [
    "edge_index = np.load('edge_index_list_plus_005.npy').astype(np.float64)\n",
    "edge_index.shape"
   ]
  },
  {
   "cell_type": "markdown",
   "id": "e618232b-eee2-4c21-8457-a85f857030e0",
   "metadata": {},
   "source": [
    "- 일단 평균으로.."
   ]
  },
  {
   "cell_type": "code",
   "execution_count": 13,
   "id": "ed8fe8d2-e57f-4fed-aa54-6b7073fa752c",
   "metadata": {},
   "outputs": [
    {
     "data": {
      "text/plain": [
       "Data(x=[104858, 1], edge_index=[2, 7271192], y=[104858], train_mask=[104858], test_mask=[104858])"
      ]
     },
     "execution_count": 13,
     "metadata": {},
     "output_type": "execute_result"
    }
   ],
   "source": [
    "x = torch.tensor(df['amt'], dtype=torch.float).reshape(-1,1)\n",
    "y = torch.tensor(df['is_fraud'],dtype=torch.int64)\n",
    "data = torch_geometric.data.Data(x=x, edge_index = edge_index_selected, y=y, train_mask = train_mask, test_mask = test_mask)\n",
    "data"
   ]
  },
  {
   "cell_type": "code",
   "execution_count": 14,
   "id": "a2ab4568-4682-4b46-9dce-b5abd0f53b57",
   "metadata": {},
   "outputs": [
    {
     "data": {
      "text/html": [
       "<div>\n",
       "<style scoped>\n",
       "    .dataframe tbody tr th:only-of-type {\n",
       "        vertical-align: middle;\n",
       "    }\n",
       "\n",
       "    .dataframe tbody tr th {\n",
       "        vertical-align: top;\n",
       "    }\n",
       "\n",
       "    .dataframe thead th {\n",
       "        text-align: right;\n",
       "    }\n",
       "</style>\n",
       "<table border=\"1\" class=\"dataframe\">\n",
       "  <thead>\n",
       "    <tr style=\"text-align: right;\">\n",
       "      <th></th>\n",
       "      <th>accuracy_score</th>\n",
       "      <th>precision_score</th>\n",
       "      <th>recall_score</th>\n",
       "      <th>f1_score</th>\n",
       "    </tr>\n",
       "  </thead>\n",
       "  <tbody>\n",
       "    <tr>\n",
       "      <th>분석1</th>\n",
       "      <td>0.994202</td>\n",
       "      <td>0.0</td>\n",
       "      <td>0.0</td>\n",
       "      <td>0.0</td>\n",
       "    </tr>\n",
       "  </tbody>\n",
       "</table>\n",
       "</div>"
      ],
      "text/plain": [
       "     accuracy_score  precision_score  recall_score  f1_score\n",
       "분석1        0.994202              0.0           0.0       0.0"
      ]
     },
     "execution_count": 14,
     "metadata": {},
     "output_type": "execute_result"
    }
   ],
   "source": [
    "torch.manual_seed(202250926)\n",
    "\n",
    "class GCN1(torch.nn.Module):\n",
    "    def __init__(self):\n",
    "        super().__init__()\n",
    "        self.conv1 = GCNConv(1, 32)\n",
    "        self.conv2 = GCNConv(32,2)\n",
    "\n",
    "    def forward(self, data):\n",
    "        x, edge_index = data.x, data.edge_index\n",
    "\n",
    "        x = self.conv1(x, edge_index)\n",
    "        x = F.relu(x)\n",
    "        x = F.dropout(x, training=self.training)\n",
    "        x = self.conv2(x, edge_index)\n",
    "\n",
    "        return F.log_softmax(x, dim=1)\n",
    "\n",
    "X = (data.x[data.train_mask]).numpy()\n",
    "XX = (data.x[data.test_mask]).numpy()\n",
    "y = (data.y[data.train_mask]).numpy()\n",
    "yy = (data.y[data.test_mask]).numpy()\n",
    "\n",
    "model = GCN1()\n",
    "optimizer = torch.optim.Adam(model.parameters(), lr=0.01, weight_decay=5e-4)\n",
    "model.train()\n",
    "for epoch in range(400):\n",
    "    optimizer.zero_grad()\n",
    "    out = model(data)\n",
    "    loss = F.nll_loss(out[data.train_mask], data.y[data.train_mask])\n",
    "    loss.backward()\n",
    "    optimizer.step()\n",
    "model.eval()\n",
    "\n",
    "pred = model(data).argmax(dim=1) # argmax말고\n",
    "yyhat = pred[data.test_mask]\n",
    "\n",
    "pred\n",
    "\n",
    "metrics = [sklearn.metrics.accuracy_score,\n",
    "           sklearn.metrics.precision_score,\n",
    "           sklearn.metrics.recall_score,\n",
    "           sklearn.metrics.f1_score]\n",
    "\n",
    "_results1= pd.DataFrame({m.__name__:[m(yy,yyhat).round(6)] for m in metrics},index=['분석1'])\n",
    "_results1"
   ]
  },
  {
   "cell_type": "code",
   "execution_count": 15,
   "id": "758b4df1-0f2b-4cc0-82fc-cf66fa4a01b3",
   "metadata": {},
   "outputs": [
    {
     "data": {
      "text/plain": [
       "0.5"
      ]
     },
     "execution_count": 15,
     "metadata": {},
     "output_type": "execute_result"
    }
   ],
   "source": [
    "gnn_fpr, gnn_tpr, gnn_thresholds  = roc_curve(yy, yyhat)\n",
    "gnn_roc_auc_lr = auc(gnn_fpr, gnn_tpr)\n",
    "gnn_roc_auc_lr"
   ]
  },
  {
   "cell_type": "code",
   "execution_count": 16,
   "id": "6a07353b-68f0-40ec-87f1-e4e96ccc69e1",
   "metadata": {},
   "outputs": [
    {
     "data": {
      "text/plain": [
       "0.0"
      ]
     },
     "execution_count": 16,
     "metadata": {},
     "output_type": "execute_result"
    }
   ],
   "source": [
    "sklearn.metrics.precision_score(yy, yyhat)"
   ]
  },
  {
   "cell_type": "code",
   "execution_count": 56,
   "id": "adf02c90-180f-41bb-ad36-2ea5dffac22b",
   "metadata": {},
   "outputs": [
    {
     "data": {
      "text/plain": [
       "0.45090979140171095"
      ]
     },
     "execution_count": 56,
     "metadata": {},
     "output_type": "execute_result"
    }
   ],
   "source": [
    "theta"
   ]
  },
  {
   "cell_type": "markdown",
   "id": "c4bc86a7-0b73-407b-9916-a6d06f3fbd46",
   "metadata": {},
   "source": [
    "----"
   ]
  },
  {
   "cell_type": "code",
   "execution_count": 34,
   "id": "9532c1ec-879f-4f77-962e-cc8e3ab9504e",
   "metadata": {},
   "outputs": [],
   "source": [
    "theta = edge_index[:,2].mean()"
   ]
  },
  {
   "cell_type": "code",
   "execution_count": 28,
   "id": "2957c2ba-0215-4654-92f9-d569004e9ad5",
   "metadata": {},
   "outputs": [
    {
     "data": {
      "text/plain": [
       "(array([1023508., 2481750., 2305504., 2010462., 1710220., 1558028.,\n",
       "        1397840., 1241018., 1161620., 1100408.]),\n",
       " array([0.        , 0.09999949, 0.19999897, 0.29999846, 0.39999794,\n",
       "        0.49999743, 0.59999691, 0.6999964 , 0.79999588, 0.89999537,\n",
       "        0.99999485]),\n",
       " <BarContainer object of 10 artists>)"
      ]
     },
     "execution_count": 28,
     "metadata": {},
     "output_type": "execute_result"
    },
    {
     "data": {
      "image/png": "[encoded data removed]",
      "text/plain": [
       "<Figure size 640x480 with 1 Axes>"
      ]
     },
     "metadata": {},
     "output_type": "display_data"
    }
   ],
   "source": [
    "plt.hist(edge_index[:,2])"
   ]
  },
  {
   "cell_type": "code",
   "execution_count": 37,
   "id": "9b68ede6-0438-4302-8a34-3184d3e2056e",
   "metadata": {},
   "outputs": [
    {
     "data": {
      "text/plain": [
       "(array([1023508., 2481750., 2305504., 2010462., 1710220., 1558028.,\n",
       "        1397840., 1241018., 1161620., 1100408.]),\n",
       " array([0.        , 0.22177271, 0.44354542, 0.66531812, 0.88709083,\n",
       "        1.10886354, 1.33063625, 1.55240896, 1.77418166, 1.99595437,\n",
       "        2.21772708]),\n",
       " <BarContainer object of 10 artists>)"
      ]
     },
     "execution_count": 37,
     "metadata": {},
     "output_type": "execute_result"
    },
    {
     "data": {
      "image/png": "[encoded data removed]",
      "text/plain": [
       "<Figure size 640x480 with 1 Axes>"
      ]
     },
     "metadata": {},
     "output_type": "display_data"
    }
   ],
   "source": [
    "plt.hist(edge_index[:,2]/theta)"
   ]
  },
  {
   "cell_type": "code",
   "execution_count": 38,
   "id": "e5ca11e3-53aa-4d94-826f-59522f2b3b4f",
   "metadata": {},
   "outputs": [],
   "source": [
    "edge_index[:,2] = (np.exp(-edge_index[:,2]/theta) != 1)*(np.exp(-edge_index[:,2]/theta))"
   ]
  },
  {
   "cell_type": "code",
   "execution_count": 39,
   "id": "cf2b156a-5828-4d49-bead-0060d05e8587",
   "metadata": {},
   "outputs": [],
   "source": [
    "edge_index = edge_index.tolist()"
   ]
  },
  {
   "cell_type": "code",
   "execution_count": 49,
   "id": "8eff20d9-6f6a-4b06-9c75-c8c81abe6126",
   "metadata": {},
   "outputs": [],
   "source": [
    "edge = np.array(edge_index)"
   ]
  },
  {
   "cell_type": "code",
   "execution_count": 51,
   "id": "d518dfbb-5209-418e-b8ef-596ff4330b1e",
   "metadata": {},
   "outputs": [
    {
     "data": {
      "text/plain": [
       "(array([ 104858., 2675184., 2488602., 2069742., 1852894., 1745952.,\n",
       "        1629948., 1487948., 1312172.,  623058.]),\n",
       " array([0.        , 0.09151076, 0.18302152, 0.27453228, 0.36604304,\n",
       "        0.45755381, 0.54906457, 0.64057533, 0.73208609, 0.82359685,\n",
       "        0.91510761]),\n",
       " <BarContainer object of 10 artists>)"
      ]
     },
     "execution_count": 51,
     "metadata": {},
     "output_type": "execute_result"
    },
    {
     "data": {
      "image/png": "[encoded data removed]",
      "text/plain": [
       "<Figure size 640x480 with 1 Axes>"
      ]
     },
     "metadata": {},
     "output_type": "display_data"
    }
   ],
   "source": [
    "plt.hist(edge[:,2])"
   ]
  },
  {
   "cell_type": "code",
   "execution_count": 53,
   "id": "6222efcb-7fdf-4d87-9f92-b7c2c3c1f6fd",
   "metadata": {},
   "outputs": [],
   "source": [
    "selected_edges = [(int(row[0]), int(row[1])) for row in edge_index if row[2] > 0.8]\n",
    "edge_index_selected = torch.tensor(selected_edges, dtype=torch.long).t()"
   ]
  },
  {
   "cell_type": "code",
   "execution_count": 54,
   "id": "24d38dd7-51ed-4f22-b4df-cb9c3dcdacf3",
   "metadata": {},
   "outputs": [
    {
     "data": {
      "text/plain": [
       "Data(x=[104858, 1], edge_index=[2, 932496], y=[104858], train_mask=[104858], test_mask=[104858])"
      ]
     },
     "execution_count": 54,
     "metadata": {},
     "output_type": "execute_result"
    }
   ],
   "source": [
    "x = torch.tensor(df['amt'], dtype=torch.float).reshape(-1,1)\n",
    "y = torch.tensor(df['is_fraud'],dtype=torch.int64)\n",
    "data = torch_geometric.data.Data(x=x, edge_index = edge_index_selected, y=y, train_mask = train_mask, test_mask = test_mask)\n",
    "data"
   ]
  },
  {
   "cell_type": "code",
   "execution_count": 55,
   "id": "fdfd6887-a782-49df-a344-8ad0c0850dc4",
   "metadata": {},
   "outputs": [
    {
     "data": {
      "text/html": [
       "<div>\n",
       "<style scoped>\n",
       "    .dataframe tbody tr th:only-of-type {\n",
       "        vertical-align: middle;\n",
       "    }\n",
       "\n",
       "    .dataframe tbody tr th {\n",
       "        vertical-align: top;\n",
       "    }\n",
       "\n",
       "    .dataframe thead th {\n",
       "        text-align: right;\n",
       "    }\n",
       "</style>\n",
       "<table border=\"1\" class=\"dataframe\">\n",
       "  <thead>\n",
       "    <tr style=\"text-align: right;\">\n",
       "      <th></th>\n",
       "      <th>accuracy_score</th>\n",
       "      <th>precision_score</th>\n",
       "      <th>recall_score</th>\n",
       "      <th>f1_score</th>\n",
       "      <th>roc_auc_score</th>\n",
       "    </tr>\n",
       "  </thead>\n",
       "  <tbody>\n",
       "    <tr>\n",
       "      <th>분석1</th>\n",
       "      <td>0.994202</td>\n",
       "      <td>0.0</td>\n",
       "      <td>0.0</td>\n",
       "      <td>0.0</td>\n",
       "      <td>0.5</td>\n",
       "    </tr>\n",
       "  </tbody>\n",
       "</table>\n",
       "</div>"
      ],
      "text/plain": [
       "     accuracy_score  precision_score  recall_score  f1_score  roc_auc_score\n",
       "분석1        0.994202              0.0           0.0       0.0            0.5"
      ]
     },
     "execution_count": 55,
     "metadata": {},
     "output_type": "execute_result"
    }
   ],
   "source": [
    "torch.manual_seed(202250926)\n",
    "\n",
    "class GCN1(torch.nn.Module):\n",
    "    def __init__(self):\n",
    "        super().__init__()\n",
    "        self.conv1 = GCNConv(1, 32)\n",
    "        self.conv2 = GCNConv(32,2)\n",
    "\n",
    "    def forward(self, data):\n",
    "        x, edge_index = data.x, data.edge_index\n",
    "\n",
    "        x = self.conv1(x, edge_index)\n",
    "        x = F.relu(x)\n",
    "        x = F.dropout(x, training=self.training)\n",
    "        x = self.conv2(x, edge_index)\n",
    "\n",
    "        return F.log_softmax(x, dim=1)\n",
    "\n",
    "X = (data.x[data.train_mask]).numpy()\n",
    "XX = (data.x[data.test_mask]).numpy()\n",
    "y = (data.y[data.train_mask]).numpy()\n",
    "yy = (data.y[data.test_mask]).numpy()\n",
    "\n",
    "model = GCN1()\n",
    "optimizer = torch.optim.Adam(model.parameters(), lr=0.01, weight_decay=5e-4)\n",
    "model.train()\n",
    "for epoch in range(400):\n",
    "    optimizer.zero_grad()\n",
    "    out = model(data)\n",
    "    loss = F.nll_loss(out[data.train_mask], data.y[data.train_mask])\n",
    "    loss.backward()\n",
    "    optimizer.step()\n",
    "model.eval()\n",
    "\n",
    "pred = model(data).argmax(dim=1) # argmax말고\n",
    "yyhat = pred[data.test_mask]\n",
    "\n",
    "pred\n",
    "\n",
    "metrics = [sklearn.metrics.accuracy_score,\n",
    "           sklearn.metrics.precision_score,\n",
    "           sklearn.metrics.recall_score,\n",
    "           sklearn.metrics.f1_score,\n",
    "           sklearn.metrics.roc_auc_score]\n",
    "\n",
    "_results2= pd.DataFrame({m.__name__:[m(yy,yyhat).round(6)] for m in metrics},index=['분석1'])\n",
    "_results2"
   ]
  },
  {
   "cell_type": "code",
   "execution_count": null,
   "id": "1aae8b41-9333-44d9-9961-f62b0a4bc9fb",
   "metadata": {},
   "outputs": [],
   "source": []
  }
 ],
 "metadata": {
  "kernelspec": {
   "display_name": "Python 3 (ipykernel)",
   "language": "python",
   "name": "python3"
  },
  "language_info": {
   "codemirror_mode": {
    "name": "ipython",
    "version": 3
   },
   "file_extension": ".py",
   "mimetype": "text/x-python",
   "name": "python",
   "nbconvert_exporter": "python",
   "pygments_lexer": "ipython3",
   "version": "3.8.18"
  }
 },
 "nbformat": 4,
 "nbformat_minor": 5
}
