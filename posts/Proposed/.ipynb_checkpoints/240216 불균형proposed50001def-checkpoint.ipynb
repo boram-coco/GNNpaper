{
 "cells": [
  {
   "cell_type": "raw",
   "id": "ead89876-ba70-480c-9ed6-8c8863b7c978",
   "metadata": {},
   "source": [
    "---\n",
    "title: \"[Proposed] df50_tr,df00_tst\"\n",
    "author: \"김보람\"\n",
    "date: \"02/16/2024\"\n",
    "---"
   ]
  },
  {
   "cell_type": "markdown",
   "id": "96bfdec3-5b07-45b5-9b38-2e8813117310",
   "metadata": {},
   "source": [
    "# imports"
   ]
  },
  {
   "cell_type": "code",
   "execution_count": 1,
   "id": "4eb91738-6398-4ffc-bbec-fc48fcc8f249",
   "metadata": {},
   "outputs": [],
   "source": [
    "import pandas as pd\n",
    "import numpy as np\n",
    "import sklearn\n",
    "import pickle \n",
    "import time \n",
    "import datetime\n",
    "import warnings\n",
    "warnings.filterwarnings('ignore')"
   ]
  },
  {
   "cell_type": "code",
   "execution_count": 2,
   "id": "290df976-de65-4a67-828b-b8fe594538d9",
   "metadata": {},
   "outputs": [],
   "source": [
    "%run ../function_proposed_gcn.py"
   ]
  },
  {
   "cell_type": "code",
   "execution_count": 3,
   "id": "fdfecbba-4a62-4ef9-9c6e-238b71f1fb62",
   "metadata": {},
   "outputs": [],
   "source": [
    "with open('../fraudTrain.pkl', 'rb') as file:\n",
    "    fraudTrain = pickle.load(file)    "
   ]
  },
  {
   "cell_type": "code",
   "execution_count": null,
   "id": "e811baf9-4824-493d-913c-e65bf2518af2",
   "metadata": {},
   "outputs": [],
   "source": [
    "df_results = try_5(fraudTrain, 10,11406996,0.8)\n",
    "df_results = try_5(fraudTrain, 10,11406996,0.9, prev_results=df_results)\n",
    "df_results = try_5(fraudTrain, 10,11406996,0.7, prev_results=df_results)\n",
    "df_results = try_5(fraudTrain, 9,11406996,0.9, prev_results=df_results)\n",
    "df_results = try_5(fraudTrain, 9,11406996,0.8, prev_results=df_results)\n",
    "df_results = try_5(fraudTrain, 9,11406996,0.7, prev_results=df_results)\n",
    "df_results = try_5(fraudTrain, 8,11406996,0.9, prev_results=df_results)\n",
    "df_results = try_5(fraudTrain, 8,11406996,0.8, prev_results=df_results)\n",
    "df_results = try_5(fraudTrain, 8,11406996,0.7, prev_results=df_results)\n",
    "df_results = try_5(fraudTrain, 7,11406996,0.9, prev_results=df_results)\n",
    "df_results = try_5(fraudTrain, 7,11406996,0.8, prev_results=df_results)\n",
    "df_results = try_5(fraudTrain, 7,11406996,0.7, prev_results=df_results)\n",
    "\n",
    "ymdhms = datetime.datetime.fromtimestamp(time.time()).strftime('%Y%m%d-%H%M%S') \n",
    "df_results.to_csv(f'../results/{ymdhms}-proposed.csv',index=False)\n",
    "\n",
    "df_results"
   ]
  }
 ],
 "metadata": {
  "kernelspec": {
   "display_name": "Python 3 (ipykernel)",
   "language": "python",
   "name": "python3"
  },
  "language_info": {
   "codemirror_mode": {
    "name": "ipython",
    "version": 3
   },
   "file_extension": ".py",
   "mimetype": "text/x-python",
   "name": "python",
   "nbconvert_exporter": "python",
   "pygments_lexer": "ipython3",
   "version": "3.8.18"
  }
 },
 "nbformat": 4,
 "nbformat_minor": 5
}
