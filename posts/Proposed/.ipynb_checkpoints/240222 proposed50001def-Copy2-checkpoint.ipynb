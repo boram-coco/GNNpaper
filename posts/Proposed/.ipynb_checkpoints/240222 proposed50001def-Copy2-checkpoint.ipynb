{
 "cells": [
  {
   "cell_type": "raw",
   "id": "ead89876-ba70-480c-9ed6-8c8863b7c978",
   "metadata": {},
   "source": [
    "---\n",
    "title: \"[Proposed] df0.04_tr,df0.04_tst\"\n",
    "author: \"김보람\"\n",
    "date: \"02/16/2024\"\n",
    "---"
   ]
  },
  {
   "cell_type": "markdown",
   "id": "96bfdec3-5b07-45b5-9b38-2e8813117310",
   "metadata": {},
   "source": [
    "# imports"
   ]
  },
  {
   "cell_type": "code",
   "execution_count": 1,
   "id": "4eb91738-6398-4ffc-bbec-fc48fcc8f249",
   "metadata": {},
   "outputs": [],
   "source": [
    "import pandas as pd\n",
    "import numpy as np\n",
    "import sklearn\n",
    "import pickle \n",
    "import time \n",
    "import datetime\n",
    "import warnings\n",
    "warnings.filterwarnings('ignore')"
   ]
  },
  {
   "cell_type": "code",
   "execution_count": 2,
   "id": "290df976-de65-4a67-828b-b8fe594538d9",
   "metadata": {},
   "outputs": [],
   "source": [
    "%run ../function_proposed_gcn.py"
   ]
  },
  {
   "cell_type": "code",
   "execution_count": 3,
   "id": "fdfecbba-4a62-4ef9-9c6e-238b71f1fb62",
   "metadata": {},
   "outputs": [],
   "source": [
    "with open('../fraudTrain.pkl', 'rb') as file:\n",
    "    fraudTrain = pickle.load(file)    "
   ]
  },
  {
   "cell_type": "code",
   "execution_count": 8,
   "id": "938ade22-d7d9-472c-809e-405a2d86a510",
   "metadata": {},
   "outputs": [
    {
     "data": {
      "text/html": [
       "<div>\n",
       "<style scoped>\n",
       "    .dataframe tbody tr th:only-of-type {\n",
       "        vertical-align: middle;\n",
       "    }\n",
       "\n",
       "    .dataframe tbody tr th {\n",
       "        vertical-align: top;\n",
       "    }\n",
       "\n",
       "    .dataframe thead th {\n",
       "        text-align: right;\n",
       "    }\n",
       "</style>\n",
       "<table border=\"1\" class=\"dataframe\">\n",
       "  <thead>\n",
       "    <tr style=\"text-align: right;\">\n",
       "      <th></th>\n",
       "      <th>model</th>\n",
       "      <th>time</th>\n",
       "      <th>acc</th>\n",
       "      <th>pre</th>\n",
       "      <th>rec</th>\n",
       "      <th>f1</th>\n",
       "      <th>auc</th>\n",
       "      <th>graph_based</th>\n",
       "      <th>method</th>\n",
       "      <th>throw_rate</th>\n",
       "      <th>train_size</th>\n",
       "      <th>train_cols</th>\n",
       "      <th>train_frate</th>\n",
       "      <th>test_size</th>\n",
       "      <th>test_frate</th>\n",
       "      <th>hyper_params</th>\n",
       "      <th>theta</th>\n",
       "      <th>gamma</th>\n",
       "    </tr>\n",
       "  </thead>\n",
       "  <tbody>\n",
       "    <tr>\n",
       "      <th>0</th>\n",
       "      <td>GCN</td>\n",
       "      <td>None</td>\n",
       "      <td>0.972455</td>\n",
       "      <td>0.721095</td>\n",
       "      <td>0.483673</td>\n",
       "      <td>0.57899</td>\n",
       "      <td>0.980539</td>\n",
       "      <td>True</td>\n",
       "      <td>Proposed</td>\n",
       "      <td>0.04</td>\n",
       "      <td>112612</td>\n",
       "      <td>amt</td>\n",
       "      <td>0.04028</td>\n",
       "      <td>37538</td>\n",
       "      <td>0.03916</td>\n",
       "      <td>None</td>\n",
       "      <td>10000000.0</td>\n",
       "      <td>0.8</td>\n",
       "    </tr>\n",
       "  </tbody>\n",
       "</table>\n",
       "</div>"
      ],
      "text/plain": [
       "  model  time       acc       pre       rec       f1       auc graph_based  \\\n",
       "0   GCN  None  0.972455  0.721095  0.483673  0.57899  0.980539        True   \n",
       "\n",
       "     method  throw_rate train_size train_cols  train_frate test_size  \\\n",
       "0  Proposed        0.04     112612        amt      0.04028     37538   \n",
       "\n",
       "   test_frate hyper_params       theta  gamma  \n",
       "0     0.03916         None  10000000.0    0.8  "
      ]
     },
     "execution_count": 8,
     "metadata": {},
     "output_type": "execute_result"
    }
   ],
   "source": [
    "df_results = try_6(fraudTrain, 0.04,1e7,0.8)\n",
    "ymdhms = datetime.datetime.fromtimestamp(time.time()).strftime('%Y%m%d-%H%M%S') \n",
    "df_results.to_csv(f'../results/{ymdhms}-proposed.csv',index=False)\n",
    "\n",
    "df_results"
   ]
  },
  {
   "cell_type": "code",
   "execution_count": null,
   "id": "47082b94-3d54-4f02-92a4-e4242d5c7fab",
   "metadata": {},
   "outputs": [],
   "source": []
  }
 ],
 "metadata": {
  "kernelspec": {
   "display_name": "Python 3 (ipykernel)",
   "language": "python",
   "name": "python3"
  },
  "language_info": {
   "codemirror_mode": {
    "name": "ipython",
    "version": 3
   },
   "file_extension": ".py",
   "mimetype": "text/x-python",
   "name": "python",
   "nbconvert_exporter": "python",
   "pygments_lexer": "ipython3",
   "version": "3.8.18"
  }
 },
 "nbformat": 4,
 "nbformat_minor": 5
}
