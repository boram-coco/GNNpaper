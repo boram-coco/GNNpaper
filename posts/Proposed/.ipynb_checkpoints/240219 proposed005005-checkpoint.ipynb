{
 "cells": [
  {
   "cell_type": "raw",
   "id": "ead89876-ba70-480c-9ed6-8c8863b7c978",
   "metadata": {},
   "source": [
    "---\n",
    "title: \"[Proposed] 005_tr,005_tst 비율은 같지만 수가 많을 때\"\n",
    "author: \"김보람\"\n",
    "date: \"02/19/2024\"\n",
    "---"
   ]
  },
  {
   "cell_type": "markdown",
   "id": "96bfdec3-5b07-45b5-9b38-2e8813117310",
   "metadata": {},
   "source": [
    "# imports"
   ]
  },
  {
   "cell_type": "code",
   "execution_count": 4,
   "id": "4eb91738-6398-4ffc-bbec-fc48fcc8f249",
   "metadata": {},
   "outputs": [],
   "source": [
    "import pandas as pd\n",
    "import numpy as np\n",
    "import sklearn\n",
    "import pickle \n",
    "import time \n",
    "import datetime\n",
    "import warnings\n",
    "warnings.filterwarnings('ignore')"
   ]
  },
  {
   "cell_type": "code",
   "execution_count": 5,
   "id": "290df976-de65-4a67-828b-b8fe594538d9",
   "metadata": {},
   "outputs": [],
   "source": [
    "%run ../function_proposed_gcn.py"
   ]
  },
  {
   "cell_type": "code",
   "execution_count": 6,
   "id": "fdfecbba-4a62-4ef9-9c6e-238b71f1fb62",
   "metadata": {},
   "outputs": [],
   "source": [
    "with open('../fraudTrain.pkl', 'rb') as file:\n",
    "    fraudTrain = pickle.load(file)    "
   ]
  },
  {
   "cell_type": "code",
   "execution_count": 23,
   "id": "d05e2c73-d6a8-40b2-926e-3deaa73be05f",
   "metadata": {},
   "outputs": [
    {
     "data": {
      "text/plain": [
       "\u001b[0;31mSignature:\u001b[0m\n",
       "\u001b[0msplit_dataframe\u001b[0m\u001b[0;34m(\u001b[0m\u001b[0;34m\u001b[0m\n",
       "\u001b[0;34m\u001b[0m    \u001b[0mdata_frame\u001b[0m\u001b[0;34m,\u001b[0m\u001b[0;34m\u001b[0m\n",
       "\u001b[0;34m\u001b[0m    \u001b[0mtest_fraud_rate\u001b[0m\u001b[0;34m,\u001b[0m\u001b[0;34m\u001b[0m\n",
       "\u001b[0;34m\u001b[0m    \u001b[0mtest_rate\u001b[0m\u001b[0;34m=\u001b[0m\u001b[0;36m0.3\u001b[0m\u001b[0;34m,\u001b[0m\u001b[0;34m\u001b[0m\n",
       "\u001b[0;34m\u001b[0m    \u001b[0mrandom_state\u001b[0m\u001b[0;34m=\u001b[0m\u001b[0;36m42\u001b[0m\u001b[0;34m,\u001b[0m\u001b[0;34m\u001b[0m\n",
       "\u001b[0;34m\u001b[0m\u001b[0;34m)\u001b[0m\u001b[0;34m\u001b[0m\u001b[0;34m\u001b[0m\u001b[0m\n",
       "\u001b[0;31mDocstring:\u001b[0m <no docstring>\n",
       "\u001b[0;31mSource:\u001b[0m   \n",
       "\u001b[0;32mdef\u001b[0m \u001b[0msplit_dataframe\u001b[0m\u001b[0;34m(\u001b[0m\u001b[0mdata_frame\u001b[0m\u001b[0;34m,\u001b[0m \u001b[0mtest_fraud_rate\u001b[0m\u001b[0;34m,\u001b[0m \u001b[0mtest_rate\u001b[0m\u001b[0;34m=\u001b[0m\u001b[0;36m0.3\u001b[0m\u001b[0;34m,\u001b[0m \u001b[0mrandom_state\u001b[0m\u001b[0;34m=\u001b[0m\u001b[0;36m42\u001b[0m\u001b[0;34m)\u001b[0m\u001b[0;34m:\u001b[0m\u001b[0;34m\u001b[0m\n",
       "\u001b[0;34m\u001b[0m    \u001b[0mn\u001b[0m \u001b[0;34m=\u001b[0m \u001b[0mlen\u001b[0m\u001b[0;34m(\u001b[0m\u001b[0mdata_frame\u001b[0m\u001b[0;34m)\u001b[0m\u001b[0;34m\u001b[0m\n",
       "\u001b[0;34m\u001b[0m\u001b[0;34m\u001b[0m\n",
       "\u001b[0;34m\u001b[0m    \u001b[0;31m# 사기 거래와 정상 거래를 분리\u001b[0m\u001b[0;34m\u001b[0m\n",
       "\u001b[0;34m\u001b[0m    \u001b[0mfraud_data\u001b[0m \u001b[0;34m=\u001b[0m \u001b[0mdata_frame\u001b[0m\u001b[0;34m[\u001b[0m\u001b[0mdata_frame\u001b[0m\u001b[0;34m[\u001b[0m\u001b[0;34m'is_fraud'\u001b[0m\u001b[0;34m]\u001b[0m \u001b[0;34m==\u001b[0m \u001b[0;36m1\u001b[0m\u001b[0;34m]\u001b[0m\u001b[0;34m\u001b[0m\n",
       "\u001b[0;34m\u001b[0m    \u001b[0mnormal_data\u001b[0m \u001b[0;34m=\u001b[0m \u001b[0mdata_frame\u001b[0m\u001b[0;34m[\u001b[0m\u001b[0mdata_frame\u001b[0m\u001b[0;34m[\u001b[0m\u001b[0;34m'is_fraud'\u001b[0m\u001b[0;34m]\u001b[0m \u001b[0;34m==\u001b[0m \u001b[0;36m0\u001b[0m\u001b[0;34m]\u001b[0m\u001b[0;34m\u001b[0m\n",
       "\u001b[0;34m\u001b[0m\u001b[0;34m\u001b[0m\n",
       "\u001b[0;34m\u001b[0m    \u001b[0;31m# 테스트 데이터 크기 계산\u001b[0m\u001b[0;34m\u001b[0m\n",
       "\u001b[0;34m\u001b[0m    \u001b[0mtest_samples\u001b[0m \u001b[0;34m=\u001b[0m \u001b[0mint\u001b[0m\u001b[0;34m(\u001b[0m\u001b[0mtest_fraud_rate\u001b[0m \u001b[0;34m*\u001b[0m \u001b[0;34m(\u001b[0m\u001b[0mn\u001b[0m \u001b[0;34m*\u001b[0m \u001b[0mtest_rate\u001b[0m\u001b[0;34m)\u001b[0m\u001b[0;34m)\u001b[0m\u001b[0;34m\u001b[0m\n",
       "\u001b[0;34m\u001b[0m    \u001b[0mremaining_test_samples\u001b[0m \u001b[0;34m=\u001b[0m \u001b[0mint\u001b[0m\u001b[0;34m(\u001b[0m\u001b[0mn\u001b[0m \u001b[0;34m*\u001b[0m \u001b[0mtest_rate\u001b[0m\u001b[0;34m)\u001b[0m \u001b[0;34m-\u001b[0m \u001b[0mtest_samples\u001b[0m\u001b[0;34m\u001b[0m\n",
       "\u001b[0;34m\u001b[0m\u001b[0;34m\u001b[0m\n",
       "\u001b[0;34m\u001b[0m    \u001b[0;31m# 사기 거래 및 정상 거래에서 무작위로 테스트 데이터 추출\u001b[0m\u001b[0;34m\u001b[0m\n",
       "\u001b[0;34m\u001b[0m    \u001b[0mtest_fraud_data\u001b[0m \u001b[0;34m=\u001b[0m \u001b[0mfraud_data\u001b[0m\u001b[0;34m.\u001b[0m\u001b[0msample\u001b[0m\u001b[0;34m(\u001b[0m\u001b[0mn\u001b[0m\u001b[0;34m=\u001b[0m\u001b[0mtest_samples\u001b[0m\u001b[0;34m,\u001b[0m \u001b[0mreplace\u001b[0m\u001b[0;34m=\u001b[0m\u001b[0;32mFalse\u001b[0m\u001b[0;34m,\u001b[0m \u001b[0mrandom_state\u001b[0m\u001b[0;34m=\u001b[0m\u001b[0mrandom_state\u001b[0m\u001b[0;34m)\u001b[0m\u001b[0;34m\u001b[0m\n",
       "\u001b[0;34m\u001b[0m    \u001b[0mtest_normal_data\u001b[0m \u001b[0;34m=\u001b[0m \u001b[0mnormal_data\u001b[0m\u001b[0;34m.\u001b[0m\u001b[0msample\u001b[0m\u001b[0;34m(\u001b[0m\u001b[0mn\u001b[0m\u001b[0;34m=\u001b[0m\u001b[0mremaining_test_samples\u001b[0m\u001b[0;34m,\u001b[0m \u001b[0mreplace\u001b[0m\u001b[0;34m=\u001b[0m\u001b[0;32mFalse\u001b[0m\u001b[0;34m,\u001b[0m \u001b[0mrandom_state\u001b[0m\u001b[0;34m=\u001b[0m\u001b[0mrandom_state\u001b[0m\u001b[0;34m)\u001b[0m\u001b[0;34m\u001b[0m\n",
       "\u001b[0;34m\u001b[0m\u001b[0;34m\u001b[0m\n",
       "\u001b[0;34m\u001b[0m    \u001b[0;31m# 테스트 데이터 합치기\u001b[0m\u001b[0;34m\u001b[0m\n",
       "\u001b[0;34m\u001b[0m    \u001b[0mtest_data\u001b[0m \u001b[0;34m=\u001b[0m \u001b[0mpd\u001b[0m\u001b[0;34m.\u001b[0m\u001b[0mconcat\u001b[0m\u001b[0;34m(\u001b[0m\u001b[0;34m[\u001b[0m\u001b[0mtest_normal_data\u001b[0m\u001b[0;34m,\u001b[0m \u001b[0mtest_fraud_data\u001b[0m\u001b[0;34m]\u001b[0m\u001b[0;34m)\u001b[0m\u001b[0;34m\u001b[0m\n",
       "\u001b[0;34m\u001b[0m\u001b[0;34m\u001b[0m\n",
       "\u001b[0;34m\u001b[0m    \u001b[0;31m# 훈련 데이터 생성\u001b[0m\u001b[0;34m\u001b[0m\n",
       "\u001b[0;34m\u001b[0m    \u001b[0mtrain_data\u001b[0m \u001b[0;34m=\u001b[0m \u001b[0mdata_frame\u001b[0m\u001b[0;34m[\u001b[0m\u001b[0;34m~\u001b[0m\u001b[0mdata_frame\u001b[0m\u001b[0;34m.\u001b[0m\u001b[0mindex\u001b[0m\u001b[0;34m.\u001b[0m\u001b[0misin\u001b[0m\u001b[0;34m(\u001b[0m\u001b[0mtest_data\u001b[0m\u001b[0;34m.\u001b[0m\u001b[0mindex\u001b[0m\u001b[0;34m)\u001b[0m\u001b[0;34m]\u001b[0m\u001b[0;34m\u001b[0m\n",
       "\u001b[0;34m\u001b[0m\u001b[0;34m\u001b[0m\n",
       "\u001b[0;34m\u001b[0m    \u001b[0;32mreturn\u001b[0m \u001b[0mtrain_data\u001b[0m\u001b[0;34m,\u001b[0m \u001b[0mtest_data\u001b[0m\u001b[0;34m\u001b[0m\u001b[0;34m\u001b[0m\u001b[0m\n",
       "\u001b[0;31mFile:\u001b[0m      ~/Dropbox/GNNpaper/posts/function_proposed_gcn.py\n",
       "\u001b[0;31mType:\u001b[0m      function"
      ]
     },
     "metadata": {},
     "output_type": "display_data"
    }
   ],
   "source": [
    "split_dataframe??"
   ]
  },
  {
   "cell_type": "code",
   "execution_count": 30,
   "id": "2ecd93d9-4422-4df6-b012-ab68e318b42d",
   "metadata": {},
   "outputs": [],
   "source": [
    "df_tr, df_tst = split_dataframe(fraudTrain, 0.005)"
   ]
  },
  {
   "cell_type": "code",
   "execution_count": 31,
   "id": "f856b836-3251-498e-a849-53678fe17937",
   "metadata": {},
   "outputs": [
    {
     "data": {
      "text/plain": [
       "0.0060408472444935515"
      ]
     },
     "execution_count": 31,
     "metadata": {},
     "output_type": "execute_result"
    }
   ],
   "source": [
    "tr.is_fraud.mean()"
   ]
  },
  {
   "cell_type": "code",
   "execution_count": 32,
   "id": "4dd504b5-9b98-4c6e-b38d-17e4010388b8",
   "metadata": {},
   "outputs": [
    {
     "data": {
      "text/plain": [
       "0.004997266126673703"
      ]
     },
     "execution_count": 32,
     "metadata": {},
     "output_type": "execute_result"
    }
   ],
   "source": [
    "tst.is_fraud.mean()"
   ]
  },
  {
   "cell_type": "code",
   "execution_count": 34,
   "id": "e9a328ab-5341-4aac-86fd-3da7c3eeb12a",
   "metadata": {},
   "outputs": [
    {
     "data": {
      "text/plain": [
       "((734003, 22), (314572, 22))"
      ]
     },
     "execution_count": 34,
     "metadata": {},
     "output_type": "execute_result"
    }
   ],
   "source": [
    "df_tr.shape,df_tst.shape"
   ]
  },
  {
   "cell_type": "code",
   "execution_count": 35,
   "id": "9419c22e-7f90-454b-b5c5-6d4ddad72cfd",
   "metadata": {},
   "outputs": [],
   "source": [
    "df2, mask = concat(df_tr, df_tst)\n",
    "df2['index'] = df2.index\n",
    "df = df2.reset_index()"
   ]
  },
  {
   "cell_type": "code",
   "execution_count": 36,
   "id": "e1175573-2a57-4545-a9fa-cf0c891d6b03",
   "metadata": {},
   "outputs": [
    {
     "data": {
      "text/plain": [
       "(0.005727773406766326, 0.0060408472444935515, 0.004997266126673703)"
      ]
     },
     "execution_count": 36,
     "metadata": {},
     "output_type": "execute_result"
    }
   ],
   "source": [
    "df.is_fraud.mean(), df_tr.is_fraud.mean(), df_tst.is_fraud.mean()"
   ]
  },
  {
   "cell_type": "code",
   "execution_count": 37,
   "id": "c28633c2-35e7-4fa8-95a4-36125155cbec",
   "metadata": {},
   "outputs": [],
   "source": [
    "groups = df.groupby('cc_num')"
   ]
  },
  {
   "cell_type": "code",
   "execution_count": null,
   "id": "071d72aa-0bfb-4bd7-80b8-5df0b9b927a5",
   "metadata": {},
   "outputs": [],
   "source": [
    "edge_index = np.array([item for sublist in (compute_time_difference(group) for _, group in groups) for item in sublist])\n",
    "edge_index = edge_index.astype(np.float64)"
   ]
  },
  {
   "cell_type": "code",
   "execution_count": null,
   "id": "530e5f1a-3d78-4087-b8c1-5ef6de2a801a",
   "metadata": {},
   "outputs": [],
   "source": [
    "edge_index[:,2].mean()"
   ]
  },
  {
   "cell_type": "code",
   "execution_count": null,
   "id": "7a8307d8-2ef3-4b53-9670-2b42338ccd93",
   "metadata": {},
   "outputs": [],
   "source": [
    "plt.hist(edge_index[:,2])"
   ]
  },
  {
   "cell_type": "code",
   "execution_count": null,
   "id": "d771a25c-91d9-4439-86d4-26f92f76b985",
   "metadata": {},
   "outputs": [],
   "source": [
    "theta = edge_index[:,2].mean()"
   ]
  },
  {
   "cell_type": "code",
   "execution_count": null,
   "id": "bac9961b-129c-4490-8a4e-c13e4d0409b4",
   "metadata": {},
   "outputs": [],
   "source": [
    "edge_index[:,2] = (np.exp(-edge_index[:,2]/(theta)) != 1)*(np.exp(-edge_index[:,2]/(theta))).tolist()"
   ]
  },
  {
   "cell_type": "code",
   "execution_count": null,
   "id": "f14a9e8c-7131-4a66-b6be-e9aca82f27b2",
   "metadata": {},
   "outputs": [],
   "source": [
    "gamma = 0.8"
   ]
  },
  {
   "cell_type": "code",
   "execution_count": null,
   "id": "14046306-f7a9-48cb-9f40-4a2af9f15cfc",
   "metadata": {},
   "outputs": [],
   "source": [
    "edge_index = torch.tensor([(int(row[0]), int(row[1])) for row in edge_index if row[2] > gamma], dtype=torch.long).t()"
   ]
  },
  {
   "cell_type": "code",
   "execution_count": null,
   "id": "46cfc8d0-558e-49db-be41-9c500a4f1032",
   "metadata": {},
   "outputs": [],
   "source": [
    "x = torch.tensor(df['amt'].values, dtype=torch.float).reshape(-1,1)\n",
    "y = torch.tensor(df['is_fraud'].values,dtype=torch.int64)\n",
    "data = torch_geometric.data.Data(x=x, edge_index = edge_index, y=y, train_mask = mask[0], test_mask= mask[1])\n"
   ]
  },
  {
   "cell_type": "code",
   "execution_count": null,
   "id": "82732032-70c0-48ac-8f2a-249d0aa5a65f",
   "metadata": {},
   "outputs": [],
   "source": [
    "model = GCN1()\n",
    "optimizer = torch.optim.Adam(model.parameters(), lr=0.01, weight_decay=5e-4)\n",
    "yy = (data.y[data.test_mask]).numpy()\n",
    "yyhat, yyhat_ = train_and_evaluate_model(data, model, optimizer)\n",
    "yyhat_ = yyhat_.detach().numpy()\n",
    "eval = evaluation(yy, yyhat, yyhat_)"
   ]
  },
  {
   "cell_type": "code",
   "execution_count": null,
   "id": "fc844c39-2a31-40dc-ba4c-706a09a9da64",
   "metadata": {},
   "outputs": [],
   "source": [
    "eval"
   ]
  },
  {
   "cell_type": "code",
   "execution_count": null,
   "id": "b7d917d6-bd67-42dd-a6ab-24d73343c921",
   "metadata": {},
   "outputs": [],
   "source": []
  }
 ],
 "metadata": {
  "kernelspec": {
   "display_name": "Python 3 (ipykernel)",
   "language": "python",
   "name": "python3"
  },
  "language_info": {
   "codemirror_mode": {
    "name": "ipython",
    "version": 3
   },
   "file_extension": ".py",
   "mimetype": "text/x-python",
   "name": "python",
   "nbconvert_exporter": "python",
   "pygments_lexer": "ipython3",
   "version": "3.8.18"
  }
 },
 "nbformat": 4,
 "nbformat_minor": 5
}
