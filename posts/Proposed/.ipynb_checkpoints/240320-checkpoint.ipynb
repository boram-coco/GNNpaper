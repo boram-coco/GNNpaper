{
 "cells": [
  {
   "cell_type": "code",
   "execution_count": null,
   "id": "a41ea54c-c4a8-4cee-a69a-466e2e86d37b",
   "metadata": {},
   "outputs": [],
   "source": []
  },
  {
   "cell_type": "code",
   "execution_count": 2,
   "id": "0a1f655b-d57c-48d0-8482-5cf804ad7996",
   "metadata": {},
   "outputs": [],
   "source": [
    "import pandas as pd\n",
    "import numpy as np\n",
    "import sklearn\n",
    "import pickle \n",
    "import time \n",
    "import datetime\n",
    "import warnings\n",
    "warnings.filterwarnings('ignore')"
   ]
  },
  {
   "cell_type": "code",
   "execution_count": 3,
   "id": "64db120c-9fe6-4fd1-9ea1-e844f03f74c1",
   "metadata": {},
   "outputs": [],
   "source": [
    "%run ./function_proposed_gcn.py"
   ]
  },
  {
   "cell_type": "code",
   "execution_count": 4,
   "id": "5cf8f3f3-f5d4-400a-874d-e3157957a536",
   "metadata": {},
   "outputs": [],
   "source": [
    "with open('./fraudTrain.pkl', 'rb') as file:\n",
    "    fraudTrain = pickle.load(file)    "
   ]
  },
  {
   "cell_type": "code",
   "execution_count": null,
   "id": "bc54d2e4-4679-48d5-a78b-f5337a87ffa8",
   "metadata": {},
   "outputs": [],
   "source": [
    "df_results = try_6(fraudTrain, 0.00573,1e7,0.8)\n",
    "df_results = try_6(fraudTrain, 0.006,1e7,0.8, prev_results=df_results)\n",
    "df_results = try_6(fraudTrain, 0.007,1e7,0.8, prev_results=df_results)\n",
    "df_results = try_6(fraudTrain, 0.008,1e7,0.8, prev_results=df_results)\n",
    "df_results = try_6(fraudTrain, 0.009,1e7,0.8, prev_results=df_results)\n",
    "ymdhms = datetime.datetime.fromtimestamp(time.time()).strftime('%Y%m%d-%H%M%S') \n",
    "df_results.to_csv(f'../results/{ymdhms}-proposed.csv',index=False)\n",
    "\n",
    "df_results"
   ]
  },
  {
   "cell_type": "code",
   "execution_count": null,
   "id": "8b6566dd-f34b-496a-bc98-68c7e24c9a11",
   "metadata": {},
   "outputs": [],
   "source": [
    "df_results = try_6(fraudTrain, 0.009,1e7,0.8)\n",
    "ymdhms = datetime.datetime.fromtimestamp(time.time()).strftime('%Y%m%d-%H%M%S') \n",
    "df_results.to_csv(f'../results/{ymdhms}-proposed.csv',index=False)\n",
    "\n",
    "df_results"
   ]
  },
  {
   "cell_type": "code",
   "execution_count": null,
   "id": "10f49454-1d7c-4710-88ca-4da7b7abf618",
   "metadata": {},
   "outputs": [],
   "source": []
  }
 ],
 "metadata": {
  "kernelspec": {
   "display_name": "Python 3 (ipykernel)",
   "language": "python",
   "name": "python3"
  },
  "language_info": {
   "codemirror_mode": {
    "name": "ipython",
    "version": 3
   },
   "file_extension": ".py",
   "mimetype": "text/x-python",
   "name": "python",
   "nbconvert_exporter": "python",
   "pygments_lexer": "ipython3",
   "version": "3.8.18"
  }
 },
 "nbformat": 4,
 "nbformat_minor": 5
}
