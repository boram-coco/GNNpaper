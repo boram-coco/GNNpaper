{
 "cells": [
  {
   "cell_type": "raw",
   "id": "ead89876-ba70-480c-9ed6-8c8863b7c978",
   "metadata": {},
   "source": [
    "---\n",
    "title: \"[Proposed] Split\"\n",
    "author: \"김보람\"\n",
    "date: \"04/02/2024\"\n",
    "---"
   ]
  },
  {
   "cell_type": "markdown",
   "id": "96bfdec3-5b07-45b5-9b38-2e8813117310",
   "metadata": {},
   "source": [
    "# imports"
   ]
  },
  {
   "cell_type": "code",
   "execution_count": 1,
   "id": "4eb91738-6398-4ffc-bbec-fc48fcc8f249",
   "metadata": {},
   "outputs": [],
   "source": [
    "import pandas as pd\n",
    "import numpy as np\n",
    "import sklearn\n",
    "import pickle \n",
    "import time \n",
    "import datetime\n",
    "import warnings\n",
    "warnings.filterwarnings('ignore')"
   ]
  },
  {
   "cell_type": "code",
   "execution_count": 2,
   "id": "290df976-de65-4a67-828b-b8fe594538d9",
   "metadata": {},
   "outputs": [],
   "source": [
    "%run ../function_proposed_gcn.py"
   ]
  },
  {
   "cell_type": "code",
   "execution_count": 3,
   "id": "fdfecbba-4a62-4ef9-9c6e-238b71f1fb62",
   "metadata": {},
   "outputs": [],
   "source": [
    "with open('../fraudTrain.pkl', 'rb') as file:\n",
    "    fraudTrain = pickle.load(file)    "
   ]
  },
  {
   "cell_type": "code",
   "execution_count": 4,
   "id": "3d146607-f525-4573-9b22-46b2cdcba1e5",
   "metadata": {},
   "outputs": [],
   "source": [
    "def try_7(fraudTrain, ratio, n, theta, gamma, prev_results=None): # try_4에서 index안겹치게 바꾼것\n",
    "    if prev_results is None:\n",
    "        df_results = pd.DataFrame(columns=[\n",
    "            'model', 'time', 'acc', 'pre', 'rec', 'f1', 'auc', 'graph_based', \n",
    "            'method', 'throw_rate', 'train_size', 'train_cols', 'train_frate', \n",
    "            'test_size', 'test_frate', 'hyper_params', 'theta', 'gamma'\n",
    "        ])\n",
    "    else:\n",
    "        df_results = prev_results\n",
    "    \n",
    "    df50 = throw(fraudTrain,ratio)\n",
    "    df_tr, df_tst = sklearn.model_selection.train_test_split(df50)\n",
    "        \n",
    "    dfn = fraudTrain[::n]\n",
    "    dfnn = dfn[~dfn.index.isin(df_tr.index)]\n",
    "    dfnn = dfnn.reset_index(drop=True)\n",
    "    df_trn, df_tstn = sklearn.model_selection.train_test_split(dfnn)\n",
    "    \n",
    "\n",
    "   \n",
    "    df2, mask = concat(df_tr, df_tstn)\n",
    "    df2['index'] = df2.index\n",
    "    df = df2.reset_index()\n",
    "\n",
    "    \n",
    "    groups = df.groupby('cc_num')\n",
    "    edge_index = np.array([item for sublist in (compute_time_difference(group) for _, group in groups) for item in sublist])\n",
    "    edge_index = edge_index.astype(np.float64)\n",
    "    edge_index[:,2] = (np.exp(-edge_index[:,2]/(theta)) != 1)*(np.exp(-edge_index[:,2]/(theta))).tolist()\n",
    "    edge_index = torch.tensor([(int(row[0]), int(row[1])) for row in edge_index if row[2] > gamma], dtype=torch.long).t()\n",
    "    \n",
    "    x = torch.tensor(df['amt'].values, dtype=torch.float).reshape(-1,1)\n",
    "    y = torch.tensor(df['is_fraud'].values,dtype=torch.int64)\n",
    "    data = torch_geometric.data.Data(x=x, edge_index = edge_index, y=y, train_mask = mask[0], test_mask= mask[1])\n",
    "    \n",
    "    model = GCN1()\n",
    "    optimizer = torch.optim.Adam(model.parameters(), lr=0.01, weight_decay=5e-4)\n",
    "    yy = (data.y[data.test_mask]).numpy()\n",
    "    yyhat, yyhat_ = train_and_evaluate_model(data, model, optimizer)\n",
    "    yyhat_ = yyhat_.detach().numpy()\n",
    "    eval = evaluation(yy, yyhat, yyhat_)\n",
    "    \n",
    "    result = {\n",
    "        'model': 'GCN',\n",
    "        'time': None,\n",
    "        'acc': eval['acc'],\n",
    "        'pre': eval['pre'],\n",
    "        'rec': eval['rec'],\n",
    "        'f1': eval['f1'],\n",
    "        'auc': eval['auc'],\n",
    "        'graph_based': True,\n",
    "        'method': 'Proposed',\n",
    "        'throw_rate': df.is_fraud.mean(),\n",
    "        'train_size': len(df_tr),\n",
    "        'train_cols': 'amt',\n",
    "        'train_frate': df_tr.is_fraud.mean(),\n",
    "        'test_size': len(df_tstn),\n",
    "        'test_frate':  df_tstn.is_fraud.mean(),\n",
    "        'hyper_params': None,\n",
    "        'theta': theta,\n",
    "        'gamma': gamma\n",
    "    }\n",
    "    \n",
    "    df_results = df_results.append(result, ignore_index=True)\n",
    "    \n",
    "    return df_results\n",
    "\n"
   ]
  },
  {
   "cell_type": "code",
   "execution_count": 5,
   "id": "a2ba4430-9912-445e-aa82-dbd6adce7efb",
   "metadata": {},
   "outputs": [
    {
     "data": {
      "text/html": [
       "<div>\n",
       "<style scoped>\n",
       "    .dataframe tbody tr th:only-of-type {\n",
       "        vertical-align: middle;\n",
       "    }\n",
       "\n",
       "    .dataframe tbody tr th {\n",
       "        vertical-align: top;\n",
       "    }\n",
       "\n",
       "    .dataframe thead th {\n",
       "        text-align: right;\n",
       "    }\n",
       "</style>\n",
       "<table border=\"1\" class=\"dataframe\">\n",
       "  <thead>\n",
       "    <tr style=\"text-align: right;\">\n",
       "      <th></th>\n",
       "      <th>model</th>\n",
       "      <th>time</th>\n",
       "      <th>acc</th>\n",
       "      <th>pre</th>\n",
       "      <th>rec</th>\n",
       "      <th>f1</th>\n",
       "      <th>auc</th>\n",
       "      <th>graph_based</th>\n",
       "      <th>method</th>\n",
       "      <th>throw_rate</th>\n",
       "      <th>train_size</th>\n",
       "      <th>train_cols</th>\n",
       "      <th>train_frate</th>\n",
       "      <th>test_size</th>\n",
       "      <th>test_frate</th>\n",
       "      <th>hyper_params</th>\n",
       "      <th>theta</th>\n",
       "      <th>gamma</th>\n",
       "    </tr>\n",
       "  </thead>\n",
       "  <tbody>\n",
       "    <tr>\n",
       "      <th>0</th>\n",
       "      <td>GCN</td>\n",
       "      <td>None</td>\n",
       "      <td>0.956907</td>\n",
       "      <td>0.030035</td>\n",
       "      <td>0.829268</td>\n",
       "      <td>0.057971</td>\n",
       "      <td>0.972998</td>\n",
       "      <td>True</td>\n",
       "      <td>Proposed</td>\n",
       "      <td>0.093805</td>\n",
       "      <td>22522</td>\n",
       "      <td>amt</td>\n",
       "      <td>0.198783</td>\n",
       "      <td>25642</td>\n",
       "      <td>0.001599</td>\n",
       "      <td>None</td>\n",
       "      <td>10000000.0</td>\n",
       "      <td>0.8</td>\n",
       "    </tr>\n",
       "  </tbody>\n",
       "</table>\n",
       "</div>"
      ],
      "text/plain": [
       "  model  time       acc       pre       rec        f1       auc graph_based  \\\n",
       "0   GCN  None  0.956907  0.030035  0.829268  0.057971  0.972998        True   \n",
       "\n",
       "     method  throw_rate train_size train_cols  train_frate test_size  \\\n",
       "0  Proposed    0.093805      22522        amt     0.198783     25642   \n",
       "\n",
       "   test_frate hyper_params       theta  gamma  \n",
       "0    0.001599         None  10000000.0    0.8  "
      ]
     },
     "execution_count": 5,
     "metadata": {},
     "output_type": "execute_result"
    }
   ],
   "source": [
    "df_results = try_7(fraudTrain, 0.2, 10,1e+7,0.8)\n",
    "\n",
    "ymdhms = datetime.datetime.fromtimestamp(time.time()).strftime('%Y%m%d-%H%M%S') \n",
    "df_results.to_csv(f'../results/{ymdhms}-proposed.csv',index=False)\n",
    "\n",
    "df_results"
   ]
  }
 ],
 "metadata": {
  "kernelspec": {
   "display_name": "Python 3 (ipykernel)",
   "language": "python",
   "name": "python3"
  },
  "language_info": {
   "codemirror_mode": {
    "name": "ipython",
    "version": 3
   },
   "file_extension": ".py",
   "mimetype": "text/x-python",
   "name": "python",
   "nbconvert_exporter": "python",
   "pygments_lexer": "ipython3",
   "version": "3.8.18"
  }
 },
 "nbformat": 4,
 "nbformat_minor": 5
}
