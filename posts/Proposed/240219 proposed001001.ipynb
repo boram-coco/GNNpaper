{
 "cells": [
  {
   "cell_type": "raw",
   "id": "ead89876-ba70-480c-9ed6-8c8863b7c978",
   "metadata": {},
   "source": [
    "---\n",
    "title: \"[Proposed] 001_tr,001_tst 비율은 같지만 수가 많을 때\"\n",
    "author: \"김보람\"\n",
    "date: \"02/19/2024\"\n",
    "---"
   ]
  },
  {
   "cell_type": "markdown",
   "id": "96bfdec3-5b07-45b5-9b38-2e8813117310",
   "metadata": {},
   "source": [
    "# imports"
   ]
  },
  {
   "cell_type": "code",
   "execution_count": 1,
   "id": "4eb91738-6398-4ffc-bbec-fc48fcc8f249",
   "metadata": {},
   "outputs": [],
   "source": [
    "import pandas as pd\n",
    "import numpy as np\n",
    "import sklearn\n",
    "import pickle \n",
    "import time \n",
    "import datetime\n",
    "import warnings\n",
    "warnings.filterwarnings('ignore')"
   ]
  },
  {
   "cell_type": "code",
   "execution_count": 2,
   "id": "290df976-de65-4a67-828b-b8fe594538d9",
   "metadata": {},
   "outputs": [],
   "source": [
    "%run ../function_proposed_gcn.py"
   ]
  },
  {
   "cell_type": "code",
   "execution_count": 3,
   "id": "fdfecbba-4a62-4ef9-9c6e-238b71f1fb62",
   "metadata": {},
   "outputs": [],
   "source": [
    "with open('../fraudTrain.pkl', 'rb') as file:\n",
    "    fraudTrain = pickle.load(file)    "
   ]
  },
  {
   "cell_type": "code",
   "execution_count": 4,
   "id": "2ecd93d9-4422-4df6-b012-ab68e318b42d",
   "metadata": {},
   "outputs": [],
   "source": [
    "df_tr, df_tst = split_dataframe(fraudTrain, 0.001)"
   ]
  },
  {
   "cell_type": "code",
   "execution_count": 8,
   "id": "e9a328ab-5341-4aac-86fd-3da7c3eeb12a",
   "metadata": {},
   "outputs": [
    {
     "data": {
      "text/plain": [
       "((734003, 22), (314572, 22))"
      ]
     },
     "execution_count": 8,
     "metadata": {},
     "output_type": "execute_result"
    }
   ],
   "source": [
    "df_tr.shape,df_tst.shape"
   ]
  },
  {
   "cell_type": "code",
   "execution_count": 9,
   "id": "9419c22e-7f90-454b-b5c5-6d4ddad72cfd",
   "metadata": {},
   "outputs": [],
   "source": [
    "df2, mask = concat(df_tr, df_tst)\n",
    "df2['index'] = df2.index\n",
    "df = df2.reset_index()"
   ]
  },
  {
   "cell_type": "code",
   "execution_count": 10,
   "id": "e1175573-2a57-4545-a9fa-cf0c891d6b03",
   "metadata": {},
   "outputs": [
    {
     "data": {
      "text/plain": [
       "(0.005727773406766326, 0.007754736697261455, 0.000998181656345765)"
      ]
     },
     "execution_count": 10,
     "metadata": {},
     "output_type": "execute_result"
    }
   ],
   "source": [
    "df.is_fraud.mean(), df_tr.is_fraud.mean(), df_tst.is_fraud.mean()"
   ]
  },
  {
   "cell_type": "code",
   "execution_count": 11,
   "id": "c28633c2-35e7-4fa8-95a4-36125155cbec",
   "metadata": {},
   "outputs": [],
   "source": [
    "groups = df.groupby('cc_num')"
   ]
  },
  {
   "cell_type": "code",
   "execution_count": null,
   "id": "2d4f8344-c5e1-47fe-b253-5b9c662dba76",
   "metadata": {},
   "outputs": [],
   "source": [
    "edge_index = np.array([item for sublist in (compute_time_difference(group) for _, group in groups) for item in sublist])\n",
    "edge_index = edge_index.astype(np.float64)\n",
    "\n",
    "edge_index[:,2].mean()\n",
    "\n",
    "plt.hist(edge_index[:,2])\n",
    "\n",
    "theta = edge_index[:,2].mean()\n",
    "\n",
    "edge_index[:,2] = (np.exp(-edge_index[:,2]/(theta)) != 1)*(np.exp(-edge_index[:,2]/(theta))).tolist()\n",
    "\n",
    "gamma = 0.8\n",
    "\n",
    "edge_index = torch.tensor([(int(row[0]), int(row[1])) for row in edge_index if row[2] > gamma], dtype=torch.long).t()\n",
    "\n",
    "x = torch.tensor(df['amt'].values, dtype=torch.float).reshape(-1,1)\n",
    "y = torch.tensor(df['is_fraud'].values,dtype=torch.int64)\n",
    "data = torch_geometric.data.Data(x=x, edge_index = edge_index, y=y, train_mask = mask[0], test_mask= mask[1])\n",
    "\n",
    "\n",
    "model = GCN1()\n",
    "optimizer = torch.optim.Adam(model.parameters(), lr=0.01, weight_decay=5e-4)\n",
    "yy = (data.y[data.test_mask]).numpy()\n",
    "yyhat, yyhat_ = train_and_evaluate_model(data, model, optimizer)\n",
    "yyhat_ = yyhat_.detach().numpy()\n",
    "eval = evaluation(yy, yyhat, yyhat_)\n",
    "\n",
    "eval"
   ]
  },
  {
   "cell_type": "code",
   "execution_count": null,
   "id": "b7d917d6-bd67-42dd-a6ab-24d73343c921",
   "metadata": {},
   "outputs": [],
   "source": []
  }
 ],
 "metadata": {
  "kernelspec": {
   "display_name": "Python 3 (ipykernel)",
   "language": "python",
   "name": "python3"
  },
  "language_info": {
   "codemirror_mode": {
    "name": "ipython",
    "version": 3
   },
   "file_extension": ".py",
   "mimetype": "text/x-python",
   "name": "python",
   "nbconvert_exporter": "python",
   "pygments_lexer": "ipython3",
   "version": "3.8.18"
  }
 },
 "nbformat": 4,
 "nbformat_minor": 5
}
