{
 "cells": [
  {
   "cell_type": "raw",
   "id": "ead89876-ba70-480c-9ed6-8c8863b7c978",
   "metadata": {},
   "source": [
    "---\n",
    "title: \"[Proposed] 불균형 데이터 (def)-망\"\n",
    "author: \"김보람\"\n",
    "date: \"02/05/2024\"\n",
    "---"
   ]
  },
  {
   "cell_type": "markdown",
   "id": "96bfdec3-5b07-45b5-9b38-2e8813117310",
   "metadata": {},
   "source": [
    "# imports"
   ]
  },
  {
   "cell_type": "code",
   "execution_count": 1,
   "id": "4eb91738-6398-4ffc-bbec-fc48fcc8f249",
   "metadata": {},
   "outputs": [],
   "source": [
    "import pandas as pd\n",
    "import numpy as np\n",
    "import sklearn\n",
    "import pickle \n",
    "import time \n",
    "import datetime\n",
    "import warnings\n",
    "warnings.filterwarnings('ignore')"
   ]
  },
  {
   "cell_type": "code",
   "execution_count": 2,
   "id": "290df976-de65-4a67-828b-b8fe594538d9",
   "metadata": {},
   "outputs": [],
   "source": [
    "%run function_proposed_gcn.py"
   ]
  },
  {
   "cell_type": "code",
   "execution_count": 3,
   "id": "fdfecbba-4a62-4ef9-9c6e-238b71f1fb62",
   "metadata": {},
   "outputs": [],
   "source": [
    "with open('fraudTrain.pkl', 'rb') as file:\n",
    "    fraudTrain = pickle.load(file)    "
   ]
  },
  {
   "cell_type": "code",
   "execution_count": 4,
   "id": "6b83270d-2f44-4459-a3bf-1cde6df2702b",
   "metadata": {},
   "outputs": [],
   "source": [
    "df_results = try_1(fraudTrain, 0.3, 0.05, 8.028000e+04, 0.3)"
   ]
  },
  {
   "cell_type": "code",
   "execution_count": 5,
   "id": "cc703d00-8c69-4272-9f2e-d3a6186b6298",
   "metadata": {},
   "outputs": [],
   "source": [
    "df_results = try_1(fraudTrain, 0.3, 0.05, 8.028000e+04, 0.2, prev_results=df_results)"
   ]
  },
  {
   "cell_type": "code",
   "execution_count": 6,
   "id": "2815834b-45b4-4a6b-9ebc-5c64a3281ce8",
   "metadata": {},
   "outputs": [],
   "source": [
    "df_results = try_1(fraudTrain, 0.3, 0.005, 8.028000e+04, 0.2, prev_results=df_results)"
   ]
  },
  {
   "cell_type": "code",
   "execution_count": 7,
   "id": "15f34492-bfbc-4fb8-a558-cb51a82d3168",
   "metadata": {},
   "outputs": [],
   "source": [
    "df_results = try_1(fraudTrain, 0.2, 0.05, 8.028000e+04, 0.2, prev_results=df_results)"
   ]
  },
  {
   "cell_type": "code",
   "execution_count": 8,
   "id": "ddfb887a-c9ac-448e-91e4-b2efce80fb64",
   "metadata": {},
   "outputs": [],
   "source": [
    "df_results = try_1(fraudTrain, 0.2, 0.005, 8.028000e+04, 0.2, prev_results=df_results)"
   ]
  },
  {
   "cell_type": "code",
   "execution_count": 9,
   "id": "085a231b-738b-454b-bdae-78f0ecde5e3b",
   "metadata": {},
   "outputs": [],
   "source": [
    "df_results = try_1(fraudTrain, 0.3, 0.005, 8.028000e+04, 0.3, prev_results=df_results)"
   ]
  },
  {
   "cell_type": "code",
   "execution_count": 10,
   "id": "7c5aedb2-639c-4a4b-bade-308a5acc676d",
   "metadata": {},
   "outputs": [],
   "source": [
    "df_results = try_1(fraudTrain, 0.5, 0.5, 8.028000e+04, 0.3, prev_results=df_results)"
   ]
  },
  {
   "cell_type": "code",
   "execution_count": 11,
   "id": "e2bdcc9c-ad28-441c-b573-10b6c6472a71",
   "metadata": {},
   "outputs": [
    {
     "data": {
      "text/html": [
       "<div>\n",
       "<style scoped>\n",
       "    .dataframe tbody tr th:only-of-type {\n",
       "        vertical-align: middle;\n",
       "    }\n",
       "\n",
       "    .dataframe tbody tr th {\n",
       "        vertical-align: top;\n",
       "    }\n",
       "\n",
       "    .dataframe thead th {\n",
       "        text-align: right;\n",
       "    }\n",
       "</style>\n",
       "<table border=\"1\" class=\"dataframe\">\n",
       "  <thead>\n",
       "    <tr style=\"text-align: right;\">\n",
       "      <th></th>\n",
       "      <th>model</th>\n",
       "      <th>time</th>\n",
       "      <th>acc</th>\n",
       "      <th>pre</th>\n",
       "      <th>rec</th>\n",
       "      <th>f1</th>\n",
       "      <th>auc</th>\n",
       "      <th>graph_based</th>\n",
       "      <th>method</th>\n",
       "      <th>throw_rate</th>\n",
       "      <th>train_size</th>\n",
       "      <th>train_cols</th>\n",
       "      <th>train_frate</th>\n",
       "      <th>test_size</th>\n",
       "      <th>test_frate</th>\n",
       "      <th>hyper_params</th>\n",
       "      <th>theta</th>\n",
       "      <th>gamma</th>\n",
       "    </tr>\n",
       "  </thead>\n",
       "  <tbody>\n",
       "    <tr>\n",
       "      <th>0</th>\n",
       "      <td>GCN</td>\n",
       "      <td>None</td>\n",
       "      <td>0.972028</td>\n",
       "      <td>0.652778</td>\n",
       "      <td>0.940000</td>\n",
       "      <td>0.770492</td>\n",
       "      <td>0.956856</td>\n",
       "      <td>True</td>\n",
       "      <td>Proposed</td>\n",
       "      <td>0.3</td>\n",
       "      <td>20020</td>\n",
       "      <td>[level_0, trans_date_trans_time, cc_num, merch...</td>\n",
       "      <td>0.3</td>\n",
       "      <td>20020</td>\n",
       "      <td>0.050</td>\n",
       "      <td>None</td>\n",
       "      <td>80280.0</td>\n",
       "      <td>0.3</td>\n",
       "    </tr>\n",
       "    <tr>\n",
       "      <th>1</th>\n",
       "      <td>GCN</td>\n",
       "      <td>None</td>\n",
       "      <td>0.972194</td>\n",
       "      <td>0.650794</td>\n",
       "      <td>0.956667</td>\n",
       "      <td>0.774629</td>\n",
       "      <td>0.964839</td>\n",
       "      <td>True</td>\n",
       "      <td>Proposed</td>\n",
       "      <td>0.3</td>\n",
       "      <td>20020</td>\n",
       "      <td>[level_0, trans_date_trans_time, cc_num, merch...</td>\n",
       "      <td>0.3</td>\n",
       "      <td>20020</td>\n",
       "      <td>0.050</td>\n",
       "      <td>None</td>\n",
       "      <td>80280.0</td>\n",
       "      <td>0.2</td>\n",
       "    </tr>\n",
       "    <tr>\n",
       "      <th>2</th>\n",
       "      <td>GCN</td>\n",
       "      <td>None</td>\n",
       "      <td>0.972694</td>\n",
       "      <td>0.143617</td>\n",
       "      <td>0.900000</td>\n",
       "      <td>0.247706</td>\n",
       "      <td>0.936529</td>\n",
       "      <td>True</td>\n",
       "      <td>Proposed</td>\n",
       "      <td>0.3</td>\n",
       "      <td>20020</td>\n",
       "      <td>[level_0, trans_date_trans_time, cc_num, merch...</td>\n",
       "      <td>0.3</td>\n",
       "      <td>20020</td>\n",
       "      <td>0.005</td>\n",
       "      <td>None</td>\n",
       "      <td>80280.0</td>\n",
       "      <td>0.2</td>\n",
       "    </tr>\n",
       "    <tr>\n",
       "      <th>3</th>\n",
       "      <td>GCN</td>\n",
       "      <td>None</td>\n",
       "      <td>0.977356</td>\n",
       "      <td>0.711340</td>\n",
       "      <td>0.920000</td>\n",
       "      <td>0.802326</td>\n",
       "      <td>0.950186</td>\n",
       "      <td>True</td>\n",
       "      <td>Proposed</td>\n",
       "      <td>0.2</td>\n",
       "      <td>30030</td>\n",
       "      <td>[level_0, trans_date_trans_time, cc_num, merch...</td>\n",
       "      <td>0.2</td>\n",
       "      <td>30030</td>\n",
       "      <td>0.050</td>\n",
       "      <td>None</td>\n",
       "      <td>80280.0</td>\n",
       "      <td>0.2</td>\n",
       "    </tr>\n",
       "    <tr>\n",
       "      <th>4</th>\n",
       "      <td>GCN</td>\n",
       "      <td>None</td>\n",
       "      <td>0.978910</td>\n",
       "      <td>0.171946</td>\n",
       "      <td>0.844444</td>\n",
       "      <td>0.285714</td>\n",
       "      <td>0.912015</td>\n",
       "      <td>True</td>\n",
       "      <td>Proposed</td>\n",
       "      <td>0.2</td>\n",
       "      <td>30030</td>\n",
       "      <td>[level_0, trans_date_trans_time, cc_num, merch...</td>\n",
       "      <td>0.2</td>\n",
       "      <td>30030</td>\n",
       "      <td>0.005</td>\n",
       "      <td>None</td>\n",
       "      <td>80280.0</td>\n",
       "      <td>0.2</td>\n",
       "    </tr>\n",
       "    <tr>\n",
       "      <th>5</th>\n",
       "      <td>GCN</td>\n",
       "      <td>None</td>\n",
       "      <td>0.971029</td>\n",
       "      <td>0.136364</td>\n",
       "      <td>0.900000</td>\n",
       "      <td>0.236842</td>\n",
       "      <td>0.935693</td>\n",
       "      <td>True</td>\n",
       "      <td>Proposed</td>\n",
       "      <td>0.3</td>\n",
       "      <td>20020</td>\n",
       "      <td>[level_0, trans_date_trans_time, cc_num, merch...</td>\n",
       "      <td>0.3</td>\n",
       "      <td>20020</td>\n",
       "      <td>0.005</td>\n",
       "      <td>None</td>\n",
       "      <td>80280.0</td>\n",
       "      <td>0.3</td>\n",
       "    </tr>\n",
       "    <tr>\n",
       "      <th>6</th>\n",
       "      <td>GCN</td>\n",
       "      <td>None</td>\n",
       "      <td>0.964752</td>\n",
       "      <td>0.969697</td>\n",
       "      <td>0.959467</td>\n",
       "      <td>0.964555</td>\n",
       "      <td>0.964750</td>\n",
       "      <td>True</td>\n",
       "      <td>Proposed</td>\n",
       "      <td>0.5</td>\n",
       "      <td>12012</td>\n",
       "      <td>[level_0, trans_date_trans_time, cc_num, merch...</td>\n",
       "      <td>0.5</td>\n",
       "      <td>12012</td>\n",
       "      <td>0.500</td>\n",
       "      <td>None</td>\n",
       "      <td>80280.0</td>\n",
       "      <td>0.3</td>\n",
       "    </tr>\n",
       "  </tbody>\n",
       "</table>\n",
       "</div>"
      ],
      "text/plain": [
       "  model  time       acc       pre       rec        f1       auc graph_based  \\\n",
       "0   GCN  None  0.972028  0.652778  0.940000  0.770492  0.956856        True   \n",
       "1   GCN  None  0.972194  0.650794  0.956667  0.774629  0.964839        True   \n",
       "2   GCN  None  0.972694  0.143617  0.900000  0.247706  0.936529        True   \n",
       "3   GCN  None  0.977356  0.711340  0.920000  0.802326  0.950186        True   \n",
       "4   GCN  None  0.978910  0.171946  0.844444  0.285714  0.912015        True   \n",
       "5   GCN  None  0.971029  0.136364  0.900000  0.236842  0.935693        True   \n",
       "6   GCN  None  0.964752  0.969697  0.959467  0.964555  0.964750        True   \n",
       "\n",
       "     method  throw_rate train_size  \\\n",
       "0  Proposed         0.3      20020   \n",
       "1  Proposed         0.3      20020   \n",
       "2  Proposed         0.3      20020   \n",
       "3  Proposed         0.2      30030   \n",
       "4  Proposed         0.2      30030   \n",
       "5  Proposed         0.3      20020   \n",
       "6  Proposed         0.5      12012   \n",
       "\n",
       "                                          train_cols  train_frate test_size  \\\n",
       "0  [level_0, trans_date_trans_time, cc_num, merch...          0.3     20020   \n",
       "1  [level_0, trans_date_trans_time, cc_num, merch...          0.3     20020   \n",
       "2  [level_0, trans_date_trans_time, cc_num, merch...          0.3     20020   \n",
       "3  [level_0, trans_date_trans_time, cc_num, merch...          0.2     30030   \n",
       "4  [level_0, trans_date_trans_time, cc_num, merch...          0.2     30030   \n",
       "5  [level_0, trans_date_trans_time, cc_num, merch...          0.3     20020   \n",
       "6  [level_0, trans_date_trans_time, cc_num, merch...          0.5     12012   \n",
       "\n",
       "   test_frate hyper_params    theta  gamma  \n",
       "0       0.050         None  80280.0    0.3  \n",
       "1       0.050         None  80280.0    0.2  \n",
       "2       0.005         None  80280.0    0.2  \n",
       "3       0.050         None  80280.0    0.2  \n",
       "4       0.005         None  80280.0    0.2  \n",
       "5       0.005         None  80280.0    0.3  \n",
       "6       0.500         None  80280.0    0.3  "
      ]
     },
     "execution_count": 11,
     "metadata": {},
     "output_type": "execute_result"
    }
   ],
   "source": [
    "df_results"
   ]
  },
  {
   "cell_type": "markdown",
   "id": "833f6fcd-3ad6-4428-a464-8b672b7425b0",
   "metadata": {},
   "source": [
    "> train_cols 수정 필요 -> `amt`만 나오게. ..  \n",
    ">\n",
    "> time........(proposed는 시간이 의미가 있낭?)\n",
    ">\n",
    "> 일단 이렇게 나온 결과값을 엑셀로 저장해야함.."
   ]
  },
  {
   "cell_type": "code",
   "execution_count": 12,
   "id": "e9457418-22c0-4106-b9ef-bc35270eeb21",
   "metadata": {},
   "outputs": [],
   "source": [
    "ymdhms = datetime.datetime.fromtimestamp(time.time()).strftime('%Y%m%d-%H%M%S') \n",
    "df_results.to_csv(f'./results/{ymdhms}-proposed.csv',index=False)"
   ]
  },
  {
   "cell_type": "code",
   "execution_count": null,
   "id": "260beca7-0a88-4b80-be7e-6d58249b3fe2",
   "metadata": {},
   "outputs": [],
   "source": []
  },
  {
   "cell_type": "code",
   "execution_count": null,
   "id": "6d8afe84-15a2-4379-b547-ad53aff5668e",
   "metadata": {},
   "outputs": [],
   "source": []
  },
  {
   "cell_type": "code",
   "execution_count": null,
   "id": "beecd12b-81aa-43af-8564-5a3a2fbb85e9",
   "metadata": {},
   "outputs": [],
   "source": []
  },
  {
   "cell_type": "markdown",
   "id": "ebb344db-dc30-4ce1-a66d-7fa7e2be480e",
   "metadata": {},
   "source": [
    "---"
   ]
  }
 ],
 "metadata": {
  "kernelspec": {
   "display_name": "Python 3 (ipykernel)",
   "language": "python",
   "name": "python3"
  },
  "language_info": {
   "codemirror_mode": {
    "name": "ipython",
    "version": 3
   },
   "file_extension": ".py",
   "mimetype": "text/x-python",
   "name": "python",
   "nbconvert_exporter": "python",
   "pygments_lexer": "ipython3",
   "version": "3.8.18"
  }
 },
 "nbformat": 4,
 "nbformat_minor": 5
}
