{
 "cells": [
  {
   "cell_type": "raw",
   "id": "c8593b37-a6e6-4ccb-b9b2-349f55cb2b69",
   "metadata": {},
   "source": [
    "---\n",
    "title: \"[FRAUD] 책_코드 함수 만들기\"\n",
    "author: \"김보람\"\n",
    "date: \"05/20/2024\"\n",
    "categories:\n",
    "  - graph\n",
    "---"
   ]
  },
  {
   "cell_type": "markdown",
   "id": "25eedf6e-cd2a-40f0-aac9-e8899d5b1acc",
   "metadata": {},
   "source": [
    "# FAURD코드"
   ]
  },
  {
   "cell_type": "code",
   "execution_count": 1,
   "id": "d8812aa9-c507-4520-9dfc-38a88301f9ba",
   "metadata": {},
   "outputs": [],
   "source": [
    "import numpy as np\n",
    "import pandas as pd\n",
    "import matplotlib.pyplot as plt \n",
    "import networkx as nx\n",
    "import sklearn\n",
    "import xgboost as xgb\n",
    "import pickle \n",
    "import time \n",
    "import datetime\n",
    "import warnings\n",
    "warnings.filterwarnings('ignore')\n",
    "\n",
    "# sklearn\n",
    "from sklearn import model_selection # split함수이용\n",
    "from sklearn import ensemble # RF,GBM\n",
    "from sklearn import metrics\n",
    "from sklearn.metrics import precision_score, recall_score, f1_score\n",
    "from sklearn.svm import SVC\n",
    "from sklearn.ensemble import RandomForestClassifier\n",
    "from sklearn.naive_bayes import GaussianNB\n",
    "\n",
    "# gnn\n",
    "import torch\n",
    "import torch.nn.functional as F\n",
    "import torch_geometric\n",
    "from torch_geometric.nn import GCNConv\n",
    "\n",
    "\n",
    "import networkx as nx\n",
    "import numpy as np\n",
    "import pandas as pd\n",
    "from sklearn.model_selection import train_test_split\n",
    "from node2vec import Node2Vec\n",
    "from node2vec.edges import HadamardEmbedder, AverageEmbedder, WeightedL1Embedder, WeightedL2Embedder\n",
    "from sklearn.ensemble import RandomForestClassifier\n",
    "from sklearn import metrics\n",
    "from node2vec import Node2Vec\n",
    "from node2vec.edges import HadamardEmbedder, AverageEmbedder, WeightedL1Embedder, WeightedL2Embedder\n"
   ]
  },
  {
   "cell_type": "code",
   "execution_count": 2,
   "id": "bc97c744-3215-45e3-a4be-ce0ca50c8592",
   "metadata": {},
   "outputs": [],
   "source": [
    "df_train1 = pd.read_csv('~/Dropbox/Data/df_train1.csv')\n",
    "df_train2 = pd.read_csv('~/Dropbox/Data/df_train2.csv')\n",
    "df_train3 = pd.read_csv('~/Dropbox/Data/df_train3.csv')\n",
    "df_train4 = pd.read_csv('~/Dropbox/Data/df_train4.csv')\n",
    "df_train5 = pd.read_csv('~/Dropbox/Data/df_train5.csv')\n",
    "df_train6 = pd.read_csv('~/Dropbox/Data/df_train6.csv')\n",
    "df_train7 = pd.read_csv('~/Dropbox/Data/df_train7.csv')\n",
    "df_train8 = pd.read_csv('~/Dropbox/Data/df_train8.csv')\n",
    "df_test = pd.read_csv('~/Dropbox/Data/df_test.csv')"
   ]
  },
  {
   "cell_type": "code",
   "execution_count": 3,
   "id": "b94f26f6-0235-497f-940a-71c89231dd19",
   "metadata": {},
   "outputs": [],
   "source": [
    "_df1 = pd.concat([df_train1, df_test])\n",
    "_df2 = pd.concat([df_train2, df_test])\n",
    "_df3 = pd.concat([df_train3, df_test])\n",
    "_df4 = pd.concat([df_train4, df_test])\n",
    "_df5 = pd.concat([df_train5, df_test])\n",
    "_df6 = pd.concat([df_train6, df_test])\n",
    "_df7 = pd.concat([df_train7, df_test])\n",
    "_df8 = pd.concat([df_train8, df_test])"
   ]
  },
  {
   "cell_type": "markdown",
   "id": "9472937e-ac8d-45ab-8d26-454bbbf76c3d",
   "metadata": {},
   "source": [
    "`-` 이분그래프"
   ]
  },
  {
   "cell_type": "code",
   "execution_count": 4,
   "id": "44f78797-91db-4943-880f-625f41ff87ff",
   "metadata": {},
   "outputs": [],
   "source": [
    "def build_graph_bipartite(df_input, graph_type=nx.Graph()):\n",
    "    df=df_input.copy()\n",
    "    mapping={x:node_id for node_id, x in enumerate(set(df[\"cc_num\"].values.tolist()+\\\n",
    "                                                      df[\"merchant\"].values.tolist()))}\n",
    "    \n",
    "    df[\"from\"]=df[\"cc_num\"].apply(lambda x:mapping[x])  #엣지의 출발점\n",
    "    df[\"to\"]=df[\"merchant\"].apply(lambda x:mapping[x])  #엣지의 도착점\n",
    "    \n",
    "    df = df[['from', 'to', \"amt\", \"is_fraud\"]].groupby(['from','to']).agg({\"is_fraud\":\"sum\",\"amt\":\"sum\"}).reset_index()\n",
    "    df[\"is_fraud\"]=df[\"is_fraud\"].apply(lambda x:1 if x>0 else 0)\n",
    "    \n",
    "    G=nx.from_edgelist(df[[\"from\",\"to\"]].values, create_using=graph_type)\n",
    "    \n",
    "    nx.set_edge_attributes(G, {(int(x[\"from\"]),int(x[\"to\"])):x[\"is_fraud\"] for idx, x in df[[\"from\",\"to\",\"is_fraud\"]].iterrows()}, \"label\")  #엣지 속성 설정,각 속성의 사기 여부부 \n",
    "    \n",
    "    nx.set_edge_attributes(G,{(int(x[\"from\"]),int(x[\"to\"])):x[\"amt\"] for idx,x in df[[\"from\",\"to\",\"amt\"]].iterrows()}, \"weight\") # 엣지 속성 설정, 각 엣지의 거래 금액\n",
    "\n",
    "    return G"
   ]
  },
  {
   "cell_type": "code",
   "execution_count": 5,
   "id": "5d7d24d3-ddc9-4573-b411-b787f47239af",
   "metadata": {},
   "outputs": [],
   "source": [
    "G_bi_8 = build_graph_bipartite(df_train8, nx.Graph(name=\"Bipartite Undirect\"))\n",
    "G_bi_7 = build_graph_bipartite(df_train7, nx.Graph(name=\"Bipartite Undirect\"))\n",
    "G_bi_6 = build_graph_bipartite(df_train6, nx.Graph(name=\"Bipartite Undirect\"))\n",
    "G_bi_5 = build_graph_bipartite(df_train5, nx.Graph(name=\"Bipartite Undirect\"))\n",
    "G_bi_4 = build_graph_bipartite(df_train4, nx.Graph(name=\"Bipartite Undirect\"))\n",
    "G_bi_3 = build_graph_bipartite(df_train3, nx.Graph(name=\"Bipartite Undirect\"))\n",
    "G_bi_2 = build_graph_bipartite(df_train2, nx.Graph(name=\"Bipartite Undirect\"))\n",
    "G_bi_1 = build_graph_bipartite(df_train1, nx.Graph(name=\"Bipartite Undirect\"))\n",
    "G_bi_test = build_graph_bipartite(df_test, nx.Graph(name=\"Bipartite Undirect\"))"
   ]
  },
  {
   "cell_type": "code",
   "execution_count": 8,
   "id": "b1907003-405e-42cd-b957-8acdc3f2baa8",
   "metadata": {},
   "outputs": [],
   "source": [
    "def evaluate_node_classification(G_train, G_test, embedding_dimension=128, random_state=42):\n",
    "    # Ensure the same set of nodes for both train and test graphs\n",
    "    common_nodes = set(G_train.nodes).intersection(G_test.nodes)\n",
    "    G_train = G_train.subgraph(common_nodes).copy()\n",
    "    G_test = G_test.subgraph(common_nodes).copy()\n",
    "\n",
    "    node2vec_train = Node2Vec(G_train, dimensions=embedding_dimension, weight_key='weight')\n",
    "    model_train = node2vec_train.fit(window=10)\n",
    "    \n",
    "    classes = [HadamardEmbedder, AverageEmbedder, WeightedL1Embedder, WeightedL2Embedder]\n",
    "    evaluation_results = {}\n",
    "    \n",
    "    train_labels = [G_train.edges[edge]['label'] for edge in G_train.edges]\n",
    "    y_test =  list(nx.get_edge_attributes(G_test, \"label\").values())\n",
    "    \n",
    "    for cl in classes:\n",
    "        embeddings_train = cl(keyed_vectors=model_train.wv)\n",
    "\n",
    "        train_embeddings = [embeddings_train[str(edge[0]), str(edge[1])] for edge in G_train.edges]\n",
    "        test_embeddings = [embeddings_train[str(edge[0]), str(edge[1])] for edge in G_test.edges]\n",
    "\n",
    "        rf = RandomForestClassifier(n_estimators=1000, random_state=random_state)\n",
    "        rf.fit(train_embeddings, train_labels)\n",
    "\n",
    "        yhat = rf.predict(test_embeddings)\n",
    "        acc = metrics.accuracy_score(y_test, yhat)\n",
    "        pre = metrics.precision_score(y_test, yhat)\n",
    "        rec = metrics.recall_score(y_test, yhat)\n",
    "        f1 = metrics.f1_score(y_test, yhat)\n",
    "        auc = metrics.roc_auc_score(y_test, yhat)\n",
    "        \n",
    "        evaluation_results[cl.__name__] = {\"accuracy\": acc, \"precision\": pre, \"recall\": rec, \"f1-score\": f1, \"auc\": auc}\n",
    "\n",
    "    return evaluation_results\n"
   ]
  },
  {
   "cell_type": "code",
   "execution_count": 9,
   "id": "73cd268c-c32a-4607-a0eb-8e70cff8666c",
   "metadata": {},
   "outputs": [
    {
     "data": {
      "application/vnd.jupyter.widget-view+json": {
       "model_id": "58fa2cc03fee42e5a2197da127796ad0",
       "version_major": 2,
       "version_minor": 0
      },
      "text/plain": [
       "Computing transition probabilities:   0%|          | 0/1611 [00:00<?, ?it/s]"
      ]
     },
     "metadata": {},
     "output_type": "display_data"
    },
    {
     "name": "stderr",
     "output_type": "stream",
     "text": [
      "Generating walks (CPU: 1): 100%|██████████| 10/10 [00:06<00:00,  1.59it/s]\n"
     ]
    },
    {
     "data": {
      "text/plain": [
       "{'HadamardEmbedder': {'accuracy': 0.9399995452788578,\n",
       "  'precision': 0.007048912576291584,\n",
       "  'recall': 0.047508690614136734,\n",
       "  'f1-score': 0.01227636799161614,\n",
       "  'auc': 0.4972841749501759},\n",
       " 'AverageEmbedder': {'accuracy': 0.6192437987404225,\n",
       "  'precision': 0.007648711606349511,\n",
       "  'recall': 0.3690614136732329,\n",
       "  'f1-score': 0.014986824769433466,\n",
       "  'auc': 0.4951421492099717},\n",
       " 'WeightedL1Embedder': {'accuracy': 0.9711888684264375,\n",
       "  'precision': 0.006423982869379015,\n",
       "  'recall': 0.01738122827346466,\n",
       "  'f1-score': 0.009380863039399626,\n",
       "  'auc': 0.498057630805767},\n",
       " 'WeightedL2Embedder': {'accuracy': 0.9706477502671487,\n",
       "  'precision': 0.006264355815410315,\n",
       "  'recall': 0.01738122827346466,\n",
       "  'f1-score': 0.009209516500383728,\n",
       "  'auc': 0.4977849314487875}}"
      ]
     },
     "execution_count": 9,
     "metadata": {},
     "output_type": "execute_result"
    }
   ],
   "source": [
    "evaluate_node_classification(G_bi_8, G_bi_test)"
   ]
  },
  {
   "cell_type": "code",
   "execution_count": 10,
   "id": "7a72f246-5dec-45e6-abeb-d1e589475f59",
   "metadata": {},
   "outputs": [
    {
     "data": {
      "application/vnd.jupyter.widget-view+json": {
       "model_id": "1bbcecb047684f11b43c2be0b1b294ac",
       "version_major": 2,
       "version_minor": 0
      },
      "text/plain": [
       "Computing transition probabilities:   0%|          | 0/1626 [00:00<?, ?it/s]"
      ]
     },
     "metadata": {},
     "output_type": "display_data"
    },
    {
     "name": "stderr",
     "output_type": "stream",
     "text": [
      "Generating walks (CPU: 1): 100%|██████████| 10/10 [00:06<00:00,  1.65it/s]\n"
     ]
    },
    {
     "data": {
      "text/plain": [
       "{'HadamardEmbedder': {'accuracy': 0.9847127608217562,\n",
       "  'precision': 0.008928571428571428,\n",
       "  'recall': 0.00847457627118644,\n",
       "  'f1-score': 0.008695652173913042,\n",
       "  'auc': 0.5004863757514998},\n",
       " 'AverageEmbedder': {'accuracy': 0.8575828282286471,\n",
       "  'precision': 0.008236639973851937,\n",
       "  'recall': 0.1423728813559322,\n",
       "  'f1-score': 0.015572377568360884,\n",
       "  'auc': 0.5028297232782383},\n",
       " 'WeightedL1Embedder': {'accuracy': 0.9865365016360028,\n",
       "  'precision': 0.009478672985781991,\n",
       "  'recall': 0.006779661016949152,\n",
       "  'f1-score': 0.007905138339920948,\n",
       "  'auc': 0.5005648190191934},\n",
       " 'WeightedL2Embedder': {'accuracy': 0.9864381626705288,\n",
       "  'precision': 0.008553654743390357,\n",
       "  'recall': 0.0062146892655367235,\n",
       "  'f1-score': 0.0071989528795811525,\n",
       "  'auc': 0.5002350243386429}}"
      ]
     },
     "execution_count": 10,
     "metadata": {},
     "output_type": "execute_result"
    }
   ],
   "source": [
    "evaluate_node_classification(G_bi_7, G_bi_test)"
   ]
  },
  {
   "cell_type": "code",
   "execution_count": 11,
   "id": "ffee1761-39e5-4028-88b2-92f9b351258e",
   "metadata": {},
   "outputs": [
    {
     "data": {
      "application/vnd.jupyter.widget-view+json": {
       "model_id": "b08dc07fb6564d569c8d0049ca6ae693",
       "version_major": 2,
       "version_minor": 0
      },
      "text/plain": [
       "Computing transition probabilities:   0%|          | 0/1632 [00:00<?, ?it/s]"
      ]
     },
     "metadata": {},
     "output_type": "display_data"
    },
    {
     "name": "stderr",
     "output_type": "stream",
     "text": [
      "Generating walks (CPU: 1): 100%|██████████| 10/10 [00:04<00:00,  2.14it/s]\n"
     ]
    },
    {
     "data": {
      "text/plain": [
       "{'HadamardEmbedder': {'accuracy': 0.9886607007971279,\n",
       "  'precision': 0.0026109660574412533,\n",
       "  'recall': 0.0011173184357541898,\n",
       "  'f1-score': 0.001564945226917058,\n",
       "  'auc': 0.4988477109404706},\n",
       " 'AverageEmbedder': {'accuracy': 0.9745487829803873,\n",
       "  'precision': 0.005027652086475616,\n",
       "  'recall': 0.0111731843575419,\n",
       "  'f1-score': 0.006934812760055479,\n",
       "  'auc': 0.49672280516047906},\n",
       " 'WeightedL1Embedder': {'accuracy': 0.9887140203858561,\n",
       "  'precision': 0.003968253968253968,\n",
       "  'recall': 0.0016759776536312849,\n",
       "  'f1-score': 0.0023566378633150037,\n",
       "  'auc': 0.499151674621466},\n",
       " 'WeightedL2Embedder': {'accuracy': 0.9887051337877347,\n",
       "  'precision': 0.00395778364116095,\n",
       "  'recall': 0.0016759776536312849,\n",
       "  'f1-score': 0.002354788069073783,\n",
       "  'auc': 0.49914719569927385}}"
      ]
     },
     "execution_count": 11,
     "metadata": {},
     "output_type": "execute_result"
    }
   ],
   "source": [
    "evaluate_node_classification(G_bi_6, G_bi_test)"
   ]
  },
  {
   "cell_type": "code",
   "execution_count": 12,
   "id": "911f1fb6-6dfa-414c-91e6-08a379d73a31",
   "metadata": {},
   "outputs": [
    {
     "data": {
      "application/vnd.jupyter.widget-view+json": {
       "model_id": "ecc5e54979e744efa7aa25d919bf6792",
       "version_major": 2,
       "version_minor": 0
      },
      "text/plain": [
       "Computing transition probabilities:   0%|          | 0/1634 [00:00<?, ?it/s]"
      ]
     },
     "metadata": {},
     "output_type": "display_data"
    },
    {
     "name": "stderr",
     "output_type": "stream",
     "text": [
      "Generating walks (CPU: 1): 100%|██████████| 10/10 [00:05<00:00,  1.86it/s]\n"
     ]
    },
    {
     "data": {
      "text/plain": [
       "{'HadamardEmbedder': {'accuracy': 0.9889832534825849,\n",
       "  'precision': 0.009873060648801129,\n",
       "  'recall': 0.0039040713887339654,\n",
       "  'f1-score': 0.005595523581135092,\n",
       "  'auc': 0.5003853861373583},\n",
       " 'AverageEmbedder': {'accuracy': 0.988075523162621,\n",
       "  'precision': 0.008733624454148471,\n",
       "  'recall': 0.004461795872838818,\n",
       "  'f1-score': 0.005906238464377999,\n",
       "  'auc': 0.5002045193071262},\n",
       " 'WeightedL1Embedder': {'accuracy': 0.9889743975770242,\n",
       "  'precision': 0.009845288326300985,\n",
       "  'recall': 0.0039040713887339654,\n",
       "  'f1-score': 0.005591054313099042,\n",
       "  'auc': 0.500380922748307},\n",
       " 'WeightedL2Embedder': {'accuracy': 0.9889743975770242,\n",
       "  'precision': 0.009845288326300985,\n",
       "  'recall': 0.0039040713887339654,\n",
       "  'f1-score': 0.005591054313099042,\n",
       "  'auc': 0.500380922748307}}"
      ]
     },
     "execution_count": 12,
     "metadata": {},
     "output_type": "execute_result"
    }
   ],
   "source": [
    "evaluate_node_classification(G_bi_5, G_bi_test)"
   ]
  },
  {
   "cell_type": "code",
   "execution_count": 13,
   "id": "a982428d-6c6c-4109-bd5e-0bb7de386092",
   "metadata": {},
   "outputs": [
    {
     "data": {
      "application/vnd.jupyter.widget-view+json": {
       "model_id": "701fef2687b94140b0929c574033e62a",
       "version_major": 2,
       "version_minor": 0
      },
      "text/plain": [
       "Computing transition probabilities:   0%|          | 0/1634 [00:00<?, ?it/s]"
      ]
     },
     "metadata": {},
     "output_type": "display_data"
    },
    {
     "name": "stderr",
     "output_type": "stream",
     "text": [
      "Generating walks (CPU: 1): 100%|██████████| 10/10 [00:08<00:00,  1.24it/s]\n"
     ]
    },
    {
     "data": {
      "text/plain": [
       "{'HadamardEmbedder': {'accuracy': 0.9889832534825849,\n",
       "  'precision': 0.009873060648801129,\n",
       "  'recall': 0.0039040713887339654,\n",
       "  'f1-score': 0.005595523581135092,\n",
       "  'auc': 0.5003853861373583},\n",
       " 'AverageEmbedder': {'accuracy': 0.9885537420628946,\n",
       "  'precision': 0.009900990099009901,\n",
       "  'recall': 0.004461795872838818,\n",
       "  'f1-score': 0.006151480199923107,\n",
       "  'auc': 0.5004455423158968},\n",
       " 'WeightedL1Embedder': {'accuracy': 0.9889832534825849,\n",
       "  'precision': 0.009873060648801129,\n",
       "  'recall': 0.0039040713887339654,\n",
       "  'f1-score': 0.005595523581135092,\n",
       "  'auc': 0.5003853861373583},\n",
       " 'WeightedL2Embedder': {'accuracy': 0.9889832534825849,\n",
       "  'precision': 0.009873060648801129,\n",
       "  'recall': 0.0039040713887339654,\n",
       "  'f1-score': 0.005595523581135092,\n",
       "  'auc': 0.5003853861373583}}"
      ]
     },
     "execution_count": 13,
     "metadata": {},
     "output_type": "execute_result"
    }
   ],
   "source": [
    "evaluate_node_classification(G_bi_4, G_bi_test)"
   ]
  },
  {
   "cell_type": "code",
   "execution_count": 14,
   "id": "6f0525ba-e575-4be7-b08e-cb44e4bc08ed",
   "metadata": {},
   "outputs": [
    {
     "data": {
      "application/vnd.jupyter.widget-view+json": {
       "model_id": "0b63d76ee93a4cbcb4f0cbe7be7a4068",
       "version_major": 2,
       "version_minor": 0
      },
      "text/plain": [
       "Computing transition probabilities:   0%|          | 0/1634 [00:00<?, ?it/s]"
      ]
     },
     "metadata": {},
     "output_type": "display_data"
    },
    {
     "name": "stderr",
     "output_type": "stream",
     "text": [
      "Generating walks (CPU: 1): 100%|██████████| 10/10 [00:11<00:00,  1.16s/it]\n"
     ]
    },
    {
     "data": {
      "text/plain": [
       "{'HadamardEmbedder': {'accuracy': 0.988943401907562,\n",
       "  'precision': 0.011111111111111112,\n",
       "  'recall': 0.004461795872838818,\n",
       "  'f1-score': 0.006366892160764027,\n",
       "  'auc': 0.5006419314341543},\n",
       " 'AverageEmbedder': {'accuracy': 0.9878275578069236,\n",
       "  'precision': 0.00823045267489712,\n",
       "  'recall': 0.004461795872838818,\n",
       "  'f1-score': 0.005786618444846294,\n",
       "  'auc': 0.5000795444136896},\n",
       " 'WeightedL1Embedder': {'accuracy': 0.9889832534825849,\n",
       "  'precision': 0.009873060648801129,\n",
       "  'recall': 0.0039040713887339654,\n",
       "  'f1-score': 0.005595523581135092,\n",
       "  'auc': 0.5003853861373583},\n",
       " 'WeightedL2Embedder': {'accuracy': 0.9889832534825849,\n",
       "  'precision': 0.009873060648801129,\n",
       "  'recall': 0.0039040713887339654,\n",
       "  'f1-score': 0.005595523581135092,\n",
       "  'auc': 0.5003853861373583}}"
      ]
     },
     "execution_count": 14,
     "metadata": {},
     "output_type": "execute_result"
    }
   ],
   "source": [
    "evaluate_node_classification(G_bi_3, G_bi_test)"
   ]
  },
  {
   "cell_type": "code",
   "execution_count": null,
   "id": "b09058ac-4e76-41a4-928c-5f332f6edcca",
   "metadata": {},
   "outputs": [
    {
     "data": {
      "application/vnd.jupyter.widget-view+json": {
       "model_id": "e95e9b140b4b44f098a6aad0bfe075fd",
       "version_major": 2,
       "version_minor": 0
      },
      "text/plain": [
       "Computing transition probabilities:   0%|          | 0/1634 [00:00<?, ?it/s]"
      ]
     },
     "metadata": {},
     "output_type": "display_data"
    },
    {
     "name": "stderr",
     "output_type": "stream",
     "text": [
      "Generating walks (CPU: 1): 100%|██████████| 10/10 [00:32<00:00,  3.25s/it]\n"
     ]
    }
   ],
   "source": [
    "evaluate_node_classification(G_bi_2, G_bi_test)"
   ]
  },
  {
   "cell_type": "code",
   "execution_count": null,
   "id": "0a0e50e2-02b6-4165-95c7-2d1bcfaa011c",
   "metadata": {},
   "outputs": [],
   "source": [
    "evaluate_node_classification(G_bi_1, G_bi_test)"
   ]
  },
  {
   "cell_type": "code",
   "execution_count": null,
   "id": "299103c8-4dcf-4405-9b29-6f9b4ed31fac",
   "metadata": {},
   "outputs": [],
   "source": []
  },
  {
   "cell_type": "code",
   "execution_count": null,
   "id": "105c511b-2467-4ae5-a881-3ceaa6932649",
   "metadata": {},
   "outputs": [],
   "source": []
  }
 ],
 "metadata": {
  "kernelspec": {
   "display_name": "Python 3 (ipykernel)",
   "language": "python",
   "name": "python3"
  },
  "language_info": {
   "codemirror_mode": {
    "name": "ipython",
    "version": 3
   },
   "file_extension": ".py",
   "mimetype": "text/x-python",
   "name": "python",
   "nbconvert_exporter": "python",
   "pygments_lexer": "ipython3",
   "version": "3.8.18"
  }
 },
 "nbformat": 4,
 "nbformat_minor": 5
}
