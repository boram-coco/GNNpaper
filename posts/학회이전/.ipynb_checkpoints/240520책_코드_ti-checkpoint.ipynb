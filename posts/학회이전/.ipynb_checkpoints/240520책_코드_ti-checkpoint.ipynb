{
 "cells": [
  {
   "cell_type": "raw",
   "id": "c8593b37-a6e6-4ccb-b9b2-349f55cb2b69",
   "metadata": {},
   "source": [
    "---\n",
    "title: \"[FRAUD] 책_코드 함수 만들기\"\n",
    "author: \"김보람\"\n",
    "date: \"05/20/2024\"\n",
    "categories:\n",
    "  - graph\n",
    "---"
   ]
  },
  {
   "cell_type": "markdown",
   "id": "25eedf6e-cd2a-40f0-aac9-e8899d5b1acc",
   "metadata": {},
   "source": [
    "# FAURD코드"
   ]
  },
  {
   "cell_type": "code",
   "execution_count": 6,
   "id": "d8812aa9-c507-4520-9dfc-38a88301f9ba",
   "metadata": {},
   "outputs": [],
   "source": [
    "import numpy as np\n",
    "import pandas as pd\n",
    "import matplotlib.pyplot as plt \n",
    "import networkx as nx\n",
    "import sklearn\n",
    "import xgboost as xgb\n",
    "import pickle \n",
    "import time \n",
    "import datetime\n",
    "import warnings\n",
    "warnings.filterwarnings('ignore')\n",
    "\n",
    "# sklearn\n",
    "from sklearn import model_selection # split함수이용\n",
    "from sklearn import ensemble # RF,GBM\n",
    "from sklearn import metrics\n",
    "from sklearn.metrics import precision_score, recall_score, f1_score\n",
    "from sklearn.svm import SVC\n",
    "from sklearn.ensemble import RandomForestClassifier\n",
    "from sklearn.naive_bayes import GaussianNB\n",
    "\n",
    "# gnn\n",
    "import torch\n",
    "import torch.nn.functional as F\n",
    "import torch_geometric\n",
    "from torch_geometric.nn import GCNConv\n",
    "\n",
    "\n",
    "import networkx as nx\n",
    "import numpy as np\n",
    "import pandas as pd\n",
    "from sklearn.model_selection import train_test_split\n",
    "from node2vec import Node2Vec\n",
    "from node2vec.edges import HadamardEmbedder, AverageEmbedder, WeightedL1Embedder, WeightedL2Embedder\n",
    "from sklearn.ensemble import RandomForestClassifier\n",
    "from sklearn import metrics\n",
    "from node2vec import Node2Vec\n",
    "from node2vec.edges import HadamardEmbedder, AverageEmbedder, WeightedL1Embedder, WeightedL2Embedder\n"
   ]
  },
  {
   "cell_type": "code",
   "execution_count": 3,
   "id": "bc97c744-3215-45e3-a4be-ce0ca50c8592",
   "metadata": {},
   "outputs": [],
   "source": [
    "df_train1 = pd.read_csv('~/Dropbox/Data/df_train1.csv')\n",
    "df_train2 = pd.read_csv('~/Dropbox/Data/df_train2.csv')\n",
    "df_train3 = pd.read_csv('~/Dropbox/Data/df_train3.csv')\n",
    "df_train4 = pd.read_csv('~/Dropbox/Data/df_train4.csv')\n",
    "df_train5 = pd.read_csv('~/Dropbox/Data/df_train5.csv')\n",
    "df_train6 = pd.read_csv('~/Dropbox/Data/df_train6.csv')\n",
    "df_train7 = pd.read_csv('~/Dropbox/Data/df_train7.csv')\n",
    "df_train8 = pd.read_csv('~/Dropbox/Data/df_train8.csv')\n",
    "df_test = pd.read_csv('~/Dropbox/Data/df_test.csv')"
   ]
  },
  {
   "cell_type": "code",
   "execution_count": 42,
   "id": "b94f26f6-0235-497f-940a-71c89231dd19",
   "metadata": {},
   "outputs": [],
   "source": [
    "_df1 = pd.concat([df_train1, df_test])\n",
    "_df2 = pd.concat([df_train2, df_test])\n",
    "_df3 = pd.concat([df_train3, df_test])\n",
    "_df4 = pd.concat([df_train4, df_test])\n",
    "_df5 = pd.concat([df_train5, df_test])\n",
    "_df6 = pd.concat([df_train6, df_test])\n",
    "_df7 = pd.concat([df_train7, df_test])\n",
    "_df8 = pd.concat([df_train8, df_test])"
   ]
  },
  {
   "cell_type": "markdown",
   "id": "9472937e-ac8d-45ab-8d26-454bbbf76c3d",
   "metadata": {},
   "source": [
    "`-` 이분그래프"
   ]
  },
  {
   "cell_type": "code",
   "execution_count": 7,
   "id": "44f78797-91db-4943-880f-625f41ff87ff",
   "metadata": {},
   "outputs": [],
   "source": [
    "def build_graph_bipartite(df_input, graph_type=nx.Graph()):\n",
    "    df=df_input.copy()\n",
    "    mapping={x:node_id for node_id, x in enumerate(set(df[\"cc_num\"].values.tolist()+\\\n",
    "                                                      df[\"merchant\"].values.tolist()))}\n",
    "    \n",
    "    df[\"from\"]=df[\"cc_num\"].apply(lambda x:mapping[x])  #엣지의 출발점\n",
    "    df[\"to\"]=df[\"merchant\"].apply(lambda x:mapping[x])  #엣지의 도착점\n",
    "    \n",
    "    df = df[['from', 'to', \"amt\", \"is_fraud\"]].groupby(['from','to']).agg({\"is_fraud\":\"sum\",\"amt\":\"sum\"}).reset_index()\n",
    "    df[\"is_fraud\"]=df[\"is_fraud\"].apply(lambda x:1 if x>0 else 0)\n",
    "    \n",
    "    G=nx.from_edgelist(df[[\"from\",\"to\"]].values, create_using=graph_type)\n",
    "    \n",
    "    nx.set_edge_attributes(G, {(int(x[\"from\"]),int(x[\"to\"])):x[\"is_fraud\"] for idx, x in df[[\"from\",\"to\",\"is_fraud\"]].iterrows()}, \"label\")  #엣지 속성 설정,각 속성의 사기 여부부 \n",
    "    \n",
    "    nx.set_edge_attributes(G,{(int(x[\"from\"]),int(x[\"to\"])):x[\"amt\"] for idx,x in df[[\"from\",\"to\",\"amt\"]].iterrows()}, \"weight\") # 엣지 속성 설정, 각 엣지의 거래 금액\n",
    "\n",
    "    return G"
   ]
  },
  {
   "cell_type": "code",
   "execution_count": 10,
   "id": "5d7d24d3-ddc9-4573-b411-b787f47239af",
   "metadata": {},
   "outputs": [],
   "source": [
    "G_bi_8 = build_graph_bipartite(df_train8, nx.Graph(name=\"Bipartite Undirect\"))\n",
    "G_bi_7 = build_graph_bipartite(df_train7, nx.Graph(name=\"Bipartite Undirect\"))\n",
    "G_bi_6 = build_graph_bipartite(df_train6, nx.Graph(name=\"Bipartite Undirect\"))\n",
    "G_bi_5 = build_graph_bipartite(df_train5, nx.Graph(name=\"Bipartite Undirect\"))\n",
    "G_bi_4 = build_graph_bipartite(df_train4, nx.Graph(name=\"Bipartite Undirect\"))\n",
    "G_bi_3 = build_graph_bipartite(df_train3, nx.Graph(name=\"Bipartite Undirect\"))\n",
    "G_bi_2 = build_graph_bipartite(df_train2, nx.Graph(name=\"Bipartite Undirect\"))\n",
    "G_bi_1 = build_graph_bipartite(df_train1, nx.Graph(name=\"Bipartite Undirect\"))\n",
    "G_bi_test = build_graph_bipartite(df_test, nx.Graph(name=\"Bipartite Undirect\"))"
   ]
  },
  {
   "cell_type": "code",
   "execution_count": 44,
   "id": "e4dcf5d8-1b6c-402b-8693-8be0b40fd61a",
   "metadata": {},
   "outputs": [],
   "source": [
    "G_bi_df8 = build_graph_bipartite(_df8)"
   ]
  },
  {
   "cell_type": "markdown",
   "id": "e4a5f718-5b3e-4c30-8d67-f30a737143bb",
   "metadata": {},
   "source": [
    "`-` 삼분그래프"
   ]
  },
  {
   "cell_type": "code",
   "execution_count": 11,
   "id": "de4f50b6-213c-4b04-b3bd-4ff0a8221ff5",
   "metadata": {},
   "outputs": [],
   "source": [
    "def build_graph_tripartite(df_input, graph_type=nx.Graph()):\n",
    "    df=df_input.copy()\n",
    "    mapping={x:node_id for node_id, x in enumerate(set(df.index.values.tolist() + \n",
    "                                                       df[\"cc_num\"].values.tolist() +\n",
    "                                                       df[\"merchant\"].values.tolist()))}\n",
    "    df[\"in_node\"]= df[\"cc_num\"].apply(lambda x: mapping[x])\n",
    "    df[\"out_node\"]=df[\"merchant\"].apply(lambda x:mapping[x])\n",
    "    \n",
    "        \n",
    "    G=nx.from_edgelist([(x[\"in_node\"], mapping[idx]) for idx, x in df.iterrows()] +\\\n",
    "                        [(x[\"out_node\"], mapping[idx]) for idx, x in df.iterrows()], create_using=graph_type)\n",
    "    \n",
    "    nx.set_edge_attributes(G,{(x[\"in_node\"], mapping[idx]):x[\"is_fraud\"] for idx, x in df.iterrows()}, \"label\")\n",
    "     \n",
    "    nx.set_edge_attributes(G,{(x[\"out_node\"], mapping[idx]):x[\"is_fraud\"] for idx, x in df.iterrows()}, \"label\")\n",
    "    \n",
    "    nx.set_edge_attributes(G,{(x[\"in_node\"], mapping[idx]):x[\"amt\"] for idx, x in df.iterrows()}, \"weight\")\n",
    "    \n",
    "    nx.set_edge_attributes(G,{(x[\"out_node\"], mapping[idx]):x[\"amt\"] for idx, x in df.iterrows()}, \"weight\")\n",
    "    \n",
    "    \n",
    "    return G\n",
    "    "
   ]
  },
  {
   "cell_type": "markdown",
   "id": "6027823d-ca18-439f-9bea-54460f7d7e70",
   "metadata": {},
   "source": [
    "- 판매자, 고객, 거래에 노드 할당"
   ]
  },
  {
   "cell_type": "code",
   "execution_count": 56,
   "id": "2be1fed8-bc99-46cd-8946-78e5edffb031",
   "metadata": {},
   "outputs": [],
   "source": [
    "G_ti_8 = build_graph_tripartite(df_train8, nx.Graph(name=\"Tripartite Undirect\"))\n",
    "G_ti_7 = build_graph_tripartite(df_train7, nx.Graph(name=\"Tripartite Undirect\"))\n",
    "G_ti_6 = build_graph_tripartite(df_train6, nx.Graph(name=\"Tripartite Undirect\"))\n",
    "G_ti_5 = build_graph_tripartite(df_train5, nx.Graph(name=\"Tripartite Undirect\"))\n",
    "G_ti_4 = build_graph_tripartite(df_train4, nx.Graph(name=\"Tripartite Undirect\"))\n",
    "G_ti_3 = build_graph_tripartite(df_train3, nx.Graph(name=\"Tripartite Undirect\"))\n",
    "G_ti_2 = build_graph_tripartite(df_train2, nx.Graph(name=\"Tripartite Undirect\"))\n",
    "G_ti_1 = build_graph_tripartite(df_train1, nx.Graph(name=\"Tripartite Undirect\"))\n",
    "G_ti_test = build_graph_tripartite(df_test, nx.Graph(name=\"Tripartite Undirect\"))"
   ]
  },
  {
   "cell_type": "code",
   "execution_count": 16,
   "id": "85598e3f-e664-4295-b38a-2af2c9f0a7d1",
   "metadata": {},
   "outputs": [],
   "source": [
    "train_edges_8, train_labels_8 = (list(range(len(G_bi_8.edges))), list(nx.get_edge_attributes(G_bi_8, \"label\").values()))"
   ]
  },
  {
   "cell_type": "code",
   "execution_count": 38,
   "id": "57197225-18c8-40e6-96d9-a60f2a9e8443",
   "metadata": {},
   "outputs": [],
   "source": [
    "test_edges, test_labels = (list(range(len(G_bi_test.edges))), list(nx.get_edge_attributes(G_bi_test, \"label\").values()))"
   ]
  },
  {
   "cell_type": "code",
   "execution_count": 31,
   "id": "bb69f8fa-3f79-4ae9-bf31-f88c18bf427e",
   "metadata": {},
   "outputs": [],
   "source": [
    "edgs_8 = list(G_bi_8.edges)\n",
    "train_graph_8 = G_bi_8.edge_subgraph([edgs_8[x] for x in train_edges_8]).copy()\n",
    "train_graph_8.add_nodes_from(list(set(G_bi_8.nodes) - set(train_graph_8.nodes)))"
   ]
  },
  {
   "cell_type": "code",
   "execution_count": 40,
   "id": "f93fa0da-b877-4d08-ba7c-abdc70b767e5",
   "metadata": {},
   "outputs": [],
   "source": [
    "edgs_test = list(G_bi_test.edges)"
   ]
  },
  {
   "cell_type": "code",
   "execution_count": 45,
   "id": "06d18a13-0933-4e56-a812-255db8e85deb",
   "metadata": {},
   "outputs": [],
   "source": [
    "edgs = list(G_bi_df8.edges)"
   ]
  },
  {
   "cell_type": "code",
   "execution_count": 46,
   "id": "8410a026-a949-44a7-93d0-32af3adb1b21",
   "metadata": {},
   "outputs": [
    {
     "data": {
      "application/vnd.jupyter.widget-view+json": {
       "model_id": "ae9e097403464220a2924a0aa3462697",
       "version_major": 2,
       "version_minor": 0
      },
      "text/plain": [
       "Computing transition probabilities:   0%|          | 0/1611 [00:00<?, ?it/s]"
      ]
     },
     "metadata": {},
     "output_type": "display_data"
    },
    {
     "name": "stderr",
     "output_type": "stream",
     "text": [
      "Generating walks (CPU: 1): 100%|██████████| 10/10 [00:04<00:00,  2.45it/s]\n"
     ]
    },
    {
     "ename": "KeyError",
     "evalue": "'node 1611 does not exist in given KeyedVectors'",
     "output_type": "error",
     "traceback": [
      "\u001b[0;31m---------------------------------------------------------------------------\u001b[0m",
      "\u001b[0;31mKeyError\u001b[0m                                  Traceback (most recent call last)",
      "Cell \u001b[0;32mIn[46], line 10\u001b[0m\n\u001b[1;32m      7\u001b[0m \u001b[38;5;28;01mfor\u001b[39;00m cl \u001b[38;5;129;01min\u001b[39;00m classes:\n\u001b[1;32m      8\u001b[0m     embeddings_train \u001b[38;5;241m=\u001b[39m cl(keyed_vectors\u001b[38;5;241m=\u001b[39mmodel_train\u001b[38;5;241m.\u001b[39mwv)\n\u001b[0;32m---> 10\u001b[0m     train_embeddings \u001b[38;5;241m=\u001b[39m [embeddings_train[\u001b[38;5;28mstr\u001b[39m(edgs[x][\u001b[38;5;241m0\u001b[39m]), \u001b[38;5;28mstr\u001b[39m(edgs[x][\u001b[38;5;241m1\u001b[39m])] \u001b[38;5;28;01mfor\u001b[39;00m x \u001b[38;5;129;01min\u001b[39;00m train_edges_8]\n\u001b[1;32m     11\u001b[0m     test_embeddings \u001b[38;5;241m=\u001b[39m [embeddings_train[\u001b[38;5;28mstr\u001b[39m(edgs[x][\u001b[38;5;241m0\u001b[39m]), \u001b[38;5;28mstr\u001b[39m(edgs[x][\u001b[38;5;241m1\u001b[39m])] \u001b[38;5;28;01mfor\u001b[39;00m x \u001b[38;5;129;01min\u001b[39;00m test_edges]\n\u001b[1;32m     13\u001b[0m     rf \u001b[38;5;241m=\u001b[39m RandomForestClassifier(n_estimators\u001b[38;5;241m=\u001b[39m\u001b[38;5;241m1000\u001b[39m, random_state\u001b[38;5;241m=\u001b[39mrandom_state)\n",
      "Cell \u001b[0;32mIn[46], line 10\u001b[0m, in \u001b[0;36m<listcomp>\u001b[0;34m(.0)\u001b[0m\n\u001b[1;32m      7\u001b[0m \u001b[38;5;28;01mfor\u001b[39;00m cl \u001b[38;5;129;01min\u001b[39;00m classes:\n\u001b[1;32m      8\u001b[0m     embeddings_train \u001b[38;5;241m=\u001b[39m cl(keyed_vectors\u001b[38;5;241m=\u001b[39mmodel_train\u001b[38;5;241m.\u001b[39mwv)\n\u001b[0;32m---> 10\u001b[0m     train_embeddings \u001b[38;5;241m=\u001b[39m [embeddings_train[\u001b[38;5;28mstr\u001b[39m(edgs[x][\u001b[38;5;241m0\u001b[39m]), \u001b[38;5;28mstr\u001b[39m(edgs[x][\u001b[38;5;241m1\u001b[39m])] \u001b[38;5;28;01mfor\u001b[39;00m x \u001b[38;5;129;01min\u001b[39;00m train_edges_8]\n\u001b[1;32m     11\u001b[0m     test_embeddings \u001b[38;5;241m=\u001b[39m [embeddings_train[\u001b[38;5;28mstr\u001b[39m(edgs[x][\u001b[38;5;241m0\u001b[39m]), \u001b[38;5;28mstr\u001b[39m(edgs[x][\u001b[38;5;241m1\u001b[39m])] \u001b[38;5;28;01mfor\u001b[39;00m x \u001b[38;5;129;01min\u001b[39;00m test_edges]\n\u001b[1;32m     13\u001b[0m     rf \u001b[38;5;241m=\u001b[39m RandomForestClassifier(n_estimators\u001b[38;5;241m=\u001b[39m\u001b[38;5;241m1000\u001b[39m, random_state\u001b[38;5;241m=\u001b[39mrandom_state)\n",
      "File \u001b[0;32m~/anaconda3/envs/py38/lib/python3.8/site-packages/node2vec/edges.py:39\u001b[0m, in \u001b[0;36mEdgeEmbedder.__getitem__\u001b[0;34m(self, edge)\u001b[0m\n\u001b[1;32m     36\u001b[0m     \u001b[38;5;28;01mraise\u001b[39;00m \u001b[38;5;167;01mKeyError\u001b[39;00m(\u001b[38;5;124m'\u001b[39m\u001b[38;5;124mnode \u001b[39m\u001b[38;5;132;01m{}\u001b[39;00m\u001b[38;5;124m does not exist in given KeyedVectors\u001b[39m\u001b[38;5;124m'\u001b[39m\u001b[38;5;241m.\u001b[39mformat(edge[\u001b[38;5;241m0\u001b[39m]))\n\u001b[1;32m     38\u001b[0m \u001b[38;5;28;01mif\u001b[39;00m edge[\u001b[38;5;241m1\u001b[39m] \u001b[38;5;129;01mnot\u001b[39;00m \u001b[38;5;129;01min\u001b[39;00m \u001b[38;5;28mgetattr\u001b[39m(\u001b[38;5;28mself\u001b[39m\u001b[38;5;241m.\u001b[39mkv, \u001b[38;5;28mself\u001b[39m\u001b[38;5;241m.\u001b[39mINDEX_MAPPING_KEY):\n\u001b[0;32m---> 39\u001b[0m     \u001b[38;5;28;01mraise\u001b[39;00m \u001b[38;5;167;01mKeyError\u001b[39;00m(\u001b[38;5;124m'\u001b[39m\u001b[38;5;124mnode \u001b[39m\u001b[38;5;132;01m{}\u001b[39;00m\u001b[38;5;124m does not exist in given KeyedVectors\u001b[39m\u001b[38;5;124m'\u001b[39m\u001b[38;5;241m.\u001b[39mformat(edge[\u001b[38;5;241m1\u001b[39m]))\n\u001b[1;32m     41\u001b[0m \u001b[38;5;28;01mreturn\u001b[39;00m \u001b[38;5;28mself\u001b[39m\u001b[38;5;241m.\u001b[39m_embed(edge)\n",
      "\u001b[0;31mKeyError\u001b[0m: 'node 1611 does not exist in given KeyedVectors'"
     ]
    }
   ],
   "source": [
    "    node2vec_train = Node2Vec(train_graph_8, weight_key='weight') #dimensions=embedding_dimension, \n",
    "    model_train = node2vec_train.fit(window=10)\n",
    "    \n",
    "    classes = [HadamardEmbedder, AverageEmbedder, WeightedL1Embedder, WeightedL2Embedder]\n",
    "    evaluation_results = {}\n",
    "    \n",
    "    for cl in classes:\n",
    "        embeddings_train = cl(keyed_vectors=model_train.wv)\n",
    "\n",
    "        train_embeddings = [embeddings_train[str(edgs[x][0]), str(edgs[x][1])] for x in train_edges_8]\n",
    "        test_embeddings = [embeddings_train[str(edgs[x][0]), str(edgs[x][1])] for x in test_edges]\n",
    "\n",
    "        rf = RandomForestClassifier(n_estimators=1000, random_state=random_state)\n",
    "        rf.fit(train_embeddings, train_labels)\n",
    "\n",
    "        yhat = rf.predict(test_embeddings)\n",
    "        acc = metrics.accuracy_score(y, yhat)\n",
    "        pre = metrics.precision_score(y, yhat)\n",
    "        rec = metrics.recall_score(y, yhat)\n",
    "        f1 = metrics.f1_score(y, yhat)\n",
    "        auc = metrics.roc_auc_score(y, yhat)\n",
    "        \n",
    "        evaluation_results[cl.__name__] = {\"accuracy\": acc, \"precision\": pre, \"recall\": rec, \"f1-score\": f1, \"auc\": auc}\n",
    "\n",
    "    return evaluation_results\n"
   ]
  },
  {
   "cell_type": "code",
   "execution_count": null,
   "id": "3e26101a-5ff4-4706-bb21-e79855568099",
   "metadata": {},
   "outputs": [],
   "source": [
    "evaluation_results"
   ]
  },
  {
   "cell_type": "code",
   "execution_count": null,
   "id": "c44ca77d-7b20-46f5-8839-9c99071d3473",
   "metadata": {},
   "outputs": [],
   "source": []
  },
  {
   "cell_type": "code",
   "execution_count": null,
   "id": "52b9969f-3cfd-400f-9558-4fa2a5e6784a",
   "metadata": {},
   "outputs": [],
   "source": []
  },
  {
   "cell_type": "code",
   "execution_count": 58,
   "id": "d895bfd6-7f14-4ccd-80e9-6aaf2b503e39",
   "metadata": {},
   "outputs": [
    {
     "data": {
      "application/vnd.jupyter.widget-view+json": {
       "model_id": "f2230fbd86074fb6baf0aaee565df795",
       "version_major": 2,
       "version_minor": 0
      },
      "text/plain": [
       "Computing transition probabilities:   0%|          | 0/1629 [00:00<?, ?it/s]"
      ]
     },
     "metadata": {},
     "output_type": "display_data"
    },
    {
     "name": "stderr",
     "output_type": "stream",
     "text": [
      "Generating walks (CPU: 1): 100%|██████████| 10/10 [00:03<00:00,  2.55it/s]\n"
     ]
    },
    {
     "name": "stdout",
     "output_type": "stream",
     "text": [
      "{'HadamardEmbedder': {'accuracy': 0.5240514905149052, 'precision': 0.7365591397849462, 'recall': 0.09176155391828533, 'f1-score': 0.16319237641453246, 'auc': 0.5290884534498898}, 'AverageEmbedder': {'accuracy': 0.7130758807588076, 'precision': 0.7094682230869002, 'recall': 0.7327528466175486, 'f1-score': 0.7209225700164745, 'auc': 0.7128466083670335}, 'WeightedL1Embedder': {'accuracy': 0.49390243902439024, 'precision': 0.4857142857142857, 'recall': 0.011386470194239785, 'f1-score': 0.02225130890052356, 'auc': 0.4995246264610679}, 'WeightedL2Embedder': {'accuracy': 0.49762872628726285, 'precision': 0.6190476190476191, 'recall': 0.017414601473543203, 'f1-score': 0.033876221498371335, 'auc': 0.5032240930602808}}\n"
     ]
    }
   ],
   "source": [
    "evaluation_results = train_and_evaluate_node2vec(df50)\n",
    "print(evaluation_results)"
   ]
  },
  {
   "cell_type": "code",
   "execution_count": 59,
   "id": "7816d5ff-16a4-4ff3-854c-867bd9320f7c",
   "metadata": {},
   "outputs": [
    {
     "data": {
      "text/plain": [
       "{'HadamardEmbedder': {'accuracy': 0.5240514905149052,\n",
       "  'precision': 0.7365591397849462,\n",
       "  'recall': 0.09176155391828533,\n",
       "  'f1-score': 0.16319237641453246,\n",
       "  'auc': 0.5290884534498898},\n",
       " 'AverageEmbedder': {'accuracy': 0.7130758807588076,\n",
       "  'precision': 0.7094682230869002,\n",
       "  'recall': 0.7327528466175486,\n",
       "  'f1-score': 0.7209225700164745,\n",
       "  'auc': 0.7128466083670335},\n",
       " 'WeightedL1Embedder': {'accuracy': 0.49390243902439024,\n",
       "  'precision': 0.4857142857142857,\n",
       "  'recall': 0.011386470194239785,\n",
       "  'f1-score': 0.02225130890052356,\n",
       "  'auc': 0.4995246264610679},\n",
       " 'WeightedL2Embedder': {'accuracy': 0.49762872628726285,\n",
       "  'precision': 0.6190476190476191,\n",
       "  'recall': 0.017414601473543203,\n",
       "  'f1-score': 0.033876221498371335,\n",
       "  'auc': 0.5032240930602808}}"
      ]
     },
     "execution_count": 59,
     "metadata": {},
     "output_type": "execute_result"
    }
   ],
   "source": [
    "evaluation_results"
   ]
  },
  {
   "cell_type": "code",
   "execution_count": null,
   "id": "ea4b7eea-7748-49c1-bdb7-b60fb5b2f731",
   "metadata": {},
   "outputs": [],
   "source": []
  },
  {
   "cell_type": "code",
   "execution_count": null,
   "id": "3753115f-d9f9-40b6-96fb-bf4bc5921f8a",
   "metadata": {},
   "outputs": [],
   "source": []
  },
  {
   "cell_type": "code",
   "execution_count": null,
   "id": "4451c075-0985-45f3-8d24-1281c3f7db43",
   "metadata": {},
   "outputs": [],
   "source": []
  },
  {
   "cell_type": "code",
   "execution_count": null,
   "id": "0dcc8a9d-a074-4e12-8260-7314ce54e2ed",
   "metadata": {},
   "outputs": [],
   "source": []
  },
  {
   "cell_type": "code",
   "execution_count": null,
   "id": "abc57c44-e9e1-4201-b69d-4391d4eeb0b8",
   "metadata": {},
   "outputs": [],
   "source": []
  },
  {
   "cell_type": "code",
   "execution_count": 48,
   "id": "b1907003-405e-42cd-b957-8acdc3f2baa8",
   "metadata": {},
   "outputs": [],
   "source": [
    "def evaluate_node_classification(G_train, G_test, embedding_dimension=128, random_state=42):\n",
    "    node2vec_train = Node2Vec(G_train, dimensions=embedding_dimension, weight_key='weight')\n",
    "    model_train = node2vec_train.fit(window=10)\n",
    "    \n",
    "    classes = [HadamardEmbedder, AverageEmbedder, WeightedL1Embedder, WeightedL2Embedder]\n",
    "    evaluation_results = {}\n",
    "    \n",
    "    train_labels = [G_train.edges[edge]['label'] for edge in G_train.edges]\n",
    "    \n",
    "    for cl in classes:\n",
    "        embeddings_train = cl(keyed_vectors=model_train.wv)\n",
    "\n",
    "        train_embeddings = [embeddings_train[str(edge[0]), str(edge[1])] for edge in G_train.edges]\n",
    "        test_embeddings = [embeddings_train[str(edge[0]), str(edge[1])] for edge in G_test.edges]\n",
    "\n",
    "        rf = RandomForestClassifier(n_estimators=1000, random_state=random_state)\n",
    "        rf.fit(train_embeddings, train_labels)\n",
    "\n",
    "        yhat = rf.predict(test_embeddings)\n",
    "        acc = metrics.accuracy_score(y_test, yhat)\n",
    "        pre = metrics.precision_score(y_test, yhat)\n",
    "        rec = metrics.recall_score(y_test, yhat)\n",
    "        f1 = metrics.f1_score(y_test, yhat)\n",
    "        auc = metrics.roc_auc_score(y_test, yhat)\n",
    "        \n",
    "        evaluation_results[cl.__name__] = {\"accuracy\": acc, \"precision\": pre, \"recall\": rec, \"f1-score\": f1, \"auc\": auc}\n",
    "\n",
    "    return evaluation_results"
   ]
  },
  {
   "cell_type": "code",
   "execution_count": null,
   "id": "73cd268c-c32a-4607-a0eb-8e70cff8666c",
   "metadata": {},
   "outputs": [
    {
     "data": {
      "application/vnd.jupyter.widget-view+json": {
       "model_id": "2ea75908f05b49e6860990c0a613ea27",
       "version_major": 2,
       "version_minor": 0
      },
      "text/plain": [
       "Computing transition probabilities:   0%|          | 0/1636 [00:00<?, ?it/s]"
      ]
     },
     "metadata": {},
     "output_type": "display_data"
    },
    {
     "name": "stderr",
     "output_type": "stream",
     "text": [
      "Generating walks (CPU: 1): 100%|██████████| 10/10 [00:27<00:00,  2.80s/it]\n"
     ]
    }
   ],
   "source": [
    "evaluate_node_classification(G_bi_df8, G_bi_test)"
   ]
  },
  {
   "cell_type": "code",
   "execution_count": null,
   "id": "7a72f246-5dec-45e6-abeb-d1e589475f59",
   "metadata": {},
   "outputs": [],
   "source": [
    "evaluate_node_classification(G_bi_df7, G_bi_test)"
   ]
  },
  {
   "cell_type": "code",
   "execution_count": null,
   "id": "ffee1761-39e5-4028-88b2-92f9b351258e",
   "metadata": {},
   "outputs": [],
   "source": [
    "evaluate_node_classification(G_bi_df6, G_bi_test)"
   ]
  },
  {
   "cell_type": "code",
   "execution_count": null,
   "id": "911f1fb6-6dfa-414c-91e6-08a379d73a31",
   "metadata": {},
   "outputs": [],
   "source": [
    "evaluate_node_classification(G_bi_df5, G_bi_test)"
   ]
  },
  {
   "cell_type": "code",
   "execution_count": null,
   "id": "a982428d-6c6c-4109-bd5e-0bb7de386092",
   "metadata": {},
   "outputs": [],
   "source": [
    "evaluate_node_classification(G_bi_df4, G_bi_test)"
   ]
  },
  {
   "cell_type": "code",
   "execution_count": null,
   "id": "6f0525ba-e575-4be7-b08e-cb44e4bc08ed",
   "metadata": {},
   "outputs": [],
   "source": [
    "evaluate_node_classification(G_bi_df3, G_bi_test)"
   ]
  },
  {
   "cell_type": "code",
   "execution_count": null,
   "id": "b09058ac-4e76-41a4-928c-5f332f6edcca",
   "metadata": {},
   "outputs": [],
   "source": [
    "evaluate_node_classification(G_bi_df2, G_bi_test)"
   ]
  },
  {
   "cell_type": "code",
   "execution_count": null,
   "id": "0a0e50e2-02b6-4165-95c7-2d1bcfaa011c",
   "metadata": {},
   "outputs": [],
   "source": [
    "evaluate_node_classification(G_bi_df1, G_bi_test)"
   ]
  },
  {
   "cell_type": "code",
   "execution_count": null,
   "id": "299103c8-4dcf-4405-9b29-6f9b4ed31fac",
   "metadata": {},
   "outputs": [],
   "source": []
  }
 ],
 "metadata": {
  "kernelspec": {
   "display_name": "Python 3 (ipykernel)",
   "language": "python",
   "name": "python3"
  },
  "language_info": {
   "codemirror_mode": {
    "name": "ipython",
    "version": 3
   },
   "file_extension": ".py",
   "mimetype": "text/x-python",
   "name": "python",
   "nbconvert_exporter": "python",
   "pygments_lexer": "ipython3",
   "version": "3.8.18"
  }
 },
 "nbformat": 4,
 "nbformat_minor": 5
}
