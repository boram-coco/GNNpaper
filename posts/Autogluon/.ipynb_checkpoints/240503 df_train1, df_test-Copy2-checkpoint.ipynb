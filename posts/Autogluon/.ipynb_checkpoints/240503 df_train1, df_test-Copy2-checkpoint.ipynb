{
 "cells": [
  {
   "cell_type": "raw",
   "id": "8177b2b8-a126-4b19-b5e0-ad56cdba0336",
   "metadata": {},
   "source": [
    "---\n",
    "title: \"[Autogluon] df_train1, df_test\"\n",
    "author: \"김보람\"\n",
    "date: \"05/03/2024\"\n",
    "---"
   ]
  },
  {
   "cell_type": "markdown",
   "id": "96bfdec3-5b07-45b5-9b38-2e8813117310",
   "metadata": {},
   "source": [
    "# imports"
   ]
  },
  {
   "cell_type": "code",
   "execution_count": 1,
   "id": "4eb91738-6398-4ffc-bbec-fc48fcc8f249",
   "metadata": {},
   "outputs": [],
   "source": [
    "import pandas as pd\n",
    "import numpy as np\n",
    "import sklearn\n",
    "import pickle \n",
    "import time \n",
    "import datetime\n",
    "import warnings\n",
    "from autogluon.tabular import TabularDataset, TabularPredictor\n",
    "\n",
    "warnings.filterwarnings('ignore')"
   ]
  },
  {
   "cell_type": "code",
   "execution_count": 2,
   "id": "13a66652-73db-42ac-aa56-8ef834a57aa9",
   "metadata": {},
   "outputs": [],
   "source": [
    "df_train1 = pd.read_csv('~/Dropbox/Data/df_train1.csv')\n",
    "df_train2 = pd.read_csv('~/Dropbox/Data/df_train2.csv')\n",
    "df_train3 = pd.read_csv('~/Dropbox/Data/df_train3.csv')\n",
    "df_train4 = pd.read_csv('~/Dropbox/Data/df_train4.csv')\n",
    "df_train5 = pd.read_csv('~/Dropbox/Data/df_train5.csv')\n",
    "df_train6 = pd.read_csv('~/Dropbox/Data/df_train6.csv')\n",
    "df_train7 = pd.read_csv('~/Dropbox/Data/df_train7.csv')\n",
    "df_train8 = pd.read_csv('~/Dropbox/Data/df_train8.csv')\n",
    "df_test = pd.read_csv('~/Dropbox/Data/df_test.csv')"
   ]
  },
  {
   "cell_type": "code",
   "execution_count": 3,
   "id": "5c8c9c1f-2efd-4f8b-988c-7e686b856d8f",
   "metadata": {},
   "outputs": [
    {
     "data": {
      "text/plain": [
       "(((734003, 22), 0.005728859418830713), ((314572, 22), 0.005725239372862174))"
      ]
     },
     "execution_count": 3,
     "metadata": {},
     "output_type": "execute_result"
    }
   ],
   "source": [
    "(df_train1.shape, df_train1.is_fraud.mean()), (df_test.shape, df_test.is_fraud.mean())"
   ]
  },
  {
   "cell_type": "code",
   "execution_count": 4,
   "id": "adfcf8b8-c6ef-482f-bc7a-4590006ee41b",
   "metadata": {},
   "outputs": [],
   "source": [
    "_df1 = pd.concat([df_train1, df_test])\n",
    "_df2 = pd.concat([df_train2, df_test])\n",
    "_df3 = pd.concat([df_train3, df_test])\n",
    "_df4 = pd.concat([df_train4, df_test])\n",
    "_df5 = pd.concat([df_train5, df_test])\n",
    "_df6 = pd.concat([df_train6, df_test])\n",
    "_df7 = pd.concat([df_train7, df_test])\n",
    "_df8 = pd.concat([df_train8, df_test])"
   ]
  },
  {
   "cell_type": "code",
   "execution_count": 5,
   "id": "e44828f3-706c-4f56-a254-5c942fd9b7f0",
   "metadata": {},
   "outputs": [],
   "source": [
    "_df1_mean = _df1.is_fraud.mean()\n",
    "_df2_mean = _df2.is_fraud.mean()\n",
    "_df3_mean = _df3.is_fraud.mean()\n",
    "_df4_mean = _df4.is_fraud.mean()\n",
    "_df5_mean = _df5.is_fraud.mean()\n",
    "_df6_mean = _df6.is_fraud.mean()\n",
    "_df7_mean = _df7.is_fraud.mean()\n",
    "_df8_mean = _df8.is_fraud.mean()"
   ]
  },
  {
   "cell_type": "code",
   "execution_count": null,
   "id": "1bd8a668-6694-43b3-bfe2-802ff38e2f8f",
   "metadata": {},
   "outputs": [],
   "source": []
  },
  {
   "cell_type": "code",
   "execution_count": null,
   "id": "8c48b8fa-294c-48ef-a151-d7cafa38851f",
   "metadata": {},
   "outputs": [
    {
     "name": "stderr",
     "output_type": "stream",
     "text": [
      "No path specified. Models will be saved in: \"AutogluonModels/ag-20240520_095957/\"\n",
      "AutoGluon infers your prediction problem is: 'binary' (because only two unique label-values observed).\n",
      "\tIf 'binary' is not the correct problem_type, please manually specify the problem_type parameter during predictor init (You may specify problem_type as one of: ['binary', 'multiclass', 'regression'])\n"
     ]
    }
   ],
   "source": [
    "df_tr = df_train1[[\"amt\",\"is_fraud\"]]\n",
    "df_tst = df_80[[\"amt\",\"is_fraud\"]]     \n",
    "tr = TabularDataset(df_tr)\n",
    "tst = TabularDataset(df_tst)\n",
    "predictr = TabularPredictor(label=\"is_fraud\", verbosity=1)\n",
    "t1 = time.time()\n",
    "predictr.fit(tr)"
   ]
  },
  {
   "cell_type": "code",
   "execution_count": null,
   "id": "60af06ff-e29b-43e4-a0ac-4d44b59d743e",
   "metadata": {},
   "outputs": [],
   "source": []
  },
  {
   "cell_type": "code",
   "execution_count": null,
   "id": "f69ed09e-4404-4aa9-a0be-f8b58d94bf25",
   "metadata": {},
   "outputs": [],
   "source": []
  },
  {
   "cell_type": "code",
   "execution_count": null,
   "id": "8e7993e8-b9b6-4700-8abf-89f6ab6f5ed2",
   "metadata": {},
   "outputs": [],
   "source": []
  },
  {
   "cell_type": "code",
   "execution_count": 6,
   "id": "7c2be6b3-5b6e-4eb5-9df2-dc854a7b1ea3",
   "metadata": {},
   "outputs": [],
   "source": [
    "def auto_amt_ver0503(df_tr, df_tst, _df_mean):\n",
    "    df_tr = df_tr[[\"amt\",\"is_fraud\"]]\n",
    "    df_tst = df_tst[[\"amt\",\"is_fraud\"]]     \n",
    "    tr = TabularDataset(df_tr)\n",
    "    tst = TabularDataset(df_tst)\n",
    "    predictr = TabularPredictor(label=\"is_fraud\", verbosity=1)\n",
    "    t1 = time.time()\n",
    "    predictr.fit(tr)\n",
    "    t2 = time.time()\n",
    "    time_diff = t2 - t1\n",
    "    models = predictr._trainer.model_graph.nodes\n",
    "    results = []\n",
    "    for model_name in models:\n",
    "    # 모델 평가\n",
    "        eval_result = predictr.evaluate(tst, model=model_name)\n",
    "\n",
    "    # 결과를 데이터프레임에 추가\n",
    "        results.append({'model': model_name, \n",
    "                        'acc': eval_result['accuracy'], \n",
    "                        'pre': eval_result['precision'], \n",
    "                        'rec': eval_result['recall'], \n",
    "                        'f1': eval_result['f1'], \n",
    "                        'auc': eval_result['roc_auc']})\n",
    "        \n",
    "    model = []\n",
    "    time_diff = []\n",
    "    acc = []\n",
    "    pre = []\n",
    "    rec = []\n",
    "    f1 = [] \n",
    "    auc = [] \n",
    "    graph_based = []\n",
    "    method = [] \n",
    "    throw_rate = [] \n",
    "    train_size = []\n",
    "    train_cols = []\n",
    "    train_frate = []\n",
    "    test_size = []\n",
    "    test_frate = []\n",
    "    hyper_params = [] \n",
    "    \n",
    "    for result in results:\n",
    "        model_name = result['model']\n",
    "        model.append(model_name)\n",
    "        time_diff.append(None)  # 각 모델별로 학습한 시간을 나타내고 싶은데 잘 안됨\n",
    "        acc.append(result['acc']) \n",
    "        pre.append(result['pre'])\n",
    "        rec.append(result['rec'])\n",
    "        f1.append(result['f1'])\n",
    "        auc.append(result['auc'])\n",
    "        graph_based.append(False) \n",
    "        method.append('Autogluon') \n",
    "        throw_rate.append(_df_mean)\n",
    "        train_size.append(len(tr))\n",
    "        train_cols.append([col for col in tr.columns if col != 'is_fraud'])\n",
    "        train_frate.append(tr.is_fraud.mean())\n",
    "        test_size.append(len(tst))\n",
    "        test_frate.append(tst.is_fraud.mean())\n",
    "        hyper_params.append(None)\n",
    "        \n",
    "    df_results = pd.DataFrame(dict(\n",
    "        model=model,\n",
    "        time=time_diff,\n",
    "        acc=acc,\n",
    "        pre=pre,\n",
    "        rec=rec,\n",
    "        f1=f1,\n",
    "        auc=auc,\n",
    "        graph_based=graph_based,\n",
    "        method=method,\n",
    "        throw_rate=throw_rate,  \n",
    "        train_size=train_size,\n",
    "        train_cols=train_cols,\n",
    "        train_frate=train_frate,\n",
    "        test_size=test_size,\n",
    "        test_frate=test_frate,\n",
    "        hyper_params=hyper_params\n",
    "    ))    \n",
    "    ymdhms = datetime.datetime.fromtimestamp(time.time()).strftime('%Y%m%d-%H%M%S') \n",
    "    df_results.to_csv(f'../results2/{ymdhms}-Autogluon.csv',index=False)\n",
    "    return df_results"
   ]
  },
  {
   "cell_type": "markdown",
   "id": "861a21b1-b821-4908-bd03-c9265d3ced63",
   "metadata": {},
   "source": [
    "# amt 80 미만 잘 잡는지 확인용.."
   ]
  },
  {
   "cell_type": "code",
   "execution_count": 6,
   "id": "05c7773c-29e8-46e0-a27a-9188853af110",
   "metadata": {},
   "outputs": [],
   "source": [
    "df_80 = df_test[df_test['amt'] <= 80]"
   ]
  },
  {
   "cell_type": "code",
   "execution_count": 16,
   "id": "c4ea0589-d894-46e6-a8cb-cfcdc398a816",
   "metadata": {},
   "outputs": [
    {
     "data": {
      "text/plain": [
       "((231011, 22), 0.0016665873053664112)"
      ]
     },
     "execution_count": 16,
     "metadata": {},
     "output_type": "execute_result"
    }
   ],
   "source": [
    "df_80.shape, df_80.is_fraud.mean()"
   ]
  },
  {
   "cell_type": "code",
   "execution_count": 7,
   "id": "eccd12d1-28ad-47a0-a473-428d3cfd5473",
   "metadata": {},
   "outputs": [],
   "source": [
    "_df1_ = pd.concat([df_train1, df_80])\n",
    "_df2_ = pd.concat([df_train2, df_80])\n",
    "_df3_ = pd.concat([df_train3, df_80])\n",
    "_df4_ = pd.concat([df_train4, df_80])\n",
    "_df5_ = pd.concat([df_train5, df_80])\n",
    "_df6_ = pd.concat([df_train6, df_80])\n",
    "_df7_ = pd.concat([df_train7, df_80])\n",
    "_df8_ = pd.concat([df_train8, df_80])"
   ]
  },
  {
   "cell_type": "code",
   "execution_count": 8,
   "id": "0bfc510a-0a67-47ef-972f-2b9e3d1acb6c",
   "metadata": {},
   "outputs": [],
   "source": [
    "_df1_mean_ = _df1_.is_fraud.mean()\n",
    "_df2_mean_ = _df2_.is_fraud.mean()\n",
    "_df3_mean_ = _df3_.is_fraud.mean()\n",
    "_df4_mean_ = _df4_.is_fraud.mean()\n",
    "_df5_mean_ = _df5_.is_fraud.mean()\n",
    "_df6_mean_ = _df6_.is_fraud.mean()\n",
    "_df7_mean_ = _df7_.is_fraud.mean()\n",
    "_df8_mean_ = _df8_.is_fraud.mean()"
   ]
  }
 ],
 "metadata": {
  "kernelspec": {
   "display_name": "Python 3 (ipykernel)",
   "language": "python",
   "name": "python3"
  },
  "language_info": {
   "codemirror_mode": {
    "name": "ipython",
    "version": 3
   },
   "file_extension": ".py",
   "mimetype": "text/x-python",
   "name": "python",
   "nbconvert_exporter": "python",
   "pygments_lexer": "ipython3",
   "version": "3.8.18"
  }
 },
 "nbformat": 4,
 "nbformat_minor": 5
}
