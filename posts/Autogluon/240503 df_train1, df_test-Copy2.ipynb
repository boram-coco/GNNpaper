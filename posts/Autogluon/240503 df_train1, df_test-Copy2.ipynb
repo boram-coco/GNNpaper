{
 "cells": [
  {
   "cell_type": "raw",
   "id": "8177b2b8-a126-4b19-b5e0-ad56cdba0336",
   "metadata": {},
   "source": [
    "---\n",
    "title: \"[Autogluon] df_train1, df_test\"\n",
    "author: \"김보람\"\n",
    "date: \"05/03/2024\"\n",
    "---"
   ]
  },
  {
   "cell_type": "markdown",
   "id": "96bfdec3-5b07-45b5-9b38-2e8813117310",
   "metadata": {},
   "source": [
    "# imports"
   ]
  },
  {
   "cell_type": "code",
   "execution_count": 1,
   "id": "4eb91738-6398-4ffc-bbec-fc48fcc8f249",
   "metadata": {},
   "outputs": [],
   "source": [
    "import pandas as pd\n",
    "import numpy as np\n",
    "import sklearn\n",
    "import pickle \n",
    "import time \n",
    "import datetime\n",
    "import warnings\n",
    "from autogluon.tabular import TabularDataset, TabularPredictor\n",
    "\n",
    "warnings.filterwarnings('ignore')"
   ]
  },
  {
   "cell_type": "code",
   "execution_count": 2,
   "id": "13a66652-73db-42ac-aa56-8ef834a57aa9",
   "metadata": {},
   "outputs": [],
   "source": [
    "df_train1 = pd.read_csv('~/Dropbox/Data/df_train1.csv')\n",
    "df_train2 = pd.read_csv('~/Dropbox/Data/df_train2.csv')\n",
    "df_train3 = pd.read_csv('~/Dropbox/Data/df_train3.csv')\n",
    "df_train4 = pd.read_csv('~/Dropbox/Data/df_train4.csv')\n",
    "df_train5 = pd.read_csv('~/Dropbox/Data/df_train5.csv')\n",
    "df_train6 = pd.read_csv('~/Dropbox/Data/df_train6.csv')\n",
    "df_train7 = pd.read_csv('~/Dropbox/Data/df_train7.csv')\n",
    "df_train8 = pd.read_csv('~/Dropbox/Data/df_train8.csv')\n",
    "df_test = pd.read_csv('~/Dropbox/Data/df_test.csv')"
   ]
  },
  {
   "cell_type": "code",
   "execution_count": 3,
   "id": "5c8c9c1f-2efd-4f8b-988c-7e686b856d8f",
   "metadata": {},
   "outputs": [
    {
     "data": {
      "text/plain": [
       "(((734003, 22), 0.005728859418830713), ((314572, 22), 0.005725239372862174))"
      ]
     },
     "execution_count": 3,
     "metadata": {},
     "output_type": "execute_result"
    }
   ],
   "source": [
    "(df_train1.shape, df_train1.is_fraud.mean()), (df_test.shape, df_test.is_fraud.mean())"
   ]
  },
  {
   "cell_type": "code",
   "execution_count": 4,
   "id": "adfcf8b8-c6ef-482f-bc7a-4590006ee41b",
   "metadata": {},
   "outputs": [],
   "source": [
    "_df1 = pd.concat([df_train1, df_test])\n",
    "_df2 = pd.concat([df_train2, df_test])\n",
    "_df3 = pd.concat([df_train3, df_test])\n",
    "_df4 = pd.concat([df_train4, df_test])\n",
    "_df5 = pd.concat([df_train5, df_test])\n",
    "_df6 = pd.concat([df_train6, df_test])\n",
    "_df7 = pd.concat([df_train7, df_test])\n",
    "_df8 = pd.concat([df_train8, df_test])"
   ]
  },
  {
   "cell_type": "code",
   "execution_count": 5,
   "id": "e44828f3-706c-4f56-a254-5c942fd9b7f0",
   "metadata": {},
   "outputs": [],
   "source": [
    "_df1_mean = _df1.is_fraud.mean()\n",
    "_df2_mean = _df2.is_fraud.mean()\n",
    "_df3_mean = _df3.is_fraud.mean()\n",
    "_df4_mean = _df4.is_fraud.mean()\n",
    "_df5_mean = _df5.is_fraud.mean()\n",
    "_df6_mean = _df6.is_fraud.mean()\n",
    "_df7_mean = _df7.is_fraud.mean()\n",
    "_df8_mean = _df8.is_fraud.mean()"
   ]
  },
  {
   "cell_type": "code",
   "execution_count": null,
   "id": "1bd8a668-6694-43b3-bfe2-802ff38e2f8f",
   "metadata": {},
   "outputs": [],
   "source": []
  },
  {
   "cell_type": "code",
   "execution_count": 8,
   "id": "8c48b8fa-294c-48ef-a151-d7cafa38851f",
   "metadata": {},
   "outputs": [
    {
     "name": "stderr",
     "output_type": "stream",
     "text": [
      "No path specified. Models will be saved in: \"AutogluonModels/ag-20240520_100601/\"\n",
      "AutoGluon infers your prediction problem is: 'binary' (because only two unique label-values observed).\n",
      "\tIf 'binary' is not the correct problem_type, please manually specify the problem_type parameter during predictor init (You may specify problem_type as one of: ['binary', 'multiclass', 'regression'])\n"
     ]
    },
    {
     "data": {
      "text/plain": [
       "<autogluon.tabular.predictor.predictor.TabularPredictor at 0x7f9f65c436d0>"
      ]
     },
     "execution_count": 8,
     "metadata": {},
     "output_type": "execute_result"
    }
   ],
   "source": [
    "df_tr = df_train4[[\"amt\",\"is_fraud\"]]\n",
    "df_tst = df_80[[\"amt\",\"is_fraud\"]]     \n",
    "tr = TabularDataset(df_tr)\n",
    "tst = TabularDataset(df_tst)\n",
    "predictr = TabularPredictor(label=\"is_fraud\", verbosity=1)\n",
    "t1 = time.time()\n",
    "predictr.fit(tr)"
   ]
  },
  {
   "cell_type": "code",
   "execution_count": 16,
   "id": "4e3b20df-27d3-42a3-88e1-e7f4c77077a7",
   "metadata": {},
   "outputs": [
    {
     "data": {
      "text/plain": [
       "0.5"
      ]
     },
     "execution_count": 16,
     "metadata": {},
     "output_type": "execute_result"
    }
   ],
   "source": [
    "predictr.calibrate_decision_threshold()"
   ]
  },
  {
   "cell_type": "code",
   "execution_count": 24,
   "id": "eaa77a78-3f41-4fbf-bd56-9f6db446ba24",
   "metadata": {},
   "outputs": [
    {
     "data": {
      "text/plain": [
       "0         0\n",
       "1         0\n",
       "2         0\n",
       "3         0\n",
       "5         0\n",
       "         ..\n",
       "314538    0\n",
       "314558    0\n",
       "314563    0\n",
       "314566    0\n",
       "314571    0\n",
       "Name: is_fraud, Length: 231011, dtype: int64"
      ]
     },
     "execution_count": 24,
     "metadata": {},
     "output_type": "execute_result"
    }
   ],
   "source": [
    "predictr.predict(df_80)"
   ]
  },
  {
   "cell_type": "code",
   "execution_count": 39,
   "id": "f41d5ef4-6721-427d-b8b2-5458683658bf",
   "metadata": {},
   "outputs": [],
   "source": [
    "yyhat_prob = predictr.predict_proba(df_80).iloc[:,-1]\n",
    "yy = df_80.is_fraud"
   ]
  },
  {
   "cell_type": "code",
   "execution_count": 49,
   "id": "18ab9e28-8a1a-4ce7-8e66-65656b71459c",
   "metadata": {},
   "outputs": [],
   "source": [
    "_df = df_80.assign(yyhat_prob= yyhat_prob)\\\n",
    ".loc[:,['amt','is_fraud','yyhat_prob']]"
   ]
  },
  {
   "cell_type": "code",
   "execution_count": 50,
   "id": "ba62a684-ad9c-41b9-a479-cd2ccd664c7a",
   "metadata": {},
   "outputs": [],
   "source": [
    "import sklearn.metrics"
   ]
  },
  {
   "cell_type": "code",
   "execution_count": 51,
   "id": "4023f6e6-db05-4ddf-b937-f1c6605dc996",
   "metadata": {},
   "outputs": [
    {
     "data": {
      "text/plain": [
       "0.886678870980294"
      ]
     },
     "execution_count": 51,
     "metadata": {},
     "output_type": "execute_result"
    }
   ],
   "source": [
    "sklearn.metrics.roc_auc_score(yy,yyhat_prob)"
   ]
  },
  {
   "cell_type": "code",
   "execution_count": 52,
   "id": "6290a96c-ca4f-4a31-b5c2-eb8dc3e7a364",
   "metadata": {},
   "outputs": [
    {
     "data": {
      "text/plain": [
       "0.3329286185951976"
      ]
     },
     "execution_count": 52,
     "metadata": {},
     "output_type": "execute_result"
    }
   ],
   "source": [
    "_df[_df.is_fraud == 1].yyhat_prob.mean()"
   ]
  },
  {
   "cell_type": "code",
   "execution_count": 54,
   "id": "5c2f6b7d-77ee-44fa-b9eb-613f9d7ce2ae",
   "metadata": {},
   "outputs": [
    {
     "data": {
      "text/plain": [
       "16.30444155844156"
      ]
     },
     "execution_count": 54,
     "metadata": {},
     "output_type": "execute_result"
    }
   ],
   "source": [
    "_df[_df.is_fraud == 1].amt.mean()"
   ]
  },
  {
   "cell_type": "code",
   "execution_count": 56,
   "id": "c77be988-5aa1-4398-97c6-1a90c71d7e8c",
   "metadata": {},
   "outputs": [
    {
     "data": {
      "text/plain": [
       "<AxesSubplot: >"
      ]
     },
     "execution_count": 56,
     "metadata": {},
     "output_type": "execute_result"
    },
    {
     "data": {
      "image/png": "[encoded data removed]",
      "text/plain": [
       "<Figure size 640x480 with 1 Axes>"
      ]
     },
     "metadata": {},
     "output_type": "display_data"
    }
   ],
   "source": [
    "_df[_df.is_fraud == 1].amt.hist()"
   ]
  },
  {
   "cell_type": "code",
   "execution_count": 53,
   "id": "e9e1b0a0-a2d7-428d-b01f-025dd532ad04",
   "metadata": {},
   "outputs": [
    {
     "data": {
      "text/plain": [
       "0.2986325147135913"
      ]
     },
     "execution_count": 53,
     "metadata": {},
     "output_type": "execute_result"
    }
   ],
   "source": [
    "_df[_df.is_fraud == 0].yyhat_prob.mean()"
   ]
  },
  {
   "cell_type": "code",
   "execution_count": 55,
   "id": "c2e3b7e2-6302-479c-909d-e05db01c8811",
   "metadata": {},
   "outputs": [
    {
     "data": {
      "text/plain": [
       "31.54455620788636"
      ]
     },
     "execution_count": 55,
     "metadata": {},
     "output_type": "execute_result"
    }
   ],
   "source": [
    "_df[_df.is_fraud == 0].amt.mean()"
   ]
  },
  {
   "cell_type": "code",
   "execution_count": 57,
   "id": "efc03369-7f8d-4db9-9e0b-b08728b23ea0",
   "metadata": {},
   "outputs": [
    {
     "data": {
      "text/plain": [
       "<AxesSubplot: >"
      ]
     },
     "execution_count": 57,
     "metadata": {},
     "output_type": "execute_result"
    },
    {
     "data": {
      "image/png": "[encoded data removed]",
      "text/plain": [
       "<Figure size 640x480 with 1 Axes>"
      ]
     },
     "metadata": {},
     "output_type": "display_data"
    }
   ],
   "source": [
    "_df[_df.is_fraud == 0].amt.hist()"
   ]
  },
  {
   "cell_type": "code",
   "execution_count": 23,
   "id": "60af06ff-e29b-43e4-a0ac-4d44b59d743e",
   "metadata": {},
   "outputs": [
    {
     "data": {
      "text/plain": [
       "{'KNeighborsUnif':          0    1\n",
       " 13979  1.0  0.0\n",
       " 24323  1.0  0.0\n",
       " 23007  1.0  0.0\n",
       " 37276  1.0  0.0\n",
       " 31070  1.0  0.0\n",
       " ...    ...  ...\n",
       " 36224  1.0  0.0\n",
       " 34032  1.0  0.0\n",
       " 34720  1.0  0.0\n",
       " 17138  1.0  0.0\n",
       " 25898  1.0  0.0\n",
       " \n",
       " [2500 rows x 2 columns],\n",
       " 'KNeighborsDist':          0    1\n",
       " 13979  1.0  0.0\n",
       " 24323  1.0  0.0\n",
       " 23007  1.0  0.0\n",
       " 37276  1.0  0.0\n",
       " 31070  1.0  0.0\n",
       " ...    ...  ...\n",
       " 36224  1.0  0.0\n",
       " 34032  1.0  0.0\n",
       " 34720  1.0  0.0\n",
       " 17138  1.0  0.0\n",
       " 25898  1.0  0.0\n",
       " \n",
       " [2500 rows x 2 columns],\n",
       " 'ExtraTreesEntr':          0    1\n",
       " 13979  1.0  0.0\n",
       " 24323  1.0  0.0\n",
       " 23007  1.0  0.0\n",
       " 37276  1.0  0.0\n",
       " 31070  1.0  0.0\n",
       " ...    ...  ...\n",
       " 36224  1.0  0.0\n",
       " 34032  1.0  0.0\n",
       " 34720  1.0  0.0\n",
       " 17138  1.0  0.0\n",
       " 25898  1.0  0.0\n",
       " \n",
       " [2500 rows x 2 columns],\n",
       " 'LightGBM':               0         1\n",
       " 13979  0.967662  0.032338\n",
       " 24323  0.965496  0.034504\n",
       " 23007  0.969491  0.030509\n",
       " 37276  0.956655  0.043345\n",
       " 31070  0.969491  0.030509\n",
       " ...         ...       ...\n",
       " 36224  0.967500  0.032500\n",
       " 34032  0.969491  0.030509\n",
       " 34720  0.969491  0.030509\n",
       " 17138  0.967500  0.032500\n",
       " 25898  0.969491  0.030509\n",
       " \n",
       " [2500 rows x 2 columns],\n",
       " 'RandomForestEntr':          0    1\n",
       " 13979  1.0  0.0\n",
       " 24323  1.0  0.0\n",
       " 23007  1.0  0.0\n",
       " 37276  1.0  0.0\n",
       " 31070  1.0  0.0\n",
       " ...    ...  ...\n",
       " 36224  1.0  0.0\n",
       " 34032  1.0  0.0\n",
       " 34720  1.0  0.0\n",
       " 17138  1.0  0.0\n",
       " 25898  1.0  0.0\n",
       " \n",
       " [2500 rows x 2 columns],\n",
       " 'CatBoost':               0         1\n",
       " 13979  0.987880  0.012120\n",
       " 24323  0.983165  0.016835\n",
       " 23007  0.990823  0.009177\n",
       " 37276  0.963983  0.036017\n",
       " 31070  0.990753  0.009247\n",
       " ...         ...       ...\n",
       " 36224  0.972353  0.027647\n",
       " 34032  0.991516  0.008484\n",
       " 34720  0.984103  0.015897\n",
       " 17138  0.982423  0.017577\n",
       " 25898  0.987116  0.012884\n",
       " \n",
       " [2500 rows x 2 columns],\n",
       " 'LightGBMLarge':               0         1\n",
       " 13979  0.966235  0.033765\n",
       " 24323  0.970804  0.029196\n",
       " 23007  0.970804  0.029196\n",
       " 37276  0.957979  0.042021\n",
       " 31070  0.970804  0.029196\n",
       " ...         ...       ...\n",
       " 36224  0.966553  0.033447\n",
       " 34032  0.970804  0.029196\n",
       " 34720  0.970804  0.029196\n",
       " 17138  0.970664  0.029336\n",
       " 25898  0.970804  0.029196\n",
       " \n",
       " [2500 rows x 2 columns],\n",
       " 'NeuralNetFastAI':               0         1\n",
       " 13979  0.995330  0.004670\n",
       " 24323  0.994297  0.005703\n",
       " 23007  0.996624  0.003376\n",
       " 37276  0.888140  0.111860\n",
       " 31070  0.996497  0.003503\n",
       " ...         ...       ...\n",
       " 36224  0.914898  0.085102\n",
       " 34032  0.998039  0.001961\n",
       " 34720  0.998416  0.001583\n",
       " 17138  0.953835  0.046165\n",
       " 25898  0.998450  0.001550\n",
       " \n",
       " [2500 rows x 2 columns],\n",
       " 'LightGBMXT':               0         1\n",
       " 13979  0.981476  0.018524\n",
       " 24323  0.974396  0.025604\n",
       " 23007  0.988903  0.011097\n",
       " 37276  0.972741  0.027259\n",
       " 31070  0.988759  0.011241\n",
       " ...         ...       ...\n",
       " 36224  0.986411  0.013589\n",
       " 34032  0.995874  0.004126\n",
       " 34720  0.992955  0.007045\n",
       " 17138  0.993169  0.006831\n",
       " 25898  0.994273  0.005727\n",
       " \n",
       " [2500 rows x 2 columns],\n",
       " 'XGBoost':               0         1\n",
       " 13979  0.549148  0.450852\n",
       " 24323  0.549148  0.450852\n",
       " 23007  0.549148  0.450852\n",
       " 37276  0.549276  0.450724\n",
       " 31070  0.549148  0.450852\n",
       " ...         ...       ...\n",
       " 36224  0.549276  0.450724\n",
       " 34032  0.549148  0.450852\n",
       " 34720  0.549148  0.450852\n",
       " 17138  0.549276  0.450724\n",
       " 25898  0.549148  0.450852\n",
       " \n",
       " [2500 rows x 2 columns],\n",
       " 'NeuralNetTorch':               0         1\n",
       " 13979  0.998562  0.001438\n",
       " 24323  0.995813  0.004187\n",
       " 23007  0.999538  0.000462\n",
       " 37276  0.979087  0.020913\n",
       " 31070  0.999517  0.000483\n",
       " ...         ...       ...\n",
       " 36224  0.993657  0.006343\n",
       " 34032  0.999578  0.000422\n",
       " 34720  0.997371  0.002629\n",
       " 17138  0.998840  0.001160\n",
       " 25898  0.997434  0.002566\n",
       " \n",
       " [2500 rows x 2 columns],\n",
       " 'ExtraTreesGini':          0    1\n",
       " 13979  1.0  0.0\n",
       " 24323  1.0  0.0\n",
       " 23007  1.0  0.0\n",
       " 37276  1.0  0.0\n",
       " 31070  1.0  0.0\n",
       " ...    ...  ...\n",
       " 36224  1.0  0.0\n",
       " 34032  1.0  0.0\n",
       " 34720  1.0  0.0\n",
       " 17138  1.0  0.0\n",
       " 25898  1.0  0.0\n",
       " \n",
       " [2500 rows x 2 columns],\n",
       " 'RandomForestGini':          0    1\n",
       " 13979  1.0  0.0\n",
       " 24323  1.0  0.0\n",
       " 23007  1.0  0.0\n",
       " 37276  1.0  0.0\n",
       " 31070  1.0  0.0\n",
       " ...    ...  ...\n",
       " 36224  1.0  0.0\n",
       " 34032  1.0  0.0\n",
       " 34720  1.0  0.0\n",
       " 17138  1.0  0.0\n",
       " 25898  1.0  0.0\n",
       " \n",
       " [2500 rows x 2 columns],\n",
       " 'WeightedEnsemble_L2':               0         1\n",
       " 13979  0.711494  0.288506\n",
       " 24323  0.710591  0.289409\n",
       " 23007  0.711927  0.288073\n",
       " 37276  0.705633  0.294367\n",
       " 31070  0.711921  0.288079\n",
       " ...         ...       ...\n",
       " 36224  0.710353  0.289647\n",
       " 34032  0.711936  0.288064\n",
       " 34720  0.711394  0.288606\n",
       " 17138  0.711626  0.288374\n",
       " 25898  0.711410  0.288590\n",
       " \n",
       " [2500 rows x 2 columns]}"
      ]
     },
     "execution_count": 23,
     "metadata": {},
     "output_type": "execute_result"
    }
   ],
   "source": [
    "predictr.predict_proba_multi()"
   ]
  },
  {
   "cell_type": "code",
   "execution_count": null,
   "id": "f69ed09e-4404-4aa9-a0be-f8b58d94bf25",
   "metadata": {},
   "outputs": [],
   "source": []
  },
  {
   "cell_type": "code",
   "execution_count": null,
   "id": "8e7993e8-b9b6-4700-8abf-89f6ab6f5ed2",
   "metadata": {},
   "outputs": [],
   "source": []
  },
  {
   "cell_type": "code",
   "execution_count": 6,
   "id": "7c2be6b3-5b6e-4eb5-9df2-dc854a7b1ea3",
   "metadata": {},
   "outputs": [],
   "source": [
    "def auto_amt_ver0503(df_tr, df_tst, _df_mean):\n",
    "    df_tr = df_tr[[\"amt\",\"is_fraud\"]]\n",
    "    df_tst = df_tst[[\"amt\",\"is_fraud\"]]     \n",
    "    tr = TabularDataset(df_tr)\n",
    "    tst = TabularDataset(df_tst)\n",
    "    predictr = TabularPredictor(label=\"is_fraud\", verbosity=1)\n",
    "    t1 = time.time()\n",
    "    predictr.fit(tr)\n",
    "    t2 = time.time()\n",
    "    time_diff = t2 - t1\n",
    "    models = predictr._trainer.model_graph.nodes\n",
    "    results = []\n",
    "    for model_name in models:\n",
    "    # 모델 평가\n",
    "        eval_result = predictr.evaluate(tst, model=model_name)\n",
    "\n",
    "    # 결과를 데이터프레임에 추가\n",
    "        results.append({'model': model_name, \n",
    "                        'acc': eval_result['accuracy'], \n",
    "                        'pre': eval_result['precision'], \n",
    "                        'rec': eval_result['recall'], \n",
    "                        'f1': eval_result['f1'], \n",
    "                        'auc': eval_result['roc_auc']})\n",
    "        \n",
    "    model = []\n",
    "    time_diff = []\n",
    "    acc = []\n",
    "    pre = []\n",
    "    rec = []\n",
    "    f1 = [] \n",
    "    auc = [] \n",
    "    graph_based = []\n",
    "    method = [] \n",
    "    throw_rate = [] \n",
    "    train_size = []\n",
    "    train_cols = []\n",
    "    train_frate = []\n",
    "    test_size = []\n",
    "    test_frate = []\n",
    "    hyper_params = [] \n",
    "    \n",
    "    for result in results:\n",
    "        model_name = result['model']\n",
    "        model.append(model_name)\n",
    "        time_diff.append(None)  # 각 모델별로 학습한 시간을 나타내고 싶은데 잘 안됨\n",
    "        acc.append(result['acc']) \n",
    "        pre.append(result['pre'])\n",
    "        rec.append(result['rec'])\n",
    "        f1.append(result['f1'])\n",
    "        auc.append(result['auc'])\n",
    "        graph_based.append(False) \n",
    "        method.append('Autogluon') \n",
    "        throw_rate.append(_df_mean)\n",
    "        train_size.append(len(tr))\n",
    "        train_cols.append([col for col in tr.columns if col != 'is_fraud'])\n",
    "        train_frate.append(tr.is_fraud.mean())\n",
    "        test_size.append(len(tst))\n",
    "        test_frate.append(tst.is_fraud.mean())\n",
    "        hyper_params.append(None)\n",
    "        \n",
    "    df_results = pd.DataFrame(dict(\n",
    "        model=model,\n",
    "        time=time_diff,\n",
    "        acc=acc,\n",
    "        pre=pre,\n",
    "        rec=rec,\n",
    "        f1=f1,\n",
    "        auc=auc,\n",
    "        graph_based=graph_based,\n",
    "        method=method,\n",
    "        throw_rate=throw_rate,  \n",
    "        train_size=train_size,\n",
    "        train_cols=train_cols,\n",
    "        train_frate=train_frate,\n",
    "        test_size=test_size,\n",
    "        test_frate=test_frate,\n",
    "        hyper_params=hyper_params\n",
    "    ))    \n",
    "    ymdhms = datetime.datetime.fromtimestamp(time.time()).strftime('%Y%m%d-%H%M%S') \n",
    "    df_results.to_csv(f'../results2/{ymdhms}-Autogluon.csv',index=False)\n",
    "    return df_results"
   ]
  },
  {
   "cell_type": "markdown",
   "id": "861a21b1-b821-4908-bd03-c9265d3ced63",
   "metadata": {},
   "source": [
    "# amt 80 미만 잘 잡는지 확인용.."
   ]
  },
  {
   "cell_type": "code",
   "execution_count": 7,
   "id": "05c7773c-29e8-46e0-a27a-9188853af110",
   "metadata": {},
   "outputs": [],
   "source": [
    "df_80 = df_test[df_test['amt'] <= 80]"
   ]
  },
  {
   "cell_type": "code",
   "execution_count": 16,
   "id": "c4ea0589-d894-46e6-a8cb-cfcdc398a816",
   "metadata": {},
   "outputs": [
    {
     "data": {
      "text/plain": [
       "((231011, 22), 0.0016665873053664112)"
      ]
     },
     "execution_count": 16,
     "metadata": {},
     "output_type": "execute_result"
    }
   ],
   "source": [
    "df_80.shape, df_80.is_fraud.mean()"
   ]
  },
  {
   "cell_type": "code",
   "execution_count": 7,
   "id": "eccd12d1-28ad-47a0-a473-428d3cfd5473",
   "metadata": {},
   "outputs": [],
   "source": [
    "_df1_ = pd.concat([df_train1, df_80])\n",
    "_df2_ = pd.concat([df_train2, df_80])\n",
    "_df3_ = pd.concat([df_train3, df_80])\n",
    "_df4_ = pd.concat([df_train4, df_80])\n",
    "_df5_ = pd.concat([df_train5, df_80])\n",
    "_df6_ = pd.concat([df_train6, df_80])\n",
    "_df7_ = pd.concat([df_train7, df_80])\n",
    "_df8_ = pd.concat([df_train8, df_80])"
   ]
  },
  {
   "cell_type": "code",
   "execution_count": 8,
   "id": "0bfc510a-0a67-47ef-972f-2b9e3d1acb6c",
   "metadata": {},
   "outputs": [],
   "source": [
    "_df1_mean_ = _df1_.is_fraud.mean()\n",
    "_df2_mean_ = _df2_.is_fraud.mean()\n",
    "_df3_mean_ = _df3_.is_fraud.mean()\n",
    "_df4_mean_ = _df4_.is_fraud.mean()\n",
    "_df5_mean_ = _df5_.is_fraud.mean()\n",
    "_df6_mean_ = _df6_.is_fraud.mean()\n",
    "_df7_mean_ = _df7_.is_fraud.mean()\n",
    "_df8_mean_ = _df8_.is_fraud.mean()"
   ]
  }
 ],
 "metadata": {
  "kernelspec": {
   "display_name": "Python 3 (ipykernel)",
   "language": "python",
   "name": "python3"
  },
  "language_info": {
   "codemirror_mode": {
    "name": "ipython",
    "version": 3
   },
   "file_extension": ".py",
   "mimetype": "text/x-python",
   "name": "python",
   "nbconvert_exporter": "python",
   "pygments_lexer": "ipython3",
   "version": "3.8.18"
  }
 },
 "nbformat": 4,
 "nbformat_minor": 5
}
