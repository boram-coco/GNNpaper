{
 "cells": [
  {
   "cell_type": "code",
   "execution_count": 10,
   "id": "22a4443b-a856-4a30-8ddd-bcff92ec2aaa",
   "metadata": {},
   "outputs": [],
   "source": [
    "import numpy as np\n",
    "import pandas as pd\n",
    "import sklearn.metrics"
   ]
  },
  {
   "cell_type": "code",
   "execution_count": 14,
   "id": "77c5d272-2121-4645-a8ad-436687c609a2",
   "metadata": {},
   "outputs": [],
   "source": [
    "def evaluation(y, yhat):\n",
    "    y = np.array(y).reshape(-1)\n",
    "    yhat_prob = np.array(yhat).reshape(-1)\n",
    "    yhat_01 = np.array(yhat).reshape(-1)>0.5\n",
    "    acc = sklearn.metrics.accuracy_score(y,yhat_01)\n",
    "    pre = sklearn.metrics.precision_score(y,yhat_01)\n",
    "    rec = sklearn.metrics.recall_score(y,yhat_01)\n",
    "    f1 = sklearn.metrics.f1_score(y,yhat_01)\n",
    "    auc = sklearn.metrics.roc_auc_score(y,yhat_prob)\n",
    "    return {'acc':acc,'pre':pre,'rec':rec,'f1':f1,'auc':auc}"
   ]
  },
  {
   "cell_type": "code",
   "execution_count": 15,
   "id": "d02f105a-c051-4a4a-be9f-cce7be827ca9",
   "metadata": {},
   "outputs": [],
   "source": [
    "y = [0,0,0,1]\n",
    "yhat = [0,0,0,0.1] "
   ]
  },
  {
   "cell_type": "code",
   "execution_count": 17,
   "id": "459d9539-3ec4-449b-a1b3-cf2ef62abacf",
   "metadata": {},
   "outputs": [
    {
     "name": "stderr",
     "output_type": "stream",
     "text": [
      "/home/coco/anaconda3/envs/pyod/lib/python3.11/site-packages/sklearn/metrics/_classification.py:1497: UndefinedMetricWarning: Precision is ill-defined and being set to 0.0 due to no predicted samples. Use `zero_division` parameter to control this behavior.\n",
      "  _warn_prf(average, modifier, f\"{metric.capitalize()} is\", len(result))\n"
     ]
    },
    {
     "data": {
      "text/plain": [
       "{'acc': 0.75, 'pre': 0.0, 'rec': 0.0, 'f1': 0.0, 'auc': 1.0}"
      ]
     },
     "execution_count": 17,
     "metadata": {},
     "output_type": "execute_result"
    }
   ],
   "source": [
    "evaluation(y,yhat)"
   ]
  }
 ],
 "metadata": {
  "kernelspec": {
   "display_name": "Python 3 (ipykernel)",
   "language": "python",
   "name": "python3"
  },
  "language_info": {
   "codemirror_mode": {
    "name": "ipython",
    "version": 3
   },
   "file_extension": ".py",
   "mimetype": "text/x-python",
   "name": "python",
   "nbconvert_exporter": "python",
   "pygments_lexer": "ipython3",
   "version": "3.8.18"
  }
 },
 "nbformat": 4,
 "nbformat_minor": 5
}
