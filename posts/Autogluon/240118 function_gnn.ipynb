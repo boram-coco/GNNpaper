{
 "cells": [
  {
   "cell_type": "raw",
   "id": "c1f34a69-4765-46b7-8d44-0cbe356e0f6b",
   "metadata": {},
   "source": [
    "---\n",
    "title: \"[FRAUD] fuction (~ing)\"\n",
    "author: \"김보람\"\n",
    "date: \"01/18/2024\"\n",
    "---"
   ]
  },
  {
   "cell_type": "code",
   "execution_count": 180,
   "id": "27489ccc-f15a-4f3c-9de4-7f1b0f44d8d0",
   "metadata": {},
   "outputs": [],
   "source": [
    "import pandas as pd\n",
    "import numpy as np\n",
    "import sklearn.model_selection\n",
    "from sklearn.model_selection import train_test_split\n",
    "from sklearn.metrics import f1_score, roc_auc_score, recall_score, precision_score, accuracy_score\n",
    "\n",
    "import networkx as nx"
   ]
  },
  {
   "cell_type": "code",
   "execution_count": 181,
   "id": "c162d1f1-1376-4fc0-9341-671fade1ee56",
   "metadata": {},
   "outputs": [
    {
     "data": {
      "text/html": [
       "<div>\n",
       "<style scoped>\n",
       "    .dataframe tbody tr th:only-of-type {\n",
       "        vertical-align: middle;\n",
       "    }\n",
       "\n",
       "    .dataframe tbody tr th {\n",
       "        vertical-align: top;\n",
       "    }\n",
       "\n",
       "    .dataframe thead th {\n",
       "        text-align: right;\n",
       "    }\n",
       "</style>\n",
       "<table border=\"1\" class=\"dataframe\">\n",
       "  <thead>\n",
       "    <tr style=\"text-align: right;\">\n",
       "      <th></th>\n",
       "      <th>trans_date_trans_time</th>\n",
       "      <th>cc_num</th>\n",
       "      <th>merchant</th>\n",
       "      <th>category</th>\n",
       "      <th>amt</th>\n",
       "      <th>first</th>\n",
       "      <th>last</th>\n",
       "      <th>gender</th>\n",
       "      <th>street</th>\n",
       "      <th>city</th>\n",
       "      <th>...</th>\n",
       "      <th>lat</th>\n",
       "      <th>long</th>\n",
       "      <th>city_pop</th>\n",
       "      <th>job</th>\n",
       "      <th>dob</th>\n",
       "      <th>trans_num</th>\n",
       "      <th>unix_time</th>\n",
       "      <th>merch_lat</th>\n",
       "      <th>merch_long</th>\n",
       "      <th>is_fraud</th>\n",
       "    </tr>\n",
       "  </thead>\n",
       "  <tbody>\n",
       "    <tr>\n",
       "      <th>0</th>\n",
       "      <td>2019-01-01 00:00:00</td>\n",
       "      <td>2.703190e+15</td>\n",
       "      <td>fraud_Rippin, Kub and Mann</td>\n",
       "      <td>misc_net</td>\n",
       "      <td>4.97</td>\n",
       "      <td>Jennifer</td>\n",
       "      <td>Banks</td>\n",
       "      <td>F</td>\n",
       "      <td>561 Perry Cove</td>\n",
       "      <td>Moravian Falls</td>\n",
       "      <td>...</td>\n",
       "      <td>36.0788</td>\n",
       "      <td>-81.1781</td>\n",
       "      <td>3495</td>\n",
       "      <td>Psychologist, counselling</td>\n",
       "      <td>1988-03-09</td>\n",
       "      <td>0b242abb623afc578575680df30655b9</td>\n",
       "      <td>1325376018</td>\n",
       "      <td>36.011293</td>\n",
       "      <td>-82.048315</td>\n",
       "      <td>0</td>\n",
       "    </tr>\n",
       "    <tr>\n",
       "      <th>1</th>\n",
       "      <td>2019-01-01 00:00:00</td>\n",
       "      <td>6.304230e+11</td>\n",
       "      <td>fraud_Heller, Gutmann and Zieme</td>\n",
       "      <td>grocery_pos</td>\n",
       "      <td>107.23</td>\n",
       "      <td>Stephanie</td>\n",
       "      <td>Gill</td>\n",
       "      <td>F</td>\n",
       "      <td>43039 Riley Greens Suite 393</td>\n",
       "      <td>Orient</td>\n",
       "      <td>...</td>\n",
       "      <td>48.8878</td>\n",
       "      <td>-118.2105</td>\n",
       "      <td>149</td>\n",
       "      <td>Special educational needs teacher</td>\n",
       "      <td>1978-06-21</td>\n",
       "      <td>1f76529f8574734946361c461b024d99</td>\n",
       "      <td>1325376044</td>\n",
       "      <td>49.159047</td>\n",
       "      <td>-118.186462</td>\n",
       "      <td>0</td>\n",
       "    </tr>\n",
       "    <tr>\n",
       "      <th>2</th>\n",
       "      <td>2019-01-01 00:00:00</td>\n",
       "      <td>3.885950e+13</td>\n",
       "      <td>fraud_Lind-Buckridge</td>\n",
       "      <td>entertainment</td>\n",
       "      <td>220.11</td>\n",
       "      <td>Edward</td>\n",
       "      <td>Sanchez</td>\n",
       "      <td>M</td>\n",
       "      <td>594 White Dale Suite 530</td>\n",
       "      <td>Malad City</td>\n",
       "      <td>...</td>\n",
       "      <td>42.1808</td>\n",
       "      <td>-112.2620</td>\n",
       "      <td>4154</td>\n",
       "      <td>Nature conservation officer</td>\n",
       "      <td>1962-01-19</td>\n",
       "      <td>a1a22d70485983eac12b5b88dad1cf95</td>\n",
       "      <td>1325376051</td>\n",
       "      <td>43.150704</td>\n",
       "      <td>-112.154481</td>\n",
       "      <td>0</td>\n",
       "    </tr>\n",
       "    <tr>\n",
       "      <th>3</th>\n",
       "      <td>2019-01-01 00:01:00</td>\n",
       "      <td>3.534090e+15</td>\n",
       "      <td>fraud_Kutch, Hermiston and Farrell</td>\n",
       "      <td>gas_transport</td>\n",
       "      <td>45.00</td>\n",
       "      <td>Jeremy</td>\n",
       "      <td>White</td>\n",
       "      <td>M</td>\n",
       "      <td>9443 Cynthia Court Apt. 038</td>\n",
       "      <td>Boulder</td>\n",
       "      <td>...</td>\n",
       "      <td>46.2306</td>\n",
       "      <td>-112.1138</td>\n",
       "      <td>1939</td>\n",
       "      <td>Patent attorney</td>\n",
       "      <td>1967-01-12</td>\n",
       "      <td>6b849c168bdad6f867558c3793159a81</td>\n",
       "      <td>1325376076</td>\n",
       "      <td>47.034331</td>\n",
       "      <td>-112.561071</td>\n",
       "      <td>0</td>\n",
       "    </tr>\n",
       "    <tr>\n",
       "      <th>4</th>\n",
       "      <td>2019-01-01 00:03:00</td>\n",
       "      <td>3.755340e+14</td>\n",
       "      <td>fraud_Keeling-Crist</td>\n",
       "      <td>misc_pos</td>\n",
       "      <td>41.96</td>\n",
       "      <td>Tyler</td>\n",
       "      <td>Garcia</td>\n",
       "      <td>M</td>\n",
       "      <td>408 Bradley Rest</td>\n",
       "      <td>Doe Hill</td>\n",
       "      <td>...</td>\n",
       "      <td>38.4207</td>\n",
       "      <td>-79.4629</td>\n",
       "      <td>99</td>\n",
       "      <td>Dance movement psychotherapist</td>\n",
       "      <td>1986-03-28</td>\n",
       "      <td>a41d7549acf90789359a9aa5346dcb46</td>\n",
       "      <td>1325376186</td>\n",
       "      <td>38.674999</td>\n",
       "      <td>-78.632459</td>\n",
       "      <td>0</td>\n",
       "    </tr>\n",
       "    <tr>\n",
       "      <th>...</th>\n",
       "      <td>...</td>\n",
       "      <td>...</td>\n",
       "      <td>...</td>\n",
       "      <td>...</td>\n",
       "      <td>...</td>\n",
       "      <td>...</td>\n",
       "      <td>...</td>\n",
       "      <td>...</td>\n",
       "      <td>...</td>\n",
       "      <td>...</td>\n",
       "      <td>...</td>\n",
       "      <td>...</td>\n",
       "      <td>...</td>\n",
       "      <td>...</td>\n",
       "      <td>...</td>\n",
       "      <td>...</td>\n",
       "      <td>...</td>\n",
       "      <td>...</td>\n",
       "      <td>...</td>\n",
       "      <td>...</td>\n",
       "      <td>...</td>\n",
       "    </tr>\n",
       "    <tr>\n",
       "      <th>1048570</th>\n",
       "      <td>2020-03-10 16:07:00</td>\n",
       "      <td>6.011980e+15</td>\n",
       "      <td>fraud_Fadel Inc</td>\n",
       "      <td>health_fitness</td>\n",
       "      <td>77.00</td>\n",
       "      <td>Haley</td>\n",
       "      <td>Wagner</td>\n",
       "      <td>F</td>\n",
       "      <td>05561 Farrell Crescent</td>\n",
       "      <td>Annapolis</td>\n",
       "      <td>...</td>\n",
       "      <td>39.0305</td>\n",
       "      <td>-76.5515</td>\n",
       "      <td>92106</td>\n",
       "      <td>Accountant, chartered certified</td>\n",
       "      <td>1943-05-28</td>\n",
       "      <td>45ecd198c65e81e597db22e8d2ef7361</td>\n",
       "      <td>1362931649</td>\n",
       "      <td>38.779464</td>\n",
       "      <td>-76.317042</td>\n",
       "      <td>0</td>\n",
       "    </tr>\n",
       "    <tr>\n",
       "      <th>1048571</th>\n",
       "      <td>2020-03-10 16:07:00</td>\n",
       "      <td>4.839040e+15</td>\n",
       "      <td>fraud_Cremin, Hamill and Reichel</td>\n",
       "      <td>misc_pos</td>\n",
       "      <td>116.94</td>\n",
       "      <td>Meredith</td>\n",
       "      <td>Campbell</td>\n",
       "      <td>F</td>\n",
       "      <td>043 Hanson Turnpike</td>\n",
       "      <td>Hedrick</td>\n",
       "      <td>...</td>\n",
       "      <td>41.1826</td>\n",
       "      <td>-92.3097</td>\n",
       "      <td>1583</td>\n",
       "      <td>Geochemist</td>\n",
       "      <td>1999-06-28</td>\n",
       "      <td>c00ce51c6ebb7657474a77b9e0b51f34</td>\n",
       "      <td>1362931670</td>\n",
       "      <td>41.400318</td>\n",
       "      <td>-92.726724</td>\n",
       "      <td>0</td>\n",
       "    </tr>\n",
       "    <tr>\n",
       "      <th>1048572</th>\n",
       "      <td>2020-03-10 16:08:00</td>\n",
       "      <td>5.718440e+11</td>\n",
       "      <td>fraud_O'Connell, Botsford and Hand</td>\n",
       "      <td>home</td>\n",
       "      <td>21.27</td>\n",
       "      <td>Susan</td>\n",
       "      <td>Mills</td>\n",
       "      <td>F</td>\n",
       "      <td>005 Cody Estates</td>\n",
       "      <td>Louisville</td>\n",
       "      <td>...</td>\n",
       "      <td>38.2507</td>\n",
       "      <td>-85.7476</td>\n",
       "      <td>736284</td>\n",
       "      <td>Engineering geologist</td>\n",
       "      <td>1952-04-02</td>\n",
       "      <td>17c9dc8b2a6449ca2473726346e58e6c</td>\n",
       "      <td>1362931711</td>\n",
       "      <td>37.293339</td>\n",
       "      <td>-84.798122</td>\n",
       "      <td>0</td>\n",
       "    </tr>\n",
       "    <tr>\n",
       "      <th>1048573</th>\n",
       "      <td>2020-03-10 16:08:00</td>\n",
       "      <td>4.646850e+18</td>\n",
       "      <td>fraud_Thompson-Gleason</td>\n",
       "      <td>health_fitness</td>\n",
       "      <td>9.52</td>\n",
       "      <td>Julia</td>\n",
       "      <td>Bell</td>\n",
       "      <td>F</td>\n",
       "      <td>576 House Crossroad</td>\n",
       "      <td>West Sayville</td>\n",
       "      <td>...</td>\n",
       "      <td>40.7320</td>\n",
       "      <td>-73.1000</td>\n",
       "      <td>4056</td>\n",
       "      <td>Film/video editor</td>\n",
       "      <td>1990-06-25</td>\n",
       "      <td>5ca650881b48a6a38754f841c23b77ab</td>\n",
       "      <td>1362931718</td>\n",
       "      <td>39.773077</td>\n",
       "      <td>-72.213209</td>\n",
       "      <td>0</td>\n",
       "    </tr>\n",
       "    <tr>\n",
       "      <th>1048574</th>\n",
       "      <td>2020-03-10 16:08:00</td>\n",
       "      <td>2.283740e+15</td>\n",
       "      <td>fraud_Buckridge PLC</td>\n",
       "      <td>misc_pos</td>\n",
       "      <td>6.81</td>\n",
       "      <td>Shannon</td>\n",
       "      <td>Williams</td>\n",
       "      <td>F</td>\n",
       "      <td>9345 Spencer Junctions Suite 183</td>\n",
       "      <td>Alpharetta</td>\n",
       "      <td>...</td>\n",
       "      <td>34.0770</td>\n",
       "      <td>-84.3033</td>\n",
       "      <td>165556</td>\n",
       "      <td>Prison officer</td>\n",
       "      <td>1997-12-27</td>\n",
       "      <td>8d0a575fe635bbde12f1a2bffc126731</td>\n",
       "      <td>1362931730</td>\n",
       "      <td>33.601468</td>\n",
       "      <td>-83.891921</td>\n",
       "      <td>0</td>\n",
       "    </tr>\n",
       "  </tbody>\n",
       "</table>\n",
       "<p>1048575 rows × 22 columns</p>\n",
       "</div>"
      ],
      "text/plain": [
       "        trans_date_trans_time        cc_num  \\\n",
       "0         2019-01-01 00:00:00  2.703190e+15   \n",
       "1         2019-01-01 00:00:00  6.304230e+11   \n",
       "2         2019-01-01 00:00:00  3.885950e+13   \n",
       "3         2019-01-01 00:01:00  3.534090e+15   \n",
       "4         2019-01-01 00:03:00  3.755340e+14   \n",
       "...                       ...           ...   \n",
       "1048570   2020-03-10 16:07:00  6.011980e+15   \n",
       "1048571   2020-03-10 16:07:00  4.839040e+15   \n",
       "1048572   2020-03-10 16:08:00  5.718440e+11   \n",
       "1048573   2020-03-10 16:08:00  4.646850e+18   \n",
       "1048574   2020-03-10 16:08:00  2.283740e+15   \n",
       "\n",
       "                                   merchant        category     amt  \\\n",
       "0                fraud_Rippin, Kub and Mann        misc_net    4.97   \n",
       "1           fraud_Heller, Gutmann and Zieme     grocery_pos  107.23   \n",
       "2                      fraud_Lind-Buckridge   entertainment  220.11   \n",
       "3        fraud_Kutch, Hermiston and Farrell   gas_transport   45.00   \n",
       "4                       fraud_Keeling-Crist        misc_pos   41.96   \n",
       "...                                     ...             ...     ...   \n",
       "1048570                     fraud_Fadel Inc  health_fitness   77.00   \n",
       "1048571    fraud_Cremin, Hamill and Reichel        misc_pos  116.94   \n",
       "1048572  fraud_O'Connell, Botsford and Hand            home   21.27   \n",
       "1048573              fraud_Thompson-Gleason  health_fitness    9.52   \n",
       "1048574                 fraud_Buckridge PLC        misc_pos    6.81   \n",
       "\n",
       "             first      last gender                            street  \\\n",
       "0         Jennifer     Banks      F                    561 Perry Cove   \n",
       "1        Stephanie      Gill      F      43039 Riley Greens Suite 393   \n",
       "2           Edward   Sanchez      M          594 White Dale Suite 530   \n",
       "3           Jeremy     White      M       9443 Cynthia Court Apt. 038   \n",
       "4            Tyler    Garcia      M                  408 Bradley Rest   \n",
       "...            ...       ...    ...                               ...   \n",
       "1048570      Haley    Wagner      F            05561 Farrell Crescent   \n",
       "1048571   Meredith  Campbell      F               043 Hanson Turnpike   \n",
       "1048572      Susan     Mills      F                  005 Cody Estates   \n",
       "1048573      Julia      Bell      F               576 House Crossroad   \n",
       "1048574    Shannon  Williams      F  9345 Spencer Junctions Suite 183   \n",
       "\n",
       "                   city  ...      lat      long  city_pop  \\\n",
       "0        Moravian Falls  ...  36.0788  -81.1781      3495   \n",
       "1                Orient  ...  48.8878 -118.2105       149   \n",
       "2            Malad City  ...  42.1808 -112.2620      4154   \n",
       "3               Boulder  ...  46.2306 -112.1138      1939   \n",
       "4              Doe Hill  ...  38.4207  -79.4629        99   \n",
       "...                 ...  ...      ...       ...       ...   \n",
       "1048570       Annapolis  ...  39.0305  -76.5515     92106   \n",
       "1048571         Hedrick  ...  41.1826  -92.3097      1583   \n",
       "1048572      Louisville  ...  38.2507  -85.7476    736284   \n",
       "1048573   West Sayville  ...  40.7320  -73.1000      4056   \n",
       "1048574      Alpharetta  ...  34.0770  -84.3033    165556   \n",
       "\n",
       "                                       job         dob  \\\n",
       "0                Psychologist, counselling  1988-03-09   \n",
       "1        Special educational needs teacher  1978-06-21   \n",
       "2              Nature conservation officer  1962-01-19   \n",
       "3                          Patent attorney  1967-01-12   \n",
       "4           Dance movement psychotherapist  1986-03-28   \n",
       "...                                    ...         ...   \n",
       "1048570    Accountant, chartered certified  1943-05-28   \n",
       "1048571                         Geochemist  1999-06-28   \n",
       "1048572              Engineering geologist  1952-04-02   \n",
       "1048573                  Film/video editor  1990-06-25   \n",
       "1048574                     Prison officer  1997-12-27   \n",
       "\n",
       "                                trans_num   unix_time  merch_lat  merch_long  \\\n",
       "0        0b242abb623afc578575680df30655b9  1325376018  36.011293  -82.048315   \n",
       "1        1f76529f8574734946361c461b024d99  1325376044  49.159047 -118.186462   \n",
       "2        a1a22d70485983eac12b5b88dad1cf95  1325376051  43.150704 -112.154481   \n",
       "3        6b849c168bdad6f867558c3793159a81  1325376076  47.034331 -112.561071   \n",
       "4        a41d7549acf90789359a9aa5346dcb46  1325376186  38.674999  -78.632459   \n",
       "...                                   ...         ...        ...         ...   \n",
       "1048570  45ecd198c65e81e597db22e8d2ef7361  1362931649  38.779464  -76.317042   \n",
       "1048571  c00ce51c6ebb7657474a77b9e0b51f34  1362931670  41.400318  -92.726724   \n",
       "1048572  17c9dc8b2a6449ca2473726346e58e6c  1362931711  37.293339  -84.798122   \n",
       "1048573  5ca650881b48a6a38754f841c23b77ab  1362931718  39.773077  -72.213209   \n",
       "1048574  8d0a575fe635bbde12f1a2bffc126731  1362931730  33.601468  -83.891921   \n",
       "\n",
       "         is_fraud  \n",
       "0               0  \n",
       "1               0  \n",
       "2               0  \n",
       "3               0  \n",
       "4               0  \n",
       "...           ...  \n",
       "1048570         0  \n",
       "1048571         0  \n",
       "1048572         0  \n",
       "1048573         0  \n",
       "1048574         0  \n",
       "\n",
       "[1048575 rows x 22 columns]"
      ]
     },
     "execution_count": 181,
     "metadata": {},
     "output_type": "execute_result"
    }
   ],
   "source": [
    "fraudTrain = pd.read_csv(\"~/Desktop/fraudTrain.csv\").iloc[:,1:]\n",
    "fraudTrain = fraudTrain.assign(trans_date_trans_time= list(map(lambda x: pd.to_datetime(x), fraudTrain.trans_date_trans_time)))\n",
    "fraudTrain"
   ]
  },
  {
   "cell_type": "markdown",
   "id": "378fcde7-e7b9-4464-8bc7-92d141a93a6f",
   "metadata": {},
   "source": [
    "# 함수 만들기"
   ]
  },
  {
   "cell_type": "markdown",
   "id": "06f6709f-9e22-432f-86ce-d756c59fd6ef",
   "metadata": {},
   "source": [
    "ref: https://guebin.github.io/PP2023/posts/01_PythonBasic/2023-04-05-5wk-2.html\n",
    "\n",
    "https://guebin.github.io/PP2023/posts/Appendix/2022-06-14-final.html#%EA%B0%80%EC%9C%84-%EB%B0%94%EC%9C%84-%EB%B3%B4-%ED%95%98%EB%82%98%EB%B9%BC%EA%B8%B0-150%EC%A0%90"
   ]
  },
  {
   "cell_type": "markdown",
   "id": "b3517a8c-4671-47ba-88bc-86d3b5524f2d",
   "metadata": {},
   "source": [
    "```python\n",
    "Class Metting0115:   \n",
    "    def throw(df, fraud_rate):  # 사기 거래 비율에 맞춰 버려지는 함수!\n",
    "        df1 = df[df['is_fraud'] == 1].copy()\n",
    "        df0 = df[df['is_fraud'] == 0].copy()\n",
    "        df0_downsample = (len(df1) * (1-fraud_rate)) / (len(df0) * fraud_rate)\n",
    "        df0_down = df0.sample(frac=df0_downsample, random_state=42)\n",
    "        df_p = pd.concat([df1, df0_down])\n",
    "        return df_p\n",
    "    \n",
    "    def split_dataframe(data_frame, test_fraud_rate, test_rate=0.3):\n",
    "        n = len(data_frame)\n",
    "    \n",
    "        # 사기 거래와 정상 거래를 분리\n",
    "        fraud_data = data_frame[data_frame['is_fraud'] == 1]\n",
    "        normal_data = data_frame[data_frame['is_fraud'] == 0]\n",
    "\n",
    "        # 테스트 데이터 크기 계산\n",
    "        test_samples = int(test_fraud_rate * (n * test_rate))\n",
    "        remaining_test_samples = int(n * test_rate) - test_samples\n",
    "    \n",
    "        # 사기 거래 및 정상 거래에서 무작위로 테스트 데이터 추출\n",
    "        test_fraud_data = fraud_data.sample(n=test_samples, replace=False)\n",
    "        test_normal_data = normal_data.sample(n=remaining_test_samples, replace=False)\n",
    "\n",
    "        # 테스트 데이터 합치기\n",
    "        test_data = pd.concat([test_normal_data, test_fraud_data])\n",
    "\n",
    "        # 훈련 데이터 생성\n",
    "        train_data = data_frame[~data_frame.index.isin(test_data.index)]\n",
    "\n",
    "        return train_data, test_data\n",
    "    \n",
    "    def concat(df_tr, df_tst):   \n",
    "        df = pd.concat([df_tr, df_tst])\n",
    "        train_mask = np.concatenate((np.full(len(df_tr), True), np.full(len(df_tst), False)))    # index꼬이는거 방지하기 위해서? ★ (이거,, 훔,,?(\n",
    "        test_mask =  np.concatenate((np.full(len(df_tr), False), np.full(len(df_tst), True))) \n",
    "        mask = (train_mask, test_mask)\n",
    "        return df, mask\n",
    "        \n",
    "    def evaluation(y, yhat):\n",
    "        metrics = [sklearn.metrics.accuracy_score,\n",
    "                   sklearn.metrics.precision_score,\n",
    "                   sklearn.metrics.recall_score,\n",
    "                   sklearn.metrics.f1_score,\n",
    "                   sklearn.metrics.roc_auc_score]\n",
    "        return pd.DataFrame({m.__name__:[m(y,yhat).round(6)] for m in metrics})\n",
    "        \n",
    "    def generate_w(self): ★★ ... \n",
    "        \n",
    "    def bipartite(df, node_1, node_2, graph_type=nx.Graph()):\n",
    "        df=df.copy()\n",
    "        mapping={x:node_id for node_id, x in enumerate(set(df[node_1].values.tolist()+\\\n",
    "                                                          df[node_2].values.tolist()))}\n",
    "    \n",
    "        df[\"from\"]=df[node_1].apply(lambda x:mapping[x])  #엣지의 출발점\n",
    "        df[\"to\"]=df[node_2].apply(lambda x:mapping[x])  #엣지의 도착점\n",
    "    \n",
    "        df = df[['from', 'to', \"amt\", \"is_fraud\"]].groupby(['from','to']).agg({\"is_fraud\":\"sum\",\"amt\":\"sum\"}).reset_index()\n",
    "        df[\"is_fraud\"]=df[\"is_fraud\"].apply(lambda x:1 if x>0 else 0)\n",
    "    \n",
    "        G=nx.from_edgelist(df[[\"from\",\"to\"]].values, create_using=graph_type)\n",
    "    \n",
    "        nx.set_edge_attributes(G,{(int(x[\"from\"]),int(x[\"to\"])):x[\"is_fraud\"] for idx, x in df[[\"from\",\"to\",\"is_fraud\"]].iterrows()}, \"label\")   \n",
    "        nx.set_edge_attributes(G,{(int(x[\"from\"]),int(x[\"to\"])):x[\"amt\"] for idx,x in df[[\"from\",\"to\",\"amt\"]].iterrows()}, \"weight\") \n",
    "\n",
    "        return G\n",
    "        \n",
    "    def tripartite(df, node_1, node_2,  graph_type=nx.Graph()):\n",
    "        df=df.copy()\n",
    "        mapping={x:node_id for node_id, x in enumerate(set(df.index.values.tolist() + \n",
    "                                                           df[node_1].values.tolist() +\n",
    "                                                           df[node_2].values.tolist()))}\n",
    "        df[\"in_node\"]= df[node_1].apply(lambda x: mapping[x])\n",
    "        df[\"out_node\"]=df[node_2].apply(lambda x:mapping[x])\n",
    "    \n",
    "        \n",
    "        G=nx.from_edgelist([(x[\"in_node\"], mapping[idx]) for idx, x in df.iterrows()] +\\\n",
    "                            [(x[\"out_node\"], mapping[idx]) for idx, x in df.iterrows()], create_using=graph_type)\n",
    "    \n",
    "        nx.set_edge_attributes(G,{(x[\"in_node\"], mapping[idx]):x[\"is_fraud\"] for idx, x in df.iterrows()}, \"label\")     \n",
    "        nx.set_edge_attributes(G,{(x[\"out_node\"], mapping[idx]):x[\"is_fraud\"] for idx, x in df.iterrows()}, \"label\")   \n",
    "        nx.set_edge_attributes(G,{(x[\"in_node\"], mapping[idx]):x[\"amt\"] for idx, x in df.iterrows()}, \"weight\")  \n",
    "        nx.set_edge_attributes(G,{(x[\"out_node\"], mapping[idx]):x[\"amt\"] for idx, x in df.iterrows()}, \"weight\")\n",
    "\n",
    "        return G\n",
    "        \n",
    "        \n",
    "        \n",
    "```"
   ]
  },
  {
   "cell_type": "markdown",
   "id": "c27bd3af-09ea-4083-aef2-a4c66a1139c9",
   "metadata": {},
   "source": [
    "## throw"
   ]
  },
  {
   "cell_type": "code",
   "execution_count": 186,
   "id": "e8e3f1b8-311a-4f3c-a38a-698a411bfaeb",
   "metadata": {},
   "outputs": [],
   "source": [
    "def throw(df, fraud_rate):  # 사기 거래 비율에 맞춰 버려지는 함수!\n",
    "    df1 = df[df['is_fraud'] == 1].copy()\n",
    "    df0 = df[df['is_fraud'] == 0].copy()\n",
    "    df0_downsample = (len(df1) * (1-fraud_rate)) / (len(df0) * fraud_rate)\n",
    "    df0_down = df0.sample(frac=df0_downsample, random_state=42)\n",
    "    df_p = pd.concat([df1, df0_down])\n",
    "    return df_p"
   ]
  },
  {
   "cell_type": "code",
   "execution_count": 183,
   "id": "949510f6-a913-445d-ac3b-69f63bacec05",
   "metadata": {},
   "outputs": [],
   "source": [
    "df = throw(fraudTrain, 0.5)"
   ]
  },
  {
   "cell_type": "code",
   "execution_count": 184,
   "id": "0c48fc9d-4154-48cf-8300-75389f7d664a",
   "metadata": {},
   "outputs": [
    {
     "data": {
      "text/html": [
       "<div>\n",
       "<style scoped>\n",
       "    .dataframe tbody tr th:only-of-type {\n",
       "        vertical-align: middle;\n",
       "    }\n",
       "\n",
       "    .dataframe tbody tr th {\n",
       "        vertical-align: top;\n",
       "    }\n",
       "\n",
       "    .dataframe thead th {\n",
       "        text-align: right;\n",
       "    }\n",
       "</style>\n",
       "<table border=\"1\" class=\"dataframe\">\n",
       "  <thead>\n",
       "    <tr style=\"text-align: right;\">\n",
       "      <th></th>\n",
       "      <th>trans_date_trans_time</th>\n",
       "      <th>cc_num</th>\n",
       "      <th>merchant</th>\n",
       "      <th>category</th>\n",
       "      <th>amt</th>\n",
       "      <th>first</th>\n",
       "      <th>last</th>\n",
       "      <th>gender</th>\n",
       "      <th>street</th>\n",
       "      <th>city</th>\n",
       "      <th>...</th>\n",
       "      <th>lat</th>\n",
       "      <th>long</th>\n",
       "      <th>city_pop</th>\n",
       "      <th>job</th>\n",
       "      <th>dob</th>\n",
       "      <th>trans_num</th>\n",
       "      <th>unix_time</th>\n",
       "      <th>merch_lat</th>\n",
       "      <th>merch_long</th>\n",
       "      <th>is_fraud</th>\n",
       "    </tr>\n",
       "  </thead>\n",
       "  <tbody>\n",
       "    <tr>\n",
       "      <th>2449</th>\n",
       "      <td>2019-01-02 01:06:00</td>\n",
       "      <td>4.613310e+12</td>\n",
       "      <td>fraud_Rutherford-Mertz</td>\n",
       "      <td>grocery_pos</td>\n",
       "      <td>281.06</td>\n",
       "      <td>Jason</td>\n",
       "      <td>Murphy</td>\n",
       "      <td>M</td>\n",
       "      <td>542 Steve Curve Suite 011</td>\n",
       "      <td>Collettsville</td>\n",
       "      <td>...</td>\n",
       "      <td>35.9946</td>\n",
       "      <td>-81.7266</td>\n",
       "      <td>885</td>\n",
       "      <td>Soil scientist</td>\n",
       "      <td>1988-09-15</td>\n",
       "      <td>e8a81877ae9a0a7f883e15cb39dc4022</td>\n",
       "      <td>1325466397</td>\n",
       "      <td>36.430124</td>\n",
       "      <td>-81.179483</td>\n",
       "      <td>1</td>\n",
       "    </tr>\n",
       "    <tr>\n",
       "      <th>2472</th>\n",
       "      <td>2019-01-02 01:47:00</td>\n",
       "      <td>3.401870e+14</td>\n",
       "      <td>fraud_Jenkins, Hauck and Friesen</td>\n",
       "      <td>gas_transport</td>\n",
       "      <td>11.52</td>\n",
       "      <td>Misty</td>\n",
       "      <td>Hart</td>\n",
       "      <td>F</td>\n",
       "      <td>27954 Hall Mill Suite 575</td>\n",
       "      <td>San Antonio</td>\n",
       "      <td>...</td>\n",
       "      <td>29.4400</td>\n",
       "      <td>-98.4590</td>\n",
       "      <td>1595797</td>\n",
       "      <td>Horticultural consultant</td>\n",
       "      <td>1960-10-28</td>\n",
       "      <td>bc7d41c41103877b03232f03f1f8d3f5</td>\n",
       "      <td>1325468849</td>\n",
       "      <td>29.819364</td>\n",
       "      <td>-99.142791</td>\n",
       "      <td>1</td>\n",
       "    </tr>\n",
       "    <tr>\n",
       "      <th>2523</th>\n",
       "      <td>2019-01-02 03:05:00</td>\n",
       "      <td>3.401870e+14</td>\n",
       "      <td>fraud_Goodwin-Nitzsche</td>\n",
       "      <td>grocery_pos</td>\n",
       "      <td>276.31</td>\n",
       "      <td>Misty</td>\n",
       "      <td>Hart</td>\n",
       "      <td>F</td>\n",
       "      <td>27954 Hall Mill Suite 575</td>\n",
       "      <td>San Antonio</td>\n",
       "      <td>...</td>\n",
       "      <td>29.4400</td>\n",
       "      <td>-98.4590</td>\n",
       "      <td>1595797</td>\n",
       "      <td>Horticultural consultant</td>\n",
       "      <td>1960-10-28</td>\n",
       "      <td>b98f12f4168391b2203238813df5aa8c</td>\n",
       "      <td>1325473523</td>\n",
       "      <td>29.273085</td>\n",
       "      <td>-98.836360</td>\n",
       "      <td>1</td>\n",
       "    </tr>\n",
       "    <tr>\n",
       "      <th>2546</th>\n",
       "      <td>2019-01-02 03:38:00</td>\n",
       "      <td>4.613310e+12</td>\n",
       "      <td>fraud_Erdman-Kertzmann</td>\n",
       "      <td>gas_transport</td>\n",
       "      <td>7.03</td>\n",
       "      <td>Jason</td>\n",
       "      <td>Murphy</td>\n",
       "      <td>M</td>\n",
       "      <td>542 Steve Curve Suite 011</td>\n",
       "      <td>Collettsville</td>\n",
       "      <td>...</td>\n",
       "      <td>35.9946</td>\n",
       "      <td>-81.7266</td>\n",
       "      <td>885</td>\n",
       "      <td>Soil scientist</td>\n",
       "      <td>1988-09-15</td>\n",
       "      <td>397894a5c4c02e3c61c784001f0f14e4</td>\n",
       "      <td>1325475483</td>\n",
       "      <td>35.909292</td>\n",
       "      <td>-82.091010</td>\n",
       "      <td>1</td>\n",
       "    </tr>\n",
       "    <tr>\n",
       "      <th>2553</th>\n",
       "      <td>2019-01-02 03:55:00</td>\n",
       "      <td>3.401870e+14</td>\n",
       "      <td>fraud_Koepp-Parker</td>\n",
       "      <td>grocery_pos</td>\n",
       "      <td>275.73</td>\n",
       "      <td>Misty</td>\n",
       "      <td>Hart</td>\n",
       "      <td>F</td>\n",
       "      <td>27954 Hall Mill Suite 575</td>\n",
       "      <td>San Antonio</td>\n",
       "      <td>...</td>\n",
       "      <td>29.4400</td>\n",
       "      <td>-98.4590</td>\n",
       "      <td>1595797</td>\n",
       "      <td>Horticultural consultant</td>\n",
       "      <td>1960-10-28</td>\n",
       "      <td>7863235a750d73a244c07f1fb7f0185a</td>\n",
       "      <td>1325476547</td>\n",
       "      <td>29.786426</td>\n",
       "      <td>-98.683410</td>\n",
       "      <td>1</td>\n",
       "    </tr>\n",
       "    <tr>\n",
       "      <th>...</th>\n",
       "      <td>...</td>\n",
       "      <td>...</td>\n",
       "      <td>...</td>\n",
       "      <td>...</td>\n",
       "      <td>...</td>\n",
       "      <td>...</td>\n",
       "      <td>...</td>\n",
       "      <td>...</td>\n",
       "      <td>...</td>\n",
       "      <td>...</td>\n",
       "      <td>...</td>\n",
       "      <td>...</td>\n",
       "      <td>...</td>\n",
       "      <td>...</td>\n",
       "      <td>...</td>\n",
       "      <td>...</td>\n",
       "      <td>...</td>\n",
       "      <td>...</td>\n",
       "      <td>...</td>\n",
       "      <td>...</td>\n",
       "      <td>...</td>\n",
       "    </tr>\n",
       "    <tr>\n",
       "      <th>490138</th>\n",
       "      <td>2019-08-02 14:26:00</td>\n",
       "      <td>2.242540e+15</td>\n",
       "      <td>fraud_Kerluke-Abshire</td>\n",
       "      <td>shopping_net</td>\n",
       "      <td>226.12</td>\n",
       "      <td>Samuel</td>\n",
       "      <td>Jenkins</td>\n",
       "      <td>M</td>\n",
       "      <td>43235 Mckenzie Views Apt. 837</td>\n",
       "      <td>Westport</td>\n",
       "      <td>...</td>\n",
       "      <td>38.4921</td>\n",
       "      <td>-85.4524</td>\n",
       "      <td>564</td>\n",
       "      <td>Pensions consultant</td>\n",
       "      <td>1996-04-10</td>\n",
       "      <td>7f7585873fbe12b0aab9dc95ba3cecab</td>\n",
       "      <td>1343917615</td>\n",
       "      <td>37.706700</td>\n",
       "      <td>-85.806080</td>\n",
       "      <td>0</td>\n",
       "    </tr>\n",
       "    <tr>\n",
       "      <th>658275</th>\n",
       "      <td>2019-10-07 07:50:00</td>\n",
       "      <td>2.131640e+14</td>\n",
       "      <td>fraud_Erdman-Kertzmann</td>\n",
       "      <td>gas_transport</td>\n",
       "      <td>71.13</td>\n",
       "      <td>Mark</td>\n",
       "      <td>Tyler</td>\n",
       "      <td>M</td>\n",
       "      <td>82201 Bradley Radial Suite 703</td>\n",
       "      <td>Avera</td>\n",
       "      <td>...</td>\n",
       "      <td>33.1410</td>\n",
       "      <td>-82.5150</td>\n",
       "      <td>741</td>\n",
       "      <td>Claims inspector/assessor</td>\n",
       "      <td>1986-04-28</td>\n",
       "      <td>305f6d8297b81a36f7e57e10c1036451</td>\n",
       "      <td>1349596244</td>\n",
       "      <td>33.359566</td>\n",
       "      <td>-82.730195</td>\n",
       "      <td>0</td>\n",
       "    </tr>\n",
       "    <tr>\n",
       "      <th>767052</th>\n",
       "      <td>2019-11-24 15:38:00</td>\n",
       "      <td>4.464460e+12</td>\n",
       "      <td>fraud_Ritchie, Oberbrunner and Cremin</td>\n",
       "      <td>travel</td>\n",
       "      <td>2.00</td>\n",
       "      <td>Breanna</td>\n",
       "      <td>Rodriguez</td>\n",
       "      <td>F</td>\n",
       "      <td>118 Cabrera Springs Apt. 105</td>\n",
       "      <td>Lanark Village</td>\n",
       "      <td>...</td>\n",
       "      <td>29.8826</td>\n",
       "      <td>-84.5964</td>\n",
       "      <td>217</td>\n",
       "      <td>Television production assistant</td>\n",
       "      <td>1990-01-24</td>\n",
       "      <td>3fcaef8c9a2e3654b51eb0b0b84ff424</td>\n",
       "      <td>1353771522</td>\n",
       "      <td>29.239729</td>\n",
       "      <td>-84.247963</td>\n",
       "      <td>0</td>\n",
       "    </tr>\n",
       "    <tr>\n",
       "      <th>234186</th>\n",
       "      <td>2019-04-28 06:15:00</td>\n",
       "      <td>5.020130e+11</td>\n",
       "      <td>fraud_Kassulke PLC</td>\n",
       "      <td>shopping_net</td>\n",
       "      <td>202.12</td>\n",
       "      <td>Sherry</td>\n",
       "      <td>Martinez</td>\n",
       "      <td>F</td>\n",
       "      <td>144 Yu Locks Apt. 754</td>\n",
       "      <td>Garrattsville</td>\n",
       "      <td>...</td>\n",
       "      <td>42.6315</td>\n",
       "      <td>-75.1866</td>\n",
       "      <td>165</td>\n",
       "      <td>Naval architect</td>\n",
       "      <td>1945-09-20</td>\n",
       "      <td>dc14c572855f13df2e55e6e844b2dd89</td>\n",
       "      <td>1335593704</td>\n",
       "      <td>43.461382</td>\n",
       "      <td>-75.910293</td>\n",
       "      <td>0</td>\n",
       "    </tr>\n",
       "    <tr>\n",
       "      <th>340364</th>\n",
       "      <td>2019-06-09 21:16:00</td>\n",
       "      <td>2.297450e+15</td>\n",
       "      <td>fraud_Medhurst Inc</td>\n",
       "      <td>home</td>\n",
       "      <td>16.46</td>\n",
       "      <td>Laura</td>\n",
       "      <td>Walker</td>\n",
       "      <td>F</td>\n",
       "      <td>611 Michael Rue</td>\n",
       "      <td>Cisco</td>\n",
       "      <td>...</td>\n",
       "      <td>39.9972</td>\n",
       "      <td>-88.6962</td>\n",
       "      <td>478</td>\n",
       "      <td>Landscape architect</td>\n",
       "      <td>1960-01-13</td>\n",
       "      <td>e53dd35b00303fb8bb022f2f015b55ec</td>\n",
       "      <td>1339276596</td>\n",
       "      <td>39.827886</td>\n",
       "      <td>-88.134687</td>\n",
       "      <td>0</td>\n",
       "    </tr>\n",
       "  </tbody>\n",
       "</table>\n",
       "<p>12012 rows × 22 columns</p>\n",
       "</div>"
      ],
      "text/plain": [
       "       trans_date_trans_time        cc_num  \\\n",
       "2449     2019-01-02 01:06:00  4.613310e+12   \n",
       "2472     2019-01-02 01:47:00  3.401870e+14   \n",
       "2523     2019-01-02 03:05:00  3.401870e+14   \n",
       "2546     2019-01-02 03:38:00  4.613310e+12   \n",
       "2553     2019-01-02 03:55:00  3.401870e+14   \n",
       "...                      ...           ...   \n",
       "490138   2019-08-02 14:26:00  2.242540e+15   \n",
       "658275   2019-10-07 07:50:00  2.131640e+14   \n",
       "767052   2019-11-24 15:38:00  4.464460e+12   \n",
       "234186   2019-04-28 06:15:00  5.020130e+11   \n",
       "340364   2019-06-09 21:16:00  2.297450e+15   \n",
       "\n",
       "                                     merchant       category     amt    first  \\\n",
       "2449                   fraud_Rutherford-Mertz    grocery_pos  281.06    Jason   \n",
       "2472         fraud_Jenkins, Hauck and Friesen  gas_transport   11.52    Misty   \n",
       "2523                   fraud_Goodwin-Nitzsche    grocery_pos  276.31    Misty   \n",
       "2546                   fraud_Erdman-Kertzmann  gas_transport    7.03    Jason   \n",
       "2553                       fraud_Koepp-Parker    grocery_pos  275.73    Misty   \n",
       "...                                       ...            ...     ...      ...   \n",
       "490138                  fraud_Kerluke-Abshire   shopping_net  226.12   Samuel   \n",
       "658275                 fraud_Erdman-Kertzmann  gas_transport   71.13     Mark   \n",
       "767052  fraud_Ritchie, Oberbrunner and Cremin         travel    2.00  Breanna   \n",
       "234186                     fraud_Kassulke PLC   shopping_net  202.12   Sherry   \n",
       "340364                     fraud_Medhurst Inc           home   16.46    Laura   \n",
       "\n",
       "             last gender                          street            city  ...  \\\n",
       "2449       Murphy      M       542 Steve Curve Suite 011   Collettsville  ...   \n",
       "2472         Hart      F       27954 Hall Mill Suite 575     San Antonio  ...   \n",
       "2523         Hart      F       27954 Hall Mill Suite 575     San Antonio  ...   \n",
       "2546       Murphy      M       542 Steve Curve Suite 011   Collettsville  ...   \n",
       "2553         Hart      F       27954 Hall Mill Suite 575     San Antonio  ...   \n",
       "...           ...    ...                             ...             ...  ...   \n",
       "490138    Jenkins      M   43235 Mckenzie Views Apt. 837        Westport  ...   \n",
       "658275      Tyler      M  82201 Bradley Radial Suite 703           Avera  ...   \n",
       "767052  Rodriguez      F    118 Cabrera Springs Apt. 105  Lanark Village  ...   \n",
       "234186   Martinez      F           144 Yu Locks Apt. 754   Garrattsville  ...   \n",
       "340364     Walker      F                 611 Michael Rue           Cisco  ...   \n",
       "\n",
       "            lat     long  city_pop                              job  \\\n",
       "2449    35.9946 -81.7266       885                   Soil scientist   \n",
       "2472    29.4400 -98.4590   1595797         Horticultural consultant   \n",
       "2523    29.4400 -98.4590   1595797         Horticultural consultant   \n",
       "2546    35.9946 -81.7266       885                   Soil scientist   \n",
       "2553    29.4400 -98.4590   1595797         Horticultural consultant   \n",
       "...         ...      ...       ...                              ...   \n",
       "490138  38.4921 -85.4524       564              Pensions consultant   \n",
       "658275  33.1410 -82.5150       741        Claims inspector/assessor   \n",
       "767052  29.8826 -84.5964       217  Television production assistant   \n",
       "234186  42.6315 -75.1866       165                  Naval architect   \n",
       "340364  39.9972 -88.6962       478              Landscape architect   \n",
       "\n",
       "               dob                         trans_num   unix_time  merch_lat  \\\n",
       "2449    1988-09-15  e8a81877ae9a0a7f883e15cb39dc4022  1325466397  36.430124   \n",
       "2472    1960-10-28  bc7d41c41103877b03232f03f1f8d3f5  1325468849  29.819364   \n",
       "2523    1960-10-28  b98f12f4168391b2203238813df5aa8c  1325473523  29.273085   \n",
       "2546    1988-09-15  397894a5c4c02e3c61c784001f0f14e4  1325475483  35.909292   \n",
       "2553    1960-10-28  7863235a750d73a244c07f1fb7f0185a  1325476547  29.786426   \n",
       "...            ...                               ...         ...        ...   \n",
       "490138  1996-04-10  7f7585873fbe12b0aab9dc95ba3cecab  1343917615  37.706700   \n",
       "658275  1986-04-28  305f6d8297b81a36f7e57e10c1036451  1349596244  33.359566   \n",
       "767052  1990-01-24  3fcaef8c9a2e3654b51eb0b0b84ff424  1353771522  29.239729   \n",
       "234186  1945-09-20  dc14c572855f13df2e55e6e844b2dd89  1335593704  43.461382   \n",
       "340364  1960-01-13  e53dd35b00303fb8bb022f2f015b55ec  1339276596  39.827886   \n",
       "\n",
       "        merch_long  is_fraud  \n",
       "2449    -81.179483         1  \n",
       "2472    -99.142791         1  \n",
       "2523    -98.836360         1  \n",
       "2546    -82.091010         1  \n",
       "2553    -98.683410         1  \n",
       "...            ...       ...  \n",
       "490138  -85.806080         0  \n",
       "658275  -82.730195         0  \n",
       "767052  -84.247963         0  \n",
       "234186  -75.910293         0  \n",
       "340364  -88.134687         0  \n",
       "\n",
       "[12012 rows x 22 columns]"
      ]
     },
     "execution_count": 184,
     "metadata": {},
     "output_type": "execute_result"
    }
   ],
   "source": [
    "df"
   ]
  },
  {
   "cell_type": "markdown",
   "id": "ee002f96-c1f2-4fdd-aaed-997962f94d63",
   "metadata": {
    "tags": []
   },
   "source": [
    "## split_dataframe"
   ]
  },
  {
   "cell_type": "code",
   "execution_count": 185,
   "id": "a9486432-3f60-4378-8ea8-690206c6c932",
   "metadata": {},
   "outputs": [],
   "source": [
    "def split_dataframe(data_frame, test_fraud_rate, test_rate=0.3):\n",
    "    n = len(data_frame)\n",
    "    \n",
    "    # 사기 거래와 정상 거래를 분리\n",
    "    fraud_data = data_frame[data_frame['is_fraud'] == 1]\n",
    "    normal_data = data_frame[data_frame['is_fraud'] == 0]\n",
    "\n",
    "    # 테스트 데이터 크기 계산\n",
    "    test_samples = int(test_fraud_rate * (n * test_rate))\n",
    "    remaining_test_samples = int(n * test_rate) - test_samples\n",
    "\n",
    "    # 사기 거래 및 정상 거래에서 무작위로 테스트 데이터 추출\n",
    "    test_fraud_data = fraud_data.sample(n=test_samples, replace=False)\n",
    "    test_normal_data = normal_data.sample(n=remaining_test_samples, replace=False)\n",
    "\n",
    "    # 테스트 데이터 합치기\n",
    "    test_data = pd.concat([test_normal_data, test_fraud_data])\n",
    "\n",
    "    # 훈련 데이터 생성\n",
    "    train_data = data_frame[~data_frame.index.isin(test_data.index)]\n",
    "\n",
    "    return train_data, test_data"
   ]
  },
  {
   "cell_type": "code",
   "execution_count": 190,
   "id": "b036e48c-51ab-4b01-ba84-72df8bdb2d91",
   "metadata": {},
   "outputs": [],
   "source": [
    "df_tr, df_ts = split_dataframe(df, 0.3)"
   ]
  },
  {
   "cell_type": "code",
   "execution_count": 200,
   "id": "db3a3bde-081c-436d-9b5a-c318894001e8",
   "metadata": {},
   "outputs": [
    {
     "data": {
      "text/plain": [
       "(0.5856820073730526, 0.3000277546489037)"
      ]
     },
     "execution_count": 200,
     "metadata": {},
     "output_type": "execute_result"
    }
   ],
   "source": [
    "df_tr.is_fraud.mean(), df_ts.is_fraud.mean()"
   ]
  },
  {
   "cell_type": "code",
   "execution_count": 199,
   "id": "7cae36aa-ccb0-412a-9d6a-f94d19892dc1",
   "metadata": {},
   "outputs": [
    {
     "data": {
      "text/plain": [
       "(0.7000499500499501, 0.2999500499500499)"
      ]
     },
     "execution_count": 199,
     "metadata": {},
     "output_type": "execute_result"
    }
   ],
   "source": [
    "len(df_tr)/len(df), len(df_ts)/len(df)"
   ]
  },
  {
   "cell_type": "markdown",
   "id": "e784576b-8b15-4219-ae72-cb8f556660bd",
   "metadata": {},
   "source": [
    "# concat"
   ]
  },
  {
   "cell_type": "code",
   "execution_count": 203,
   "id": "91c39984-81cf-4320-94df-fee523bf9478",
   "metadata": {},
   "outputs": [
    {
     "data": {
      "text/plain": [
       "((8409, 22), (3603, 22))"
      ]
     },
     "execution_count": 203,
     "metadata": {},
     "output_type": "execute_result"
    }
   ],
   "source": [
    "df_tr.shape, df_ts.shape"
   ]
  },
  {
   "cell_type": "code",
   "execution_count": 204,
   "id": "6fa81db7-e496-4802-911a-65f879c890d1",
   "metadata": {},
   "outputs": [],
   "source": [
    "def concat(df_tr, df_tst):  \n",
    "    df = pd.concat([df_tr, df_tst])\n",
    "    train_mask = np.concatenate((np.full(len(df_tr), True), np.full(len(df_tst), False)))    # index꼬이는거 방지하기 위해서?\n",
    "    test_mask =  np.concatenate((np.full(len(df_tr), False), np.full(len(df_tst), True))) \n",
    "    mask = (train_mask, test_mask)\n",
    "    return df, mask"
   ]
  },
  {
   "cell_type": "markdown",
   "id": "83d02f70-a631-41cd-b47c-a7057d7398f4",
   "metadata": {},
   "source": [
    "`-` 예시"
   ]
  },
  {
   "cell_type": "code",
   "execution_count": 206,
   "id": "c3a0ee52-ab70-431c-b17c-f45334ca5018",
   "metadata": {},
   "outputs": [],
   "source": [
    "df, mask = concat(df_tr, df_ts)"
   ]
  },
  {
   "cell_type": "code",
   "execution_count": 207,
   "id": "8a82986f-0b03-4300-84ec-573e46db9cec",
   "metadata": {},
   "outputs": [
    {
     "data": {
      "text/plain": [
       "(array([ True,  True,  True, ..., False, False, False]),\n",
       " array([False, False, False, ...,  True,  True,  True]))"
      ]
     },
     "execution_count": 207,
     "metadata": {},
     "output_type": "execute_result"
    }
   ],
   "source": [
    "mask"
   ]
  },
  {
   "cell_type": "code",
   "execution_count": 208,
   "id": "29f5750d-2880-4dbe-bb0c-5458b6b31d30",
   "metadata": {},
   "outputs": [
    {
     "data": {
      "text/plain": [
       "3603"
      ]
     },
     "execution_count": 208,
     "metadata": {},
     "output_type": "execute_result"
    }
   ],
   "source": [
    "mask[1].sum()"
   ]
  },
  {
   "cell_type": "markdown",
   "id": "a6fdb667-15f7-4674-99ae-1fae96f7ed2a",
   "metadata": {},
   "source": [
    "# evaluation"
   ]
  },
  {
   "cell_type": "code",
   "execution_count": 209,
   "id": "fba67bdc-f340-4824-9b71-30c2ae08d1a1",
   "metadata": {},
   "outputs": [],
   "source": [
    "def evaluation(y, yhat):\n",
    "    metrics = [sklearn.metrics.accuracy_score,\n",
    "               sklearn.metrics.precision_score,\n",
    "               sklearn.metrics.recall_score,\n",
    "               sklearn.metrics.f1_score,\n",
    "               sklearn.metrics.roc_auc_score]\n",
    "    return pd.DataFrame({m.__name__:[m(y,yhat).round(6)] for m in metrics})"
   ]
  },
  {
   "cell_type": "markdown",
   "id": "8ce8aa84-ab9b-424f-8ddf-61e7f48abd28",
   "metadata": {},
   "source": [
    "`-` 예시"
   ]
  },
  {
   "cell_type": "code",
   "execution_count": 210,
   "id": "ed9bcfb6-bf75-4b96-adbb-8a3535903a61",
   "metadata": {},
   "outputs": [],
   "source": [
    "y = [1, 0, 1, 1, 0, 1, 0, 0]\n",
    "yhat = [1, 0, 1, 0, 1, 1, 0, 1]\n"
   ]
  },
  {
   "cell_type": "code",
   "execution_count": 211,
   "id": "7ff80a59-4a4c-4c07-8896-4668030fc9e2",
   "metadata": {},
   "outputs": [
    {
     "data": {
      "text/html": [
       "<div>\n",
       "<style scoped>\n",
       "    .dataframe tbody tr th:only-of-type {\n",
       "        vertical-align: middle;\n",
       "    }\n",
       "\n",
       "    .dataframe tbody tr th {\n",
       "        vertical-align: top;\n",
       "    }\n",
       "\n",
       "    .dataframe thead th {\n",
       "        text-align: right;\n",
       "    }\n",
       "</style>\n",
       "<table border=\"1\" class=\"dataframe\">\n",
       "  <thead>\n",
       "    <tr style=\"text-align: right;\">\n",
       "      <th></th>\n",
       "      <th>accuracy_score</th>\n",
       "      <th>precision_score</th>\n",
       "      <th>recall_score</th>\n",
       "      <th>f1_score</th>\n",
       "      <th>roc_auc_score</th>\n",
       "    </tr>\n",
       "  </thead>\n",
       "  <tbody>\n",
       "    <tr>\n",
       "      <th>0</th>\n",
       "      <td>0.625</td>\n",
       "      <td>0.6</td>\n",
       "      <td>0.75</td>\n",
       "      <td>0.666667</td>\n",
       "      <td>0.625</td>\n",
       "    </tr>\n",
       "  </tbody>\n",
       "</table>\n",
       "</div>"
      ],
      "text/plain": [
       "   accuracy_score  precision_score  recall_score  f1_score  roc_auc_score\n",
       "0           0.625              0.6          0.75  0.666667          0.625"
      ]
     },
     "execution_count": 211,
     "metadata": {},
     "output_type": "execute_result"
    }
   ],
   "source": [
    "evaluation(y,yhat)"
   ]
  },
  {
   "cell_type": "markdown",
   "id": "b05e9f42-2a1f-4fd3-a5a0-7f2bd2980e67",
   "metadata": {},
   "source": [
    "# generate_w"
   ]
  },
  {
   "cell_type": "code",
   "execution_count": null,
   "id": "9556146b-73d5-4e52-b010-5d7bd70fd95c",
   "metadata": {},
   "outputs": [],
   "source": [
    "def generate_w(df, r, time):\n",
    "    \n",
    "    \n",
    "    \n",
    "    \n",
    "    return W"
   ]
  },
  {
   "cell_type": "code",
   "execution_count": null,
   "id": "e994b045-1ad5-419a-a1f7-b94f8304b51f",
   "metadata": {},
   "outputs": [],
   "source": []
  },
  {
   "cell_type": "markdown",
   "id": "351c416b-6107-4b75-8c95-6aa9d337d040",
   "metadata": {
    "tags": []
   },
   "source": [
    "5. 아래와 같은 함수를 만들것\n",
    "\n",
    "이름: 가중치생성\n",
    "\n",
    "입력: df, gamma, df에서 time을 나타내는 col  \n",
    "\n",
    "출력: W (numpy matrix)"
   ]
  },
  {
   "cell_type": "code",
   "execution_count": null,
   "id": "3819e31b-1099-44dd-80cf-3a88f03275d0",
   "metadata": {},
   "outputs": [],
   "source": []
  },
  {
   "cell_type": "code",
   "execution_count": null,
   "id": "87246442-d52c-445d-8eea-76eedcb62819",
   "metadata": {},
   "outputs": [],
   "source": []
  },
  {
   "cell_type": "code",
   "execution_count": null,
   "id": "d6440c5e-36ca-47fb-a391-bb7cad0f3719",
   "metadata": {},
   "outputs": [],
   "source": []
  },
  {
   "cell_type": "markdown",
   "id": "27227a96-8fd9-470d-9017-26715d847ca0",
   "metadata": {},
   "source": [
    "이런식의 행렬 만드려 했는데.. 메모리 부족으로 matrix 행렬을 생성할 수 없음 (밑에 예시는 교수님 toy example)"
   ]
  },
  {
   "attachments": {
    "6bddbc09-cd72-4d72-b491-1c240fddb555.png": {
     "image/png": "[encoded data removed]"
    }
   },
   "cell_type": "markdown",
   "id": "0cb08d47-a1a2-4f02-9d25-6841c9195880",
   "metadata": {},
   "source": [
    "![image.png](attachment:6bddbc09-cd72-4d72-b491-1c240fddb555.png)"
   ]
  },
  {
   "cell_type": "markdown",
   "id": "9d62372a-fc31-457d-8801-111cede47a46",
   "metadata": {},
   "source": [
    "`-` 요거 세 개 합쳐야 W 나올듯"
   ]
  },
  {
   "cell_type": "markdown",
   "id": "9e152cc1-3db0-41eb-b967-8d93e2f9b236",
   "metadata": {},
   "source": [
    "```python\n",
    "def compute_time_difference(df, unique_col):\n",
    "    groups = df.groupby(unique_col)\n",
    "    n = len(group)\n",
    "    result = []\n",
    "    for i in range(n):\n",
    "        for j in range(n):\n",
    "            time_difference = abs(group.iloc[i].trans_date_trans_time.value - group.iloc[j].trans_date_trans_time.value)\n",
    "            result.append([group.iloc[i].name, group.iloc[j].name, time_difference])\n",
    "    return result\n",
    "\n",
    "\n",
    "\n",
    "def edge_index(df, unique_col):\n",
    "    groups = df.groupby(unique_col)\n",
    "    edge_index_list_plus = [compute_time_difference(group) for _, group in groups]\n",
    "    edge_index_list_plus_flat = [item for sublist in edge_index_list_plus for item in sublist]\n",
    "    edge_index_list_plus_nparr = np.array(edge_index_list_plus_flat)\n",
    "    filename = f\"edge_index_list_plus_{str(unique_col).replace(' ', '').replace('_', '')}.npy\"          # 저장\n",
    "    np.save(filename, edge_index_list_plus_nparr)\n",
    "    return edge_index_list_plus_nparr\n",
    "\n",
    "\n",
    "def edge_select(edge_index, gamma):\n",
    "    edge_index[:,2] = (np.exp(-edge_index[:,2]/gamma) != 1)*(np.exp(-edge_index[:,2]/gamma))   ###### edge_select.... \n",
    "    edge_index = edge_index.tolist()\n",
    "    \n",
    "    return edge_index\n",
    "```"
   ]
  },
  {
   "cell_type": "markdown",
   "id": "c8287642-ec37-499a-b591-f27c285dc528",
   "metadata": {},
   "source": [
    "`-` 의문..\n",
    "\n",
    "- 현재 시간의 차이를 계산해서 gamma로 나누어 줌. 그래서 edge_index[:,2] 값이 클수록 시간이 가깝다는 뜻.. (exp(-edge/gamma) 하니까\n",
    "- 그런데 edge_index의 shape은 (2, o) 형태여야 한단 말야 그럼 결국...... (i,j) 만 있어야 되니까 그중에 edge_select하는 방법을 생각했는데\n",
    "- 그럼 time(weight)값은 어디로 간거?\n",
    "- 여기서 어차피 할 수 있는건 edge_index를 고르는..작업을 하는건데 -> 여기서 고르는 방법을 퍼센테이지에 따라서 조정할 수 있을 거 같긴 함(지금은 걍 평균보다 큰거 고름)\n",
    "- GCNConv를 이용해서 나오는 "
   ]
  },
  {
   "attachments": {
    "589ce846-8433-4f7b-adb8-e11e95bd7548.png": {
     "image/png": "[encoded data removed]"
    }
   },
   "cell_type": "markdown",
   "id": "6cd31854-6b83-4f85-8fd9-0821e3410edb",
   "metadata": {},
   "source": [
    "![image.png](attachment:589ce846-8433-4f7b-adb8-e11e95bd7548.png)"
   ]
  },
  {
   "cell_type": "markdown",
   "id": "b3336b33-059a-4bd8-ab8e-3e8cd5990ee8",
   "metadata": {},
   "source": [
    "위와 같은걸 함 봐ㅗㅂ고 싶은뎀"
   ]
  },
  {
   "cell_type": "code",
   "execution_count": null,
   "id": "5644cd59-77fd-4ba1-8806-8281ef7aaf18",
   "metadata": {},
   "outputs": [],
   "source": []
  },
  {
   "cell_type": "code",
   "execution_count": null,
   "id": "037a9c59-b13f-449e-8f7f-2be925f352bf",
   "metadata": {},
   "outputs": [],
   "source": []
  },
  {
   "cell_type": "code",
   "execution_count": 253,
   "id": "9a6eab3f-4dcf-4146-b617-9ccc8439724d",
   "metadata": {},
   "outputs": [],
   "source": [
    "a = edge_index(df, 'cc_num')"
   ]
  },
  {
   "cell_type": "code",
   "execution_count": 254,
   "id": "86a56610-dd9e-4bbb-be74-d1dd4c3583dd",
   "metadata": {},
   "outputs": [
    {
     "data": {
      "text/plain": [
       "(199868, 3)"
      ]
     },
     "execution_count": 254,
     "metadata": {},
     "output_type": "execute_result"
    }
   ],
   "source": [
    "a.shape"
   ]
  },
  {
   "cell_type": "code",
   "execution_count": 258,
   "id": "60d130a3-ab76-40b7-bee5-c6fe4819ce81",
   "metadata": {},
   "outputs": [
    {
     "data": {
      "text/plain": [
       "(199868,)"
      ]
     },
     "execution_count": 258,
     "metadata": {},
     "output_type": "execute_result"
    }
   ],
   "source": [
    "a[:,2].shape"
   ]
  },
  {
   "cell_type": "code",
   "execution_count": 279,
   "id": "80725855-d9a7-4e96-a13b-78a3275e52ff",
   "metadata": {},
   "outputs": [
    {
     "data": {
      "text/plain": [
       "(199868, 3)"
      ]
     },
     "execution_count": 279,
     "metadata": {},
     "output_type": "execute_result"
    }
   ],
   "source": [
    "edge_index2 = np.load('edge_index_list_plus_ccnum.npy').astype(np.float64)\n",
    "edge_index2.shape"
   ]
  },
  {
   "cell_type": "markdown",
   "id": "0ce6f85d-73ab-4510-bf8b-e59fee6456e8",
   "metadata": {},
   "source": [
    "왜 다르징?"
   ]
  },
  {
   "cell_type": "code",
   "execution_count": 264,
   "id": "c745fb65-37d7-4efc-b34b-b8b99d9b44b3",
   "metadata": {},
   "outputs": [
    {
     "data": {
      "text/plain": [
       "(200706, 3)"
      ]
     },
     "execution_count": 264,
     "metadata": {},
     "output_type": "execute_result"
    }
   ],
   "source": [
    "edge_index = np.load('edge_index_list_plus50.npy').astype(np.float64)\n",
    "edge_index.shape"
   ]
  },
  {
   "cell_type": "code",
   "execution_count": 280,
   "id": "40bc00e3-6701-44e0-9cd7-b5e0a8af59de",
   "metadata": {},
   "outputs": [
    {
     "data": {
      "text/plain": [
       "838"
      ]
     },
     "execution_count": 280,
     "metadata": {},
     "output_type": "execute_result"
    }
   ],
   "source": [
    "200706-199868"
   ]
  },
  {
   "cell_type": "code",
   "execution_count": 281,
   "id": "80776d67-a4ed-4c40-b6d6-8962533cac15",
   "metadata": {},
   "outputs": [
    {
     "data": {
      "text/plain": [
       "7902291948085736.0"
      ]
     },
     "execution_count": 281,
     "metadata": {},
     "output_type": "execute_result"
    }
   ],
   "source": [
    "edge_index2[:,2].mean()"
   ]
  },
  {
   "cell_type": "code",
   "execution_count": null,
   "id": "3daae281-d2ad-4d72-9330-2cc6e358b374",
   "metadata": {},
   "outputs": [],
   "source": []
  },
  {
   "cell_type": "code",
   "execution_count": 282,
   "id": "1d66e9d2-4d8e-4ee0-96ed-a62f9ffafa28",
   "metadata": {},
   "outputs": [],
   "source": [
    "bb =np.array(edge_select(a,edge_index2[:,2].mean()))"
   ]
  },
  {
   "cell_type": "code",
   "execution_count": 287,
   "id": "d0f37789-fcc5-468c-9fda-fb62fdbfc624",
   "metadata": {},
   "outputs": [
    {
     "data": {
      "text/plain": [
       "array([[1.024900e+05, 1.024900e+05, 0.000000e+00],\n",
       "       [1.024900e+05, 1.025560e+05, 4.200000e+12],\n",
       "       [1.024900e+05, 1.041450e+05, 7.764000e+13],\n",
       "       ...,\n",
       "       [6.683020e+05, 3.797260e+05, 9.549240e+15],\n",
       "       [6.683020e+05, 1.946330e+05, 1.596684e+16],\n",
       "       [6.683020e+05, 6.683020e+05, 0.000000e+00]])"
      ]
     },
     "execution_count": 287,
     "metadata": {},
     "output_type": "execute_result"
    }
   ],
   "source": [
    "edge_index2"
   ]
  },
  {
   "cell_type": "code",
   "execution_count": 288,
   "id": "b6646097-7b9d-45b5-a0bb-a141bd3da332",
   "metadata": {},
   "outputs": [],
   "source": [
    "  theta = edge_index2[:,2].mean()"
   ]
  },
  {
   "cell_type": "code",
   "execution_count": 289,
   "id": "ac3c7bcf-dc40-4824-84c2-bae6e37d5ef4",
   "metadata": {},
   "outputs": [],
   "source": [
    "edge_index2[:,2] = (np.exp(-edge_index2[:,2]/theta) != 1)*(np.exp(-edge_index2[:,2]/theta))"
   ]
  },
  {
   "cell_type": "code",
   "execution_count": 291,
   "id": "72ae72dc-83a1-48cc-b567-f8cc27b4f3e0",
   "metadata": {},
   "outputs": [
    {
     "data": {
      "text/plain": [
       "(199868, 3)"
      ]
     },
     "execution_count": 291,
     "metadata": {},
     "output_type": "execute_result"
    }
   ],
   "source": [
    "edge_index2.shape"
   ]
  },
  {
   "cell_type": "code",
   "execution_count": 294,
   "id": "9fa5c483-cbfd-4a8b-a99c-7ef1a415d2bf",
   "metadata": {},
   "outputs": [
    {
     "data": {
      "text/plain": [
       "0.5099377442499056"
      ]
     },
     "execution_count": 294,
     "metadata": {},
     "output_type": "execute_result"
    }
   ],
   "source": [
    "edge_index2[:,2].mean()"
   ]
  },
  {
   "cell_type": "code",
   "execution_count": null,
   "id": "068b43a5-0c8a-4b86-9438-84259e402236",
   "metadata": {},
   "outputs": [],
   "source": []
  },
  {
   "cell_type": "code",
   "execution_count": null,
   "id": "bebd6112-4894-4ec2-b59f-95f39318d794",
   "metadata": {},
   "outputs": [],
   "source": []
  },
  {
   "cell_type": "markdown",
   "id": "0b3361fd-7525-49f1-8c7e-db0678bcbd4e",
   "metadata": {},
   "source": [
    "`-` select edge 할때 ... 뭘 기준으로 select를 하는게 좋을지가 고민.\n",
    "\n",
    "- 원래는 평균보다 큰 값? 으로 해서 했는데.. 그거 말고 다른 방법이 잇을 거 같으"
   ]
  },
  {
   "cell_type": "markdown",
   "id": "e5a2da7e-bc91-43da-8e14-7bdec057bb68",
   "metadata": {
    "tags": []
   },
   "source": [
    "# bipartite"
   ]
  },
  {
   "cell_type": "code",
   "execution_count": 327,
   "id": "b2d74338-7ed8-4d0f-b1e4-0b4fae495b50",
   "metadata": {},
   "outputs": [],
   "source": [
    "def bipartite(df, node_1, node_2, graph_type=nx.Graph()):\n",
    "    df=df.copy()\n",
    "    mapping={x:node_id for node_id, x in enumerate(set(df[node_1].values.tolist()+\\\n",
    "                                                      df[node_2].values.tolist()))}\n",
    "    \n",
    "    df[\"from\"]=df[node_1].apply(lambda x:mapping[x])  #엣지의 출발점\n",
    "    df[\"to\"]=df[node_2].apply(lambda x:mapping[x])  #엣지의 도착점\n",
    "    \n",
    "    df = df[['from', 'to', \"amt\", \"is_fraud\"]].groupby(['from','to']).agg({\"is_fraud\":\"sum\",\"amt\":\"sum\"}).reset_index()\n",
    "    df[\"is_fraud\"]=df[\"is_fraud\"].apply(lambda x:1 if x>0 else 0)\n",
    "    \n",
    "    G=nx.from_edgelist(df[[\"from\",\"to\"]].values, create_using=graph_type)\n",
    "    \n",
    "    nx.set_edge_attributes(G,{(int(x[\"from\"]),int(x[\"to\"])):x[\"is_fraud\"] for idx, x in df[[\"from\",\"to\",\"is_fraud\"]].iterrows()}, \"label\")   \n",
    "    nx.set_edge_attributes(G,{(int(x[\"from\"]),int(x[\"to\"])):x[\"amt\"] for idx,x in df[[\"from\",\"to\",\"amt\"]].iterrows()}, \"weight\") \n",
    "\n",
    "    return G\n",
    "\n",
    "\n",
    "    \n",
    "    "
   ]
  },
  {
   "cell_type": "code",
   "execution_count": 356,
   "id": "aaa8502a-5feb-4af2-8bc5-a62c98b2be84",
   "metadata": {},
   "outputs": [],
   "source": [
    "G  = bipartite(df, node_1 = 'cc_num', node_2 = 'merchant')"
   ]
  },
  {
   "cell_type": "markdown",
   "id": "c5c084bc-9de2-4caa-806e-fcd6fcded2d6",
   "metadata": {},
   "source": [
    "# tripartite"
   ]
  },
  {
   "cell_type": "code",
   "execution_count": 330,
   "id": "bce34815-d72c-42f8-864f-6d3813ce9e0f",
   "metadata": {},
   "outputs": [],
   "source": [
    "\n",
    "def tripartite(df, node_1, node_2,  graph_type=nx.Graph()):\n",
    "    df=df.copy()\n",
    "    mapping={x:node_id for node_id, x in enumerate(set(df.index.values.tolist() + \n",
    "                                                       df[node_1].values.tolist() +\n",
    "                                                       df[node_2].values.tolist()))}\n",
    "    df[\"in_node\"]= df[node_1].apply(lambda x: mapping[x])\n",
    "    df[\"out_node\"]=df[node_2].apply(lambda x:mapping[x])\n",
    "    \n",
    "        \n",
    "    G=nx.from_edgelist([(x[\"in_node\"], mapping[idx]) for idx, x in df.iterrows()] +\\\n",
    "                        [(x[\"out_node\"], mapping[idx]) for idx, x in df.iterrows()], create_using=graph_type)\n",
    "    \n",
    "    nx.set_edge_attributes(G,{(x[\"in_node\"], mapping[idx]):x[\"is_fraud\"] for idx, x in df.iterrows()}, \"label\")     \n",
    "    nx.set_edge_attributes(G,{(x[\"out_node\"], mapping[idx]):x[\"is_fraud\"] for idx, x in df.iterrows()}, \"label\")   \n",
    "    nx.set_edge_attributes(G,{(x[\"in_node\"], mapping[idx]):x[\"amt\"] for idx, x in df.iterrows()}, \"weight\")  \n",
    "    nx.set_edge_attributes(G,{(x[\"out_node\"], mapping[idx]):x[\"amt\"] for idx, x in df.iterrows()}, \"weight\")\n",
    "\n",
    "    return G"
   ]
  },
  {
   "cell_type": "code",
   "execution_count": 355,
   "id": "e18b5949-dc6b-4755-a587-dd0585bd7047",
   "metadata": {},
   "outputs": [],
   "source": [
    "G = tripartite(df, 'cc_num', 'merchant')"
   ]
  },
  {
   "cell_type": "markdown",
   "id": "22b9f446-31c2-4ea9-9303-640bf95ca0f5",
   "metadata": {},
   "source": [
    "# G_split"
   ]
  },
  {
   "cell_type": "code",
   "execution_count": 363,
   "id": "f1aad1db-5e13-4e90-866b-1956f3cea3af",
   "metadata": {},
   "outputs": [],
   "source": [
    "\n",
    "\n",
    "def G_split(G, test_size):\n",
    "    train_edges, test_edges, train_labels, test_labels = train_test_split(list(range(len(G.edges))), \n",
    "                                                                      list(nx.get_edge_attributes(G, \"label\").values()), \n",
    "                                                                      test_size=test_size, \n",
    "                                                                      random_state=42)\n",
    "    edgs = list(G.edges)\n",
    "    \n",
    "    train_graph = G.edge_subgraph([edgs[x] for x in train_edges]).copy()\n",
    "    train_graph.add_nodes_from(list(set(G.nodes) - set(train_graph.nodes)))\n",
    "    test_graph = G.edge_subgraph([edgs[x] for x in test_edges]).copy()\n",
    "    test_graph.add_nodes_from(list(set(G.nodes) - set(test_graph.nodes)))\n",
    "    \n",
    "    return train_graph, test_graph"
   ]
  },
  {
   "cell_type": "code",
   "execution_count": 364,
   "id": "24db9584-6d84-442a-8a1a-f233085d4f78",
   "metadata": {},
   "outputs": [],
   "source": [
    "train_graph, test_graph = G_split(G, test_size=0.2)"
   ]
  },
  {
   "cell_type": "code",
   "execution_count": null,
   "id": "7391161a-7227-47d4-9d41-857ef8f304d4",
   "metadata": {},
   "outputs": [],
   "source": [
    "G_"
   ]
  },
  {
   "cell_type": "code",
   "execution_count": 362,
   "id": "9366aa1e-f646-4ee0-ada4-44ed035e9e66",
   "metadata": {},
   "outputs": [
    {
     "data": {
      "application/vnd.jupyter.widget-view+json": {
       "model_id": "729ffc34e30140c9bf1eb7b49be28609",
       "version_major": 2,
       "version_minor": 0
      },
      "text/plain": [
       "Computing transition probabilities:   0%|          | 0/1629 [00:00<?, ?it/s]"
      ]
     },
     "metadata": {},
     "output_type": "display_data"
    },
    {
     "name": "stderr",
     "output_type": "stream",
     "text": [
      "Generating walks (CPU: 1): 100%|██████████| 10/10 [00:03<00:00,  2.53it/s]\n"
     ]
    }
   ],
   "source": [
    "from node2vec import Node2Vec\n",
    "from node2vec.edges import HadamardEmbedder, AverageEmbedder, WeightedL1Embedder, WeightedL2Embedder\n",
    "\n",
    "node2vec_train = Node2Vec(G_split(G,0.2), weight_key='weight')\n",
    "model_train = node2vec_train.fit(window=10)"
   ]
  },
  {
   "cell_type": "code",
   "execution_count": null,
   "id": "0748d0e6-a667-4367-a3f0-57618e8c6f84",
   "metadata": {},
   "outputs": [],
   "source": []
  }
 ],
 "metadata": {
  "kernelspec": {
   "display_name": "Python 3 (ipykernel)",
   "language": "python",
   "name": "python3"
  },
  "language_info": {
   "codemirror_mode": {
    "name": "ipython",
    "version": 3
   },
   "file_extension": ".py",
   "mimetype": "text/x-python",
   "name": "python",
   "nbconvert_exporter": "python",
   "pygments_lexer": "ipython3",
   "version": "3.8.18"
  }
 },
 "nbformat": 4,
 "nbformat_minor": 5
}
